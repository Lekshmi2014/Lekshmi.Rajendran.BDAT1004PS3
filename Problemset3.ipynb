{
 "cells": [
  {
   "cell_type": "markdown",
   "metadata": {},
   "source": [
    "# ************************Problem Set 3*******************************"
   ]
  },
  {
   "cell_type": "markdown",
   "metadata": {},
   "source": [
    "## Question 1\n",
    "#### answer is attched to github"
   ]
  },
  {
   "cell_type": "markdown",
   "metadata": {},
   "source": [
    "# Question 2\n",
    "#### answer is attched to github"
   ]
  },
  {
   "cell_type": "markdown",
   "metadata": {},
   "source": [
    "## Question 3 Python\n",
    "### Housing"
   ]
  },
  {
   "cell_type": "markdown",
   "metadata": {},
   "source": [
    "#### Step 1. Import the necessary libraries"
   ]
  },
  {
   "cell_type": "code",
   "execution_count": 54,
   "metadata": {},
   "outputs": [],
   "source": [
    "#import the packages required for the problem\n",
    "import numpy as np\n",
    "import pandas as pd"
   ]
  },
  {
   "cell_type": "markdown",
   "metadata": {},
   "source": [
    "#### Step 2. Create 3 differents Series, each of length 100, as follows:\n",
    "#### • The first a random number from 1 to 4\n",
    "#### • The second a random number from 1 to 3\n",
    "#### • The third a random number from 10,000 to 30,000"
   ]
  },
  {
   "cell_type": "code",
   "execution_count": 55,
   "metadata": {},
   "outputs": [],
   "source": [
    "#random numbers are generated in variables series1, series2, series3\n",
    "series1 = np.linspace(1,4,100, dtype = int )\n",
    "series2 = np.linspace(1,3,100,dtype = int)\n",
    "series3 = np.linspace(10000, 30000,100,dtype = int)\n",
    "\n",
    "series1=pd.Series(series1)\n",
    "series2=pd.Series(series2)\n",
    "series3=pd.Series(series3)\n"
   ]
  },
  {
   "cell_type": "markdown",
   "metadata": {},
   "source": [
    "#### Step 3. Create a DataFrame by joinning the Series by column"
   ]
  },
  {
   "cell_type": "code",
   "execution_count": 57,
   "metadata": {},
   "outputs": [
    {
     "data": {
      "text/html": [
       "<div>\n",
       "<style scoped>\n",
       "    .dataframe tbody tr th:only-of-type {\n",
       "        vertical-align: middle;\n",
       "    }\n",
       "\n",
       "    .dataframe tbody tr th {\n",
       "        vertical-align: top;\n",
       "    }\n",
       "\n",
       "    .dataframe thead th {\n",
       "        text-align: right;\n",
       "    }\n",
       "</style>\n",
       "<table border=\"1\" class=\"dataframe\">\n",
       "  <thead>\n",
       "    <tr style=\"text-align: right;\">\n",
       "      <th></th>\n",
       "      <th>series1</th>\n",
       "      <th>series2</th>\n",
       "      <th>series3</th>\n",
       "    </tr>\n",
       "  </thead>\n",
       "  <tbody>\n",
       "    <tr>\n",
       "      <th>0</th>\n",
       "      <td>1</td>\n",
       "      <td>1</td>\n",
       "      <td>10000</td>\n",
       "    </tr>\n",
       "    <tr>\n",
       "      <th>1</th>\n",
       "      <td>1</td>\n",
       "      <td>1</td>\n",
       "      <td>10202</td>\n",
       "    </tr>\n",
       "    <tr>\n",
       "      <th>2</th>\n",
       "      <td>1</td>\n",
       "      <td>1</td>\n",
       "      <td>10404</td>\n",
       "    </tr>\n",
       "    <tr>\n",
       "      <th>3</th>\n",
       "      <td>1</td>\n",
       "      <td>1</td>\n",
       "      <td>10606</td>\n",
       "    </tr>\n",
       "    <tr>\n",
       "      <th>4</th>\n",
       "      <td>1</td>\n",
       "      <td>1</td>\n",
       "      <td>10808</td>\n",
       "    </tr>\n",
       "    <tr>\n",
       "      <th>...</th>\n",
       "      <td>...</td>\n",
       "      <td>...</td>\n",
       "      <td>...</td>\n",
       "    </tr>\n",
       "    <tr>\n",
       "      <th>95</th>\n",
       "      <td>3</td>\n",
       "      <td>2</td>\n",
       "      <td>29191</td>\n",
       "    </tr>\n",
       "    <tr>\n",
       "      <th>96</th>\n",
       "      <td>3</td>\n",
       "      <td>2</td>\n",
       "      <td>29393</td>\n",
       "    </tr>\n",
       "    <tr>\n",
       "      <th>97</th>\n",
       "      <td>3</td>\n",
       "      <td>2</td>\n",
       "      <td>29595</td>\n",
       "    </tr>\n",
       "    <tr>\n",
       "      <th>98</th>\n",
       "      <td>3</td>\n",
       "      <td>2</td>\n",
       "      <td>29797</td>\n",
       "    </tr>\n",
       "    <tr>\n",
       "      <th>99</th>\n",
       "      <td>4</td>\n",
       "      <td>3</td>\n",
       "      <td>30000</td>\n",
       "    </tr>\n",
       "  </tbody>\n",
       "</table>\n",
       "<p>100 rows × 3 columns</p>\n",
       "</div>"
      ],
      "text/plain": [
       "    series1  series2  series3\n",
       "0         1        1    10000\n",
       "1         1        1    10202\n",
       "2         1        1    10404\n",
       "3         1        1    10606\n",
       "4         1        1    10808\n",
       "..      ...      ...      ...\n",
       "95        3        2    29191\n",
       "96        3        2    29393\n",
       "97        3        2    29595\n",
       "98        3        2    29797\n",
       "99        4        3    30000\n",
       "\n",
       "[100 rows x 3 columns]"
      ]
     },
     "execution_count": 57,
     "metadata": {},
     "output_type": "execute_result"
    }
   ],
   "source": [
    "#series varibales can be combained by defining in a set\n",
    "Combain = pd.DataFrame({'series1':series1,'series2':series2,'series3':series3})\n",
    "Combain"
   ]
  },
  {
   "cell_type": "markdown",
   "metadata": {},
   "source": [
    "#### Step 4. Change the name of the columns to bedrs, bathrs, price_sqr_meter"
   ]
  },
  {
   "cell_type": "code",
   "execution_count": 58,
   "metadata": {},
   "outputs": [
    {
     "data": {
      "text/html": [
       "<div>\n",
       "<style scoped>\n",
       "    .dataframe tbody tr th:only-of-type {\n",
       "        vertical-align: middle;\n",
       "    }\n",
       "\n",
       "    .dataframe tbody tr th {\n",
       "        vertical-align: top;\n",
       "    }\n",
       "\n",
       "    .dataframe thead th {\n",
       "        text-align: right;\n",
       "    }\n",
       "</style>\n",
       "<table border=\"1\" class=\"dataframe\">\n",
       "  <thead>\n",
       "    <tr style=\"text-align: right;\">\n",
       "      <th></th>\n",
       "      <th>bedrs</th>\n",
       "      <th>bathrs</th>\n",
       "      <th>price_sqr_meter</th>\n",
       "    </tr>\n",
       "  </thead>\n",
       "  <tbody>\n",
       "    <tr>\n",
       "      <th>0</th>\n",
       "      <td>1</td>\n",
       "      <td>1</td>\n",
       "      <td>10000</td>\n",
       "    </tr>\n",
       "    <tr>\n",
       "      <th>1</th>\n",
       "      <td>1</td>\n",
       "      <td>1</td>\n",
       "      <td>10202</td>\n",
       "    </tr>\n",
       "    <tr>\n",
       "      <th>2</th>\n",
       "      <td>1</td>\n",
       "      <td>1</td>\n",
       "      <td>10404</td>\n",
       "    </tr>\n",
       "    <tr>\n",
       "      <th>3</th>\n",
       "      <td>1</td>\n",
       "      <td>1</td>\n",
       "      <td>10606</td>\n",
       "    </tr>\n",
       "    <tr>\n",
       "      <th>4</th>\n",
       "      <td>1</td>\n",
       "      <td>1</td>\n",
       "      <td>10808</td>\n",
       "    </tr>\n",
       "    <tr>\n",
       "      <th>...</th>\n",
       "      <td>...</td>\n",
       "      <td>...</td>\n",
       "      <td>...</td>\n",
       "    </tr>\n",
       "    <tr>\n",
       "      <th>95</th>\n",
       "      <td>3</td>\n",
       "      <td>2</td>\n",
       "      <td>29191</td>\n",
       "    </tr>\n",
       "    <tr>\n",
       "      <th>96</th>\n",
       "      <td>3</td>\n",
       "      <td>2</td>\n",
       "      <td>29393</td>\n",
       "    </tr>\n",
       "    <tr>\n",
       "      <th>97</th>\n",
       "      <td>3</td>\n",
       "      <td>2</td>\n",
       "      <td>29595</td>\n",
       "    </tr>\n",
       "    <tr>\n",
       "      <th>98</th>\n",
       "      <td>3</td>\n",
       "      <td>2</td>\n",
       "      <td>29797</td>\n",
       "    </tr>\n",
       "    <tr>\n",
       "      <th>99</th>\n",
       "      <td>4</td>\n",
       "      <td>3</td>\n",
       "      <td>30000</td>\n",
       "    </tr>\n",
       "  </tbody>\n",
       "</table>\n",
       "<p>100 rows × 3 columns</p>\n",
       "</div>"
      ],
      "text/plain": [
       "    bedrs  bathrs  price_sqr_meter\n",
       "0       1       1            10000\n",
       "1       1       1            10202\n",
       "2       1       1            10404\n",
       "3       1       1            10606\n",
       "4       1       1            10808\n",
       "..    ...     ...              ...\n",
       "95      3       2            29191\n",
       "96      3       2            29393\n",
       "97      3       2            29595\n",
       "98      3       2            29797\n",
       "99      4       3            30000\n",
       "\n",
       "[100 rows x 3 columns]"
      ]
     },
     "execution_count": 58,
     "metadata": {},
     "output_type": "execute_result"
    }
   ],
   "source": [
    "#columns key is used to rename each columns\n",
    "Combain.columns=('bedrs','bathrs','price_sqr_meter')\n",
    "Combain"
   ]
  },
  {
   "cell_type": "markdown",
   "metadata": {},
   "source": [
    "#### Step 5. Create a one column DataFrame with the values of the 3 Series and assign it to 'bigcolumn'"
   ]
  },
  {
   "cell_type": "code",
   "execution_count": 60,
   "metadata": {},
   "outputs": [
    {
     "data": {
      "text/html": [
       "<div>\n",
       "<style scoped>\n",
       "    .dataframe tbody tr th:only-of-type {\n",
       "        vertical-align: middle;\n",
       "    }\n",
       "\n",
       "    .dataframe tbody tr th {\n",
       "        vertical-align: top;\n",
       "    }\n",
       "\n",
       "    .dataframe thead th {\n",
       "        text-align: right;\n",
       "    }\n",
       "</style>\n",
       "<table border=\"1\" class=\"dataframe\">\n",
       "  <thead>\n",
       "    <tr style=\"text-align: right;\">\n",
       "      <th></th>\n",
       "      <th>0</th>\n",
       "    </tr>\n",
       "  </thead>\n",
       "  <tbody>\n",
       "    <tr>\n",
       "      <th>0</th>\n",
       "      <td>1</td>\n",
       "    </tr>\n",
       "    <tr>\n",
       "      <th>1</th>\n",
       "      <td>1</td>\n",
       "    </tr>\n",
       "    <tr>\n",
       "      <th>2</th>\n",
       "      <td>1</td>\n",
       "    </tr>\n",
       "    <tr>\n",
       "      <th>3</th>\n",
       "      <td>1</td>\n",
       "    </tr>\n",
       "    <tr>\n",
       "      <th>4</th>\n",
       "      <td>1</td>\n",
       "    </tr>\n",
       "    <tr>\n",
       "      <th>...</th>\n",
       "      <td>...</td>\n",
       "    </tr>\n",
       "    <tr>\n",
       "      <th>95</th>\n",
       "      <td>29191</td>\n",
       "    </tr>\n",
       "    <tr>\n",
       "      <th>96</th>\n",
       "      <td>29393</td>\n",
       "    </tr>\n",
       "    <tr>\n",
       "      <th>97</th>\n",
       "      <td>29595</td>\n",
       "    </tr>\n",
       "    <tr>\n",
       "      <th>98</th>\n",
       "      <td>29797</td>\n",
       "    </tr>\n",
       "    <tr>\n",
       "      <th>99</th>\n",
       "      <td>30000</td>\n",
       "    </tr>\n",
       "  </tbody>\n",
       "</table>\n",
       "<p>300 rows × 1 columns</p>\n",
       "</div>"
      ],
      "text/plain": [
       "        0\n",
       "0       1\n",
       "1       1\n",
       "2       1\n",
       "3       1\n",
       "4       1\n",
       "..    ...\n",
       "95  29191\n",
       "96  29393\n",
       "97  29595\n",
       "98  29797\n",
       "99  30000\n",
       "\n",
       "[300 rows x 1 columns]"
      ]
     },
     "execution_count": 60,
     "metadata": {},
     "output_type": "execute_result"
    }
   ],
   "source": [
    "#concat be used to create one column\n",
    "bigcolumn = pd.DataFrame(pd.concat([series1, series2, series3]))\n",
    "bigcolumn"
   ]
  },
  {
   "cell_type": "markdown",
   "metadata": {},
   "source": [
    "#### Step 6. Ops it seems it is going only until index 99. Is it true?\n",
    "<p>Yes. When the dataframe only shows upto 99</p>"
   ]
  },
  {
   "cell_type": "markdown",
   "metadata": {},
   "source": [
    "#### Step 7. Reindex the DataFrame so it goes from 0 to 299"
   ]
  },
  {
   "cell_type": "code",
   "execution_count": 61,
   "metadata": {},
   "outputs": [
    {
     "data": {
      "text/html": [
       "<div>\n",
       "<style scoped>\n",
       "    .dataframe tbody tr th:only-of-type {\n",
       "        vertical-align: middle;\n",
       "    }\n",
       "\n",
       "    .dataframe tbody tr th {\n",
       "        vertical-align: top;\n",
       "    }\n",
       "\n",
       "    .dataframe thead th {\n",
       "        text-align: right;\n",
       "    }\n",
       "</style>\n",
       "<table border=\"1\" class=\"dataframe\">\n",
       "  <thead>\n",
       "    <tr style=\"text-align: right;\">\n",
       "      <th></th>\n",
       "      <th>0</th>\n",
       "    </tr>\n",
       "  </thead>\n",
       "  <tbody>\n",
       "    <tr>\n",
       "      <th>0</th>\n",
       "      <td>1</td>\n",
       "    </tr>\n",
       "    <tr>\n",
       "      <th>1</th>\n",
       "      <td>1</td>\n",
       "    </tr>\n",
       "    <tr>\n",
       "      <th>2</th>\n",
       "      <td>1</td>\n",
       "    </tr>\n",
       "    <tr>\n",
       "      <th>3</th>\n",
       "      <td>1</td>\n",
       "    </tr>\n",
       "    <tr>\n",
       "      <th>4</th>\n",
       "      <td>1</td>\n",
       "    </tr>\n",
       "    <tr>\n",
       "      <th>...</th>\n",
       "      <td>...</td>\n",
       "    </tr>\n",
       "    <tr>\n",
       "      <th>295</th>\n",
       "      <td>29191</td>\n",
       "    </tr>\n",
       "    <tr>\n",
       "      <th>296</th>\n",
       "      <td>29393</td>\n",
       "    </tr>\n",
       "    <tr>\n",
       "      <th>297</th>\n",
       "      <td>29595</td>\n",
       "    </tr>\n",
       "    <tr>\n",
       "      <th>298</th>\n",
       "      <td>29797</td>\n",
       "    </tr>\n",
       "    <tr>\n",
       "      <th>299</th>\n",
       "      <td>30000</td>\n",
       "    </tr>\n",
       "  </tbody>\n",
       "</table>\n",
       "<p>300 rows × 1 columns</p>\n",
       "</div>"
      ],
      "text/plain": [
       "         0\n",
       "0        1\n",
       "1        1\n",
       "2        1\n",
       "3        1\n",
       "4        1\n",
       "..     ...\n",
       "295  29191\n",
       "296  29393\n",
       "297  29595\n",
       "298  29797\n",
       "299  30000\n",
       "\n",
       "[300 rows x 1 columns]"
      ]
     },
     "execution_count": 61,
     "metadata": {},
     "output_type": "execute_result"
    }
   ],
   "source": [
    "#reset_index is used to change the range of index\n",
    "bigcolumn= bigcolumn.reset_index(drop=True)\n",
    "bigcolumn"
   ]
  },
  {
   "cell_type": "markdown",
   "metadata": {},
   "source": [
    "## Question 4 Python"
   ]
  },
  {
   "cell_type": "markdown",
   "metadata": {},
   "source": [
    "#### Step 1. Import the necessary libraries"
   ]
  },
  {
   "cell_type": "code",
   "execution_count": 2,
   "metadata": {},
   "outputs": [],
   "source": [
    "#import packages required to do the problem\n",
    "import pandas as pd\n",
    "import numpy as np"
   ]
  },
  {
   "cell_type": "markdown",
   "metadata": {},
   "source": [
    "#### Step 2. Import the dataset from this address"
   ]
  },
  {
   "cell_type": "code",
   "execution_count": 71,
   "metadata": {},
   "outputs": [],
   "source": [
    "#delim_whitespace funtion is used to read the dataframe\n",
    "wind = pd.read_csv('https://raw.githubusercontent.com/guipsamora/pandas_exercises/master/06_Stats/Wind_Stats/wind.data', delim_whitespace=True)"
   ]
  },
  {
   "cell_type": "code",
   "execution_count": 72,
   "metadata": {},
   "outputs": [
    {
     "data": {
      "text/html": [
       "<div>\n",
       "<style scoped>\n",
       "    .dataframe tbody tr th:only-of-type {\n",
       "        vertical-align: middle;\n",
       "    }\n",
       "\n",
       "    .dataframe tbody tr th {\n",
       "        vertical-align: top;\n",
       "    }\n",
       "\n",
       "    .dataframe thead th {\n",
       "        text-align: right;\n",
       "    }\n",
       "</style>\n",
       "<table border=\"1\" class=\"dataframe\">\n",
       "  <thead>\n",
       "    <tr style=\"text-align: right;\">\n",
       "      <th></th>\n",
       "      <th>Yr</th>\n",
       "      <th>Mo</th>\n",
       "      <th>Dy</th>\n",
       "      <th>RPT</th>\n",
       "      <th>VAL</th>\n",
       "      <th>ROS</th>\n",
       "      <th>KIL</th>\n",
       "      <th>SHA</th>\n",
       "      <th>BIR</th>\n",
       "      <th>DUB</th>\n",
       "      <th>CLA</th>\n",
       "      <th>MUL</th>\n",
       "      <th>CLO</th>\n",
       "      <th>BEL</th>\n",
       "      <th>MAL</th>\n",
       "    </tr>\n",
       "  </thead>\n",
       "  <tbody>\n",
       "    <tr>\n",
       "      <th>0</th>\n",
       "      <td>61</td>\n",
       "      <td>1</td>\n",
       "      <td>1</td>\n",
       "      <td>15.04</td>\n",
       "      <td>14.96</td>\n",
       "      <td>13.17</td>\n",
       "      <td>9.29</td>\n",
       "      <td>NaN</td>\n",
       "      <td>9.87</td>\n",
       "      <td>13.67</td>\n",
       "      <td>10.25</td>\n",
       "      <td>10.83</td>\n",
       "      <td>12.58</td>\n",
       "      <td>18.50</td>\n",
       "      <td>15.04</td>\n",
       "    </tr>\n",
       "    <tr>\n",
       "      <th>1</th>\n",
       "      <td>61</td>\n",
       "      <td>1</td>\n",
       "      <td>2</td>\n",
       "      <td>14.71</td>\n",
       "      <td>NaN</td>\n",
       "      <td>10.83</td>\n",
       "      <td>6.50</td>\n",
       "      <td>12.62</td>\n",
       "      <td>7.67</td>\n",
       "      <td>11.50</td>\n",
       "      <td>10.04</td>\n",
       "      <td>9.79</td>\n",
       "      <td>9.67</td>\n",
       "      <td>17.54</td>\n",
       "      <td>13.83</td>\n",
       "    </tr>\n",
       "    <tr>\n",
       "      <th>2</th>\n",
       "      <td>61</td>\n",
       "      <td>1</td>\n",
       "      <td>3</td>\n",
       "      <td>18.50</td>\n",
       "      <td>16.88</td>\n",
       "      <td>12.33</td>\n",
       "      <td>10.13</td>\n",
       "      <td>11.17</td>\n",
       "      <td>6.17</td>\n",
       "      <td>11.25</td>\n",
       "      <td>NaN</td>\n",
       "      <td>8.50</td>\n",
       "      <td>7.67</td>\n",
       "      <td>12.75</td>\n",
       "      <td>12.71</td>\n",
       "    </tr>\n",
       "    <tr>\n",
       "      <th>3</th>\n",
       "      <td>61</td>\n",
       "      <td>1</td>\n",
       "      <td>4</td>\n",
       "      <td>10.58</td>\n",
       "      <td>6.63</td>\n",
       "      <td>11.75</td>\n",
       "      <td>4.58</td>\n",
       "      <td>4.54</td>\n",
       "      <td>2.88</td>\n",
       "      <td>8.63</td>\n",
       "      <td>1.79</td>\n",
       "      <td>5.83</td>\n",
       "      <td>5.88</td>\n",
       "      <td>5.46</td>\n",
       "      <td>10.88</td>\n",
       "    </tr>\n",
       "    <tr>\n",
       "      <th>4</th>\n",
       "      <td>61</td>\n",
       "      <td>1</td>\n",
       "      <td>5</td>\n",
       "      <td>13.33</td>\n",
       "      <td>13.25</td>\n",
       "      <td>11.42</td>\n",
       "      <td>6.17</td>\n",
       "      <td>10.71</td>\n",
       "      <td>8.21</td>\n",
       "      <td>11.92</td>\n",
       "      <td>6.54</td>\n",
       "      <td>10.92</td>\n",
       "      <td>10.34</td>\n",
       "      <td>12.92</td>\n",
       "      <td>11.83</td>\n",
       "    </tr>\n",
       "    <tr>\n",
       "      <th>...</th>\n",
       "      <td>...</td>\n",
       "      <td>...</td>\n",
       "      <td>...</td>\n",
       "      <td>...</td>\n",
       "      <td>...</td>\n",
       "      <td>...</td>\n",
       "      <td>...</td>\n",
       "      <td>...</td>\n",
       "      <td>...</td>\n",
       "      <td>...</td>\n",
       "      <td>...</td>\n",
       "      <td>...</td>\n",
       "      <td>...</td>\n",
       "      <td>...</td>\n",
       "      <td>...</td>\n",
       "    </tr>\n",
       "    <tr>\n",
       "      <th>6569</th>\n",
       "      <td>78</td>\n",
       "      <td>12</td>\n",
       "      <td>27</td>\n",
       "      <td>17.58</td>\n",
       "      <td>16.96</td>\n",
       "      <td>17.62</td>\n",
       "      <td>8.08</td>\n",
       "      <td>13.21</td>\n",
       "      <td>11.67</td>\n",
       "      <td>14.46</td>\n",
       "      <td>15.59</td>\n",
       "      <td>14.04</td>\n",
       "      <td>14.00</td>\n",
       "      <td>17.21</td>\n",
       "      <td>40.08</td>\n",
       "    </tr>\n",
       "    <tr>\n",
       "      <th>6570</th>\n",
       "      <td>78</td>\n",
       "      <td>12</td>\n",
       "      <td>28</td>\n",
       "      <td>13.21</td>\n",
       "      <td>5.46</td>\n",
       "      <td>13.46</td>\n",
       "      <td>5.00</td>\n",
       "      <td>8.12</td>\n",
       "      <td>9.42</td>\n",
       "      <td>14.33</td>\n",
       "      <td>16.25</td>\n",
       "      <td>15.25</td>\n",
       "      <td>18.05</td>\n",
       "      <td>21.79</td>\n",
       "      <td>41.46</td>\n",
       "    </tr>\n",
       "    <tr>\n",
       "      <th>6571</th>\n",
       "      <td>78</td>\n",
       "      <td>12</td>\n",
       "      <td>29</td>\n",
       "      <td>14.00</td>\n",
       "      <td>10.29</td>\n",
       "      <td>14.42</td>\n",
       "      <td>8.71</td>\n",
       "      <td>9.71</td>\n",
       "      <td>10.54</td>\n",
       "      <td>19.17</td>\n",
       "      <td>12.46</td>\n",
       "      <td>14.50</td>\n",
       "      <td>16.42</td>\n",
       "      <td>18.88</td>\n",
       "      <td>29.58</td>\n",
       "    </tr>\n",
       "    <tr>\n",
       "      <th>6572</th>\n",
       "      <td>78</td>\n",
       "      <td>12</td>\n",
       "      <td>30</td>\n",
       "      <td>18.50</td>\n",
       "      <td>14.04</td>\n",
       "      <td>21.29</td>\n",
       "      <td>9.13</td>\n",
       "      <td>12.75</td>\n",
       "      <td>9.71</td>\n",
       "      <td>18.08</td>\n",
       "      <td>12.87</td>\n",
       "      <td>12.46</td>\n",
       "      <td>12.12</td>\n",
       "      <td>14.67</td>\n",
       "      <td>28.79</td>\n",
       "    </tr>\n",
       "    <tr>\n",
       "      <th>6573</th>\n",
       "      <td>78</td>\n",
       "      <td>12</td>\n",
       "      <td>31</td>\n",
       "      <td>20.33</td>\n",
       "      <td>17.41</td>\n",
       "      <td>27.29</td>\n",
       "      <td>9.59</td>\n",
       "      <td>12.08</td>\n",
       "      <td>10.13</td>\n",
       "      <td>19.25</td>\n",
       "      <td>11.63</td>\n",
       "      <td>11.58</td>\n",
       "      <td>11.38</td>\n",
       "      <td>12.08</td>\n",
       "      <td>22.08</td>\n",
       "    </tr>\n",
       "  </tbody>\n",
       "</table>\n",
       "<p>6574 rows × 15 columns</p>\n",
       "</div>"
      ],
      "text/plain": [
       "      Yr  Mo  Dy    RPT    VAL    ROS    KIL    SHA    BIR    DUB    CLA  \\\n",
       "0     61   1   1  15.04  14.96  13.17   9.29    NaN   9.87  13.67  10.25   \n",
       "1     61   1   2  14.71    NaN  10.83   6.50  12.62   7.67  11.50  10.04   \n",
       "2     61   1   3  18.50  16.88  12.33  10.13  11.17   6.17  11.25    NaN   \n",
       "3     61   1   4  10.58   6.63  11.75   4.58   4.54   2.88   8.63   1.79   \n",
       "4     61   1   5  13.33  13.25  11.42   6.17  10.71   8.21  11.92   6.54   \n",
       "...   ..  ..  ..    ...    ...    ...    ...    ...    ...    ...    ...   \n",
       "6569  78  12  27  17.58  16.96  17.62   8.08  13.21  11.67  14.46  15.59   \n",
       "6570  78  12  28  13.21   5.46  13.46   5.00   8.12   9.42  14.33  16.25   \n",
       "6571  78  12  29  14.00  10.29  14.42   8.71   9.71  10.54  19.17  12.46   \n",
       "6572  78  12  30  18.50  14.04  21.29   9.13  12.75   9.71  18.08  12.87   \n",
       "6573  78  12  31  20.33  17.41  27.29   9.59  12.08  10.13  19.25  11.63   \n",
       "\n",
       "        MUL    CLO    BEL    MAL  \n",
       "0     10.83  12.58  18.50  15.04  \n",
       "1      9.79   9.67  17.54  13.83  \n",
       "2      8.50   7.67  12.75  12.71  \n",
       "3      5.83   5.88   5.46  10.88  \n",
       "4     10.92  10.34  12.92  11.83  \n",
       "...     ...    ...    ...    ...  \n",
       "6569  14.04  14.00  17.21  40.08  \n",
       "6570  15.25  18.05  21.79  41.46  \n",
       "6571  14.50  16.42  18.88  29.58  \n",
       "6572  12.46  12.12  14.67  28.79  \n",
       "6573  11.58  11.38  12.08  22.08  \n",
       "\n",
       "[6574 rows x 15 columns]"
      ]
     },
     "execution_count": 72,
     "metadata": {},
     "output_type": "execute_result"
    }
   ],
   "source": [
    "#display the dtaframe\n",
    "wind"
   ]
  },
  {
   "cell_type": "markdown",
   "metadata": {},
   "source": [
    "#### Step 3. Assign it to a variable called data and replace the first 3 columns by a proper datetime index"
   ]
  },
  {
   "cell_type": "code",
   "execution_count": 73,
   "metadata": {},
   "outputs": [],
   "source": [
    "#created a new col name datetime, set the datatype of first 3 col as date\n",
    "wind[\"datetime\"] = pd.to_datetime(wind[[\"Yr\",\"Mo\",\"Dy\"]].astype(str).agg('/'.join, axis=1))"
   ]
  },
  {
   "cell_type": "code",
   "execution_count": 74,
   "metadata": {},
   "outputs": [
    {
     "data": {
      "text/html": [
       "<div>\n",
       "<style scoped>\n",
       "    .dataframe tbody tr th:only-of-type {\n",
       "        vertical-align: middle;\n",
       "    }\n",
       "\n",
       "    .dataframe tbody tr th {\n",
       "        vertical-align: top;\n",
       "    }\n",
       "\n",
       "    .dataframe thead th {\n",
       "        text-align: right;\n",
       "    }\n",
       "</style>\n",
       "<table border=\"1\" class=\"dataframe\">\n",
       "  <thead>\n",
       "    <tr style=\"text-align: right;\">\n",
       "      <th></th>\n",
       "      <th>RPT</th>\n",
       "      <th>VAL</th>\n",
       "      <th>ROS</th>\n",
       "      <th>KIL</th>\n",
       "      <th>SHA</th>\n",
       "      <th>BIR</th>\n",
       "      <th>DUB</th>\n",
       "      <th>CLA</th>\n",
       "      <th>MUL</th>\n",
       "      <th>CLO</th>\n",
       "      <th>BEL</th>\n",
       "      <th>MAL</th>\n",
       "      <th>datetime</th>\n",
       "    </tr>\n",
       "  </thead>\n",
       "  <tbody>\n",
       "    <tr>\n",
       "      <th>0</th>\n",
       "      <td>15.04</td>\n",
       "      <td>14.96</td>\n",
       "      <td>13.17</td>\n",
       "      <td>9.29</td>\n",
       "      <td>NaN</td>\n",
       "      <td>9.87</td>\n",
       "      <td>13.67</td>\n",
       "      <td>10.25</td>\n",
       "      <td>10.83</td>\n",
       "      <td>12.58</td>\n",
       "      <td>18.50</td>\n",
       "      <td>15.04</td>\n",
       "      <td>2061-01-01</td>\n",
       "    </tr>\n",
       "    <tr>\n",
       "      <th>1</th>\n",
       "      <td>14.71</td>\n",
       "      <td>NaN</td>\n",
       "      <td>10.83</td>\n",
       "      <td>6.50</td>\n",
       "      <td>12.62</td>\n",
       "      <td>7.67</td>\n",
       "      <td>11.50</td>\n",
       "      <td>10.04</td>\n",
       "      <td>9.79</td>\n",
       "      <td>9.67</td>\n",
       "      <td>17.54</td>\n",
       "      <td>13.83</td>\n",
       "      <td>2061-01-02</td>\n",
       "    </tr>\n",
       "    <tr>\n",
       "      <th>2</th>\n",
       "      <td>18.50</td>\n",
       "      <td>16.88</td>\n",
       "      <td>12.33</td>\n",
       "      <td>10.13</td>\n",
       "      <td>11.17</td>\n",
       "      <td>6.17</td>\n",
       "      <td>11.25</td>\n",
       "      <td>NaN</td>\n",
       "      <td>8.50</td>\n",
       "      <td>7.67</td>\n",
       "      <td>12.75</td>\n",
       "      <td>12.71</td>\n",
       "      <td>2061-01-03</td>\n",
       "    </tr>\n",
       "    <tr>\n",
       "      <th>3</th>\n",
       "      <td>10.58</td>\n",
       "      <td>6.63</td>\n",
       "      <td>11.75</td>\n",
       "      <td>4.58</td>\n",
       "      <td>4.54</td>\n",
       "      <td>2.88</td>\n",
       "      <td>8.63</td>\n",
       "      <td>1.79</td>\n",
       "      <td>5.83</td>\n",
       "      <td>5.88</td>\n",
       "      <td>5.46</td>\n",
       "      <td>10.88</td>\n",
       "      <td>2061-01-04</td>\n",
       "    </tr>\n",
       "    <tr>\n",
       "      <th>4</th>\n",
       "      <td>13.33</td>\n",
       "      <td>13.25</td>\n",
       "      <td>11.42</td>\n",
       "      <td>6.17</td>\n",
       "      <td>10.71</td>\n",
       "      <td>8.21</td>\n",
       "      <td>11.92</td>\n",
       "      <td>6.54</td>\n",
       "      <td>10.92</td>\n",
       "      <td>10.34</td>\n",
       "      <td>12.92</td>\n",
       "      <td>11.83</td>\n",
       "      <td>2061-01-05</td>\n",
       "    </tr>\n",
       "    <tr>\n",
       "      <th>...</th>\n",
       "      <td>...</td>\n",
       "      <td>...</td>\n",
       "      <td>...</td>\n",
       "      <td>...</td>\n",
       "      <td>...</td>\n",
       "      <td>...</td>\n",
       "      <td>...</td>\n",
       "      <td>...</td>\n",
       "      <td>...</td>\n",
       "      <td>...</td>\n",
       "      <td>...</td>\n",
       "      <td>...</td>\n",
       "      <td>...</td>\n",
       "    </tr>\n",
       "    <tr>\n",
       "      <th>6569</th>\n",
       "      <td>17.58</td>\n",
       "      <td>16.96</td>\n",
       "      <td>17.62</td>\n",
       "      <td>8.08</td>\n",
       "      <td>13.21</td>\n",
       "      <td>11.67</td>\n",
       "      <td>14.46</td>\n",
       "      <td>15.59</td>\n",
       "      <td>14.04</td>\n",
       "      <td>14.00</td>\n",
       "      <td>17.21</td>\n",
       "      <td>40.08</td>\n",
       "      <td>1978-12-27</td>\n",
       "    </tr>\n",
       "    <tr>\n",
       "      <th>6570</th>\n",
       "      <td>13.21</td>\n",
       "      <td>5.46</td>\n",
       "      <td>13.46</td>\n",
       "      <td>5.00</td>\n",
       "      <td>8.12</td>\n",
       "      <td>9.42</td>\n",
       "      <td>14.33</td>\n",
       "      <td>16.25</td>\n",
       "      <td>15.25</td>\n",
       "      <td>18.05</td>\n",
       "      <td>21.79</td>\n",
       "      <td>41.46</td>\n",
       "      <td>1978-12-28</td>\n",
       "    </tr>\n",
       "    <tr>\n",
       "      <th>6571</th>\n",
       "      <td>14.00</td>\n",
       "      <td>10.29</td>\n",
       "      <td>14.42</td>\n",
       "      <td>8.71</td>\n",
       "      <td>9.71</td>\n",
       "      <td>10.54</td>\n",
       "      <td>19.17</td>\n",
       "      <td>12.46</td>\n",
       "      <td>14.50</td>\n",
       "      <td>16.42</td>\n",
       "      <td>18.88</td>\n",
       "      <td>29.58</td>\n",
       "      <td>1978-12-29</td>\n",
       "    </tr>\n",
       "    <tr>\n",
       "      <th>6572</th>\n",
       "      <td>18.50</td>\n",
       "      <td>14.04</td>\n",
       "      <td>21.29</td>\n",
       "      <td>9.13</td>\n",
       "      <td>12.75</td>\n",
       "      <td>9.71</td>\n",
       "      <td>18.08</td>\n",
       "      <td>12.87</td>\n",
       "      <td>12.46</td>\n",
       "      <td>12.12</td>\n",
       "      <td>14.67</td>\n",
       "      <td>28.79</td>\n",
       "      <td>1978-12-30</td>\n",
       "    </tr>\n",
       "    <tr>\n",
       "      <th>6573</th>\n",
       "      <td>20.33</td>\n",
       "      <td>17.41</td>\n",
       "      <td>27.29</td>\n",
       "      <td>9.59</td>\n",
       "      <td>12.08</td>\n",
       "      <td>10.13</td>\n",
       "      <td>19.25</td>\n",
       "      <td>11.63</td>\n",
       "      <td>11.58</td>\n",
       "      <td>11.38</td>\n",
       "      <td>12.08</td>\n",
       "      <td>22.08</td>\n",
       "      <td>1978-12-31</td>\n",
       "    </tr>\n",
       "  </tbody>\n",
       "</table>\n",
       "<p>6574 rows × 13 columns</p>\n",
       "</div>"
      ],
      "text/plain": [
       "        RPT    VAL    ROS    KIL    SHA    BIR    DUB    CLA    MUL    CLO  \\\n",
       "0     15.04  14.96  13.17   9.29    NaN   9.87  13.67  10.25  10.83  12.58   \n",
       "1     14.71    NaN  10.83   6.50  12.62   7.67  11.50  10.04   9.79   9.67   \n",
       "2     18.50  16.88  12.33  10.13  11.17   6.17  11.25    NaN   8.50   7.67   \n",
       "3     10.58   6.63  11.75   4.58   4.54   2.88   8.63   1.79   5.83   5.88   \n",
       "4     13.33  13.25  11.42   6.17  10.71   8.21  11.92   6.54  10.92  10.34   \n",
       "...     ...    ...    ...    ...    ...    ...    ...    ...    ...    ...   \n",
       "6569  17.58  16.96  17.62   8.08  13.21  11.67  14.46  15.59  14.04  14.00   \n",
       "6570  13.21   5.46  13.46   5.00   8.12   9.42  14.33  16.25  15.25  18.05   \n",
       "6571  14.00  10.29  14.42   8.71   9.71  10.54  19.17  12.46  14.50  16.42   \n",
       "6572  18.50  14.04  21.29   9.13  12.75   9.71  18.08  12.87  12.46  12.12   \n",
       "6573  20.33  17.41  27.29   9.59  12.08  10.13  19.25  11.63  11.58  11.38   \n",
       "\n",
       "        BEL    MAL   datetime  \n",
       "0     18.50  15.04 2061-01-01  \n",
       "1     17.54  13.83 2061-01-02  \n",
       "2     12.75  12.71 2061-01-03  \n",
       "3      5.46  10.88 2061-01-04  \n",
       "4     12.92  11.83 2061-01-05  \n",
       "...     ...    ...        ...  \n",
       "6569  17.21  40.08 1978-12-27  \n",
       "6570  21.79  41.46 1978-12-28  \n",
       "6571  18.88  29.58 1978-12-29  \n",
       "6572  14.67  28.79 1978-12-30  \n",
       "6573  12.08  22.08 1978-12-31  \n",
       "\n",
       "[6574 rows x 13 columns]"
      ]
     },
     "execution_count": 74,
     "metadata": {},
     "output_type": "execute_result"
    }
   ],
   "source": [
    "#drop the first 3 columns, as the new col contains these information\n",
    "wind.drop(columns=['Yr','Mo','Dy'], inplace= True)\n",
    "wind"
   ]
  },
  {
   "cell_type": "markdown",
   "metadata": {},
   "source": [
    "#### Step 4. Year 2061? Do we really have data from this year? Create a function to fix it and apply it"
   ]
  },
  {
   "cell_type": "code",
   "execution_count": 75,
   "metadata": {},
   "outputs": [
    {
     "data": {
      "text/html": [
       "<div>\n",
       "<style scoped>\n",
       "    .dataframe tbody tr th:only-of-type {\n",
       "        vertical-align: middle;\n",
       "    }\n",
       "\n",
       "    .dataframe tbody tr th {\n",
       "        vertical-align: top;\n",
       "    }\n",
       "\n",
       "    .dataframe thead th {\n",
       "        text-align: right;\n",
       "    }\n",
       "</style>\n",
       "<table border=\"1\" class=\"dataframe\">\n",
       "  <thead>\n",
       "    <tr style=\"text-align: right;\">\n",
       "      <th></th>\n",
       "      <th>RPT</th>\n",
       "      <th>VAL</th>\n",
       "      <th>ROS</th>\n",
       "      <th>KIL</th>\n",
       "      <th>SHA</th>\n",
       "      <th>BIR</th>\n",
       "      <th>DUB</th>\n",
       "      <th>CLA</th>\n",
       "      <th>MUL</th>\n",
       "      <th>CLO</th>\n",
       "      <th>BEL</th>\n",
       "      <th>MAL</th>\n",
       "      <th>datetime</th>\n",
       "    </tr>\n",
       "  </thead>\n",
       "  <tbody>\n",
       "    <tr>\n",
       "      <th>0</th>\n",
       "      <td>15.04</td>\n",
       "      <td>14.96</td>\n",
       "      <td>13.17</td>\n",
       "      <td>9.29</td>\n",
       "      <td>NaN</td>\n",
       "      <td>9.87</td>\n",
       "      <td>13.67</td>\n",
       "      <td>10.25</td>\n",
       "      <td>10.83</td>\n",
       "      <td>12.58</td>\n",
       "      <td>18.50</td>\n",
       "      <td>15.04</td>\n",
       "      <td>1961-01-01</td>\n",
       "    </tr>\n",
       "    <tr>\n",
       "      <th>1</th>\n",
       "      <td>14.71</td>\n",
       "      <td>NaN</td>\n",
       "      <td>10.83</td>\n",
       "      <td>6.50</td>\n",
       "      <td>12.62</td>\n",
       "      <td>7.67</td>\n",
       "      <td>11.50</td>\n",
       "      <td>10.04</td>\n",
       "      <td>9.79</td>\n",
       "      <td>9.67</td>\n",
       "      <td>17.54</td>\n",
       "      <td>13.83</td>\n",
       "      <td>1961-01-02</td>\n",
       "    </tr>\n",
       "    <tr>\n",
       "      <th>2</th>\n",
       "      <td>18.50</td>\n",
       "      <td>16.88</td>\n",
       "      <td>12.33</td>\n",
       "      <td>10.13</td>\n",
       "      <td>11.17</td>\n",
       "      <td>6.17</td>\n",
       "      <td>11.25</td>\n",
       "      <td>NaN</td>\n",
       "      <td>8.50</td>\n",
       "      <td>7.67</td>\n",
       "      <td>12.75</td>\n",
       "      <td>12.71</td>\n",
       "      <td>1961-01-03</td>\n",
       "    </tr>\n",
       "    <tr>\n",
       "      <th>3</th>\n",
       "      <td>10.58</td>\n",
       "      <td>6.63</td>\n",
       "      <td>11.75</td>\n",
       "      <td>4.58</td>\n",
       "      <td>4.54</td>\n",
       "      <td>2.88</td>\n",
       "      <td>8.63</td>\n",
       "      <td>1.79</td>\n",
       "      <td>5.83</td>\n",
       "      <td>5.88</td>\n",
       "      <td>5.46</td>\n",
       "      <td>10.88</td>\n",
       "      <td>1961-01-04</td>\n",
       "    </tr>\n",
       "    <tr>\n",
       "      <th>4</th>\n",
       "      <td>13.33</td>\n",
       "      <td>13.25</td>\n",
       "      <td>11.42</td>\n",
       "      <td>6.17</td>\n",
       "      <td>10.71</td>\n",
       "      <td>8.21</td>\n",
       "      <td>11.92</td>\n",
       "      <td>6.54</td>\n",
       "      <td>10.92</td>\n",
       "      <td>10.34</td>\n",
       "      <td>12.92</td>\n",
       "      <td>11.83</td>\n",
       "      <td>1961-01-05</td>\n",
       "    </tr>\n",
       "    <tr>\n",
       "      <th>...</th>\n",
       "      <td>...</td>\n",
       "      <td>...</td>\n",
       "      <td>...</td>\n",
       "      <td>...</td>\n",
       "      <td>...</td>\n",
       "      <td>...</td>\n",
       "      <td>...</td>\n",
       "      <td>...</td>\n",
       "      <td>...</td>\n",
       "      <td>...</td>\n",
       "      <td>...</td>\n",
       "      <td>...</td>\n",
       "      <td>...</td>\n",
       "    </tr>\n",
       "    <tr>\n",
       "      <th>6569</th>\n",
       "      <td>17.58</td>\n",
       "      <td>16.96</td>\n",
       "      <td>17.62</td>\n",
       "      <td>8.08</td>\n",
       "      <td>13.21</td>\n",
       "      <td>11.67</td>\n",
       "      <td>14.46</td>\n",
       "      <td>15.59</td>\n",
       "      <td>14.04</td>\n",
       "      <td>14.00</td>\n",
       "      <td>17.21</td>\n",
       "      <td>40.08</td>\n",
       "      <td>1978-12-27</td>\n",
       "    </tr>\n",
       "    <tr>\n",
       "      <th>6570</th>\n",
       "      <td>13.21</td>\n",
       "      <td>5.46</td>\n",
       "      <td>13.46</td>\n",
       "      <td>5.00</td>\n",
       "      <td>8.12</td>\n",
       "      <td>9.42</td>\n",
       "      <td>14.33</td>\n",
       "      <td>16.25</td>\n",
       "      <td>15.25</td>\n",
       "      <td>18.05</td>\n",
       "      <td>21.79</td>\n",
       "      <td>41.46</td>\n",
       "      <td>1978-12-28</td>\n",
       "    </tr>\n",
       "    <tr>\n",
       "      <th>6571</th>\n",
       "      <td>14.00</td>\n",
       "      <td>10.29</td>\n",
       "      <td>14.42</td>\n",
       "      <td>8.71</td>\n",
       "      <td>9.71</td>\n",
       "      <td>10.54</td>\n",
       "      <td>19.17</td>\n",
       "      <td>12.46</td>\n",
       "      <td>14.50</td>\n",
       "      <td>16.42</td>\n",
       "      <td>18.88</td>\n",
       "      <td>29.58</td>\n",
       "      <td>1978-12-29</td>\n",
       "    </tr>\n",
       "    <tr>\n",
       "      <th>6572</th>\n",
       "      <td>18.50</td>\n",
       "      <td>14.04</td>\n",
       "      <td>21.29</td>\n",
       "      <td>9.13</td>\n",
       "      <td>12.75</td>\n",
       "      <td>9.71</td>\n",
       "      <td>18.08</td>\n",
       "      <td>12.87</td>\n",
       "      <td>12.46</td>\n",
       "      <td>12.12</td>\n",
       "      <td>14.67</td>\n",
       "      <td>28.79</td>\n",
       "      <td>1978-12-30</td>\n",
       "    </tr>\n",
       "    <tr>\n",
       "      <th>6573</th>\n",
       "      <td>20.33</td>\n",
       "      <td>17.41</td>\n",
       "      <td>27.29</td>\n",
       "      <td>9.59</td>\n",
       "      <td>12.08</td>\n",
       "      <td>10.13</td>\n",
       "      <td>19.25</td>\n",
       "      <td>11.63</td>\n",
       "      <td>11.58</td>\n",
       "      <td>11.38</td>\n",
       "      <td>12.08</td>\n",
       "      <td>22.08</td>\n",
       "      <td>1978-12-31</td>\n",
       "    </tr>\n",
       "  </tbody>\n",
       "</table>\n",
       "<p>6574 rows × 13 columns</p>\n",
       "</div>"
      ],
      "text/plain": [
       "        RPT    VAL    ROS    KIL    SHA    BIR    DUB    CLA    MUL    CLO  \\\n",
       "0     15.04  14.96  13.17   9.29    NaN   9.87  13.67  10.25  10.83  12.58   \n",
       "1     14.71    NaN  10.83   6.50  12.62   7.67  11.50  10.04   9.79   9.67   \n",
       "2     18.50  16.88  12.33  10.13  11.17   6.17  11.25    NaN   8.50   7.67   \n",
       "3     10.58   6.63  11.75   4.58   4.54   2.88   8.63   1.79   5.83   5.88   \n",
       "4     13.33  13.25  11.42   6.17  10.71   8.21  11.92   6.54  10.92  10.34   \n",
       "...     ...    ...    ...    ...    ...    ...    ...    ...    ...    ...   \n",
       "6569  17.58  16.96  17.62   8.08  13.21  11.67  14.46  15.59  14.04  14.00   \n",
       "6570  13.21   5.46  13.46   5.00   8.12   9.42  14.33  16.25  15.25  18.05   \n",
       "6571  14.00  10.29  14.42   8.71   9.71  10.54  19.17  12.46  14.50  16.42   \n",
       "6572  18.50  14.04  21.29   9.13  12.75   9.71  18.08  12.87  12.46  12.12   \n",
       "6573  20.33  17.41  27.29   9.59  12.08  10.13  19.25  11.63  11.58  11.38   \n",
       "\n",
       "        BEL    MAL   datetime  \n",
       "0     18.50  15.04 1961-01-01  \n",
       "1     17.54  13.83 1961-01-02  \n",
       "2     12.75  12.71 1961-01-03  \n",
       "3      5.46  10.88 1961-01-04  \n",
       "4     12.92  11.83 1961-01-05  \n",
       "...     ...    ...        ...  \n",
       "6569  17.21  40.08 1978-12-27  \n",
       "6570  21.79  41.46 1978-12-28  \n",
       "6571  18.88  29.58 1978-12-29  \n",
       "6572  14.67  28.79 1978-12-30  \n",
       "6573  12.08  22.08 1978-12-31  \n",
       "\n",
       "[6574 rows x 13 columns]"
      ]
     },
     "execution_count": 75,
     "metadata": {},
     "output_type": "execute_result"
    }
   ],
   "source": [
    "#here a condition operation is used to find if year is greater than the current year then reduce it by 100\n",
    "wind['datetime'] = wind['datetime'].apply(lambda x: x.replace(x.year - 100) if x.year >=2000 else x)\n",
    "wind"
   ]
  },
  {
   "cell_type": "markdown",
   "metadata": {},
   "source": [
    "#### Step 5. Set the right dates as the index. Pay attention at the data type, it should be datetime64[ns]."
   ]
  },
  {
   "cell_type": "code",
   "execution_count": 76,
   "metadata": {},
   "outputs": [
    {
     "data": {
      "text/html": [
       "<div>\n",
       "<style scoped>\n",
       "    .dataframe tbody tr th:only-of-type {\n",
       "        vertical-align: middle;\n",
       "    }\n",
       "\n",
       "    .dataframe tbody tr th {\n",
       "        vertical-align: top;\n",
       "    }\n",
       "\n",
       "    .dataframe thead th {\n",
       "        text-align: right;\n",
       "    }\n",
       "</style>\n",
       "<table border=\"1\" class=\"dataframe\">\n",
       "  <thead>\n",
       "    <tr style=\"text-align: right;\">\n",
       "      <th></th>\n",
       "      <th>RPT</th>\n",
       "      <th>VAL</th>\n",
       "      <th>ROS</th>\n",
       "      <th>KIL</th>\n",
       "      <th>SHA</th>\n",
       "      <th>BIR</th>\n",
       "      <th>DUB</th>\n",
       "      <th>CLA</th>\n",
       "      <th>MUL</th>\n",
       "      <th>CLO</th>\n",
       "      <th>BEL</th>\n",
       "      <th>MAL</th>\n",
       "    </tr>\n",
       "    <tr>\n",
       "      <th>datetime</th>\n",
       "      <th></th>\n",
       "      <th></th>\n",
       "      <th></th>\n",
       "      <th></th>\n",
       "      <th></th>\n",
       "      <th></th>\n",
       "      <th></th>\n",
       "      <th></th>\n",
       "      <th></th>\n",
       "      <th></th>\n",
       "      <th></th>\n",
       "      <th></th>\n",
       "    </tr>\n",
       "  </thead>\n",
       "  <tbody>\n",
       "    <tr>\n",
       "      <th>1961-01-01</th>\n",
       "      <td>15.04</td>\n",
       "      <td>14.96</td>\n",
       "      <td>13.17</td>\n",
       "      <td>9.29</td>\n",
       "      <td>NaN</td>\n",
       "      <td>9.87</td>\n",
       "      <td>13.67</td>\n",
       "      <td>10.25</td>\n",
       "      <td>10.83</td>\n",
       "      <td>12.58</td>\n",
       "      <td>18.50</td>\n",
       "      <td>15.04</td>\n",
       "    </tr>\n",
       "    <tr>\n",
       "      <th>1961-01-02</th>\n",
       "      <td>14.71</td>\n",
       "      <td>NaN</td>\n",
       "      <td>10.83</td>\n",
       "      <td>6.50</td>\n",
       "      <td>12.62</td>\n",
       "      <td>7.67</td>\n",
       "      <td>11.50</td>\n",
       "      <td>10.04</td>\n",
       "      <td>9.79</td>\n",
       "      <td>9.67</td>\n",
       "      <td>17.54</td>\n",
       "      <td>13.83</td>\n",
       "    </tr>\n",
       "    <tr>\n",
       "      <th>1961-01-03</th>\n",
       "      <td>18.50</td>\n",
       "      <td>16.88</td>\n",
       "      <td>12.33</td>\n",
       "      <td>10.13</td>\n",
       "      <td>11.17</td>\n",
       "      <td>6.17</td>\n",
       "      <td>11.25</td>\n",
       "      <td>NaN</td>\n",
       "      <td>8.50</td>\n",
       "      <td>7.67</td>\n",
       "      <td>12.75</td>\n",
       "      <td>12.71</td>\n",
       "    </tr>\n",
       "    <tr>\n",
       "      <th>1961-01-04</th>\n",
       "      <td>10.58</td>\n",
       "      <td>6.63</td>\n",
       "      <td>11.75</td>\n",
       "      <td>4.58</td>\n",
       "      <td>4.54</td>\n",
       "      <td>2.88</td>\n",
       "      <td>8.63</td>\n",
       "      <td>1.79</td>\n",
       "      <td>5.83</td>\n",
       "      <td>5.88</td>\n",
       "      <td>5.46</td>\n",
       "      <td>10.88</td>\n",
       "    </tr>\n",
       "    <tr>\n",
       "      <th>1961-01-05</th>\n",
       "      <td>13.33</td>\n",
       "      <td>13.25</td>\n",
       "      <td>11.42</td>\n",
       "      <td>6.17</td>\n",
       "      <td>10.71</td>\n",
       "      <td>8.21</td>\n",
       "      <td>11.92</td>\n",
       "      <td>6.54</td>\n",
       "      <td>10.92</td>\n",
       "      <td>10.34</td>\n",
       "      <td>12.92</td>\n",
       "      <td>11.83</td>\n",
       "    </tr>\n",
       "    <tr>\n",
       "      <th>...</th>\n",
       "      <td>...</td>\n",
       "      <td>...</td>\n",
       "      <td>...</td>\n",
       "      <td>...</td>\n",
       "      <td>...</td>\n",
       "      <td>...</td>\n",
       "      <td>...</td>\n",
       "      <td>...</td>\n",
       "      <td>...</td>\n",
       "      <td>...</td>\n",
       "      <td>...</td>\n",
       "      <td>...</td>\n",
       "    </tr>\n",
       "    <tr>\n",
       "      <th>1978-12-27</th>\n",
       "      <td>17.58</td>\n",
       "      <td>16.96</td>\n",
       "      <td>17.62</td>\n",
       "      <td>8.08</td>\n",
       "      <td>13.21</td>\n",
       "      <td>11.67</td>\n",
       "      <td>14.46</td>\n",
       "      <td>15.59</td>\n",
       "      <td>14.04</td>\n",
       "      <td>14.00</td>\n",
       "      <td>17.21</td>\n",
       "      <td>40.08</td>\n",
       "    </tr>\n",
       "    <tr>\n",
       "      <th>1978-12-28</th>\n",
       "      <td>13.21</td>\n",
       "      <td>5.46</td>\n",
       "      <td>13.46</td>\n",
       "      <td>5.00</td>\n",
       "      <td>8.12</td>\n",
       "      <td>9.42</td>\n",
       "      <td>14.33</td>\n",
       "      <td>16.25</td>\n",
       "      <td>15.25</td>\n",
       "      <td>18.05</td>\n",
       "      <td>21.79</td>\n",
       "      <td>41.46</td>\n",
       "    </tr>\n",
       "    <tr>\n",
       "      <th>1978-12-29</th>\n",
       "      <td>14.00</td>\n",
       "      <td>10.29</td>\n",
       "      <td>14.42</td>\n",
       "      <td>8.71</td>\n",
       "      <td>9.71</td>\n",
       "      <td>10.54</td>\n",
       "      <td>19.17</td>\n",
       "      <td>12.46</td>\n",
       "      <td>14.50</td>\n",
       "      <td>16.42</td>\n",
       "      <td>18.88</td>\n",
       "      <td>29.58</td>\n",
       "    </tr>\n",
       "    <tr>\n",
       "      <th>1978-12-30</th>\n",
       "      <td>18.50</td>\n",
       "      <td>14.04</td>\n",
       "      <td>21.29</td>\n",
       "      <td>9.13</td>\n",
       "      <td>12.75</td>\n",
       "      <td>9.71</td>\n",
       "      <td>18.08</td>\n",
       "      <td>12.87</td>\n",
       "      <td>12.46</td>\n",
       "      <td>12.12</td>\n",
       "      <td>14.67</td>\n",
       "      <td>28.79</td>\n",
       "    </tr>\n",
       "    <tr>\n",
       "      <th>1978-12-31</th>\n",
       "      <td>20.33</td>\n",
       "      <td>17.41</td>\n",
       "      <td>27.29</td>\n",
       "      <td>9.59</td>\n",
       "      <td>12.08</td>\n",
       "      <td>10.13</td>\n",
       "      <td>19.25</td>\n",
       "      <td>11.63</td>\n",
       "      <td>11.58</td>\n",
       "      <td>11.38</td>\n",
       "      <td>12.08</td>\n",
       "      <td>22.08</td>\n",
       "    </tr>\n",
       "  </tbody>\n",
       "</table>\n",
       "<p>6574 rows × 12 columns</p>\n",
       "</div>"
      ],
      "text/plain": [
       "              RPT    VAL    ROS    KIL    SHA    BIR    DUB    CLA    MUL  \\\n",
       "datetime                                                                    \n",
       "1961-01-01  15.04  14.96  13.17   9.29    NaN   9.87  13.67  10.25  10.83   \n",
       "1961-01-02  14.71    NaN  10.83   6.50  12.62   7.67  11.50  10.04   9.79   \n",
       "1961-01-03  18.50  16.88  12.33  10.13  11.17   6.17  11.25    NaN   8.50   \n",
       "1961-01-04  10.58   6.63  11.75   4.58   4.54   2.88   8.63   1.79   5.83   \n",
       "1961-01-05  13.33  13.25  11.42   6.17  10.71   8.21  11.92   6.54  10.92   \n",
       "...           ...    ...    ...    ...    ...    ...    ...    ...    ...   \n",
       "1978-12-27  17.58  16.96  17.62   8.08  13.21  11.67  14.46  15.59  14.04   \n",
       "1978-12-28  13.21   5.46  13.46   5.00   8.12   9.42  14.33  16.25  15.25   \n",
       "1978-12-29  14.00  10.29  14.42   8.71   9.71  10.54  19.17  12.46  14.50   \n",
       "1978-12-30  18.50  14.04  21.29   9.13  12.75   9.71  18.08  12.87  12.46   \n",
       "1978-12-31  20.33  17.41  27.29   9.59  12.08  10.13  19.25  11.63  11.58   \n",
       "\n",
       "              CLO    BEL    MAL  \n",
       "datetime                         \n",
       "1961-01-01  12.58  18.50  15.04  \n",
       "1961-01-02   9.67  17.54  13.83  \n",
       "1961-01-03   7.67  12.75  12.71  \n",
       "1961-01-04   5.88   5.46  10.88  \n",
       "1961-01-05  10.34  12.92  11.83  \n",
       "...           ...    ...    ...  \n",
       "1978-12-27  14.00  17.21  40.08  \n",
       "1978-12-28  18.05  21.79  41.46  \n",
       "1978-12-29  16.42  18.88  29.58  \n",
       "1978-12-30  12.12  14.67  28.79  \n",
       "1978-12-31  11.38  12.08  22.08  \n",
       "\n",
       "[6574 rows x 12 columns]"
      ]
     },
     "execution_count": 76,
     "metadata": {},
     "output_type": "execute_result"
    }
   ],
   "source": [
    "#convert the datatype of datetime variable to datetime64 and set it as the idex of the dataframe\n",
    "wind[\"datetime\"] = pd.to_datetime(wind[\"datetime\"])\n",
    "wind = wind.set_index('datetime')\n",
    "wind"
   ]
  },
  {
   "cell_type": "markdown",
   "metadata": {},
   "source": [
    "#### Step 6. Compute how many values are missing for each location over the entire record.They should be ignored in all calculations below."
   ]
  },
  {
   "cell_type": "code",
   "execution_count": 77,
   "metadata": {},
   "outputs": [
    {
     "name": "stdout",
     "output_type": "stream",
     "text": [
      "Missing values from each column\n"
     ]
    },
    {
     "data": {
      "text/plain": [
       "RPT    6\n",
       "VAL    3\n",
       "ROS    2\n",
       "KIL    5\n",
       "SHA    2\n",
       "BIR    0\n",
       "DUB    3\n",
       "CLA    2\n",
       "MUL    3\n",
       "CLO    1\n",
       "BEL    0\n",
       "MAL    4\n",
       "dtype: int64"
      ]
     },
     "execution_count": 77,
     "metadata": {},
     "output_type": "execute_result"
    }
   ],
   "source": [
    "#isnull gives the number of empty values in the dataframe\n",
    "print(\"Missing values from each column\")\n",
    "wind.isnull().sum()"
   ]
  },
  {
   "cell_type": "markdown",
   "metadata": {},
   "source": [
    "#### Step 7. Compute how many non-missing values there are in total."
   ]
  },
  {
   "cell_type": "code",
   "execution_count": 78,
   "metadata": {},
   "outputs": [
    {
     "data": {
      "text/plain": [
       "78857"
      ]
     },
     "execution_count": 78,
     "metadata": {},
     "output_type": "execute_result"
    }
   ],
   "source": [
    "#the following provides the total non missing values\n",
    "sum(wind.count())\n"
   ]
  },
  {
   "cell_type": "code",
   "execution_count": 79,
   "metadata": {},
   "outputs": [],
   "source": [
    "#drop the empty values from the dataframe\n",
    "wind = wind.dropna()"
   ]
  },
  {
   "cell_type": "markdown",
   "metadata": {},
   "source": [
    "#### Step 8. Calculate the mean windspeeds of the windspeeds over all the locations and all the times"
   ]
  },
  {
   "cell_type": "code",
   "execution_count": 80,
   "metadata": {},
   "outputs": [
    {
     "name": "stdout",
     "output_type": "stream",
     "text": [
      "The mean windspeeds of the windspeeds over all the locations and all the times =  10.222465245951712\n"
     ]
    }
   ],
   "source": [
    "#find the total mean windspeed in all locations\n",
    "print(\"The mean windspeeds of the windspeeds over all the locations and all the times = \",wind.mean(axis=0).mean())"
   ]
  },
  {
   "cell_type": "markdown",
   "metadata": {},
   "source": [
    "#### Step 9. Create a DataFrame called loc_stats and calculate the min, max and mean windspeeds and standard deviations of the windspeeds at each location over all the days"
   ]
  },
  {
   "cell_type": "code",
   "execution_count": 13,
   "metadata": {},
   "outputs": [
    {
     "data": {
      "text/html": [
       "<div>\n",
       "<style scoped>\n",
       "    .dataframe tbody tr th:only-of-type {\n",
       "        vertical-align: middle;\n",
       "    }\n",
       "\n",
       "    .dataframe tbody tr th {\n",
       "        vertical-align: top;\n",
       "    }\n",
       "\n",
       "    .dataframe thead th {\n",
       "        text-align: right;\n",
       "    }\n",
       "</style>\n",
       "<table border=\"1\" class=\"dataframe\">\n",
       "  <thead>\n",
       "    <tr style=\"text-align: right;\">\n",
       "      <th></th>\n",
       "      <th>RPT</th>\n",
       "      <th>VAL</th>\n",
       "      <th>ROS</th>\n",
       "      <th>KIL</th>\n",
       "      <th>SHA</th>\n",
       "      <th>BIR</th>\n",
       "      <th>DUB</th>\n",
       "      <th>CLA</th>\n",
       "      <th>MUL</th>\n",
       "      <th>CLO</th>\n",
       "      <th>BEL</th>\n",
       "      <th>MAL</th>\n",
       "    </tr>\n",
       "  </thead>\n",
       "  <tbody>\n",
       "    <tr>\n",
       "      <th>mean</th>\n",
       "      <td>12.362987</td>\n",
       "      <td>10.644314</td>\n",
       "      <td>11.660526</td>\n",
       "      <td>6.306468</td>\n",
       "      <td>10.455834</td>\n",
       "      <td>7.092254</td>\n",
       "      <td>9.797343</td>\n",
       "      <td>8.495053</td>\n",
       "      <td>8.493590</td>\n",
       "      <td>8.707332</td>\n",
       "      <td>13.121007</td>\n",
       "      <td>15.599079</td>\n",
       "    </tr>\n",
       "    <tr>\n",
       "      <th>std</th>\n",
       "      <td>5.618413</td>\n",
       "      <td>5.267356</td>\n",
       "      <td>5.008450</td>\n",
       "      <td>3.605811</td>\n",
       "      <td>4.936125</td>\n",
       "      <td>3.968683</td>\n",
       "      <td>4.977555</td>\n",
       "      <td>4.499449</td>\n",
       "      <td>4.166872</td>\n",
       "      <td>4.503954</td>\n",
       "      <td>5.835037</td>\n",
       "      <td>6.699794</td>\n",
       "    </tr>\n",
       "    <tr>\n",
       "      <th>min</th>\n",
       "      <td>0.670000</td>\n",
       "      <td>0.210000</td>\n",
       "      <td>1.500000</td>\n",
       "      <td>0.000000</td>\n",
       "      <td>0.130000</td>\n",
       "      <td>0.000000</td>\n",
       "      <td>0.000000</td>\n",
       "      <td>0.000000</td>\n",
       "      <td>0.000000</td>\n",
       "      <td>0.040000</td>\n",
       "      <td>0.130000</td>\n",
       "      <td>0.670000</td>\n",
       "    </tr>\n",
       "    <tr>\n",
       "      <th>max</th>\n",
       "      <td>35.800000</td>\n",
       "      <td>33.370000</td>\n",
       "      <td>33.840000</td>\n",
       "      <td>28.460000</td>\n",
       "      <td>37.540000</td>\n",
       "      <td>26.160000</td>\n",
       "      <td>30.370000</td>\n",
       "      <td>31.080000</td>\n",
       "      <td>25.880000</td>\n",
       "      <td>28.210000</td>\n",
       "      <td>42.380000</td>\n",
       "      <td>42.540000</td>\n",
       "    </tr>\n",
       "  </tbody>\n",
       "</table>\n",
       "</div>"
      ],
      "text/plain": [
       "            RPT        VAL        ROS        KIL        SHA        BIR  \\\n",
       "mean  12.362987  10.644314  11.660526   6.306468  10.455834   7.092254   \n",
       "std    5.618413   5.267356   5.008450   3.605811   4.936125   3.968683   \n",
       "min    0.670000   0.210000   1.500000   0.000000   0.130000   0.000000   \n",
       "max   35.800000  33.370000  33.840000  28.460000  37.540000  26.160000   \n",
       "\n",
       "            DUB        CLA        MUL        CLO        BEL        MAL  \n",
       "mean   9.797343   8.495053   8.493590   8.707332  13.121007  15.599079  \n",
       "std    4.977555   4.499449   4.166872   4.503954   5.835037   6.699794  \n",
       "min    0.000000   0.000000   0.000000   0.040000   0.130000   0.670000  \n",
       "max   30.370000  31.080000  25.880000  28.210000  42.380000  42.540000  "
      ]
     },
     "execution_count": 13,
     "metadata": {},
     "output_type": "execute_result"
    }
   ],
   "source": [
    "#describe funtion give max, min, mean, std, count, 25%, 50% and 75%, but as we don't need count, 25%, 50% and 75% we can drop it\n",
    "loc_stats= wind.describe()\n",
    "loc_stats.drop(['count','25%','50%','75%'], inplace= True)\n",
    "loc_stats"
   ]
  },
  {
   "cell_type": "markdown",
   "metadata": {},
   "source": [
    "#### Step 10. Create a DataFrame called day_stats and calculate the min, max and mean windspeed and standard deviations of the windspeeds across all the locations at each day"
   ]
  },
  {
   "cell_type": "code",
   "execution_count": 14,
   "metadata": {},
   "outputs": [
    {
     "name": "stdout",
     "output_type": "stream",
     "text": [
      "Minimum values for each day\n"
     ]
    },
    {
     "data": {
      "text/plain": [
       "datetime\n",
       "1961-01-01    9.29\n",
       "1961-01-02    6.50\n",
       "1961-01-03    6.17\n",
       "1961-01-04    1.79\n",
       "1961-01-05    6.17\n",
       "              ... \n",
       "1978-12-27    8.08\n",
       "1978-12-28    5.00\n",
       "1978-12-29    8.71\n",
       "1978-12-30    9.13\n",
       "1978-12-31    9.59\n",
       "Length: 6574, dtype: float64"
      ]
     },
     "execution_count": 14,
     "metadata": {},
     "output_type": "execute_result"
    }
   ],
   "source": [
    "#min(axis=1) gives the min windspeed over each day\n",
    "print(\"Minimum values for each day\")\n",
    "minValueDay = wind[['RPT', 'VAL','ROS','KIL','SHA','BIR','DUB','CLA','MUL','CLO','BEL','MAL']].min(axis=1)\n",
    "minValueDay"
   ]
  },
  {
   "cell_type": "code",
   "execution_count": 81,
   "metadata": {},
   "outputs": [
    {
     "name": "stdout",
     "output_type": "stream",
     "text": [
      "Maximun values for each day\n"
     ]
    },
    {
     "data": {
      "text/plain": [
       "datetime\n",
       "1961-01-04    11.75\n",
       "1961-01-05    13.33\n",
       "1961-01-06    13.21\n",
       "1961-01-07    14.29\n",
       "1961-01-08    16.62\n",
       "              ...  \n",
       "1978-12-27    40.08\n",
       "1978-12-28    41.46\n",
       "1978-12-29    29.58\n",
       "1978-12-30    28.79\n",
       "1978-12-31    27.29\n",
       "Length: 6546, dtype: float64"
      ]
     },
     "execution_count": 81,
     "metadata": {},
     "output_type": "execute_result"
    }
   ],
   "source": [
    "#max(axis=1) gives the max windspeed over each day\n",
    "print(\"Maximun values for each day\")\n",
    "maxValueDay = wind[['RPT', 'VAL','ROS','KIL','SHA','BIR','DUB','CLA','MUL','CLO','BEL','MAL']].max(axis=1)\n",
    "maxValueDay"
   ]
  },
  {
   "cell_type": "code",
   "execution_count": 82,
   "metadata": {},
   "outputs": [
    {
     "name": "stdout",
     "output_type": "stream",
     "text": [
      "Mean values for each day\n"
     ]
    },
    {
     "data": {
      "text/plain": [
       "datetime\n",
       "1961-01-04     6.619167\n",
       "1961-01-05    10.630000\n",
       "1961-01-06     8.240000\n",
       "1961-01-07    10.385000\n",
       "1961-01-08    10.487500\n",
       "                ...    \n",
       "1978-12-27    16.708333\n",
       "1978-12-28    15.150000\n",
       "1978-12-29    14.890000\n",
       "1978-12-30    15.367500\n",
       "1978-12-31    15.402500\n",
       "Length: 6546, dtype: float64"
      ]
     },
     "execution_count": 82,
     "metadata": {},
     "output_type": "execute_result"
    }
   ],
   "source": [
    "#mean(axis=1) gives the mean windspeed over each day\n",
    "print(\"Mean values for each day\")\n",
    "meanValueDay = wind[['RPT', 'VAL','ROS','KIL','SHA','BIR','DUB','CLA','MUL','CLO','BEL','MAL']].mean(axis=1)\n",
    "meanValueDay"
   ]
  },
  {
   "cell_type": "code",
   "execution_count": 83,
   "metadata": {},
   "outputs": [
    {
     "name": "stdout",
     "output_type": "stream",
     "text": [
      "Minimum values for each day\n"
     ]
    },
    {
     "data": {
      "text/plain": [
       "datetime\n",
       "1961-01-04    3.198126\n",
       "1961-01-05    2.445356\n",
       "1961-01-06    2.998063\n",
       "1961-01-07    3.072114\n",
       "1961-01-08    3.547237\n",
       "                ...   \n",
       "1978-12-27    7.868076\n",
       "1978-12-28    9.687857\n",
       "1978-12-29    5.756836\n",
       "1978-12-30    5.540437\n",
       "1978-12-31    5.702483\n",
       "Length: 6546, dtype: float64"
      ]
     },
     "execution_count": 83,
     "metadata": {},
     "output_type": "execute_result"
    }
   ],
   "source": [
    "#std(axis=1) gives the min windspeed over each day\n",
    "print(\"Minimum values for each day\")\n",
    "stdValueDay = wind[['RPT', 'VAL','ROS','KIL','SHA','BIR','DUB','CLA','MUL','CLO','BEL','MAL']].std(axis=1)\n",
    "stdValueDay"
   ]
  },
  {
   "cell_type": "markdown",
   "metadata": {},
   "source": [
    "#### Step 11. Find the average windspeed in January for each location. Treat January 1961 and January 1962 both as January."
   ]
  },
  {
   "cell_type": "code",
   "execution_count": 84,
   "metadata": {},
   "outputs": [
    {
     "data": {
      "text/html": [
       "<div>\n",
       "<style scoped>\n",
       "    .dataframe tbody tr th:only-of-type {\n",
       "        vertical-align: middle;\n",
       "    }\n",
       "\n",
       "    .dataframe tbody tr th {\n",
       "        vertical-align: top;\n",
       "    }\n",
       "\n",
       "    .dataframe thead th {\n",
       "        text-align: right;\n",
       "    }\n",
       "</style>\n",
       "<table border=\"1\" class=\"dataframe\">\n",
       "  <thead>\n",
       "    <tr style=\"text-align: right;\">\n",
       "      <th></th>\n",
       "      <th>RPT</th>\n",
       "      <th>VAL</th>\n",
       "      <th>ROS</th>\n",
       "      <th>KIL</th>\n",
       "      <th>SHA</th>\n",
       "      <th>BIR</th>\n",
       "      <th>DUB</th>\n",
       "      <th>CLA</th>\n",
       "      <th>MUL</th>\n",
       "      <th>CLO</th>\n",
       "      <th>BEL</th>\n",
       "      <th>MAL</th>\n",
       "    </tr>\n",
       "    <tr>\n",
       "      <th>datetime</th>\n",
       "      <th></th>\n",
       "      <th></th>\n",
       "      <th></th>\n",
       "      <th></th>\n",
       "      <th></th>\n",
       "      <th></th>\n",
       "      <th></th>\n",
       "      <th></th>\n",
       "      <th></th>\n",
       "      <th></th>\n",
       "      <th></th>\n",
       "      <th></th>\n",
       "    </tr>\n",
       "  </thead>\n",
       "  <tbody>\n",
       "    <tr>\n",
       "      <th>1</th>\n",
       "      <td>14.831609</td>\n",
       "      <td>12.885389</td>\n",
       "      <td>13.276275</td>\n",
       "      <td>7.152477</td>\n",
       "      <td>11.644467</td>\n",
       "      <td>8.030561</td>\n",
       "      <td>11.788336</td>\n",
       "      <td>9.486962</td>\n",
       "      <td>9.511501</td>\n",
       "      <td>10.024069</td>\n",
       "      <td>14.527848</td>\n",
       "      <td>18.041826</td>\n",
       "    </tr>\n",
       "  </tbody>\n",
       "</table>\n",
       "</div>"
      ],
      "text/plain": [
       "                RPT        VAL        ROS       KIL        SHA       BIR  \\\n",
       "datetime                                                                   \n",
       "1         14.831609  12.885389  13.276275  7.152477  11.644467  8.030561   \n",
       "\n",
       "                DUB       CLA       MUL        CLO        BEL        MAL  \n",
       "datetime                                                                  \n",
       "1         11.788336  9.486962  9.511501  10.024069  14.527848  18.041826  "
      ]
     },
     "execution_count": 84,
     "metadata": {},
     "output_type": "execute_result"
    }
   ],
   "source": [
    "#first do groupby to find the mean of windspeed over each month\n",
    "meansJan = wind.groupby(wind.index.month).mean()\n",
    "Jan= meansJan.head(1)\n",
    "Jan"
   ]
  },
  {
   "cell_type": "markdown",
   "metadata": {},
   "source": [
    "#### Step 12. Downsample the record to a yearly frequency for each location"
   ]
  },
  {
   "cell_type": "code",
   "execution_count": 85,
   "metadata": {},
   "outputs": [
    {
     "data": {
      "text/html": [
       "<div>\n",
       "<style scoped>\n",
       "    .dataframe tbody tr th:only-of-type {\n",
       "        vertical-align: middle;\n",
       "    }\n",
       "\n",
       "    .dataframe tbody tr th {\n",
       "        vertical-align: top;\n",
       "    }\n",
       "\n",
       "    .dataframe thead th {\n",
       "        text-align: right;\n",
       "    }\n",
       "</style>\n",
       "<table border=\"1\" class=\"dataframe\">\n",
       "  <thead>\n",
       "    <tr style=\"text-align: right;\">\n",
       "      <th></th>\n",
       "      <th>RPT</th>\n",
       "      <th>VAL</th>\n",
       "      <th>ROS</th>\n",
       "      <th>KIL</th>\n",
       "      <th>SHA</th>\n",
       "      <th>BIR</th>\n",
       "      <th>DUB</th>\n",
       "      <th>CLA</th>\n",
       "      <th>MUL</th>\n",
       "      <th>CLO</th>\n",
       "      <th>BEL</th>\n",
       "      <th>MAL</th>\n",
       "    </tr>\n",
       "    <tr>\n",
       "      <th>datetime</th>\n",
       "      <th></th>\n",
       "      <th></th>\n",
       "      <th></th>\n",
       "      <th></th>\n",
       "      <th></th>\n",
       "      <th></th>\n",
       "      <th></th>\n",
       "      <th></th>\n",
       "      <th></th>\n",
       "      <th></th>\n",
       "      <th></th>\n",
       "      <th></th>\n",
       "    </tr>\n",
       "  </thead>\n",
       "  <tbody>\n",
       "    <tr>\n",
       "      <th>1961</th>\n",
       "      <td>12.207588</td>\n",
       "      <td>10.207206</td>\n",
       "      <td>11.282853</td>\n",
       "      <td>6.846441</td>\n",
       "      <td>10.742735</td>\n",
       "      <td>7.617147</td>\n",
       "      <td>9.633265</td>\n",
       "      <td>8.684912</td>\n",
       "      <td>8.571941</td>\n",
       "      <td>9.700471</td>\n",
       "      <td>13.271559</td>\n",
       "      <td>13.587206</td>\n",
       "    </tr>\n",
       "    <tr>\n",
       "      <th>1962</th>\n",
       "      <td>12.274779</td>\n",
       "      <td>10.150856</td>\n",
       "      <td>11.714365</td>\n",
       "      <td>6.964337</td>\n",
       "      <td>10.692265</td>\n",
       "      <td>7.415331</td>\n",
       "      <td>11.043122</td>\n",
       "      <td>8.829807</td>\n",
       "      <td>8.335552</td>\n",
       "      <td>9.693812</td>\n",
       "      <td>12.985691</td>\n",
       "      <td>14.361436</td>\n",
       "    </tr>\n",
       "    <tr>\n",
       "      <th>1963</th>\n",
       "      <td>12.813452</td>\n",
       "      <td>10.836986</td>\n",
       "      <td>12.541151</td>\n",
       "      <td>7.330055</td>\n",
       "      <td>11.724110</td>\n",
       "      <td>8.434712</td>\n",
       "      <td>11.075699</td>\n",
       "      <td>10.336548</td>\n",
       "      <td>8.903589</td>\n",
       "      <td>10.224438</td>\n",
       "      <td>13.638877</td>\n",
       "      <td>14.999014</td>\n",
       "    </tr>\n",
       "    <tr>\n",
       "      <th>1964</th>\n",
       "      <td>12.363661</td>\n",
       "      <td>10.920164</td>\n",
       "      <td>12.104372</td>\n",
       "      <td>6.787787</td>\n",
       "      <td>11.454481</td>\n",
       "      <td>7.570874</td>\n",
       "      <td>10.259153</td>\n",
       "      <td>9.467350</td>\n",
       "      <td>7.789016</td>\n",
       "      <td>10.207951</td>\n",
       "      <td>13.740546</td>\n",
       "      <td>14.910301</td>\n",
       "    </tr>\n",
       "    <tr>\n",
       "      <th>1965</th>\n",
       "      <td>12.451370</td>\n",
       "      <td>11.075534</td>\n",
       "      <td>11.848767</td>\n",
       "      <td>6.858466</td>\n",
       "      <td>11.024795</td>\n",
       "      <td>7.478110</td>\n",
       "      <td>10.618712</td>\n",
       "      <td>8.879918</td>\n",
       "      <td>7.907425</td>\n",
       "      <td>9.918082</td>\n",
       "      <td>12.964247</td>\n",
       "      <td>15.591644</td>\n",
       "    </tr>\n",
       "    <tr>\n",
       "      <th>1966</th>\n",
       "      <td>13.461973</td>\n",
       "      <td>11.557205</td>\n",
       "      <td>12.020630</td>\n",
       "      <td>7.345726</td>\n",
       "      <td>11.805041</td>\n",
       "      <td>7.793671</td>\n",
       "      <td>10.579808</td>\n",
       "      <td>8.835096</td>\n",
       "      <td>8.514438</td>\n",
       "      <td>9.768959</td>\n",
       "      <td>14.265836</td>\n",
       "      <td>16.307260</td>\n",
       "    </tr>\n",
       "    <tr>\n",
       "      <th>1967</th>\n",
       "      <td>12.737151</td>\n",
       "      <td>10.990986</td>\n",
       "      <td>11.739397</td>\n",
       "      <td>7.143425</td>\n",
       "      <td>11.630740</td>\n",
       "      <td>7.368164</td>\n",
       "      <td>10.652027</td>\n",
       "      <td>9.325616</td>\n",
       "      <td>8.645014</td>\n",
       "      <td>9.547425</td>\n",
       "      <td>14.774548</td>\n",
       "      <td>17.135945</td>\n",
       "    </tr>\n",
       "    <tr>\n",
       "      <th>1968</th>\n",
       "      <td>11.835628</td>\n",
       "      <td>10.468197</td>\n",
       "      <td>11.409754</td>\n",
       "      <td>6.477678</td>\n",
       "      <td>10.760765</td>\n",
       "      <td>6.067322</td>\n",
       "      <td>8.859180</td>\n",
       "      <td>8.255519</td>\n",
       "      <td>7.224945</td>\n",
       "      <td>7.832978</td>\n",
       "      <td>12.808634</td>\n",
       "      <td>15.017486</td>\n",
       "    </tr>\n",
       "    <tr>\n",
       "      <th>1969</th>\n",
       "      <td>11.166356</td>\n",
       "      <td>9.723699</td>\n",
       "      <td>10.902000</td>\n",
       "      <td>5.767973</td>\n",
       "      <td>9.873918</td>\n",
       "      <td>6.189973</td>\n",
       "      <td>8.564493</td>\n",
       "      <td>7.711397</td>\n",
       "      <td>7.924521</td>\n",
       "      <td>7.754384</td>\n",
       "      <td>12.621233</td>\n",
       "      <td>15.762904</td>\n",
       "    </tr>\n",
       "    <tr>\n",
       "      <th>1970</th>\n",
       "      <td>12.600329</td>\n",
       "      <td>10.726932</td>\n",
       "      <td>11.730247</td>\n",
       "      <td>6.217178</td>\n",
       "      <td>10.567370</td>\n",
       "      <td>7.609452</td>\n",
       "      <td>9.609890</td>\n",
       "      <td>8.334630</td>\n",
       "      <td>9.297616</td>\n",
       "      <td>8.289808</td>\n",
       "      <td>13.183644</td>\n",
       "      <td>16.456027</td>\n",
       "    </tr>\n",
       "    <tr>\n",
       "      <th>1971</th>\n",
       "      <td>11.273123</td>\n",
       "      <td>9.095178</td>\n",
       "      <td>11.088329</td>\n",
       "      <td>5.241507</td>\n",
       "      <td>9.440329</td>\n",
       "      <td>6.097151</td>\n",
       "      <td>8.385890</td>\n",
       "      <td>6.757315</td>\n",
       "      <td>7.915370</td>\n",
       "      <td>7.229753</td>\n",
       "      <td>12.208932</td>\n",
       "      <td>15.025233</td>\n",
       "    </tr>\n",
       "    <tr>\n",
       "      <th>1972</th>\n",
       "      <td>12.463962</td>\n",
       "      <td>10.561311</td>\n",
       "      <td>12.058333</td>\n",
       "      <td>5.929699</td>\n",
       "      <td>9.430410</td>\n",
       "      <td>6.358825</td>\n",
       "      <td>9.704508</td>\n",
       "      <td>7.680792</td>\n",
       "      <td>8.357295</td>\n",
       "      <td>7.515273</td>\n",
       "      <td>12.727377</td>\n",
       "      <td>15.028716</td>\n",
       "    </tr>\n",
       "    <tr>\n",
       "      <th>1973</th>\n",
       "      <td>11.828466</td>\n",
       "      <td>10.680493</td>\n",
       "      <td>10.680493</td>\n",
       "      <td>5.547863</td>\n",
       "      <td>9.640877</td>\n",
       "      <td>6.548740</td>\n",
       "      <td>8.482110</td>\n",
       "      <td>7.614274</td>\n",
       "      <td>8.245534</td>\n",
       "      <td>7.812411</td>\n",
       "      <td>12.169699</td>\n",
       "      <td>15.441096</td>\n",
       "    </tr>\n",
       "    <tr>\n",
       "      <th>1974</th>\n",
       "      <td>13.643096</td>\n",
       "      <td>11.811781</td>\n",
       "      <td>12.336356</td>\n",
       "      <td>6.427041</td>\n",
       "      <td>11.110986</td>\n",
       "      <td>6.809781</td>\n",
       "      <td>10.084603</td>\n",
       "      <td>9.896986</td>\n",
       "      <td>9.331753</td>\n",
       "      <td>8.736356</td>\n",
       "      <td>13.252959</td>\n",
       "      <td>16.947671</td>\n",
       "    </tr>\n",
       "    <tr>\n",
       "      <th>1975</th>\n",
       "      <td>12.008575</td>\n",
       "      <td>10.293836</td>\n",
       "      <td>11.564712</td>\n",
       "      <td>5.269096</td>\n",
       "      <td>9.190082</td>\n",
       "      <td>5.668521</td>\n",
       "      <td>8.562603</td>\n",
       "      <td>7.843836</td>\n",
       "      <td>8.797945</td>\n",
       "      <td>7.382822</td>\n",
       "      <td>12.631671</td>\n",
       "      <td>15.307863</td>\n",
       "    </tr>\n",
       "    <tr>\n",
       "      <th>1976</th>\n",
       "      <td>11.737842</td>\n",
       "      <td>10.203115</td>\n",
       "      <td>10.761230</td>\n",
       "      <td>5.109426</td>\n",
       "      <td>8.846339</td>\n",
       "      <td>6.311038</td>\n",
       "      <td>9.149126</td>\n",
       "      <td>7.146202</td>\n",
       "      <td>8.883716</td>\n",
       "      <td>7.883087</td>\n",
       "      <td>12.332377</td>\n",
       "      <td>15.471448</td>\n",
       "    </tr>\n",
       "    <tr>\n",
       "      <th>1977</th>\n",
       "      <td>13.099616</td>\n",
       "      <td>11.144493</td>\n",
       "      <td>12.627836</td>\n",
       "      <td>6.073945</td>\n",
       "      <td>10.003836</td>\n",
       "      <td>8.586438</td>\n",
       "      <td>11.523205</td>\n",
       "      <td>8.378384</td>\n",
       "      <td>9.098192</td>\n",
       "      <td>8.821616</td>\n",
       "      <td>13.459068</td>\n",
       "      <td>16.590849</td>\n",
       "    </tr>\n",
       "    <tr>\n",
       "      <th>1978</th>\n",
       "      <td>12.504356</td>\n",
       "      <td>11.044274</td>\n",
       "      <td>11.380000</td>\n",
       "      <td>6.082356</td>\n",
       "      <td>10.167233</td>\n",
       "      <td>7.650658</td>\n",
       "      <td>9.489342</td>\n",
       "      <td>8.800466</td>\n",
       "      <td>9.089753</td>\n",
       "      <td>8.301699</td>\n",
       "      <td>12.967397</td>\n",
       "      <td>16.771370</td>\n",
       "    </tr>\n",
       "  </tbody>\n",
       "</table>\n",
       "</div>"
      ],
      "text/plain": [
       "                RPT        VAL        ROS       KIL        SHA       BIR  \\\n",
       "datetime                                                                   \n",
       "1961      12.207588  10.207206  11.282853  6.846441  10.742735  7.617147   \n",
       "1962      12.274779  10.150856  11.714365  6.964337  10.692265  7.415331   \n",
       "1963      12.813452  10.836986  12.541151  7.330055  11.724110  8.434712   \n",
       "1964      12.363661  10.920164  12.104372  6.787787  11.454481  7.570874   \n",
       "1965      12.451370  11.075534  11.848767  6.858466  11.024795  7.478110   \n",
       "1966      13.461973  11.557205  12.020630  7.345726  11.805041  7.793671   \n",
       "1967      12.737151  10.990986  11.739397  7.143425  11.630740  7.368164   \n",
       "1968      11.835628  10.468197  11.409754  6.477678  10.760765  6.067322   \n",
       "1969      11.166356   9.723699  10.902000  5.767973   9.873918  6.189973   \n",
       "1970      12.600329  10.726932  11.730247  6.217178  10.567370  7.609452   \n",
       "1971      11.273123   9.095178  11.088329  5.241507   9.440329  6.097151   \n",
       "1972      12.463962  10.561311  12.058333  5.929699   9.430410  6.358825   \n",
       "1973      11.828466  10.680493  10.680493  5.547863   9.640877  6.548740   \n",
       "1974      13.643096  11.811781  12.336356  6.427041  11.110986  6.809781   \n",
       "1975      12.008575  10.293836  11.564712  5.269096   9.190082  5.668521   \n",
       "1976      11.737842  10.203115  10.761230  5.109426   8.846339  6.311038   \n",
       "1977      13.099616  11.144493  12.627836  6.073945  10.003836  8.586438   \n",
       "1978      12.504356  11.044274  11.380000  6.082356  10.167233  7.650658   \n",
       "\n",
       "                DUB        CLA       MUL        CLO        BEL        MAL  \n",
       "datetime                                                                   \n",
       "1961       9.633265   8.684912  8.571941   9.700471  13.271559  13.587206  \n",
       "1962      11.043122   8.829807  8.335552   9.693812  12.985691  14.361436  \n",
       "1963      11.075699  10.336548  8.903589  10.224438  13.638877  14.999014  \n",
       "1964      10.259153   9.467350  7.789016  10.207951  13.740546  14.910301  \n",
       "1965      10.618712   8.879918  7.907425   9.918082  12.964247  15.591644  \n",
       "1966      10.579808   8.835096  8.514438   9.768959  14.265836  16.307260  \n",
       "1967      10.652027   9.325616  8.645014   9.547425  14.774548  17.135945  \n",
       "1968       8.859180   8.255519  7.224945   7.832978  12.808634  15.017486  \n",
       "1969       8.564493   7.711397  7.924521   7.754384  12.621233  15.762904  \n",
       "1970       9.609890   8.334630  9.297616   8.289808  13.183644  16.456027  \n",
       "1971       8.385890   6.757315  7.915370   7.229753  12.208932  15.025233  \n",
       "1972       9.704508   7.680792  8.357295   7.515273  12.727377  15.028716  \n",
       "1973       8.482110   7.614274  8.245534   7.812411  12.169699  15.441096  \n",
       "1974      10.084603   9.896986  9.331753   8.736356  13.252959  16.947671  \n",
       "1975       8.562603   7.843836  8.797945   7.382822  12.631671  15.307863  \n",
       "1976       9.149126   7.146202  8.883716   7.883087  12.332377  15.471448  \n",
       "1977      11.523205   8.378384  9.098192   8.821616  13.459068  16.590849  \n",
       "1978       9.489342   8.800466  9.089753   8.301699  12.967397  16.771370  "
      ]
     },
     "execution_count": 85,
     "metadata": {},
     "output_type": "execute_result"
    }
   ],
   "source": [
    "#downsampling the dataframe using year\n",
    "wind.groupby(wind.index.year).mean()"
   ]
  },
  {
   "cell_type": "markdown",
   "metadata": {},
   "source": [
    "#### Step 13. Downsample the record to a monthly frequency for each location"
   ]
  },
  {
   "cell_type": "code",
   "execution_count": 86,
   "metadata": {},
   "outputs": [
    {
     "data": {
      "text/html": [
       "<div>\n",
       "<style scoped>\n",
       "    .dataframe tbody tr th:only-of-type {\n",
       "        vertical-align: middle;\n",
       "    }\n",
       "\n",
       "    .dataframe tbody tr th {\n",
       "        vertical-align: top;\n",
       "    }\n",
       "\n",
       "    .dataframe thead th {\n",
       "        text-align: right;\n",
       "    }\n",
       "</style>\n",
       "<table border=\"1\" class=\"dataframe\">\n",
       "  <thead>\n",
       "    <tr style=\"text-align: right;\">\n",
       "      <th></th>\n",
       "      <th>RPT</th>\n",
       "      <th>VAL</th>\n",
       "      <th>ROS</th>\n",
       "      <th>KIL</th>\n",
       "      <th>SHA</th>\n",
       "      <th>BIR</th>\n",
       "      <th>DUB</th>\n",
       "      <th>CLA</th>\n",
       "      <th>MUL</th>\n",
       "      <th>CLO</th>\n",
       "      <th>BEL</th>\n",
       "      <th>MAL</th>\n",
       "    </tr>\n",
       "    <tr>\n",
       "      <th>datetime</th>\n",
       "      <th></th>\n",
       "      <th></th>\n",
       "      <th></th>\n",
       "      <th></th>\n",
       "      <th></th>\n",
       "      <th></th>\n",
       "      <th></th>\n",
       "      <th></th>\n",
       "      <th></th>\n",
       "      <th></th>\n",
       "      <th></th>\n",
       "      <th></th>\n",
       "    </tr>\n",
       "  </thead>\n",
       "  <tbody>\n",
       "    <tr>\n",
       "      <th>1961-01</th>\n",
       "      <td>14.506154</td>\n",
       "      <td>11.225385</td>\n",
       "      <td>12.960385</td>\n",
       "      <td>6.840000</td>\n",
       "      <td>10.509231</td>\n",
       "      <td>8.174231</td>\n",
       "      <td>10.403077</td>\n",
       "      <td>8.670769</td>\n",
       "      <td>8.323462</td>\n",
       "      <td>9.490385</td>\n",
       "      <td>13.270000</td>\n",
       "      <td>14.341538</td>\n",
       "    </tr>\n",
       "    <tr>\n",
       "      <th>1961-02</th>\n",
       "      <td>16.401923</td>\n",
       "      <td>15.037308</td>\n",
       "      <td>14.470000</td>\n",
       "      <td>9.242692</td>\n",
       "      <td>13.778077</td>\n",
       "      <td>10.884615</td>\n",
       "      <td>11.868077</td>\n",
       "      <td>11.746154</td>\n",
       "      <td>11.748462</td>\n",
       "      <td>12.626538</td>\n",
       "      <td>18.165000</td>\n",
       "      <td>15.300769</td>\n",
       "    </tr>\n",
       "    <tr>\n",
       "      <th>1961-03</th>\n",
       "      <td>10.660000</td>\n",
       "      <td>11.097407</td>\n",
       "      <td>10.420000</td>\n",
       "      <td>7.100741</td>\n",
       "      <td>10.265556</td>\n",
       "      <td>8.580000</td>\n",
       "      <td>9.108519</td>\n",
       "      <td>9.329259</td>\n",
       "      <td>10.100000</td>\n",
       "      <td>10.989630</td>\n",
       "      <td>16.066296</td>\n",
       "      <td>15.418889</td>\n",
       "    </tr>\n",
       "    <tr>\n",
       "      <th>1961-04</th>\n",
       "      <td>10.722667</td>\n",
       "      <td>9.427667</td>\n",
       "      <td>9.998000</td>\n",
       "      <td>5.830667</td>\n",
       "      <td>8.435000</td>\n",
       "      <td>6.495000</td>\n",
       "      <td>6.925333</td>\n",
       "      <td>7.094667</td>\n",
       "      <td>7.342333</td>\n",
       "      <td>7.237000</td>\n",
       "      <td>11.147333</td>\n",
       "      <td>10.278333</td>\n",
       "    </tr>\n",
       "    <tr>\n",
       "      <th>1961-05</th>\n",
       "      <td>10.024643</td>\n",
       "      <td>8.495714</td>\n",
       "      <td>10.539286</td>\n",
       "      <td>5.992500</td>\n",
       "      <td>9.480357</td>\n",
       "      <td>6.633929</td>\n",
       "      <td>7.645714</td>\n",
       "      <td>8.206786</td>\n",
       "      <td>8.120714</td>\n",
       "      <td>8.534643</td>\n",
       "      <td>11.912143</td>\n",
       "      <td>11.911786</td>\n",
       "    </tr>\n",
       "    <tr>\n",
       "      <th>...</th>\n",
       "      <td>...</td>\n",
       "      <td>...</td>\n",
       "      <td>...</td>\n",
       "      <td>...</td>\n",
       "      <td>...</td>\n",
       "      <td>...</td>\n",
       "      <td>...</td>\n",
       "      <td>...</td>\n",
       "      <td>...</td>\n",
       "      <td>...</td>\n",
       "      <td>...</td>\n",
       "      <td>...</td>\n",
       "    </tr>\n",
       "    <tr>\n",
       "      <th>1978-08</th>\n",
       "      <td>9.645161</td>\n",
       "      <td>8.259355</td>\n",
       "      <td>9.032258</td>\n",
       "      <td>4.502903</td>\n",
       "      <td>7.368065</td>\n",
       "      <td>5.935161</td>\n",
       "      <td>5.650323</td>\n",
       "      <td>5.417742</td>\n",
       "      <td>7.241290</td>\n",
       "      <td>5.536774</td>\n",
       "      <td>10.466774</td>\n",
       "      <td>12.054194</td>\n",
       "    </tr>\n",
       "    <tr>\n",
       "      <th>1978-09</th>\n",
       "      <td>10.913667</td>\n",
       "      <td>10.895000</td>\n",
       "      <td>10.635000</td>\n",
       "      <td>5.725000</td>\n",
       "      <td>10.372000</td>\n",
       "      <td>9.278333</td>\n",
       "      <td>10.790333</td>\n",
       "      <td>9.583000</td>\n",
       "      <td>10.069333</td>\n",
       "      <td>8.939000</td>\n",
       "      <td>15.680333</td>\n",
       "      <td>19.391333</td>\n",
       "    </tr>\n",
       "    <tr>\n",
       "      <th>1978-10</th>\n",
       "      <td>9.897742</td>\n",
       "      <td>8.670968</td>\n",
       "      <td>9.295806</td>\n",
       "      <td>4.721290</td>\n",
       "      <td>8.525161</td>\n",
       "      <td>6.774194</td>\n",
       "      <td>8.115484</td>\n",
       "      <td>7.337742</td>\n",
       "      <td>8.297742</td>\n",
       "      <td>8.243871</td>\n",
       "      <td>13.776774</td>\n",
       "      <td>17.150000</td>\n",
       "    </tr>\n",
       "    <tr>\n",
       "      <th>1978-11</th>\n",
       "      <td>16.151667</td>\n",
       "      <td>14.802667</td>\n",
       "      <td>13.508000</td>\n",
       "      <td>7.317333</td>\n",
       "      <td>11.475000</td>\n",
       "      <td>8.743000</td>\n",
       "      <td>11.492333</td>\n",
       "      <td>9.657333</td>\n",
       "      <td>10.701333</td>\n",
       "      <td>10.676000</td>\n",
       "      <td>17.404667</td>\n",
       "      <td>20.723000</td>\n",
       "    </tr>\n",
       "    <tr>\n",
       "      <th>1978-12</th>\n",
       "      <td>16.175484</td>\n",
       "      <td>13.748065</td>\n",
       "      <td>15.635161</td>\n",
       "      <td>7.094839</td>\n",
       "      <td>11.398710</td>\n",
       "      <td>9.241613</td>\n",
       "      <td>12.077419</td>\n",
       "      <td>10.194839</td>\n",
       "      <td>10.616774</td>\n",
       "      <td>11.028710</td>\n",
       "      <td>13.859677</td>\n",
       "      <td>21.371613</td>\n",
       "    </tr>\n",
       "  </tbody>\n",
       "</table>\n",
       "<p>216 rows × 12 columns</p>\n",
       "</div>"
      ],
      "text/plain": [
       "                RPT        VAL        ROS       KIL        SHA        BIR  \\\n",
       "datetime                                                                    \n",
       "1961-01   14.506154  11.225385  12.960385  6.840000  10.509231   8.174231   \n",
       "1961-02   16.401923  15.037308  14.470000  9.242692  13.778077  10.884615   \n",
       "1961-03   10.660000  11.097407  10.420000  7.100741  10.265556   8.580000   \n",
       "1961-04   10.722667   9.427667   9.998000  5.830667   8.435000   6.495000   \n",
       "1961-05   10.024643   8.495714  10.539286  5.992500   9.480357   6.633929   \n",
       "...             ...        ...        ...       ...        ...        ...   \n",
       "1978-08    9.645161   8.259355   9.032258  4.502903   7.368065   5.935161   \n",
       "1978-09   10.913667  10.895000  10.635000  5.725000  10.372000   9.278333   \n",
       "1978-10    9.897742   8.670968   9.295806  4.721290   8.525161   6.774194   \n",
       "1978-11   16.151667  14.802667  13.508000  7.317333  11.475000   8.743000   \n",
       "1978-12   16.175484  13.748065  15.635161  7.094839  11.398710   9.241613   \n",
       "\n",
       "                DUB        CLA        MUL        CLO        BEL        MAL  \n",
       "datetime                                                                    \n",
       "1961-01   10.403077   8.670769   8.323462   9.490385  13.270000  14.341538  \n",
       "1961-02   11.868077  11.746154  11.748462  12.626538  18.165000  15.300769  \n",
       "1961-03    9.108519   9.329259  10.100000  10.989630  16.066296  15.418889  \n",
       "1961-04    6.925333   7.094667   7.342333   7.237000  11.147333  10.278333  \n",
       "1961-05    7.645714   8.206786   8.120714   8.534643  11.912143  11.911786  \n",
       "...             ...        ...        ...        ...        ...        ...  \n",
       "1978-08    5.650323   5.417742   7.241290   5.536774  10.466774  12.054194  \n",
       "1978-09   10.790333   9.583000  10.069333   8.939000  15.680333  19.391333  \n",
       "1978-10    8.115484   7.337742   8.297742   8.243871  13.776774  17.150000  \n",
       "1978-11   11.492333   9.657333  10.701333  10.676000  17.404667  20.723000  \n",
       "1978-12   12.077419  10.194839  10.616774  11.028710  13.859677  21.371613  \n",
       "\n",
       "[216 rows x 12 columns]"
      ]
     },
     "execution_count": 86,
     "metadata": {},
     "output_type": "execute_result"
    }
   ],
   "source": [
    "#downsampling the dataframe using month\n",
    "wind.groupby(wind.index.to_period('M')).mean()"
   ]
  },
  {
   "cell_type": "markdown",
   "metadata": {},
   "source": [
    "#### Step 14. Downsample the record to a weekly frequency for each location."
   ]
  },
  {
   "cell_type": "code",
   "execution_count": 87,
   "metadata": {},
   "outputs": [
    {
     "data": {
      "text/html": [
       "<div>\n",
       "<style scoped>\n",
       "    .dataframe tbody tr th:only-of-type {\n",
       "        vertical-align: middle;\n",
       "    }\n",
       "\n",
       "    .dataframe tbody tr th {\n",
       "        vertical-align: top;\n",
       "    }\n",
       "\n",
       "    .dataframe thead th {\n",
       "        text-align: right;\n",
       "    }\n",
       "</style>\n",
       "<table border=\"1\" class=\"dataframe\">\n",
       "  <thead>\n",
       "    <tr style=\"text-align: right;\">\n",
       "      <th></th>\n",
       "      <th>RPT</th>\n",
       "      <th>VAL</th>\n",
       "      <th>ROS</th>\n",
       "      <th>KIL</th>\n",
       "      <th>SHA</th>\n",
       "      <th>BIR</th>\n",
       "      <th>DUB</th>\n",
       "      <th>CLA</th>\n",
       "      <th>MUL</th>\n",
       "      <th>CLO</th>\n",
       "      <th>BEL</th>\n",
       "      <th>MAL</th>\n",
       "    </tr>\n",
       "    <tr>\n",
       "      <th>datetime</th>\n",
       "      <th></th>\n",
       "      <th></th>\n",
       "      <th></th>\n",
       "      <th></th>\n",
       "      <th></th>\n",
       "      <th></th>\n",
       "      <th></th>\n",
       "      <th></th>\n",
       "      <th></th>\n",
       "      <th></th>\n",
       "      <th></th>\n",
       "      <th></th>\n",
       "    </tr>\n",
       "  </thead>\n",
       "  <tbody>\n",
       "    <tr>\n",
       "      <th>1961-01-02/1961-01-08</th>\n",
       "      <td>12.316000</td>\n",
       "      <td>10.408000</td>\n",
       "      <td>10.050000</td>\n",
       "      <td>5.658000</td>\n",
       "      <td>8.506000</td>\n",
       "      <td>6.242000</td>\n",
       "      <td>10.936000</td>\n",
       "      <td>5.932000</td>\n",
       "      <td>8.150000</td>\n",
       "      <td>8.428000</td>\n",
       "      <td>11.416000</td>\n",
       "      <td>13.226000</td>\n",
       "    </tr>\n",
       "    <tr>\n",
       "      <th>1961-01-09/1961-01-15</th>\n",
       "      <td>12.468571</td>\n",
       "      <td>8.967143</td>\n",
       "      <td>11.958571</td>\n",
       "      <td>4.630000</td>\n",
       "      <td>7.351429</td>\n",
       "      <td>5.072857</td>\n",
       "      <td>7.535714</td>\n",
       "      <td>6.820000</td>\n",
       "      <td>5.712857</td>\n",
       "      <td>7.571429</td>\n",
       "      <td>11.125714</td>\n",
       "      <td>11.024286</td>\n",
       "    </tr>\n",
       "    <tr>\n",
       "      <th>1961-01-16/1961-01-22</th>\n",
       "      <td>12.100000</td>\n",
       "      <td>9.500000</td>\n",
       "      <td>11.681667</td>\n",
       "      <td>4.293333</td>\n",
       "      <td>8.966667</td>\n",
       "      <td>6.938333</td>\n",
       "      <td>7.828333</td>\n",
       "      <td>7.291667</td>\n",
       "      <td>5.891667</td>\n",
       "      <td>6.693333</td>\n",
       "      <td>9.993333</td>\n",
       "      <td>10.346667</td>\n",
       "    </tr>\n",
       "    <tr>\n",
       "      <th>1961-01-23/1961-01-29</th>\n",
       "      <td>19.880000</td>\n",
       "      <td>14.846667</td>\n",
       "      <td>17.548333</td>\n",
       "      <td>11.916667</td>\n",
       "      <td>16.325000</td>\n",
       "      <td>14.016667</td>\n",
       "      <td>14.450000</td>\n",
       "      <td>14.311667</td>\n",
       "      <td>13.316667</td>\n",
       "      <td>14.921667</td>\n",
       "      <td>19.800000</td>\n",
       "      <td>22.388333</td>\n",
       "    </tr>\n",
       "    <tr>\n",
       "      <th>1961-01-30/1961-02-05</th>\n",
       "      <td>16.827143</td>\n",
       "      <td>15.460000</td>\n",
       "      <td>12.618571</td>\n",
       "      <td>8.247143</td>\n",
       "      <td>13.361429</td>\n",
       "      <td>9.107143</td>\n",
       "      <td>12.204286</td>\n",
       "      <td>8.548571</td>\n",
       "      <td>9.821429</td>\n",
       "      <td>9.460000</td>\n",
       "      <td>14.012857</td>\n",
       "      <td>11.935714</td>\n",
       "    </tr>\n",
       "    <tr>\n",
       "      <th>...</th>\n",
       "      <td>...</td>\n",
       "      <td>...</td>\n",
       "      <td>...</td>\n",
       "      <td>...</td>\n",
       "      <td>...</td>\n",
       "      <td>...</td>\n",
       "      <td>...</td>\n",
       "      <td>...</td>\n",
       "      <td>...</td>\n",
       "      <td>...</td>\n",
       "      <td>...</td>\n",
       "      <td>...</td>\n",
       "    </tr>\n",
       "    <tr>\n",
       "      <th>1978-11-27/1978-12-03</th>\n",
       "      <td>14.934286</td>\n",
       "      <td>11.232857</td>\n",
       "      <td>13.941429</td>\n",
       "      <td>5.565714</td>\n",
       "      <td>10.215714</td>\n",
       "      <td>8.618571</td>\n",
       "      <td>9.642857</td>\n",
       "      <td>7.685714</td>\n",
       "      <td>9.011429</td>\n",
       "      <td>9.547143</td>\n",
       "      <td>11.835714</td>\n",
       "      <td>18.728571</td>\n",
       "    </tr>\n",
       "    <tr>\n",
       "      <th>1978-12-04/1978-12-10</th>\n",
       "      <td>20.740000</td>\n",
       "      <td>19.190000</td>\n",
       "      <td>17.034286</td>\n",
       "      <td>9.777143</td>\n",
       "      <td>15.287143</td>\n",
       "      <td>12.774286</td>\n",
       "      <td>14.437143</td>\n",
       "      <td>12.488571</td>\n",
       "      <td>13.870000</td>\n",
       "      <td>14.082857</td>\n",
       "      <td>18.517143</td>\n",
       "      <td>23.061429</td>\n",
       "    </tr>\n",
       "    <tr>\n",
       "      <th>1978-12-11/1978-12-17</th>\n",
       "      <td>16.758571</td>\n",
       "      <td>14.692857</td>\n",
       "      <td>14.987143</td>\n",
       "      <td>6.917143</td>\n",
       "      <td>11.397143</td>\n",
       "      <td>7.272857</td>\n",
       "      <td>10.208571</td>\n",
       "      <td>7.967143</td>\n",
       "      <td>9.168571</td>\n",
       "      <td>8.565714</td>\n",
       "      <td>11.102857</td>\n",
       "      <td>15.562857</td>\n",
       "    </tr>\n",
       "    <tr>\n",
       "      <th>1978-12-18/1978-12-24</th>\n",
       "      <td>11.155714</td>\n",
       "      <td>8.008571</td>\n",
       "      <td>13.172857</td>\n",
       "      <td>4.004286</td>\n",
       "      <td>7.825714</td>\n",
       "      <td>6.290000</td>\n",
       "      <td>7.798571</td>\n",
       "      <td>8.667143</td>\n",
       "      <td>7.151429</td>\n",
       "      <td>8.072857</td>\n",
       "      <td>11.845714</td>\n",
       "      <td>18.977143</td>\n",
       "    </tr>\n",
       "    <tr>\n",
       "      <th>1978-12-25/1978-12-31</th>\n",
       "      <td>14.951429</td>\n",
       "      <td>11.801429</td>\n",
       "      <td>16.035714</td>\n",
       "      <td>6.507143</td>\n",
       "      <td>9.660000</td>\n",
       "      <td>8.620000</td>\n",
       "      <td>13.708571</td>\n",
       "      <td>10.477143</td>\n",
       "      <td>10.868571</td>\n",
       "      <td>11.471429</td>\n",
       "      <td>12.947143</td>\n",
       "      <td>26.844286</td>\n",
       "    </tr>\n",
       "  </tbody>\n",
       "</table>\n",
       "<p>939 rows × 12 columns</p>\n",
       "</div>"
      ],
      "text/plain": [
       "                             RPT        VAL        ROS        KIL        SHA  \\\n",
       "datetime                                                                       \n",
       "1961-01-02/1961-01-08  12.316000  10.408000  10.050000   5.658000   8.506000   \n",
       "1961-01-09/1961-01-15  12.468571   8.967143  11.958571   4.630000   7.351429   \n",
       "1961-01-16/1961-01-22  12.100000   9.500000  11.681667   4.293333   8.966667   \n",
       "1961-01-23/1961-01-29  19.880000  14.846667  17.548333  11.916667  16.325000   \n",
       "1961-01-30/1961-02-05  16.827143  15.460000  12.618571   8.247143  13.361429   \n",
       "...                          ...        ...        ...        ...        ...   \n",
       "1978-11-27/1978-12-03  14.934286  11.232857  13.941429   5.565714  10.215714   \n",
       "1978-12-04/1978-12-10  20.740000  19.190000  17.034286   9.777143  15.287143   \n",
       "1978-12-11/1978-12-17  16.758571  14.692857  14.987143   6.917143  11.397143   \n",
       "1978-12-18/1978-12-24  11.155714   8.008571  13.172857   4.004286   7.825714   \n",
       "1978-12-25/1978-12-31  14.951429  11.801429  16.035714   6.507143   9.660000   \n",
       "\n",
       "                             BIR        DUB        CLA        MUL        CLO  \\\n",
       "datetime                                                                       \n",
       "1961-01-02/1961-01-08   6.242000  10.936000   5.932000   8.150000   8.428000   \n",
       "1961-01-09/1961-01-15   5.072857   7.535714   6.820000   5.712857   7.571429   \n",
       "1961-01-16/1961-01-22   6.938333   7.828333   7.291667   5.891667   6.693333   \n",
       "1961-01-23/1961-01-29  14.016667  14.450000  14.311667  13.316667  14.921667   \n",
       "1961-01-30/1961-02-05   9.107143  12.204286   8.548571   9.821429   9.460000   \n",
       "...                          ...        ...        ...        ...        ...   \n",
       "1978-11-27/1978-12-03   8.618571   9.642857   7.685714   9.011429   9.547143   \n",
       "1978-12-04/1978-12-10  12.774286  14.437143  12.488571  13.870000  14.082857   \n",
       "1978-12-11/1978-12-17   7.272857  10.208571   7.967143   9.168571   8.565714   \n",
       "1978-12-18/1978-12-24   6.290000   7.798571   8.667143   7.151429   8.072857   \n",
       "1978-12-25/1978-12-31   8.620000  13.708571  10.477143  10.868571  11.471429   \n",
       "\n",
       "                             BEL        MAL  \n",
       "datetime                                     \n",
       "1961-01-02/1961-01-08  11.416000  13.226000  \n",
       "1961-01-09/1961-01-15  11.125714  11.024286  \n",
       "1961-01-16/1961-01-22   9.993333  10.346667  \n",
       "1961-01-23/1961-01-29  19.800000  22.388333  \n",
       "1961-01-30/1961-02-05  14.012857  11.935714  \n",
       "...                          ...        ...  \n",
       "1978-11-27/1978-12-03  11.835714  18.728571  \n",
       "1978-12-04/1978-12-10  18.517143  23.061429  \n",
       "1978-12-11/1978-12-17  11.102857  15.562857  \n",
       "1978-12-18/1978-12-24  11.845714  18.977143  \n",
       "1978-12-25/1978-12-31  12.947143  26.844286  \n",
       "\n",
       "[939 rows x 12 columns]"
      ]
     },
     "execution_count": 87,
     "metadata": {},
     "output_type": "execute_result"
    }
   ],
   "source": [
    "#downsampling the dataframe using month\n",
    "wind.groupby(wind.index.to_period('W')).mean()"
   ]
  },
  {
   "cell_type": "markdown",
   "metadata": {},
   "source": [
    "#### Step 15. Calculate the min, max and mean windspeeds and standard deviations of the windspeeds across all locations for each week (assume that the first week starts on January 2 1961) for the first 52 weeks.\n"
   ]
  },
  {
   "cell_type": "code",
   "execution_count": 88,
   "metadata": {},
   "outputs": [
    {
     "data": {
      "text/html": [
       "<div>\n",
       "<style scoped>\n",
       "    .dataframe tbody tr th:only-of-type {\n",
       "        vertical-align: middle;\n",
       "    }\n",
       "\n",
       "    .dataframe tbody tr th {\n",
       "        vertical-align: top;\n",
       "    }\n",
       "\n",
       "    .dataframe thead th {\n",
       "        text-align: right;\n",
       "    }\n",
       "</style>\n",
       "<table border=\"1\" class=\"dataframe\">\n",
       "  <thead>\n",
       "    <tr style=\"text-align: right;\">\n",
       "      <th></th>\n",
       "      <th>RPT</th>\n",
       "      <th>VAL</th>\n",
       "      <th>ROS</th>\n",
       "      <th>KIL</th>\n",
       "      <th>SHA</th>\n",
       "      <th>BIR</th>\n",
       "      <th>DUB</th>\n",
       "      <th>CLA</th>\n",
       "      <th>MUL</th>\n",
       "      <th>CLO</th>\n",
       "      <th>BEL</th>\n",
       "      <th>MAL</th>\n",
       "    </tr>\n",
       "    <tr>\n",
       "      <th>datetime</th>\n",
       "      <th></th>\n",
       "      <th></th>\n",
       "      <th></th>\n",
       "      <th></th>\n",
       "      <th></th>\n",
       "      <th></th>\n",
       "      <th></th>\n",
       "      <th></th>\n",
       "      <th></th>\n",
       "      <th></th>\n",
       "      <th></th>\n",
       "      <th></th>\n",
       "    </tr>\n",
       "  </thead>\n",
       "  <tbody>\n",
       "    <tr>\n",
       "      <th>1961-01-09/1961-01-15</th>\n",
       "      <td>19.75</td>\n",
       "      <td>12.08</td>\n",
       "      <td>19.50</td>\n",
       "      <td>10.54</td>\n",
       "      <td>10.37</td>\n",
       "      <td>9.46</td>\n",
       "      <td>15.54</td>\n",
       "      <td>11.50</td>\n",
       "      <td>10.37</td>\n",
       "      <td>14.58</td>\n",
       "      <td>20.71</td>\n",
       "      <td>16.92</td>\n",
       "    </tr>\n",
       "    <tr>\n",
       "      <th>1961-01-16/1961-01-22</th>\n",
       "      <td>17.75</td>\n",
       "      <td>14.37</td>\n",
       "      <td>17.33</td>\n",
       "      <td>10.13</td>\n",
       "      <td>13.96</td>\n",
       "      <td>13.37</td>\n",
       "      <td>13.42</td>\n",
       "      <td>11.04</td>\n",
       "      <td>8.71</td>\n",
       "      <td>11.38</td>\n",
       "      <td>15.92</td>\n",
       "      <td>16.08</td>\n",
       "    </tr>\n",
       "    <tr>\n",
       "      <th>1961-01-23/1961-01-29</th>\n",
       "      <td>25.04</td>\n",
       "      <td>20.79</td>\n",
       "      <td>25.84</td>\n",
       "      <td>16.21</td>\n",
       "      <td>21.46</td>\n",
       "      <td>18.58</td>\n",
       "      <td>20.38</td>\n",
       "      <td>19.38</td>\n",
       "      <td>18.66</td>\n",
       "      <td>19.08</td>\n",
       "      <td>26.08</td>\n",
       "      <td>27.63</td>\n",
       "    </tr>\n",
       "    <tr>\n",
       "      <th>1961-01-30/1961-02-05</th>\n",
       "      <td>24.21</td>\n",
       "      <td>24.21</td>\n",
       "      <td>19.70</td>\n",
       "      <td>11.96</td>\n",
       "      <td>17.37</td>\n",
       "      <td>12.04</td>\n",
       "      <td>14.88</td>\n",
       "      <td>15.54</td>\n",
       "      <td>13.37</td>\n",
       "      <td>13.13</td>\n",
       "      <td>19.33</td>\n",
       "      <td>19.25</td>\n",
       "    </tr>\n",
       "    <tr>\n",
       "      <th>1961-02-06/1961-02-12</th>\n",
       "      <td>24.54</td>\n",
       "      <td>21.42</td>\n",
       "      <td>21.34</td>\n",
       "      <td>15.37</td>\n",
       "      <td>25.33</td>\n",
       "      <td>17.62</td>\n",
       "      <td>19.17</td>\n",
       "      <td>18.79</td>\n",
       "      <td>18.96</td>\n",
       "      <td>17.79</td>\n",
       "      <td>26.38</td>\n",
       "      <td>21.84</td>\n",
       "    </tr>\n",
       "    <tr>\n",
       "      <th>1961-02-13/1961-02-19</th>\n",
       "      <td>22.50</td>\n",
       "      <td>20.17</td>\n",
       "      <td>19.41</td>\n",
       "      <td>15.34</td>\n",
       "      <td>16.13</td>\n",
       "      <td>15.12</td>\n",
       "      <td>16.08</td>\n",
       "      <td>14.29</td>\n",
       "      <td>14.88</td>\n",
       "      <td>16.58</td>\n",
       "      <td>28.62</td>\n",
       "      <td>22.58</td>\n",
       "    </tr>\n",
       "    <tr>\n",
       "      <th>1961-02-20/1961-02-26</th>\n",
       "      <td>25.80</td>\n",
       "      <td>21.50</td>\n",
       "      <td>22.42</td>\n",
       "      <td>15.21</td>\n",
       "      <td>23.09</td>\n",
       "      <td>16.88</td>\n",
       "      <td>21.17</td>\n",
       "      <td>17.25</td>\n",
       "      <td>18.46</td>\n",
       "      <td>20.04</td>\n",
       "      <td>23.21</td>\n",
       "      <td>23.87</td>\n",
       "    </tr>\n",
       "    <tr>\n",
       "      <th>1961-02-27/1961-03-05</th>\n",
       "      <td>13.33</td>\n",
       "      <td>17.00</td>\n",
       "      <td>13.67</td>\n",
       "      <td>10.04</td>\n",
       "      <td>15.46</td>\n",
       "      <td>11.17</td>\n",
       "      <td>12.75</td>\n",
       "      <td>12.83</td>\n",
       "      <td>11.71</td>\n",
       "      <td>14.09</td>\n",
       "      <td>23.45</td>\n",
       "      <td>17.54</td>\n",
       "    </tr>\n",
       "    <tr>\n",
       "      <th>1961-03-06/1961-03-12</th>\n",
       "      <td>14.79</td>\n",
       "      <td>16.96</td>\n",
       "      <td>15.50</td>\n",
       "      <td>9.46</td>\n",
       "      <td>14.17</td>\n",
       "      <td>12.67</td>\n",
       "      <td>10.34</td>\n",
       "      <td>15.67</td>\n",
       "      <td>12.46</td>\n",
       "      <td>13.54</td>\n",
       "      <td>22.71</td>\n",
       "      <td>18.16</td>\n",
       "    </tr>\n",
       "    <tr>\n",
       "      <th>1961-03-13/1961-03-19</th>\n",
       "      <td>16.88</td>\n",
       "      <td>15.54</td>\n",
       "      <td>13.96</td>\n",
       "      <td>11.04</td>\n",
       "      <td>14.37</td>\n",
       "      <td>10.75</td>\n",
       "      <td>13.96</td>\n",
       "      <td>14.29</td>\n",
       "      <td>13.88</td>\n",
       "      <td>15.34</td>\n",
       "      <td>22.79</td>\n",
       "      <td>22.95</td>\n",
       "    </tr>\n",
       "    <tr>\n",
       "      <th>1961-03-20/1961-03-26</th>\n",
       "      <td>15.00</td>\n",
       "      <td>11.63</td>\n",
       "      <td>15.63</td>\n",
       "      <td>10.75</td>\n",
       "      <td>13.33</td>\n",
       "      <td>10.29</td>\n",
       "      <td>15.41</td>\n",
       "      <td>13.04</td>\n",
       "      <td>14.37</td>\n",
       "      <td>14.50</td>\n",
       "      <td>21.34</td>\n",
       "      <td>22.50</td>\n",
       "    </tr>\n",
       "    <tr>\n",
       "      <th>1961-03-27/1961-04-02</th>\n",
       "      <td>18.25</td>\n",
       "      <td>16.29</td>\n",
       "      <td>14.96</td>\n",
       "      <td>12.00</td>\n",
       "      <td>18.34</td>\n",
       "      <td>14.33</td>\n",
       "      <td>16.62</td>\n",
       "      <td>13.37</td>\n",
       "      <td>17.54</td>\n",
       "      <td>14.21</td>\n",
       "      <td>18.63</td>\n",
       "      <td>16.83</td>\n",
       "    </tr>\n",
       "    <tr>\n",
       "      <th>1961-04-03/1961-04-09</th>\n",
       "      <td>18.12</td>\n",
       "      <td>14.62</td>\n",
       "      <td>18.29</td>\n",
       "      <td>10.63</td>\n",
       "      <td>13.33</td>\n",
       "      <td>10.83</td>\n",
       "      <td>9.96</td>\n",
       "      <td>10.08</td>\n",
       "      <td>10.54</td>\n",
       "      <td>10.50</td>\n",
       "      <td>17.16</td>\n",
       "      <td>15.34</td>\n",
       "    </tr>\n",
       "    <tr>\n",
       "      <th>1961-04-10/1961-04-16</th>\n",
       "      <td>15.50</td>\n",
       "      <td>12.25</td>\n",
       "      <td>15.79</td>\n",
       "      <td>9.71</td>\n",
       "      <td>8.71</td>\n",
       "      <td>8.58</td>\n",
       "      <td>8.00</td>\n",
       "      <td>9.92</td>\n",
       "      <td>9.00</td>\n",
       "      <td>9.67</td>\n",
       "      <td>16.17</td>\n",
       "      <td>12.87</td>\n",
       "    </tr>\n",
       "    <tr>\n",
       "      <th>1961-04-17/1961-04-23</th>\n",
       "      <td>21.09</td>\n",
       "      <td>15.41</td>\n",
       "      <td>17.00</td>\n",
       "      <td>11.63</td>\n",
       "      <td>14.37</td>\n",
       "      <td>11.63</td>\n",
       "      <td>12.96</td>\n",
       "      <td>13.25</td>\n",
       "      <td>13.29</td>\n",
       "      <td>14.37</td>\n",
       "      <td>19.21</td>\n",
       "      <td>20.46</td>\n",
       "    </tr>\n",
       "    <tr>\n",
       "      <th>1961-04-24/1961-04-30</th>\n",
       "      <td>16.29</td>\n",
       "      <td>14.46</td>\n",
       "      <td>14.96</td>\n",
       "      <td>7.87</td>\n",
       "      <td>12.62</td>\n",
       "      <td>8.83</td>\n",
       "      <td>13.75</td>\n",
       "      <td>11.96</td>\n",
       "      <td>11.08</td>\n",
       "      <td>11.46</td>\n",
       "      <td>13.04</td>\n",
       "      <td>17.50</td>\n",
       "    </tr>\n",
       "    <tr>\n",
       "      <th>1961-05-01/1961-05-07</th>\n",
       "      <td>23.00</td>\n",
       "      <td>19.79</td>\n",
       "      <td>21.21</td>\n",
       "      <td>14.46</td>\n",
       "      <td>23.16</td>\n",
       "      <td>15.46</td>\n",
       "      <td>18.21</td>\n",
       "      <td>18.05</td>\n",
       "      <td>17.04</td>\n",
       "      <td>17.54</td>\n",
       "      <td>28.08</td>\n",
       "      <td>26.58</td>\n",
       "    </tr>\n",
       "    <tr>\n",
       "      <th>1961-05-08/1961-05-14</th>\n",
       "      <td>12.79</td>\n",
       "      <td>11.54</td>\n",
       "      <td>12.33</td>\n",
       "      <td>10.75</td>\n",
       "      <td>15.71</td>\n",
       "      <td>14.04</td>\n",
       "      <td>18.58</td>\n",
       "      <td>15.79</td>\n",
       "      <td>17.33</td>\n",
       "      <td>17.92</td>\n",
       "      <td>18.66</td>\n",
       "      <td>26.30</td>\n",
       "    </tr>\n",
       "    <tr>\n",
       "      <th>1961-05-15/1961-05-21</th>\n",
       "      <td>15.04</td>\n",
       "      <td>10.17</td>\n",
       "      <td>15.96</td>\n",
       "      <td>5.17</td>\n",
       "      <td>12.92</td>\n",
       "      <td>6.79</td>\n",
       "      <td>8.38</td>\n",
       "      <td>11.12</td>\n",
       "      <td>9.46</td>\n",
       "      <td>9.29</td>\n",
       "      <td>12.00</td>\n",
       "      <td>14.96</td>\n",
       "    </tr>\n",
       "    <tr>\n",
       "      <th>1961-05-22/1961-05-28</th>\n",
       "      <td>10.92</td>\n",
       "      <td>11.17</td>\n",
       "      <td>13.13</td>\n",
       "      <td>5.50</td>\n",
       "      <td>10.00</td>\n",
       "      <td>6.04</td>\n",
       "      <td>6.79</td>\n",
       "      <td>7.96</td>\n",
       "      <td>7.33</td>\n",
       "      <td>10.46</td>\n",
       "      <td>13.88</td>\n",
       "      <td>17.04</td>\n",
       "    </tr>\n",
       "    <tr>\n",
       "      <th>1961-05-29/1961-06-04</th>\n",
       "      <td>15.92</td>\n",
       "      <td>9.79</td>\n",
       "      <td>15.96</td>\n",
       "      <td>9.87</td>\n",
       "      <td>12.87</td>\n",
       "      <td>8.46</td>\n",
       "      <td>11.71</td>\n",
       "      <td>9.87</td>\n",
       "      <td>11.17</td>\n",
       "      <td>12.04</td>\n",
       "      <td>17.00</td>\n",
       "      <td>17.96</td>\n",
       "    </tr>\n",
       "    <tr>\n",
       "      <th>1961-06-05/1961-06-11</th>\n",
       "      <td>14.42</td>\n",
       "      <td>11.54</td>\n",
       "      <td>11.58</td>\n",
       "      <td>6.92</td>\n",
       "      <td>13.13</td>\n",
       "      <td>8.63</td>\n",
       "      <td>9.71</td>\n",
       "      <td>9.71</td>\n",
       "      <td>10.58</td>\n",
       "      <td>10.92</td>\n",
       "      <td>16.17</td>\n",
       "      <td>19.83</td>\n",
       "    </tr>\n",
       "    <tr>\n",
       "      <th>1961-06-12/1961-06-18</th>\n",
       "      <td>14.33</td>\n",
       "      <td>14.54</td>\n",
       "      <td>15.50</td>\n",
       "      <td>9.42</td>\n",
       "      <td>14.92</td>\n",
       "      <td>10.34</td>\n",
       "      <td>13.70</td>\n",
       "      <td>16.54</td>\n",
       "      <td>12.12</td>\n",
       "      <td>14.71</td>\n",
       "      <td>25.25</td>\n",
       "      <td>24.71</td>\n",
       "    </tr>\n",
       "    <tr>\n",
       "      <th>1961-06-19/1961-06-25</th>\n",
       "      <td>9.00</td>\n",
       "      <td>9.50</td>\n",
       "      <td>10.37</td>\n",
       "      <td>6.63</td>\n",
       "      <td>13.21</td>\n",
       "      <td>8.67</td>\n",
       "      <td>14.88</td>\n",
       "      <td>12.04</td>\n",
       "      <td>12.92</td>\n",
       "      <td>15.00</td>\n",
       "      <td>19.08</td>\n",
       "      <td>21.50</td>\n",
       "    </tr>\n",
       "    <tr>\n",
       "      <th>1961-06-26/1961-07-02</th>\n",
       "      <td>13.13</td>\n",
       "      <td>11.42</td>\n",
       "      <td>9.25</td>\n",
       "      <td>7.08</td>\n",
       "      <td>12.42</td>\n",
       "      <td>6.96</td>\n",
       "      <td>10.54</td>\n",
       "      <td>12.83</td>\n",
       "      <td>10.41</td>\n",
       "      <td>11.58</td>\n",
       "      <td>19.92</td>\n",
       "      <td>16.79</td>\n",
       "    </tr>\n",
       "    <tr>\n",
       "      <th>1961-07-03/1961-07-09</th>\n",
       "      <td>17.50</td>\n",
       "      <td>10.75</td>\n",
       "      <td>14.92</td>\n",
       "      <td>12.00</td>\n",
       "      <td>18.58</td>\n",
       "      <td>11.38</td>\n",
       "      <td>15.75</td>\n",
       "      <td>14.33</td>\n",
       "      <td>15.46</td>\n",
       "      <td>16.79</td>\n",
       "      <td>20.41</td>\n",
       "      <td>21.29</td>\n",
       "    </tr>\n",
       "    <tr>\n",
       "      <th>1961-07-10/1961-07-16</th>\n",
       "      <td>22.50</td>\n",
       "      <td>19.29</td>\n",
       "      <td>14.29</td>\n",
       "      <td>12.42</td>\n",
       "      <td>20.88</td>\n",
       "      <td>13.17</td>\n",
       "      <td>16.83</td>\n",
       "      <td>16.17</td>\n",
       "      <td>15.37</td>\n",
       "      <td>14.92</td>\n",
       "      <td>20.25</td>\n",
       "      <td>21.96</td>\n",
       "    </tr>\n",
       "    <tr>\n",
       "      <th>1961-07-17/1961-07-23</th>\n",
       "      <td>5.88</td>\n",
       "      <td>6.79</td>\n",
       "      <td>12.67</td>\n",
       "      <td>4.67</td>\n",
       "      <td>7.33</td>\n",
       "      <td>3.88</td>\n",
       "      <td>7.08</td>\n",
       "      <td>7.79</td>\n",
       "      <td>6.50</td>\n",
       "      <td>7.75</td>\n",
       "      <td>10.13</td>\n",
       "      <td>10.92</td>\n",
       "    </tr>\n",
       "    <tr>\n",
       "      <th>1961-07-24/1961-07-30</th>\n",
       "      <td>16.08</td>\n",
       "      <td>13.79</td>\n",
       "      <td>15.67</td>\n",
       "      <td>9.92</td>\n",
       "      <td>17.50</td>\n",
       "      <td>13.50</td>\n",
       "      <td>18.79</td>\n",
       "      <td>15.16</td>\n",
       "      <td>15.59</td>\n",
       "      <td>15.75</td>\n",
       "      <td>22.17</td>\n",
       "      <td>25.37</td>\n",
       "    </tr>\n",
       "    <tr>\n",
       "      <th>1961-07-31/1961-08-06</th>\n",
       "      <td>16.08</td>\n",
       "      <td>15.79</td>\n",
       "      <td>15.59</td>\n",
       "      <td>8.96</td>\n",
       "      <td>16.92</td>\n",
       "      <td>10.21</td>\n",
       "      <td>13.54</td>\n",
       "      <td>13.04</td>\n",
       "      <td>11.67</td>\n",
       "      <td>12.83</td>\n",
       "      <td>18.54</td>\n",
       "      <td>20.25</td>\n",
       "    </tr>\n",
       "    <tr>\n",
       "      <th>1961-08-07/1961-08-13</th>\n",
       "      <td>14.21</td>\n",
       "      <td>10.00</td>\n",
       "      <td>11.63</td>\n",
       "      <td>7.75</td>\n",
       "      <td>14.58</td>\n",
       "      <td>8.96</td>\n",
       "      <td>11.25</td>\n",
       "      <td>10.79</td>\n",
       "      <td>10.08</td>\n",
       "      <td>9.92</td>\n",
       "      <td>14.00</td>\n",
       "      <td>15.16</td>\n",
       "    </tr>\n",
       "    <tr>\n",
       "      <th>1961-08-14/1961-08-20</th>\n",
       "      <td>18.91</td>\n",
       "      <td>13.62</td>\n",
       "      <td>14.04</td>\n",
       "      <td>11.79</td>\n",
       "      <td>20.38</td>\n",
       "      <td>14.25</td>\n",
       "      <td>19.04</td>\n",
       "      <td>17.71</td>\n",
       "      <td>16.13</td>\n",
       "      <td>17.83</td>\n",
       "      <td>21.92</td>\n",
       "      <td>24.30</td>\n",
       "    </tr>\n",
       "    <tr>\n",
       "      <th>1961-08-21/1961-08-27</th>\n",
       "      <td>18.16</td>\n",
       "      <td>14.58</td>\n",
       "      <td>17.83</td>\n",
       "      <td>11.67</td>\n",
       "      <td>21.04</td>\n",
       "      <td>15.34</td>\n",
       "      <td>19.00</td>\n",
       "      <td>17.79</td>\n",
       "      <td>17.50</td>\n",
       "      <td>15.96</td>\n",
       "      <td>23.38</td>\n",
       "      <td>22.29</td>\n",
       "    </tr>\n",
       "    <tr>\n",
       "      <th>1961-08-28/1961-09-03</th>\n",
       "      <td>14.46</td>\n",
       "      <td>22.00</td>\n",
       "      <td>12.75</td>\n",
       "      <td>12.42</td>\n",
       "      <td>19.21</td>\n",
       "      <td>13.08</td>\n",
       "      <td>14.12</td>\n",
       "      <td>16.54</td>\n",
       "      <td>13.50</td>\n",
       "      <td>16.13</td>\n",
       "      <td>24.71</td>\n",
       "      <td>22.54</td>\n",
       "    </tr>\n",
       "    <tr>\n",
       "      <th>1961-09-04/1961-09-10</th>\n",
       "      <td>17.62</td>\n",
       "      <td>13.59</td>\n",
       "      <td>14.88</td>\n",
       "      <td>10.50</td>\n",
       "      <td>14.54</td>\n",
       "      <td>9.83</td>\n",
       "      <td>14.09</td>\n",
       "      <td>10.79</td>\n",
       "      <td>12.71</td>\n",
       "      <td>11.71</td>\n",
       "      <td>15.83</td>\n",
       "      <td>20.25</td>\n",
       "    </tr>\n",
       "    <tr>\n",
       "      <th>1961-09-11/1961-09-17</th>\n",
       "      <td>28.75</td>\n",
       "      <td>22.08</td>\n",
       "      <td>26.50</td>\n",
       "      <td>21.09</td>\n",
       "      <td>28.50</td>\n",
       "      <td>20.67</td>\n",
       "      <td>20.79</td>\n",
       "      <td>21.37</td>\n",
       "      <td>21.34</td>\n",
       "      <td>25.21</td>\n",
       "      <td>23.91</td>\n",
       "      <td>33.09</td>\n",
       "    </tr>\n",
       "    <tr>\n",
       "      <th>1961-09-18/1961-09-24</th>\n",
       "      <td>10.25</td>\n",
       "      <td>13.62</td>\n",
       "      <td>12.17</td>\n",
       "      <td>7.17</td>\n",
       "      <td>12.92</td>\n",
       "      <td>7.75</td>\n",
       "      <td>8.17</td>\n",
       "      <td>11.63</td>\n",
       "      <td>7.33</td>\n",
       "      <td>10.71</td>\n",
       "      <td>20.96</td>\n",
       "      <td>14.62</td>\n",
       "    </tr>\n",
       "    <tr>\n",
       "      <th>1961-09-25/1961-10-01</th>\n",
       "      <td>19.12</td>\n",
       "      <td>13.62</td>\n",
       "      <td>17.16</td>\n",
       "      <td>10.17</td>\n",
       "      <td>14.67</td>\n",
       "      <td>10.37</td>\n",
       "      <td>12.46</td>\n",
       "      <td>12.50</td>\n",
       "      <td>10.04</td>\n",
       "      <td>14.00</td>\n",
       "      <td>20.30</td>\n",
       "      <td>16.21</td>\n",
       "    </tr>\n",
       "    <tr>\n",
       "      <th>1961-10-02/1961-10-08</th>\n",
       "      <td>16.08</td>\n",
       "      <td>16.96</td>\n",
       "      <td>17.83</td>\n",
       "      <td>9.79</td>\n",
       "      <td>13.59</td>\n",
       "      <td>9.71</td>\n",
       "      <td>12.96</td>\n",
       "      <td>9.50</td>\n",
       "      <td>10.58</td>\n",
       "      <td>12.21</td>\n",
       "      <td>17.83</td>\n",
       "      <td>19.62</td>\n",
       "    </tr>\n",
       "    <tr>\n",
       "      <th>1961-10-09/1961-10-15</th>\n",
       "      <td>17.12</td>\n",
       "      <td>13.25</td>\n",
       "      <td>20.96</td>\n",
       "      <td>9.42</td>\n",
       "      <td>13.54</td>\n",
       "      <td>11.04</td>\n",
       "      <td>12.71</td>\n",
       "      <td>12.38</td>\n",
       "      <td>11.12</td>\n",
       "      <td>15.21</td>\n",
       "      <td>20.46</td>\n",
       "      <td>21.04</td>\n",
       "    </tr>\n",
       "    <tr>\n",
       "      <th>1961-10-16/1961-10-22</th>\n",
       "      <td>28.62</td>\n",
       "      <td>19.46</td>\n",
       "      <td>22.63</td>\n",
       "      <td>19.38</td>\n",
       "      <td>22.46</td>\n",
       "      <td>16.42</td>\n",
       "      <td>22.17</td>\n",
       "      <td>20.17</td>\n",
       "      <td>18.00</td>\n",
       "      <td>26.38</td>\n",
       "      <td>24.71</td>\n",
       "      <td>33.45</td>\n",
       "    </tr>\n",
       "    <tr>\n",
       "      <th>1961-10-23/1961-10-29</th>\n",
       "      <td>21.34</td>\n",
       "      <td>17.00</td>\n",
       "      <td>22.88</td>\n",
       "      <td>13.62</td>\n",
       "      <td>18.21</td>\n",
       "      <td>13.21</td>\n",
       "      <td>18.34</td>\n",
       "      <td>13.25</td>\n",
       "      <td>15.37</td>\n",
       "      <td>17.75</td>\n",
       "      <td>22.29</td>\n",
       "      <td>25.12</td>\n",
       "    </tr>\n",
       "    <tr>\n",
       "      <th>1961-10-30/1961-11-05</th>\n",
       "      <td>15.79</td>\n",
       "      <td>13.46</td>\n",
       "      <td>14.33</td>\n",
       "      <td>11.79</td>\n",
       "      <td>17.25</td>\n",
       "      <td>12.21</td>\n",
       "      <td>15.83</td>\n",
       "      <td>14.00</td>\n",
       "      <td>15.09</td>\n",
       "      <td>15.79</td>\n",
       "      <td>20.17</td>\n",
       "      <td>23.58</td>\n",
       "    </tr>\n",
       "    <tr>\n",
       "      <th>1961-11-06/1961-11-12</th>\n",
       "      <td>16.08</td>\n",
       "      <td>10.75</td>\n",
       "      <td>20.41</td>\n",
       "      <td>8.79</td>\n",
       "      <td>10.00</td>\n",
       "      <td>6.42</td>\n",
       "      <td>13.04</td>\n",
       "      <td>6.63</td>\n",
       "      <td>7.38</td>\n",
       "      <td>10.88</td>\n",
       "      <td>12.58</td>\n",
       "      <td>15.54</td>\n",
       "    </tr>\n",
       "    <tr>\n",
       "      <th>1961-11-13/1961-11-19</th>\n",
       "      <td>15.00</td>\n",
       "      <td>13.00</td>\n",
       "      <td>32.71</td>\n",
       "      <td>13.33</td>\n",
       "      <td>10.25</td>\n",
       "      <td>10.13</td>\n",
       "      <td>21.87</td>\n",
       "      <td>10.04</td>\n",
       "      <td>10.37</td>\n",
       "      <td>14.04</td>\n",
       "      <td>9.59</td>\n",
       "      <td>13.25</td>\n",
       "    </tr>\n",
       "    <tr>\n",
       "      <th>1961-11-20/1961-11-26</th>\n",
       "      <td>14.29</td>\n",
       "      <td>11.79</td>\n",
       "      <td>14.46</td>\n",
       "      <td>7.96</td>\n",
       "      <td>12.75</td>\n",
       "      <td>9.83</td>\n",
       "      <td>16.17</td>\n",
       "      <td>10.00</td>\n",
       "      <td>10.04</td>\n",
       "      <td>14.12</td>\n",
       "      <td>20.46</td>\n",
       "      <td>22.58</td>\n",
       "    </tr>\n",
       "    <tr>\n",
       "      <th>1961-11-27/1961-12-03</th>\n",
       "      <td>23.75</td>\n",
       "      <td>18.71</td>\n",
       "      <td>19.92</td>\n",
       "      <td>14.46</td>\n",
       "      <td>19.92</td>\n",
       "      <td>11.04</td>\n",
       "      <td>16.50</td>\n",
       "      <td>11.50</td>\n",
       "      <td>12.58</td>\n",
       "      <td>13.00</td>\n",
       "      <td>19.04</td>\n",
       "      <td>21.29</td>\n",
       "    </tr>\n",
       "    <tr>\n",
       "      <th>1961-12-04/1961-12-10</th>\n",
       "      <td>23.71</td>\n",
       "      <td>21.37</td>\n",
       "      <td>20.54</td>\n",
       "      <td>13.04</td>\n",
       "      <td>18.08</td>\n",
       "      <td>14.54</td>\n",
       "      <td>19.83</td>\n",
       "      <td>15.46</td>\n",
       "      <td>15.12</td>\n",
       "      <td>15.50</td>\n",
       "      <td>21.79</td>\n",
       "      <td>29.33</td>\n",
       "    </tr>\n",
       "    <tr>\n",
       "      <th>1961-12-11/1961-12-17</th>\n",
       "      <td>21.34</td>\n",
       "      <td>17.62</td>\n",
       "      <td>19.00</td>\n",
       "      <td>13.62</td>\n",
       "      <td>20.00</td>\n",
       "      <td>16.42</td>\n",
       "      <td>25.62</td>\n",
       "      <td>14.50</td>\n",
       "      <td>17.25</td>\n",
       "      <td>17.41</td>\n",
       "      <td>22.83</td>\n",
       "      <td>21.12</td>\n",
       "    </tr>\n",
       "    <tr>\n",
       "      <th>1961-12-18/1961-12-24</th>\n",
       "      <td>24.41</td>\n",
       "      <td>16.13</td>\n",
       "      <td>22.13</td>\n",
       "      <td>15.59</td>\n",
       "      <td>20.38</td>\n",
       "      <td>13.59</td>\n",
       "      <td>18.12</td>\n",
       "      <td>14.33</td>\n",
       "      <td>12.54</td>\n",
       "      <td>15.34</td>\n",
       "      <td>17.67</td>\n",
       "      <td>16.62</td>\n",
       "    </tr>\n",
       "    <tr>\n",
       "      <th>1961-12-25/1961-12-31</th>\n",
       "      <td>20.54</td>\n",
       "      <td>16.04</td>\n",
       "      <td>29.33</td>\n",
       "      <td>11.79</td>\n",
       "      <td>11.34</td>\n",
       "      <td>8.12</td>\n",
       "      <td>17.29</td>\n",
       "      <td>12.75</td>\n",
       "      <td>10.37</td>\n",
       "      <td>10.83</td>\n",
       "      <td>13.21</td>\n",
       "      <td>15.21</td>\n",
       "    </tr>\n",
       "    <tr>\n",
       "      <th>1962-01-01/1962-01-07</th>\n",
       "      <td>15.04</td>\n",
       "      <td>13.04</td>\n",
       "      <td>12.21</td>\n",
       "      <td>4.79</td>\n",
       "      <td>11.75</td>\n",
       "      <td>8.96</td>\n",
       "      <td>15.29</td>\n",
       "      <td>10.75</td>\n",
       "      <td>9.13</td>\n",
       "      <td>13.75</td>\n",
       "      <td>18.88</td>\n",
       "      <td>16.71</td>\n",
       "    </tr>\n",
       "  </tbody>\n",
       "</table>\n",
       "</div>"
      ],
      "text/plain": [
       "                         RPT    VAL    ROS    KIL    SHA    BIR    DUB    CLA  \\\n",
       "datetime                                                                        \n",
       "1961-01-09/1961-01-15  19.75  12.08  19.50  10.54  10.37   9.46  15.54  11.50   \n",
       "1961-01-16/1961-01-22  17.75  14.37  17.33  10.13  13.96  13.37  13.42  11.04   \n",
       "1961-01-23/1961-01-29  25.04  20.79  25.84  16.21  21.46  18.58  20.38  19.38   \n",
       "1961-01-30/1961-02-05  24.21  24.21  19.70  11.96  17.37  12.04  14.88  15.54   \n",
       "1961-02-06/1961-02-12  24.54  21.42  21.34  15.37  25.33  17.62  19.17  18.79   \n",
       "1961-02-13/1961-02-19  22.50  20.17  19.41  15.34  16.13  15.12  16.08  14.29   \n",
       "1961-02-20/1961-02-26  25.80  21.50  22.42  15.21  23.09  16.88  21.17  17.25   \n",
       "1961-02-27/1961-03-05  13.33  17.00  13.67  10.04  15.46  11.17  12.75  12.83   \n",
       "1961-03-06/1961-03-12  14.79  16.96  15.50   9.46  14.17  12.67  10.34  15.67   \n",
       "1961-03-13/1961-03-19  16.88  15.54  13.96  11.04  14.37  10.75  13.96  14.29   \n",
       "1961-03-20/1961-03-26  15.00  11.63  15.63  10.75  13.33  10.29  15.41  13.04   \n",
       "1961-03-27/1961-04-02  18.25  16.29  14.96  12.00  18.34  14.33  16.62  13.37   \n",
       "1961-04-03/1961-04-09  18.12  14.62  18.29  10.63  13.33  10.83   9.96  10.08   \n",
       "1961-04-10/1961-04-16  15.50  12.25  15.79   9.71   8.71   8.58   8.00   9.92   \n",
       "1961-04-17/1961-04-23  21.09  15.41  17.00  11.63  14.37  11.63  12.96  13.25   \n",
       "1961-04-24/1961-04-30  16.29  14.46  14.96   7.87  12.62   8.83  13.75  11.96   \n",
       "1961-05-01/1961-05-07  23.00  19.79  21.21  14.46  23.16  15.46  18.21  18.05   \n",
       "1961-05-08/1961-05-14  12.79  11.54  12.33  10.75  15.71  14.04  18.58  15.79   \n",
       "1961-05-15/1961-05-21  15.04  10.17  15.96   5.17  12.92   6.79   8.38  11.12   \n",
       "1961-05-22/1961-05-28  10.92  11.17  13.13   5.50  10.00   6.04   6.79   7.96   \n",
       "1961-05-29/1961-06-04  15.92   9.79  15.96   9.87  12.87   8.46  11.71   9.87   \n",
       "1961-06-05/1961-06-11  14.42  11.54  11.58   6.92  13.13   8.63   9.71   9.71   \n",
       "1961-06-12/1961-06-18  14.33  14.54  15.50   9.42  14.92  10.34  13.70  16.54   \n",
       "1961-06-19/1961-06-25   9.00   9.50  10.37   6.63  13.21   8.67  14.88  12.04   \n",
       "1961-06-26/1961-07-02  13.13  11.42   9.25   7.08  12.42   6.96  10.54  12.83   \n",
       "1961-07-03/1961-07-09  17.50  10.75  14.92  12.00  18.58  11.38  15.75  14.33   \n",
       "1961-07-10/1961-07-16  22.50  19.29  14.29  12.42  20.88  13.17  16.83  16.17   \n",
       "1961-07-17/1961-07-23   5.88   6.79  12.67   4.67   7.33   3.88   7.08   7.79   \n",
       "1961-07-24/1961-07-30  16.08  13.79  15.67   9.92  17.50  13.50  18.79  15.16   \n",
       "1961-07-31/1961-08-06  16.08  15.79  15.59   8.96  16.92  10.21  13.54  13.04   \n",
       "1961-08-07/1961-08-13  14.21  10.00  11.63   7.75  14.58   8.96  11.25  10.79   \n",
       "1961-08-14/1961-08-20  18.91  13.62  14.04  11.79  20.38  14.25  19.04  17.71   \n",
       "1961-08-21/1961-08-27  18.16  14.58  17.83  11.67  21.04  15.34  19.00  17.79   \n",
       "1961-08-28/1961-09-03  14.46  22.00  12.75  12.42  19.21  13.08  14.12  16.54   \n",
       "1961-09-04/1961-09-10  17.62  13.59  14.88  10.50  14.54   9.83  14.09  10.79   \n",
       "1961-09-11/1961-09-17  28.75  22.08  26.50  21.09  28.50  20.67  20.79  21.37   \n",
       "1961-09-18/1961-09-24  10.25  13.62  12.17   7.17  12.92   7.75   8.17  11.63   \n",
       "1961-09-25/1961-10-01  19.12  13.62  17.16  10.17  14.67  10.37  12.46  12.50   \n",
       "1961-10-02/1961-10-08  16.08  16.96  17.83   9.79  13.59   9.71  12.96   9.50   \n",
       "1961-10-09/1961-10-15  17.12  13.25  20.96   9.42  13.54  11.04  12.71  12.38   \n",
       "1961-10-16/1961-10-22  28.62  19.46  22.63  19.38  22.46  16.42  22.17  20.17   \n",
       "1961-10-23/1961-10-29  21.34  17.00  22.88  13.62  18.21  13.21  18.34  13.25   \n",
       "1961-10-30/1961-11-05  15.79  13.46  14.33  11.79  17.25  12.21  15.83  14.00   \n",
       "1961-11-06/1961-11-12  16.08  10.75  20.41   8.79  10.00   6.42  13.04   6.63   \n",
       "1961-11-13/1961-11-19  15.00  13.00  32.71  13.33  10.25  10.13  21.87  10.04   \n",
       "1961-11-20/1961-11-26  14.29  11.79  14.46   7.96  12.75   9.83  16.17  10.00   \n",
       "1961-11-27/1961-12-03  23.75  18.71  19.92  14.46  19.92  11.04  16.50  11.50   \n",
       "1961-12-04/1961-12-10  23.71  21.37  20.54  13.04  18.08  14.54  19.83  15.46   \n",
       "1961-12-11/1961-12-17  21.34  17.62  19.00  13.62  20.00  16.42  25.62  14.50   \n",
       "1961-12-18/1961-12-24  24.41  16.13  22.13  15.59  20.38  13.59  18.12  14.33   \n",
       "1961-12-25/1961-12-31  20.54  16.04  29.33  11.79  11.34   8.12  17.29  12.75   \n",
       "1962-01-01/1962-01-07  15.04  13.04  12.21   4.79  11.75   8.96  15.29  10.75   \n",
       "\n",
       "                         MUL    CLO    BEL    MAL  \n",
       "datetime                                           \n",
       "1961-01-09/1961-01-15  10.37  14.58  20.71  16.92  \n",
       "1961-01-16/1961-01-22   8.71  11.38  15.92  16.08  \n",
       "1961-01-23/1961-01-29  18.66  19.08  26.08  27.63  \n",
       "1961-01-30/1961-02-05  13.37  13.13  19.33  19.25  \n",
       "1961-02-06/1961-02-12  18.96  17.79  26.38  21.84  \n",
       "1961-02-13/1961-02-19  14.88  16.58  28.62  22.58  \n",
       "1961-02-20/1961-02-26  18.46  20.04  23.21  23.87  \n",
       "1961-02-27/1961-03-05  11.71  14.09  23.45  17.54  \n",
       "1961-03-06/1961-03-12  12.46  13.54  22.71  18.16  \n",
       "1961-03-13/1961-03-19  13.88  15.34  22.79  22.95  \n",
       "1961-03-20/1961-03-26  14.37  14.50  21.34  22.50  \n",
       "1961-03-27/1961-04-02  17.54  14.21  18.63  16.83  \n",
       "1961-04-03/1961-04-09  10.54  10.50  17.16  15.34  \n",
       "1961-04-10/1961-04-16   9.00   9.67  16.17  12.87  \n",
       "1961-04-17/1961-04-23  13.29  14.37  19.21  20.46  \n",
       "1961-04-24/1961-04-30  11.08  11.46  13.04  17.50  \n",
       "1961-05-01/1961-05-07  17.04  17.54  28.08  26.58  \n",
       "1961-05-08/1961-05-14  17.33  17.92  18.66  26.30  \n",
       "1961-05-15/1961-05-21   9.46   9.29  12.00  14.96  \n",
       "1961-05-22/1961-05-28   7.33  10.46  13.88  17.04  \n",
       "1961-05-29/1961-06-04  11.17  12.04  17.00  17.96  \n",
       "1961-06-05/1961-06-11  10.58  10.92  16.17  19.83  \n",
       "1961-06-12/1961-06-18  12.12  14.71  25.25  24.71  \n",
       "1961-06-19/1961-06-25  12.92  15.00  19.08  21.50  \n",
       "1961-06-26/1961-07-02  10.41  11.58  19.92  16.79  \n",
       "1961-07-03/1961-07-09  15.46  16.79  20.41  21.29  \n",
       "1961-07-10/1961-07-16  15.37  14.92  20.25  21.96  \n",
       "1961-07-17/1961-07-23   6.50   7.75  10.13  10.92  \n",
       "1961-07-24/1961-07-30  15.59  15.75  22.17  25.37  \n",
       "1961-07-31/1961-08-06  11.67  12.83  18.54  20.25  \n",
       "1961-08-07/1961-08-13  10.08   9.92  14.00  15.16  \n",
       "1961-08-14/1961-08-20  16.13  17.83  21.92  24.30  \n",
       "1961-08-21/1961-08-27  17.50  15.96  23.38  22.29  \n",
       "1961-08-28/1961-09-03  13.50  16.13  24.71  22.54  \n",
       "1961-09-04/1961-09-10  12.71  11.71  15.83  20.25  \n",
       "1961-09-11/1961-09-17  21.34  25.21  23.91  33.09  \n",
       "1961-09-18/1961-09-24   7.33  10.71  20.96  14.62  \n",
       "1961-09-25/1961-10-01  10.04  14.00  20.30  16.21  \n",
       "1961-10-02/1961-10-08  10.58  12.21  17.83  19.62  \n",
       "1961-10-09/1961-10-15  11.12  15.21  20.46  21.04  \n",
       "1961-10-16/1961-10-22  18.00  26.38  24.71  33.45  \n",
       "1961-10-23/1961-10-29  15.37  17.75  22.29  25.12  \n",
       "1961-10-30/1961-11-05  15.09  15.79  20.17  23.58  \n",
       "1961-11-06/1961-11-12   7.38  10.88  12.58  15.54  \n",
       "1961-11-13/1961-11-19  10.37  14.04   9.59  13.25  \n",
       "1961-11-20/1961-11-26  10.04  14.12  20.46  22.58  \n",
       "1961-11-27/1961-12-03  12.58  13.00  19.04  21.29  \n",
       "1961-12-04/1961-12-10  15.12  15.50  21.79  29.33  \n",
       "1961-12-11/1961-12-17  17.25  17.41  22.83  21.12  \n",
       "1961-12-18/1961-12-24  12.54  15.34  17.67  16.62  \n",
       "1961-12-25/1961-12-31  10.37  10.83  13.21  15.21  \n",
       "1962-01-01/1962-01-07   9.13  13.75  18.88  16.71  "
      ]
     },
     "execution_count": 88,
     "metadata": {},
     "output_type": "execute_result"
    }
   ],
   "source": [
    "#the max of each location is calulated based on week, then the number of week is assumed as 1:53\n",
    "maxVal =wind.groupby(wind.index.to_period('W')).max()\n",
    "maxVal = maxVal.iloc[1:53]\n",
    "maxVal"
   ]
  },
  {
   "cell_type": "code",
   "execution_count": 89,
   "metadata": {},
   "outputs": [
    {
     "data": {
      "text/html": [
       "<div>\n",
       "<style scoped>\n",
       "    .dataframe tbody tr th:only-of-type {\n",
       "        vertical-align: middle;\n",
       "    }\n",
       "\n",
       "    .dataframe tbody tr th {\n",
       "        vertical-align: top;\n",
       "    }\n",
       "\n",
       "    .dataframe thead th {\n",
       "        text-align: right;\n",
       "    }\n",
       "</style>\n",
       "<table border=\"1\" class=\"dataframe\">\n",
       "  <thead>\n",
       "    <tr style=\"text-align: right;\">\n",
       "      <th></th>\n",
       "      <th>RPT</th>\n",
       "      <th>VAL</th>\n",
       "      <th>ROS</th>\n",
       "      <th>KIL</th>\n",
       "      <th>SHA</th>\n",
       "      <th>BIR</th>\n",
       "      <th>DUB</th>\n",
       "      <th>CLA</th>\n",
       "      <th>MUL</th>\n",
       "      <th>CLO</th>\n",
       "      <th>BEL</th>\n",
       "      <th>MAL</th>\n",
       "    </tr>\n",
       "    <tr>\n",
       "      <th>datetime</th>\n",
       "      <th></th>\n",
       "      <th></th>\n",
       "      <th></th>\n",
       "      <th></th>\n",
       "      <th></th>\n",
       "      <th></th>\n",
       "      <th></th>\n",
       "      <th></th>\n",
       "      <th></th>\n",
       "      <th></th>\n",
       "      <th></th>\n",
       "      <th></th>\n",
       "    </tr>\n",
       "  </thead>\n",
       "  <tbody>\n",
       "    <tr>\n",
       "      <th>1961-01-09/1961-01-15</th>\n",
       "      <td>9.04</td>\n",
       "      <td>3.54</td>\n",
       "      <td>7.08</td>\n",
       "      <td>0.67</td>\n",
       "      <td>2.29</td>\n",
       "      <td>0.96</td>\n",
       "      <td>2.50</td>\n",
       "      <td>0.58</td>\n",
       "      <td>0.50</td>\n",
       "      <td>2.67</td>\n",
       "      <td>5.25</td>\n",
       "      <td>5.17</td>\n",
       "    </tr>\n",
       "    <tr>\n",
       "      <th>1961-01-16/1961-01-22</th>\n",
       "      <td>4.92</td>\n",
       "      <td>3.42</td>\n",
       "      <td>7.29</td>\n",
       "      <td>1.04</td>\n",
       "      <td>3.67</td>\n",
       "      <td>3.17</td>\n",
       "      <td>3.17</td>\n",
       "      <td>2.79</td>\n",
       "      <td>1.92</td>\n",
       "      <td>2.71</td>\n",
       "      <td>6.50</td>\n",
       "      <td>6.79</td>\n",
       "    </tr>\n",
       "    <tr>\n",
       "      <th>1961-01-23/1961-01-29</th>\n",
       "      <td>13.62</td>\n",
       "      <td>9.96</td>\n",
       "      <td>12.67</td>\n",
       "      <td>6.04</td>\n",
       "      <td>10.00</td>\n",
       "      <td>9.42</td>\n",
       "      <td>9.25</td>\n",
       "      <td>8.71</td>\n",
       "      <td>7.12</td>\n",
       "      <td>11.04</td>\n",
       "      <td>14.04</td>\n",
       "      <td>17.50</td>\n",
       "    </tr>\n",
       "    <tr>\n",
       "      <th>1961-01-30/1961-02-05</th>\n",
       "      <td>10.58</td>\n",
       "      <td>9.46</td>\n",
       "      <td>9.04</td>\n",
       "      <td>5.09</td>\n",
       "      <td>9.87</td>\n",
       "      <td>5.83</td>\n",
       "      <td>8.50</td>\n",
       "      <td>3.63</td>\n",
       "      <td>6.34</td>\n",
       "      <td>5.50</td>\n",
       "      <td>9.17</td>\n",
       "      <td>7.17</td>\n",
       "    </tr>\n",
       "    <tr>\n",
       "      <th>1961-02-06/1961-02-12</th>\n",
       "      <td>16.00</td>\n",
       "      <td>11.54</td>\n",
       "      <td>13.67</td>\n",
       "      <td>8.38</td>\n",
       "      <td>8.12</td>\n",
       "      <td>8.08</td>\n",
       "      <td>11.08</td>\n",
       "      <td>9.71</td>\n",
       "      <td>10.37</td>\n",
       "      <td>12.25</td>\n",
       "      <td>15.21</td>\n",
       "      <td>17.04</td>\n",
       "    </tr>\n",
       "    <tr>\n",
       "      <th>1961-02-13/1961-02-19</th>\n",
       "      <td>6.04</td>\n",
       "      <td>11.63</td>\n",
       "      <td>6.13</td>\n",
       "      <td>4.21</td>\n",
       "      <td>9.87</td>\n",
       "      <td>6.92</td>\n",
       "      <td>3.42</td>\n",
       "      <td>7.41</td>\n",
       "      <td>8.17</td>\n",
       "      <td>9.21</td>\n",
       "      <td>14.09</td>\n",
       "      <td>10.96</td>\n",
       "    </tr>\n",
       "    <tr>\n",
       "      <th>1961-02-20/1961-02-26</th>\n",
       "      <td>7.79</td>\n",
       "      <td>7.08</td>\n",
       "      <td>6.08</td>\n",
       "      <td>2.21</td>\n",
       "      <td>5.96</td>\n",
       "      <td>4.33</td>\n",
       "      <td>3.75</td>\n",
       "      <td>4.67</td>\n",
       "      <td>4.50</td>\n",
       "      <td>7.00</td>\n",
       "      <td>9.59</td>\n",
       "      <td>6.67</td>\n",
       "    </tr>\n",
       "    <tr>\n",
       "      <th>1961-02-27/1961-03-05</th>\n",
       "      <td>10.96</td>\n",
       "      <td>8.83</td>\n",
       "      <td>8.17</td>\n",
       "      <td>5.88</td>\n",
       "      <td>8.25</td>\n",
       "      <td>6.00</td>\n",
       "      <td>5.50</td>\n",
       "      <td>5.66</td>\n",
       "      <td>6.25</td>\n",
       "      <td>9.79</td>\n",
       "      <td>11.58</td>\n",
       "      <td>8.83</td>\n",
       "    </tr>\n",
       "    <tr>\n",
       "      <th>1961-03-06/1961-03-12</th>\n",
       "      <td>4.88</td>\n",
       "      <td>8.08</td>\n",
       "      <td>7.54</td>\n",
       "      <td>3.13</td>\n",
       "      <td>5.41</td>\n",
       "      <td>4.08</td>\n",
       "      <td>1.71</td>\n",
       "      <td>5.29</td>\n",
       "      <td>5.21</td>\n",
       "      <td>5.09</td>\n",
       "      <td>10.21</td>\n",
       "      <td>5.54</td>\n",
       "    </tr>\n",
       "    <tr>\n",
       "      <th>1961-03-13/1961-03-19</th>\n",
       "      <td>4.92</td>\n",
       "      <td>9.46</td>\n",
       "      <td>5.25</td>\n",
       "      <td>4.29</td>\n",
       "      <td>6.83</td>\n",
       "      <td>5.79</td>\n",
       "      <td>2.75</td>\n",
       "      <td>5.13</td>\n",
       "      <td>6.00</td>\n",
       "      <td>7.29</td>\n",
       "      <td>11.29</td>\n",
       "      <td>11.34</td>\n",
       "    </tr>\n",
       "    <tr>\n",
       "      <th>1961-03-20/1961-03-26</th>\n",
       "      <td>6.29</td>\n",
       "      <td>2.58</td>\n",
       "      <td>4.79</td>\n",
       "      <td>4.42</td>\n",
       "      <td>5.13</td>\n",
       "      <td>4.29</td>\n",
       "      <td>8.00</td>\n",
       "      <td>4.92</td>\n",
       "      <td>8.00</td>\n",
       "      <td>8.33</td>\n",
       "      <td>8.25</td>\n",
       "      <td>13.13</td>\n",
       "    </tr>\n",
       "    <tr>\n",
       "      <th>1961-03-27/1961-04-02</th>\n",
       "      <td>5.88</td>\n",
       "      <td>3.50</td>\n",
       "      <td>5.09</td>\n",
       "      <td>2.75</td>\n",
       "      <td>2.83</td>\n",
       "      <td>3.50</td>\n",
       "      <td>5.25</td>\n",
       "      <td>1.46</td>\n",
       "      <td>6.50</td>\n",
       "      <td>6.46</td>\n",
       "      <td>7.21</td>\n",
       "      <td>7.17</td>\n",
       "    </tr>\n",
       "    <tr>\n",
       "      <th>1961-04-03/1961-04-09</th>\n",
       "      <td>4.50</td>\n",
       "      <td>7.04</td>\n",
       "      <td>9.29</td>\n",
       "      <td>3.21</td>\n",
       "      <td>5.96</td>\n",
       "      <td>4.33</td>\n",
       "      <td>5.00</td>\n",
       "      <td>4.00</td>\n",
       "      <td>5.66</td>\n",
       "      <td>3.67</td>\n",
       "      <td>7.62</td>\n",
       "      <td>7.21</td>\n",
       "    </tr>\n",
       "    <tr>\n",
       "      <th>1961-04-10/1961-04-16</th>\n",
       "      <td>4.71</td>\n",
       "      <td>4.83</td>\n",
       "      <td>3.92</td>\n",
       "      <td>2.33</td>\n",
       "      <td>3.37</td>\n",
       "      <td>1.54</td>\n",
       "      <td>2.46</td>\n",
       "      <td>2.29</td>\n",
       "      <td>3.37</td>\n",
       "      <td>4.00</td>\n",
       "      <td>5.75</td>\n",
       "      <td>5.66</td>\n",
       "    </tr>\n",
       "    <tr>\n",
       "      <th>1961-04-17/1961-04-23</th>\n",
       "      <td>4.00</td>\n",
       "      <td>3.71</td>\n",
       "      <td>3.33</td>\n",
       "      <td>1.58</td>\n",
       "      <td>2.21</td>\n",
       "      <td>0.83</td>\n",
       "      <td>4.46</td>\n",
       "      <td>2.54</td>\n",
       "      <td>3.58</td>\n",
       "      <td>3.83</td>\n",
       "      <td>6.75</td>\n",
       "      <td>4.96</td>\n",
       "    </tr>\n",
       "    <tr>\n",
       "      <th>1961-04-24/1961-04-30</th>\n",
       "      <td>4.08</td>\n",
       "      <td>6.50</td>\n",
       "      <td>2.54</td>\n",
       "      <td>1.87</td>\n",
       "      <td>3.88</td>\n",
       "      <td>1.54</td>\n",
       "      <td>2.67</td>\n",
       "      <td>1.38</td>\n",
       "      <td>2.54</td>\n",
       "      <td>2.71</td>\n",
       "      <td>5.13</td>\n",
       "      <td>2.67</td>\n",
       "    </tr>\n",
       "    <tr>\n",
       "      <th>1961-05-01/1961-05-07</th>\n",
       "      <td>9.87</td>\n",
       "      <td>10.29</td>\n",
       "      <td>8.42</td>\n",
       "      <td>6.46</td>\n",
       "      <td>9.42</td>\n",
       "      <td>7.33</td>\n",
       "      <td>5.96</td>\n",
       "      <td>6.25</td>\n",
       "      <td>7.79</td>\n",
       "      <td>8.63</td>\n",
       "      <td>4.79</td>\n",
       "      <td>3.83</td>\n",
       "    </tr>\n",
       "    <tr>\n",
       "      <th>1961-05-08/1961-05-14</th>\n",
       "      <td>3.54</td>\n",
       "      <td>3.96</td>\n",
       "      <td>4.63</td>\n",
       "      <td>1.04</td>\n",
       "      <td>3.42</td>\n",
       "      <td>1.17</td>\n",
       "      <td>3.33</td>\n",
       "      <td>3.37</td>\n",
       "      <td>2.46</td>\n",
       "      <td>1.83</td>\n",
       "      <td>6.54</td>\n",
       "      <td>3.33</td>\n",
       "    </tr>\n",
       "    <tr>\n",
       "      <th>1961-05-15/1961-05-21</th>\n",
       "      <td>4.88</td>\n",
       "      <td>3.58</td>\n",
       "      <td>5.91</td>\n",
       "      <td>3.63</td>\n",
       "      <td>5.50</td>\n",
       "      <td>3.46</td>\n",
       "      <td>3.17</td>\n",
       "      <td>3.79</td>\n",
       "      <td>4.92</td>\n",
       "      <td>4.17</td>\n",
       "      <td>6.63</td>\n",
       "      <td>5.91</td>\n",
       "    </tr>\n",
       "    <tr>\n",
       "      <th>1961-05-22/1961-05-28</th>\n",
       "      <td>4.96</td>\n",
       "      <td>3.67</td>\n",
       "      <td>3.58</td>\n",
       "      <td>2.42</td>\n",
       "      <td>3.75</td>\n",
       "      <td>1.63</td>\n",
       "      <td>2.42</td>\n",
       "      <td>2.83</td>\n",
       "      <td>4.50</td>\n",
       "      <td>5.17</td>\n",
       "      <td>6.13</td>\n",
       "      <td>8.00</td>\n",
       "    </tr>\n",
       "    <tr>\n",
       "      <th>1961-05-29/1961-06-04</th>\n",
       "      <td>7.00</td>\n",
       "      <td>4.75</td>\n",
       "      <td>6.83</td>\n",
       "      <td>3.42</td>\n",
       "      <td>7.67</td>\n",
       "      <td>5.17</td>\n",
       "      <td>5.83</td>\n",
       "      <td>7.21</td>\n",
       "      <td>6.34</td>\n",
       "      <td>5.91</td>\n",
       "      <td>8.71</td>\n",
       "      <td>10.63</td>\n",
       "    </tr>\n",
       "    <tr>\n",
       "      <th>1961-06-05/1961-06-11</th>\n",
       "      <td>8.29</td>\n",
       "      <td>6.83</td>\n",
       "      <td>6.04</td>\n",
       "      <td>3.21</td>\n",
       "      <td>7.33</td>\n",
       "      <td>1.87</td>\n",
       "      <td>3.42</td>\n",
       "      <td>3.13</td>\n",
       "      <td>5.41</td>\n",
       "      <td>5.21</td>\n",
       "      <td>5.37</td>\n",
       "      <td>5.96</td>\n",
       "    </tr>\n",
       "    <tr>\n",
       "      <th>1961-06-12/1961-06-18</th>\n",
       "      <td>6.13</td>\n",
       "      <td>4.12</td>\n",
       "      <td>6.50</td>\n",
       "      <td>2.92</td>\n",
       "      <td>3.50</td>\n",
       "      <td>1.58</td>\n",
       "      <td>4.67</td>\n",
       "      <td>2.88</td>\n",
       "      <td>4.21</td>\n",
       "      <td>3.08</td>\n",
       "      <td>7.29</td>\n",
       "      <td>6.13</td>\n",
       "    </tr>\n",
       "    <tr>\n",
       "      <th>1961-06-19/1961-06-25</th>\n",
       "      <td>4.00</td>\n",
       "      <td>3.25</td>\n",
       "      <td>5.13</td>\n",
       "      <td>2.88</td>\n",
       "      <td>8.58</td>\n",
       "      <td>4.46</td>\n",
       "      <td>7.92</td>\n",
       "      <td>6.34</td>\n",
       "      <td>6.50</td>\n",
       "      <td>7.83</td>\n",
       "      <td>11.00</td>\n",
       "      <td>13.75</td>\n",
       "    </tr>\n",
       "    <tr>\n",
       "      <th>1961-06-26/1961-07-02</th>\n",
       "      <td>7.21</td>\n",
       "      <td>6.34</td>\n",
       "      <td>7.62</td>\n",
       "      <td>4.42</td>\n",
       "      <td>8.04</td>\n",
       "      <td>4.79</td>\n",
       "      <td>5.83</td>\n",
       "      <td>5.96</td>\n",
       "      <td>5.79</td>\n",
       "      <td>7.96</td>\n",
       "      <td>6.96</td>\n",
       "      <td>8.50</td>\n",
       "    </tr>\n",
       "    <tr>\n",
       "      <th>1961-07-03/1961-07-09</th>\n",
       "      <td>7.29</td>\n",
       "      <td>3.75</td>\n",
       "      <td>7.62</td>\n",
       "      <td>3.54</td>\n",
       "      <td>8.00</td>\n",
       "      <td>4.58</td>\n",
       "      <td>7.08</td>\n",
       "      <td>5.58</td>\n",
       "      <td>6.25</td>\n",
       "      <td>6.21</td>\n",
       "      <td>7.08</td>\n",
       "      <td>12.08</td>\n",
       "    </tr>\n",
       "    <tr>\n",
       "      <th>1961-07-10/1961-07-16</th>\n",
       "      <td>8.63</td>\n",
       "      <td>7.87</td>\n",
       "      <td>8.00</td>\n",
       "      <td>5.58</td>\n",
       "      <td>9.46</td>\n",
       "      <td>3.46</td>\n",
       "      <td>2.67</td>\n",
       "      <td>2.96</td>\n",
       "      <td>2.92</td>\n",
       "      <td>4.25</td>\n",
       "      <td>5.04</td>\n",
       "      <td>5.96</td>\n",
       "    </tr>\n",
       "    <tr>\n",
       "      <th>1961-07-17/1961-07-23</th>\n",
       "      <td>3.04</td>\n",
       "      <td>2.92</td>\n",
       "      <td>4.08</td>\n",
       "      <td>1.46</td>\n",
       "      <td>5.04</td>\n",
       "      <td>1.96</td>\n",
       "      <td>2.21</td>\n",
       "      <td>3.37</td>\n",
       "      <td>4.00</td>\n",
       "      <td>3.92</td>\n",
       "      <td>4.21</td>\n",
       "      <td>5.41</td>\n",
       "    </tr>\n",
       "    <tr>\n",
       "      <th>1961-07-24/1961-07-30</th>\n",
       "      <td>6.13</td>\n",
       "      <td>4.63</td>\n",
       "      <td>6.42</td>\n",
       "      <td>2.83</td>\n",
       "      <td>4.96</td>\n",
       "      <td>2.92</td>\n",
       "      <td>3.58</td>\n",
       "      <td>4.17</td>\n",
       "      <td>2.21</td>\n",
       "      <td>4.92</td>\n",
       "      <td>7.87</td>\n",
       "      <td>6.13</td>\n",
       "    </tr>\n",
       "    <tr>\n",
       "      <th>1961-07-31/1961-08-06</th>\n",
       "      <td>7.67</td>\n",
       "      <td>5.09</td>\n",
       "      <td>5.54</td>\n",
       "      <td>4.17</td>\n",
       "      <td>5.25</td>\n",
       "      <td>2.79</td>\n",
       "      <td>3.75</td>\n",
       "      <td>2.25</td>\n",
       "      <td>3.17</td>\n",
       "      <td>5.41</td>\n",
       "      <td>6.17</td>\n",
       "      <td>9.08</td>\n",
       "    </tr>\n",
       "    <tr>\n",
       "      <th>1961-08-07/1961-08-13</th>\n",
       "      <td>2.88</td>\n",
       "      <td>4.42</td>\n",
       "      <td>6.00</td>\n",
       "      <td>2.50</td>\n",
       "      <td>6.58</td>\n",
       "      <td>3.58</td>\n",
       "      <td>3.88</td>\n",
       "      <td>5.04</td>\n",
       "      <td>2.83</td>\n",
       "      <td>5.41</td>\n",
       "      <td>9.83</td>\n",
       "      <td>5.88</td>\n",
       "    </tr>\n",
       "    <tr>\n",
       "      <th>1961-08-14/1961-08-20</th>\n",
       "      <td>13.13</td>\n",
       "      <td>7.25</td>\n",
       "      <td>9.17</td>\n",
       "      <td>6.83</td>\n",
       "      <td>12.96</td>\n",
       "      <td>7.54</td>\n",
       "      <td>9.42</td>\n",
       "      <td>8.92</td>\n",
       "      <td>8.79</td>\n",
       "      <td>9.13</td>\n",
       "      <td>9.59</td>\n",
       "      <td>13.04</td>\n",
       "    </tr>\n",
       "    <tr>\n",
       "      <th>1961-08-21/1961-08-27</th>\n",
       "      <td>7.67</td>\n",
       "      <td>6.87</td>\n",
       "      <td>9.50</td>\n",
       "      <td>3.96</td>\n",
       "      <td>7.46</td>\n",
       "      <td>4.25</td>\n",
       "      <td>5.66</td>\n",
       "      <td>4.50</td>\n",
       "      <td>3.96</td>\n",
       "      <td>7.46</td>\n",
       "      <td>5.75</td>\n",
       "      <td>8.29</td>\n",
       "    </tr>\n",
       "    <tr>\n",
       "      <th>1961-08-28/1961-09-03</th>\n",
       "      <td>3.63</td>\n",
       "      <td>1.13</td>\n",
       "      <td>2.42</td>\n",
       "      <td>2.37</td>\n",
       "      <td>4.25</td>\n",
       "      <td>2.25</td>\n",
       "      <td>2.92</td>\n",
       "      <td>2.71</td>\n",
       "      <td>3.67</td>\n",
       "      <td>5.96</td>\n",
       "      <td>4.79</td>\n",
       "      <td>5.41</td>\n",
       "    </tr>\n",
       "    <tr>\n",
       "      <th>1961-09-04/1961-09-10</th>\n",
       "      <td>5.00</td>\n",
       "      <td>3.04</td>\n",
       "      <td>3.63</td>\n",
       "      <td>2.75</td>\n",
       "      <td>4.75</td>\n",
       "      <td>2.17</td>\n",
       "      <td>1.25</td>\n",
       "      <td>2.21</td>\n",
       "      <td>2.50</td>\n",
       "      <td>1.75</td>\n",
       "      <td>5.41</td>\n",
       "      <td>3.37</td>\n",
       "    </tr>\n",
       "    <tr>\n",
       "      <th>1961-09-11/1961-09-17</th>\n",
       "      <td>5.33</td>\n",
       "      <td>7.12</td>\n",
       "      <td>7.29</td>\n",
       "      <td>3.96</td>\n",
       "      <td>8.29</td>\n",
       "      <td>5.58</td>\n",
       "      <td>7.87</td>\n",
       "      <td>7.17</td>\n",
       "      <td>5.88</td>\n",
       "      <td>9.67</td>\n",
       "      <td>13.92</td>\n",
       "      <td>14.67</td>\n",
       "    </tr>\n",
       "    <tr>\n",
       "      <th>1961-09-18/1961-09-24</th>\n",
       "      <td>6.92</td>\n",
       "      <td>2.92</td>\n",
       "      <td>5.33</td>\n",
       "      <td>2.62</td>\n",
       "      <td>3.88</td>\n",
       "      <td>1.63</td>\n",
       "      <td>4.12</td>\n",
       "      <td>1.46</td>\n",
       "      <td>2.83</td>\n",
       "      <td>2.83</td>\n",
       "      <td>4.54</td>\n",
       "      <td>5.25</td>\n",
       "    </tr>\n",
       "    <tr>\n",
       "      <th>1961-09-25/1961-10-01</th>\n",
       "      <td>10.34</td>\n",
       "      <td>6.96</td>\n",
       "      <td>7.87</td>\n",
       "      <td>5.79</td>\n",
       "      <td>11.25</td>\n",
       "      <td>6.34</td>\n",
       "      <td>5.83</td>\n",
       "      <td>6.21</td>\n",
       "      <td>7.00</td>\n",
       "      <td>5.29</td>\n",
       "      <td>7.79</td>\n",
       "      <td>4.04</td>\n",
       "    </tr>\n",
       "    <tr>\n",
       "      <th>1961-10-02/1961-10-08</th>\n",
       "      <td>3.13</td>\n",
       "      <td>3.63</td>\n",
       "      <td>4.96</td>\n",
       "      <td>1.46</td>\n",
       "      <td>3.75</td>\n",
       "      <td>1.04</td>\n",
       "      <td>3.50</td>\n",
       "      <td>1.87</td>\n",
       "      <td>1.42</td>\n",
       "      <td>2.42</td>\n",
       "      <td>4.79</td>\n",
       "      <td>4.83</td>\n",
       "    </tr>\n",
       "    <tr>\n",
       "      <th>1961-10-09/1961-10-15</th>\n",
       "      <td>3.71</td>\n",
       "      <td>6.13</td>\n",
       "      <td>4.21</td>\n",
       "      <td>4.58</td>\n",
       "      <td>7.29</td>\n",
       "      <td>4.92</td>\n",
       "      <td>2.96</td>\n",
       "      <td>4.88</td>\n",
       "      <td>3.13</td>\n",
       "      <td>5.71</td>\n",
       "      <td>8.54</td>\n",
       "      <td>11.96</td>\n",
       "    </tr>\n",
       "    <tr>\n",
       "      <th>1961-10-16/1961-10-22</th>\n",
       "      <td>10.46</td>\n",
       "      <td>3.75</td>\n",
       "      <td>9.92</td>\n",
       "      <td>6.83</td>\n",
       "      <td>7.75</td>\n",
       "      <td>6.83</td>\n",
       "      <td>7.50</td>\n",
       "      <td>6.08</td>\n",
       "      <td>7.38</td>\n",
       "      <td>11.08</td>\n",
       "      <td>10.88</td>\n",
       "      <td>13.46</td>\n",
       "    </tr>\n",
       "    <tr>\n",
       "      <th>1961-10-23/1961-10-29</th>\n",
       "      <td>4.33</td>\n",
       "      <td>2.75</td>\n",
       "      <td>4.79</td>\n",
       "      <td>1.71</td>\n",
       "      <td>4.46</td>\n",
       "      <td>2.33</td>\n",
       "      <td>7.79</td>\n",
       "      <td>2.62</td>\n",
       "      <td>4.25</td>\n",
       "      <td>5.83</td>\n",
       "      <td>8.50</td>\n",
       "      <td>9.83</td>\n",
       "    </tr>\n",
       "    <tr>\n",
       "      <th>1961-10-30/1961-11-05</th>\n",
       "      <td>5.88</td>\n",
       "      <td>3.96</td>\n",
       "      <td>6.54</td>\n",
       "      <td>3.79</td>\n",
       "      <td>6.00</td>\n",
       "      <td>4.33</td>\n",
       "      <td>8.50</td>\n",
       "      <td>4.21</td>\n",
       "      <td>5.71</td>\n",
       "      <td>7.67</td>\n",
       "      <td>10.29</td>\n",
       "      <td>13.37</td>\n",
       "    </tr>\n",
       "    <tr>\n",
       "      <th>1961-11-06/1961-11-12</th>\n",
       "      <td>5.46</td>\n",
       "      <td>5.50</td>\n",
       "      <td>3.83</td>\n",
       "      <td>1.87</td>\n",
       "      <td>3.37</td>\n",
       "      <td>2.04</td>\n",
       "      <td>6.58</td>\n",
       "      <td>1.42</td>\n",
       "      <td>1.33</td>\n",
       "      <td>2.62</td>\n",
       "      <td>6.13</td>\n",
       "      <td>5.71</td>\n",
       "    </tr>\n",
       "    <tr>\n",
       "      <th>1961-11-13/1961-11-19</th>\n",
       "      <td>7.50</td>\n",
       "      <td>4.21</td>\n",
       "      <td>6.46</td>\n",
       "      <td>1.50</td>\n",
       "      <td>5.04</td>\n",
       "      <td>1.25</td>\n",
       "      <td>2.29</td>\n",
       "      <td>0.63</td>\n",
       "      <td>0.75</td>\n",
       "      <td>1.25</td>\n",
       "      <td>0.71</td>\n",
       "      <td>2.00</td>\n",
       "    </tr>\n",
       "    <tr>\n",
       "      <th>1961-11-20/1961-11-26</th>\n",
       "      <td>5.75</td>\n",
       "      <td>3.29</td>\n",
       "      <td>5.04</td>\n",
       "      <td>4.21</td>\n",
       "      <td>6.00</td>\n",
       "      <td>4.54</td>\n",
       "      <td>7.00</td>\n",
       "      <td>3.42</td>\n",
       "      <td>4.67</td>\n",
       "      <td>7.38</td>\n",
       "      <td>6.50</td>\n",
       "      <td>8.71</td>\n",
       "    </tr>\n",
       "    <tr>\n",
       "      <th>1961-11-27/1961-12-03</th>\n",
       "      <td>7.92</td>\n",
       "      <td>4.67</td>\n",
       "      <td>8.00</td>\n",
       "      <td>3.29</td>\n",
       "      <td>4.17</td>\n",
       "      <td>2.29</td>\n",
       "      <td>5.83</td>\n",
       "      <td>1.92</td>\n",
       "      <td>2.25</td>\n",
       "      <td>3.63</td>\n",
       "      <td>5.50</td>\n",
       "      <td>5.88</td>\n",
       "    </tr>\n",
       "    <tr>\n",
       "      <th>1961-12-04/1961-12-10</th>\n",
       "      <td>10.83</td>\n",
       "      <td>9.21</td>\n",
       "      <td>9.71</td>\n",
       "      <td>3.83</td>\n",
       "      <td>7.79</td>\n",
       "      <td>5.50</td>\n",
       "      <td>8.87</td>\n",
       "      <td>3.13</td>\n",
       "      <td>5.09</td>\n",
       "      <td>5.75</td>\n",
       "      <td>10.71</td>\n",
       "      <td>7.58</td>\n",
       "    </tr>\n",
       "    <tr>\n",
       "      <th>1961-12-11/1961-12-17</th>\n",
       "      <td>9.29</td>\n",
       "      <td>8.63</td>\n",
       "      <td>9.04</td>\n",
       "      <td>4.46</td>\n",
       "      <td>8.83</td>\n",
       "      <td>7.04</td>\n",
       "      <td>6.92</td>\n",
       "      <td>5.46</td>\n",
       "      <td>4.71</td>\n",
       "      <td>4.67</td>\n",
       "      <td>5.50</td>\n",
       "      <td>6.50</td>\n",
       "    </tr>\n",
       "    <tr>\n",
       "      <th>1961-12-18/1961-12-24</th>\n",
       "      <td>11.46</td>\n",
       "      <td>9.79</td>\n",
       "      <td>8.08</td>\n",
       "      <td>0.58</td>\n",
       "      <td>7.33</td>\n",
       "      <td>2.83</td>\n",
       "      <td>3.54</td>\n",
       "      <td>3.46</td>\n",
       "      <td>1.25</td>\n",
       "      <td>2.46</td>\n",
       "      <td>5.29</td>\n",
       "      <td>2.62</td>\n",
       "    </tr>\n",
       "    <tr>\n",
       "      <th>1961-12-25/1961-12-31</th>\n",
       "      <td>5.04</td>\n",
       "      <td>3.08</td>\n",
       "      <td>2.13</td>\n",
       "      <td>0.42</td>\n",
       "      <td>3.67</td>\n",
       "      <td>1.83</td>\n",
       "      <td>2.92</td>\n",
       "      <td>1.87</td>\n",
       "      <td>1.83</td>\n",
       "      <td>1.96</td>\n",
       "      <td>3.75</td>\n",
       "      <td>6.63</td>\n",
       "    </tr>\n",
       "    <tr>\n",
       "      <th>1962-01-01/1962-01-07</th>\n",
       "      <td>3.17</td>\n",
       "      <td>3.13</td>\n",
       "      <td>4.38</td>\n",
       "      <td>0.87</td>\n",
       "      <td>0.42</td>\n",
       "      <td>0.33</td>\n",
       "      <td>4.58</td>\n",
       "      <td>0.00</td>\n",
       "      <td>0.54</td>\n",
       "      <td>0.92</td>\n",
       "      <td>0.58</td>\n",
       "      <td>6.34</td>\n",
       "    </tr>\n",
       "  </tbody>\n",
       "</table>\n",
       "</div>"
      ],
      "text/plain": [
       "                         RPT    VAL    ROS   KIL    SHA   BIR    DUB   CLA  \\\n",
       "datetime                                                                     \n",
       "1961-01-09/1961-01-15   9.04   3.54   7.08  0.67   2.29  0.96   2.50  0.58   \n",
       "1961-01-16/1961-01-22   4.92   3.42   7.29  1.04   3.67  3.17   3.17  2.79   \n",
       "1961-01-23/1961-01-29  13.62   9.96  12.67  6.04  10.00  9.42   9.25  8.71   \n",
       "1961-01-30/1961-02-05  10.58   9.46   9.04  5.09   9.87  5.83   8.50  3.63   \n",
       "1961-02-06/1961-02-12  16.00  11.54  13.67  8.38   8.12  8.08  11.08  9.71   \n",
       "1961-02-13/1961-02-19   6.04  11.63   6.13  4.21   9.87  6.92   3.42  7.41   \n",
       "1961-02-20/1961-02-26   7.79   7.08   6.08  2.21   5.96  4.33   3.75  4.67   \n",
       "1961-02-27/1961-03-05  10.96   8.83   8.17  5.88   8.25  6.00   5.50  5.66   \n",
       "1961-03-06/1961-03-12   4.88   8.08   7.54  3.13   5.41  4.08   1.71  5.29   \n",
       "1961-03-13/1961-03-19   4.92   9.46   5.25  4.29   6.83  5.79   2.75  5.13   \n",
       "1961-03-20/1961-03-26   6.29   2.58   4.79  4.42   5.13  4.29   8.00  4.92   \n",
       "1961-03-27/1961-04-02   5.88   3.50   5.09  2.75   2.83  3.50   5.25  1.46   \n",
       "1961-04-03/1961-04-09   4.50   7.04   9.29  3.21   5.96  4.33   5.00  4.00   \n",
       "1961-04-10/1961-04-16   4.71   4.83   3.92  2.33   3.37  1.54   2.46  2.29   \n",
       "1961-04-17/1961-04-23   4.00   3.71   3.33  1.58   2.21  0.83   4.46  2.54   \n",
       "1961-04-24/1961-04-30   4.08   6.50   2.54  1.87   3.88  1.54   2.67  1.38   \n",
       "1961-05-01/1961-05-07   9.87  10.29   8.42  6.46   9.42  7.33   5.96  6.25   \n",
       "1961-05-08/1961-05-14   3.54   3.96   4.63  1.04   3.42  1.17   3.33  3.37   \n",
       "1961-05-15/1961-05-21   4.88   3.58   5.91  3.63   5.50  3.46   3.17  3.79   \n",
       "1961-05-22/1961-05-28   4.96   3.67   3.58  2.42   3.75  1.63   2.42  2.83   \n",
       "1961-05-29/1961-06-04   7.00   4.75   6.83  3.42   7.67  5.17   5.83  7.21   \n",
       "1961-06-05/1961-06-11   8.29   6.83   6.04  3.21   7.33  1.87   3.42  3.13   \n",
       "1961-06-12/1961-06-18   6.13   4.12   6.50  2.92   3.50  1.58   4.67  2.88   \n",
       "1961-06-19/1961-06-25   4.00   3.25   5.13  2.88   8.58  4.46   7.92  6.34   \n",
       "1961-06-26/1961-07-02   7.21   6.34   7.62  4.42   8.04  4.79   5.83  5.96   \n",
       "1961-07-03/1961-07-09   7.29   3.75   7.62  3.54   8.00  4.58   7.08  5.58   \n",
       "1961-07-10/1961-07-16   8.63   7.87   8.00  5.58   9.46  3.46   2.67  2.96   \n",
       "1961-07-17/1961-07-23   3.04   2.92   4.08  1.46   5.04  1.96   2.21  3.37   \n",
       "1961-07-24/1961-07-30   6.13   4.63   6.42  2.83   4.96  2.92   3.58  4.17   \n",
       "1961-07-31/1961-08-06   7.67   5.09   5.54  4.17   5.25  2.79   3.75  2.25   \n",
       "1961-08-07/1961-08-13   2.88   4.42   6.00  2.50   6.58  3.58   3.88  5.04   \n",
       "1961-08-14/1961-08-20  13.13   7.25   9.17  6.83  12.96  7.54   9.42  8.92   \n",
       "1961-08-21/1961-08-27   7.67   6.87   9.50  3.96   7.46  4.25   5.66  4.50   \n",
       "1961-08-28/1961-09-03   3.63   1.13   2.42  2.37   4.25  2.25   2.92  2.71   \n",
       "1961-09-04/1961-09-10   5.00   3.04   3.63  2.75   4.75  2.17   1.25  2.21   \n",
       "1961-09-11/1961-09-17   5.33   7.12   7.29  3.96   8.29  5.58   7.87  7.17   \n",
       "1961-09-18/1961-09-24   6.92   2.92   5.33  2.62   3.88  1.63   4.12  1.46   \n",
       "1961-09-25/1961-10-01  10.34   6.96   7.87  5.79  11.25  6.34   5.83  6.21   \n",
       "1961-10-02/1961-10-08   3.13   3.63   4.96  1.46   3.75  1.04   3.50  1.87   \n",
       "1961-10-09/1961-10-15   3.71   6.13   4.21  4.58   7.29  4.92   2.96  4.88   \n",
       "1961-10-16/1961-10-22  10.46   3.75   9.92  6.83   7.75  6.83   7.50  6.08   \n",
       "1961-10-23/1961-10-29   4.33   2.75   4.79  1.71   4.46  2.33   7.79  2.62   \n",
       "1961-10-30/1961-11-05   5.88   3.96   6.54  3.79   6.00  4.33   8.50  4.21   \n",
       "1961-11-06/1961-11-12   5.46   5.50   3.83  1.87   3.37  2.04   6.58  1.42   \n",
       "1961-11-13/1961-11-19   7.50   4.21   6.46  1.50   5.04  1.25   2.29  0.63   \n",
       "1961-11-20/1961-11-26   5.75   3.29   5.04  4.21   6.00  4.54   7.00  3.42   \n",
       "1961-11-27/1961-12-03   7.92   4.67   8.00  3.29   4.17  2.29   5.83  1.92   \n",
       "1961-12-04/1961-12-10  10.83   9.21   9.71  3.83   7.79  5.50   8.87  3.13   \n",
       "1961-12-11/1961-12-17   9.29   8.63   9.04  4.46   8.83  7.04   6.92  5.46   \n",
       "1961-12-18/1961-12-24  11.46   9.79   8.08  0.58   7.33  2.83   3.54  3.46   \n",
       "1961-12-25/1961-12-31   5.04   3.08   2.13  0.42   3.67  1.83   2.92  1.87   \n",
       "1962-01-01/1962-01-07   3.17   3.13   4.38  0.87   0.42  0.33   4.58  0.00   \n",
       "\n",
       "                         MUL    CLO    BEL    MAL  \n",
       "datetime                                           \n",
       "1961-01-09/1961-01-15   0.50   2.67   5.25   5.17  \n",
       "1961-01-16/1961-01-22   1.92   2.71   6.50   6.79  \n",
       "1961-01-23/1961-01-29   7.12  11.04  14.04  17.50  \n",
       "1961-01-30/1961-02-05   6.34   5.50   9.17   7.17  \n",
       "1961-02-06/1961-02-12  10.37  12.25  15.21  17.04  \n",
       "1961-02-13/1961-02-19   8.17   9.21  14.09  10.96  \n",
       "1961-02-20/1961-02-26   4.50   7.00   9.59   6.67  \n",
       "1961-02-27/1961-03-05   6.25   9.79  11.58   8.83  \n",
       "1961-03-06/1961-03-12   5.21   5.09  10.21   5.54  \n",
       "1961-03-13/1961-03-19   6.00   7.29  11.29  11.34  \n",
       "1961-03-20/1961-03-26   8.00   8.33   8.25  13.13  \n",
       "1961-03-27/1961-04-02   6.50   6.46   7.21   7.17  \n",
       "1961-04-03/1961-04-09   5.66   3.67   7.62   7.21  \n",
       "1961-04-10/1961-04-16   3.37   4.00   5.75   5.66  \n",
       "1961-04-17/1961-04-23   3.58   3.83   6.75   4.96  \n",
       "1961-04-24/1961-04-30   2.54   2.71   5.13   2.67  \n",
       "1961-05-01/1961-05-07   7.79   8.63   4.79   3.83  \n",
       "1961-05-08/1961-05-14   2.46   1.83   6.54   3.33  \n",
       "1961-05-15/1961-05-21   4.92   4.17   6.63   5.91  \n",
       "1961-05-22/1961-05-28   4.50   5.17   6.13   8.00  \n",
       "1961-05-29/1961-06-04   6.34   5.91   8.71  10.63  \n",
       "1961-06-05/1961-06-11   5.41   5.21   5.37   5.96  \n",
       "1961-06-12/1961-06-18   4.21   3.08   7.29   6.13  \n",
       "1961-06-19/1961-06-25   6.50   7.83  11.00  13.75  \n",
       "1961-06-26/1961-07-02   5.79   7.96   6.96   8.50  \n",
       "1961-07-03/1961-07-09   6.25   6.21   7.08  12.08  \n",
       "1961-07-10/1961-07-16   2.92   4.25   5.04   5.96  \n",
       "1961-07-17/1961-07-23   4.00   3.92   4.21   5.41  \n",
       "1961-07-24/1961-07-30   2.21   4.92   7.87   6.13  \n",
       "1961-07-31/1961-08-06   3.17   5.41   6.17   9.08  \n",
       "1961-08-07/1961-08-13   2.83   5.41   9.83   5.88  \n",
       "1961-08-14/1961-08-20   8.79   9.13   9.59  13.04  \n",
       "1961-08-21/1961-08-27   3.96   7.46   5.75   8.29  \n",
       "1961-08-28/1961-09-03   3.67   5.96   4.79   5.41  \n",
       "1961-09-04/1961-09-10   2.50   1.75   5.41   3.37  \n",
       "1961-09-11/1961-09-17   5.88   9.67  13.92  14.67  \n",
       "1961-09-18/1961-09-24   2.83   2.83   4.54   5.25  \n",
       "1961-09-25/1961-10-01   7.00   5.29   7.79   4.04  \n",
       "1961-10-02/1961-10-08   1.42   2.42   4.79   4.83  \n",
       "1961-10-09/1961-10-15   3.13   5.71   8.54  11.96  \n",
       "1961-10-16/1961-10-22   7.38  11.08  10.88  13.46  \n",
       "1961-10-23/1961-10-29   4.25   5.83   8.50   9.83  \n",
       "1961-10-30/1961-11-05   5.71   7.67  10.29  13.37  \n",
       "1961-11-06/1961-11-12   1.33   2.62   6.13   5.71  \n",
       "1961-11-13/1961-11-19   0.75   1.25   0.71   2.00  \n",
       "1961-11-20/1961-11-26   4.67   7.38   6.50   8.71  \n",
       "1961-11-27/1961-12-03   2.25   3.63   5.50   5.88  \n",
       "1961-12-04/1961-12-10   5.09   5.75  10.71   7.58  \n",
       "1961-12-11/1961-12-17   4.71   4.67   5.50   6.50  \n",
       "1961-12-18/1961-12-24   1.25   2.46   5.29   2.62  \n",
       "1961-12-25/1961-12-31   1.83   1.96   3.75   6.63  \n",
       "1962-01-01/1962-01-07   0.54   0.92   0.58   6.34  "
      ]
     },
     "execution_count": 89,
     "metadata": {},
     "output_type": "execute_result"
    }
   ],
   "source": [
    "#the min of each location is calulated based on week, then the number of week is assumed as 1:53\n",
    "minVal =wind.groupby(wind.index.to_period('W')).min()\n",
    "minVal = minVal.iloc[1:53]\n",
    "minVal"
   ]
  },
  {
   "cell_type": "code",
   "execution_count": 90,
   "metadata": {},
   "outputs": [
    {
     "data": {
      "text/html": [
       "<div>\n",
       "<style scoped>\n",
       "    .dataframe tbody tr th:only-of-type {\n",
       "        vertical-align: middle;\n",
       "    }\n",
       "\n",
       "    .dataframe tbody tr th {\n",
       "        vertical-align: top;\n",
       "    }\n",
       "\n",
       "    .dataframe thead th {\n",
       "        text-align: right;\n",
       "    }\n",
       "</style>\n",
       "<table border=\"1\" class=\"dataframe\">\n",
       "  <thead>\n",
       "    <tr style=\"text-align: right;\">\n",
       "      <th></th>\n",
       "      <th>RPT</th>\n",
       "      <th>VAL</th>\n",
       "      <th>ROS</th>\n",
       "      <th>KIL</th>\n",
       "      <th>SHA</th>\n",
       "      <th>BIR</th>\n",
       "      <th>DUB</th>\n",
       "      <th>CLA</th>\n",
       "      <th>MUL</th>\n",
       "      <th>CLO</th>\n",
       "      <th>BEL</th>\n",
       "      <th>MAL</th>\n",
       "    </tr>\n",
       "    <tr>\n",
       "      <th>datetime</th>\n",
       "      <th></th>\n",
       "      <th></th>\n",
       "      <th></th>\n",
       "      <th></th>\n",
       "      <th></th>\n",
       "      <th></th>\n",
       "      <th></th>\n",
       "      <th></th>\n",
       "      <th></th>\n",
       "      <th></th>\n",
       "      <th></th>\n",
       "      <th></th>\n",
       "    </tr>\n",
       "  </thead>\n",
       "  <tbody>\n",
       "    <tr>\n",
       "      <th>1961-01-09/1961-01-15</th>\n",
       "      <td>12.468571</td>\n",
       "      <td>8.967143</td>\n",
       "      <td>11.958571</td>\n",
       "      <td>4.630000</td>\n",
       "      <td>7.351429</td>\n",
       "      <td>5.072857</td>\n",
       "      <td>7.535714</td>\n",
       "      <td>6.820000</td>\n",
       "      <td>5.712857</td>\n",
       "      <td>7.571429</td>\n",
       "      <td>11.125714</td>\n",
       "      <td>11.024286</td>\n",
       "    </tr>\n",
       "    <tr>\n",
       "      <th>1961-01-16/1961-01-22</th>\n",
       "      <td>12.100000</td>\n",
       "      <td>9.500000</td>\n",
       "      <td>11.681667</td>\n",
       "      <td>4.293333</td>\n",
       "      <td>8.966667</td>\n",
       "      <td>6.938333</td>\n",
       "      <td>7.828333</td>\n",
       "      <td>7.291667</td>\n",
       "      <td>5.891667</td>\n",
       "      <td>6.693333</td>\n",
       "      <td>9.993333</td>\n",
       "      <td>10.346667</td>\n",
       "    </tr>\n",
       "    <tr>\n",
       "      <th>1961-01-23/1961-01-29</th>\n",
       "      <td>19.880000</td>\n",
       "      <td>14.846667</td>\n",
       "      <td>17.548333</td>\n",
       "      <td>11.916667</td>\n",
       "      <td>16.325000</td>\n",
       "      <td>14.016667</td>\n",
       "      <td>14.450000</td>\n",
       "      <td>14.311667</td>\n",
       "      <td>13.316667</td>\n",
       "      <td>14.921667</td>\n",
       "      <td>19.800000</td>\n",
       "      <td>22.388333</td>\n",
       "    </tr>\n",
       "    <tr>\n",
       "      <th>1961-01-30/1961-02-05</th>\n",
       "      <td>16.827143</td>\n",
       "      <td>15.460000</td>\n",
       "      <td>12.618571</td>\n",
       "      <td>8.247143</td>\n",
       "      <td>13.361429</td>\n",
       "      <td>9.107143</td>\n",
       "      <td>12.204286</td>\n",
       "      <td>8.548571</td>\n",
       "      <td>9.821429</td>\n",
       "      <td>9.460000</td>\n",
       "      <td>14.012857</td>\n",
       "      <td>11.935714</td>\n",
       "    </tr>\n",
       "    <tr>\n",
       "      <th>1961-02-06/1961-02-12</th>\n",
       "      <td>19.684286</td>\n",
       "      <td>16.417143</td>\n",
       "      <td>17.304286</td>\n",
       "      <td>10.774286</td>\n",
       "      <td>14.718571</td>\n",
       "      <td>12.522857</td>\n",
       "      <td>14.934286</td>\n",
       "      <td>14.850000</td>\n",
       "      <td>14.064286</td>\n",
       "      <td>14.440000</td>\n",
       "      <td>21.832857</td>\n",
       "      <td>19.155714</td>\n",
       "    </tr>\n",
       "    <tr>\n",
       "      <th>1961-02-13/1961-02-19</th>\n",
       "      <td>14.956667</td>\n",
       "      <td>15.008333</td>\n",
       "      <td>13.813333</td>\n",
       "      <td>10.083333</td>\n",
       "      <td>13.395000</td>\n",
       "      <td>12.020000</td>\n",
       "      <td>9.530000</td>\n",
       "      <td>12.178333</td>\n",
       "      <td>12.508333</td>\n",
       "      <td>13.521667</td>\n",
       "      <td>19.756667</td>\n",
       "      <td>15.925000</td>\n",
       "    </tr>\n",
       "    <tr>\n",
       "      <th>1961-02-20/1961-02-26</th>\n",
       "      <td>15.221429</td>\n",
       "      <td>13.625714</td>\n",
       "      <td>14.334286</td>\n",
       "      <td>8.524286</td>\n",
       "      <td>13.655714</td>\n",
       "      <td>10.114286</td>\n",
       "      <td>11.150000</td>\n",
       "      <td>10.875714</td>\n",
       "      <td>10.392857</td>\n",
       "      <td>12.730000</td>\n",
       "      <td>16.304286</td>\n",
       "      <td>14.322857</td>\n",
       "    </tr>\n",
       "    <tr>\n",
       "      <th>1961-02-27/1961-03-05</th>\n",
       "      <td>11.824000</td>\n",
       "      <td>12.956000</td>\n",
       "      <td>10.918000</td>\n",
       "      <td>7.900000</td>\n",
       "      <td>11.758000</td>\n",
       "      <td>8.768000</td>\n",
       "      <td>9.326000</td>\n",
       "      <td>10.032000</td>\n",
       "      <td>9.668000</td>\n",
       "      <td>12.068000</td>\n",
       "      <td>17.174000</td>\n",
       "      <td>14.108000</td>\n",
       "    </tr>\n",
       "    <tr>\n",
       "      <th>1961-03-06/1961-03-12</th>\n",
       "      <td>9.376667</td>\n",
       "      <td>11.195000</td>\n",
       "      <td>9.923333</td>\n",
       "      <td>6.618333</td>\n",
       "      <td>10.276667</td>\n",
       "      <td>8.791667</td>\n",
       "      <td>5.175000</td>\n",
       "      <td>8.960000</td>\n",
       "      <td>8.818333</td>\n",
       "      <td>9.570000</td>\n",
       "      <td>16.068333</td>\n",
       "      <td>13.066667</td>\n",
       "    </tr>\n",
       "    <tr>\n",
       "      <th>1961-03-13/1961-03-19</th>\n",
       "      <td>11.911429</td>\n",
       "      <td>13.501429</td>\n",
       "      <td>11.607143</td>\n",
       "      <td>7.084286</td>\n",
       "      <td>10.751429</td>\n",
       "      <td>8.652857</td>\n",
       "      <td>10.041429</td>\n",
       "      <td>10.220000</td>\n",
       "      <td>10.101429</td>\n",
       "      <td>11.627143</td>\n",
       "      <td>19.350000</td>\n",
       "      <td>16.227143</td>\n",
       "    </tr>\n",
       "    <tr>\n",
       "      <th>1961-03-20/1961-03-26</th>\n",
       "      <td>9.567143</td>\n",
       "      <td>8.387143</td>\n",
       "      <td>9.695714</td>\n",
       "      <td>6.648571</td>\n",
       "      <td>8.964286</td>\n",
       "      <td>7.982857</td>\n",
       "      <td>10.774286</td>\n",
       "      <td>8.977143</td>\n",
       "      <td>10.904286</td>\n",
       "      <td>11.481429</td>\n",
       "      <td>14.037143</td>\n",
       "      <td>18.134286</td>\n",
       "    </tr>\n",
       "    <tr>\n",
       "      <th>1961-03-27/1961-04-02</th>\n",
       "      <td>9.818000</td>\n",
       "      <td>7.684000</td>\n",
       "      <td>8.536000</td>\n",
       "      <td>6.734000</td>\n",
       "      <td>9.184000</td>\n",
       "      <td>8.632000</td>\n",
       "      <td>10.442000</td>\n",
       "      <td>7.518000</td>\n",
       "      <td>10.666000</td>\n",
       "      <td>8.666000</td>\n",
       "      <td>12.094000</td>\n",
       "      <td>12.910000</td>\n",
       "    </tr>\n",
       "    <tr>\n",
       "      <th>1961-04-03/1961-04-09</th>\n",
       "      <td>11.964286</td>\n",
       "      <td>10.654286</td>\n",
       "      <td>13.607143</td>\n",
       "      <td>5.958571</td>\n",
       "      <td>9.494286</td>\n",
       "      <td>7.637143</td>\n",
       "      <td>7.107143</td>\n",
       "      <td>8.041429</td>\n",
       "      <td>8.161429</td>\n",
       "      <td>7.238571</td>\n",
       "      <td>11.712857</td>\n",
       "      <td>11.371429</td>\n",
       "    </tr>\n",
       "    <tr>\n",
       "      <th>1961-04-10/1961-04-16</th>\n",
       "      <td>8.965714</td>\n",
       "      <td>8.000000</td>\n",
       "      <td>8.787143</td>\n",
       "      <td>4.971429</td>\n",
       "      <td>6.405714</td>\n",
       "      <td>4.947143</td>\n",
       "      <td>5.005714</td>\n",
       "      <td>4.994286</td>\n",
       "      <td>5.718571</td>\n",
       "      <td>6.178571</td>\n",
       "      <td>9.482857</td>\n",
       "      <td>8.690000</td>\n",
       "    </tr>\n",
       "    <tr>\n",
       "      <th>1961-04-17/1961-04-23</th>\n",
       "      <td>12.621429</td>\n",
       "      <td>10.438571</td>\n",
       "      <td>10.255714</td>\n",
       "      <td>7.768571</td>\n",
       "      <td>10.357143</td>\n",
       "      <td>7.798571</td>\n",
       "      <td>9.000000</td>\n",
       "      <td>9.111429</td>\n",
       "      <td>8.767143</td>\n",
       "      <td>9.551429</td>\n",
       "      <td>13.620000</td>\n",
       "      <td>12.470000</td>\n",
       "    </tr>\n",
       "    <tr>\n",
       "      <th>1961-04-24/1961-04-30</th>\n",
       "      <td>10.117143</td>\n",
       "      <td>9.798571</td>\n",
       "      <td>8.281429</td>\n",
       "      <td>4.801429</td>\n",
       "      <td>7.892857</td>\n",
       "      <td>5.197143</td>\n",
       "      <td>6.150000</td>\n",
       "      <td>6.377143</td>\n",
       "      <td>6.242857</td>\n",
       "      <td>6.124286</td>\n",
       "      <td>9.720000</td>\n",
       "      <td>8.637143</td>\n",
       "    </tr>\n",
       "    <tr>\n",
       "      <th>1961-05-01/1961-05-07</th>\n",
       "      <td>15.367143</td>\n",
       "      <td>13.970000</td>\n",
       "      <td>13.834286</td>\n",
       "      <td>9.952857</td>\n",
       "      <td>14.917143</td>\n",
       "      <td>10.864286</td>\n",
       "      <td>11.435714</td>\n",
       "      <td>12.244286</td>\n",
       "      <td>11.677143</td>\n",
       "      <td>11.585714</td>\n",
       "      <td>17.548571</td>\n",
       "      <td>14.571429</td>\n",
       "    </tr>\n",
       "    <tr>\n",
       "      <th>1961-05-08/1961-05-14</th>\n",
       "      <td>7.901667</td>\n",
       "      <td>7.645000</td>\n",
       "      <td>8.006667</td>\n",
       "      <td>5.421667</td>\n",
       "      <td>8.806667</td>\n",
       "      <td>6.471667</td>\n",
       "      <td>8.013333</td>\n",
       "      <td>7.555000</td>\n",
       "      <td>7.908333</td>\n",
       "      <td>8.396667</td>\n",
       "      <td>10.386667</td>\n",
       "      <td>10.530000</td>\n",
       "    </tr>\n",
       "    <tr>\n",
       "      <th>1961-05-15/1961-05-21</th>\n",
       "      <td>8.561667</td>\n",
       "      <td>5.631667</td>\n",
       "      <td>12.361667</td>\n",
       "      <td>4.163333</td>\n",
       "      <td>7.641667</td>\n",
       "      <td>4.916667</td>\n",
       "      <td>5.860000</td>\n",
       "      <td>6.868333</td>\n",
       "      <td>6.821667</td>\n",
       "      <td>6.855000</td>\n",
       "      <td>9.493333</td>\n",
       "      <td>10.256667</td>\n",
       "    </tr>\n",
       "    <tr>\n",
       "      <th>1961-05-22/1961-05-28</th>\n",
       "      <td>7.550000</td>\n",
       "      <td>6.536667</td>\n",
       "      <td>6.438333</td>\n",
       "      <td>3.748333</td>\n",
       "      <td>6.396667</td>\n",
       "      <td>3.715000</td>\n",
       "      <td>4.445000</td>\n",
       "      <td>5.305000</td>\n",
       "      <td>5.528333</td>\n",
       "      <td>6.881667</td>\n",
       "      <td>9.883333</td>\n",
       "      <td>10.883333</td>\n",
       "    </tr>\n",
       "    <tr>\n",
       "      <th>1961-05-29/1961-06-04</th>\n",
       "      <td>10.321429</td>\n",
       "      <td>7.407143</td>\n",
       "      <td>10.065714</td>\n",
       "      <td>6.310000</td>\n",
       "      <td>9.754286</td>\n",
       "      <td>6.451429</td>\n",
       "      <td>8.344286</td>\n",
       "      <td>8.635714</td>\n",
       "      <td>8.714286</td>\n",
       "      <td>9.035714</td>\n",
       "      <td>12.298571</td>\n",
       "      <td>13.597143</td>\n",
       "    </tr>\n",
       "    <tr>\n",
       "      <th>1961-06-05/1961-06-11</th>\n",
       "      <td>10.917143</td>\n",
       "      <td>8.992857</td>\n",
       "      <td>8.095714</td>\n",
       "      <td>5.214286</td>\n",
       "      <td>10.030000</td>\n",
       "      <td>5.460000</td>\n",
       "      <td>7.084286</td>\n",
       "      <td>6.884286</td>\n",
       "      <td>8.034286</td>\n",
       "      <td>8.397143</td>\n",
       "      <td>10.148571</td>\n",
       "      <td>12.250000</td>\n",
       "    </tr>\n",
       "    <tr>\n",
       "      <th>1961-06-12/1961-06-18</th>\n",
       "      <td>10.571429</td>\n",
       "      <td>9.565714</td>\n",
       "      <td>10.875714</td>\n",
       "      <td>6.520000</td>\n",
       "      <td>10.260000</td>\n",
       "      <td>6.947143</td>\n",
       "      <td>9.278571</td>\n",
       "      <td>9.102857</td>\n",
       "      <td>8.992857</td>\n",
       "      <td>9.594286</td>\n",
       "      <td>15.351429</td>\n",
       "      <td>15.025714</td>\n",
       "    </tr>\n",
       "    <tr>\n",
       "      <th>1961-06-19/1961-06-25</th>\n",
       "      <td>7.345714</td>\n",
       "      <td>6.108571</td>\n",
       "      <td>8.084286</td>\n",
       "      <td>5.478571</td>\n",
       "      <td>11.477143</td>\n",
       "      <td>7.492857</td>\n",
       "      <td>11.868571</td>\n",
       "      <td>9.447143</td>\n",
       "      <td>10.458571</td>\n",
       "      <td>11.257143</td>\n",
       "      <td>14.370000</td>\n",
       "      <td>17.410000</td>\n",
       "    </tr>\n",
       "    <tr>\n",
       "      <th>1961-06-26/1961-07-02</th>\n",
       "      <td>9.826000</td>\n",
       "      <td>8.310000</td>\n",
       "      <td>8.358000</td>\n",
       "      <td>6.016000</td>\n",
       "      <td>10.076000</td>\n",
       "      <td>5.776000</td>\n",
       "      <td>8.050000</td>\n",
       "      <td>8.300000</td>\n",
       "      <td>7.900000</td>\n",
       "      <td>9.716000</td>\n",
       "      <td>11.800000</td>\n",
       "      <td>12.402000</td>\n",
       "    </tr>\n",
       "    <tr>\n",
       "      <th>1961-07-03/1961-07-09</th>\n",
       "      <td>11.806667</td>\n",
       "      <td>7.221667</td>\n",
       "      <td>9.638333</td>\n",
       "      <td>7.448333</td>\n",
       "      <td>12.195000</td>\n",
       "      <td>7.688333</td>\n",
       "      <td>11.888333</td>\n",
       "      <td>9.200000</td>\n",
       "      <td>10.348333</td>\n",
       "      <td>10.381667</td>\n",
       "      <td>11.700000</td>\n",
       "      <td>15.750000</td>\n",
       "    </tr>\n",
       "    <tr>\n",
       "      <th>1961-07-10/1961-07-16</th>\n",
       "      <td>16.680000</td>\n",
       "      <td>13.518571</td>\n",
       "      <td>11.171429</td>\n",
       "      <td>9.277143</td>\n",
       "      <td>14.524286</td>\n",
       "      <td>8.412857</td>\n",
       "      <td>10.171429</td>\n",
       "      <td>10.507143</td>\n",
       "      <td>9.530000</td>\n",
       "      <td>10.157143</td>\n",
       "      <td>13.520000</td>\n",
       "      <td>12.524286</td>\n",
       "    </tr>\n",
       "    <tr>\n",
       "      <th>1961-07-17/1961-07-23</th>\n",
       "      <td>4.202857</td>\n",
       "      <td>4.255714</td>\n",
       "      <td>6.738571</td>\n",
       "      <td>3.300000</td>\n",
       "      <td>6.112857</td>\n",
       "      <td>2.715714</td>\n",
       "      <td>3.964286</td>\n",
       "      <td>5.642857</td>\n",
       "      <td>5.297143</td>\n",
       "      <td>6.041429</td>\n",
       "      <td>7.524286</td>\n",
       "      <td>8.415714</td>\n",
       "    </tr>\n",
       "    <tr>\n",
       "      <th>1961-07-24/1961-07-30</th>\n",
       "      <td>10.561429</td>\n",
       "      <td>8.445714</td>\n",
       "      <td>9.352857</td>\n",
       "      <td>5.727143</td>\n",
       "      <td>10.077143</td>\n",
       "      <td>6.552857</td>\n",
       "      <td>9.147143</td>\n",
       "      <td>9.198571</td>\n",
       "      <td>8.037143</td>\n",
       "      <td>9.470000</td>\n",
       "      <td>12.841429</td>\n",
       "      <td>13.761429</td>\n",
       "    </tr>\n",
       "    <tr>\n",
       "      <th>1961-07-31/1961-08-06</th>\n",
       "      <td>10.870000</td>\n",
       "      <td>8.792857</td>\n",
       "      <td>9.858571</td>\n",
       "      <td>6.238571</td>\n",
       "      <td>11.161429</td>\n",
       "      <td>7.184286</td>\n",
       "      <td>8.671429</td>\n",
       "      <td>8.265714</td>\n",
       "      <td>8.011429</td>\n",
       "      <td>8.951429</td>\n",
       "      <td>11.595714</td>\n",
       "      <td>13.760000</td>\n",
       "    </tr>\n",
       "    <tr>\n",
       "      <th>1961-08-07/1961-08-13</th>\n",
       "      <td>9.928000</td>\n",
       "      <td>8.026000</td>\n",
       "      <td>8.778000</td>\n",
       "      <td>5.234000</td>\n",
       "      <td>10.774000</td>\n",
       "      <td>6.292000</td>\n",
       "      <td>8.270000</td>\n",
       "      <td>8.330000</td>\n",
       "      <td>6.466000</td>\n",
       "      <td>7.632000</td>\n",
       "      <td>11.274000</td>\n",
       "      <td>9.858000</td>\n",
       "    </tr>\n",
       "    <tr>\n",
       "      <th>1961-08-14/1961-08-20</th>\n",
       "      <td>15.471667</td>\n",
       "      <td>10.513333</td>\n",
       "      <td>11.265000</td>\n",
       "      <td>8.568333</td>\n",
       "      <td>15.105000</td>\n",
       "      <td>10.241667</td>\n",
       "      <td>12.903333</td>\n",
       "      <td>11.438333</td>\n",
       "      <td>11.598333</td>\n",
       "      <td>12.131667</td>\n",
       "      <td>14.848333</td>\n",
       "      <td>16.626667</td>\n",
       "    </tr>\n",
       "    <tr>\n",
       "      <th>1961-08-21/1961-08-27</th>\n",
       "      <td>12.391429</td>\n",
       "      <td>11.430000</td>\n",
       "      <td>12.768571</td>\n",
       "      <td>7.108571</td>\n",
       "      <td>13.250000</td>\n",
       "      <td>9.424286</td>\n",
       "      <td>11.105714</td>\n",
       "      <td>12.201429</td>\n",
       "      <td>9.817143</td>\n",
       "      <td>12.507143</td>\n",
       "      <td>16.251429</td>\n",
       "      <td>16.485714</td>\n",
       "    </tr>\n",
       "    <tr>\n",
       "      <th>1961-08-28/1961-09-03</th>\n",
       "      <td>8.678571</td>\n",
       "      <td>8.821429</td>\n",
       "      <td>6.745714</td>\n",
       "      <td>5.642857</td>\n",
       "      <td>9.678571</td>\n",
       "      <td>6.278571</td>\n",
       "      <td>6.434286</td>\n",
       "      <td>8.612857</td>\n",
       "      <td>6.744286</td>\n",
       "      <td>8.924286</td>\n",
       "      <td>13.664286</td>\n",
       "      <td>11.022857</td>\n",
       "    </tr>\n",
       "    <tr>\n",
       "      <th>1961-09-04/1961-09-10</th>\n",
       "      <td>10.541429</td>\n",
       "      <td>8.798571</td>\n",
       "      <td>8.185714</td>\n",
       "      <td>6.060000</td>\n",
       "      <td>9.231429</td>\n",
       "      <td>5.685714</td>\n",
       "      <td>6.787143</td>\n",
       "      <td>6.674286</td>\n",
       "      <td>6.977143</td>\n",
       "      <td>7.565714</td>\n",
       "      <td>10.700000</td>\n",
       "      <td>11.034286</td>\n",
       "    </tr>\n",
       "    <tr>\n",
       "      <th>1961-09-11/1961-09-17</th>\n",
       "      <td>17.160000</td>\n",
       "      <td>14.440000</td>\n",
       "      <td>15.617143</td>\n",
       "      <td>10.442857</td>\n",
       "      <td>15.455714</td>\n",
       "      <td>11.082857</td>\n",
       "      <td>12.267143</td>\n",
       "      <td>13.131429</td>\n",
       "      <td>11.401429</td>\n",
       "      <td>14.268571</td>\n",
       "      <td>19.878571</td>\n",
       "      <td>18.984286</td>\n",
       "    </tr>\n",
       "    <tr>\n",
       "      <th>1961-09-18/1961-09-24</th>\n",
       "      <td>8.291667</td>\n",
       "      <td>7.645000</td>\n",
       "      <td>7.993333</td>\n",
       "      <td>4.851667</td>\n",
       "      <td>8.618333</td>\n",
       "      <td>5.140000</td>\n",
       "      <td>5.921667</td>\n",
       "      <td>6.881667</td>\n",
       "      <td>5.151667</td>\n",
       "      <td>6.896667</td>\n",
       "      <td>11.653333</td>\n",
       "      <td>9.915000</td>\n",
       "    </tr>\n",
       "    <tr>\n",
       "      <th>1961-09-25/1961-10-01</th>\n",
       "      <td>14.850000</td>\n",
       "      <td>11.361667</td>\n",
       "      <td>12.310000</td>\n",
       "      <td>7.903333</td>\n",
       "      <td>12.541667</td>\n",
       "      <td>8.223333</td>\n",
       "      <td>8.938333</td>\n",
       "      <td>9.620000</td>\n",
       "      <td>8.353333</td>\n",
       "      <td>10.903333</td>\n",
       "      <td>15.348333</td>\n",
       "      <td>12.701667</td>\n",
       "    </tr>\n",
       "    <tr>\n",
       "      <th>1961-10-02/1961-10-08</th>\n",
       "      <td>11.250000</td>\n",
       "      <td>8.757143</td>\n",
       "      <td>10.167143</td>\n",
       "      <td>5.262857</td>\n",
       "      <td>8.255714</td>\n",
       "      <td>5.552857</td>\n",
       "      <td>7.411429</td>\n",
       "      <td>6.220000</td>\n",
       "      <td>5.650000</td>\n",
       "      <td>7.662857</td>\n",
       "      <td>8.810000</td>\n",
       "      <td>11.410000</td>\n",
       "    </tr>\n",
       "    <tr>\n",
       "      <th>1961-10-09/1961-10-15</th>\n",
       "      <td>10.881667</td>\n",
       "      <td>9.905000</td>\n",
       "      <td>9.843333</td>\n",
       "      <td>7.063333</td>\n",
       "      <td>10.888333</td>\n",
       "      <td>8.203333</td>\n",
       "      <td>9.230000</td>\n",
       "      <td>8.155000</td>\n",
       "      <td>7.765000</td>\n",
       "      <td>10.181667</td>\n",
       "      <td>14.783333</td>\n",
       "      <td>16.011667</td>\n",
       "    </tr>\n",
       "    <tr>\n",
       "      <th>1961-10-16/1961-10-22</th>\n",
       "      <td>19.260000</td>\n",
       "      <td>13.364286</td>\n",
       "      <td>15.828571</td>\n",
       "      <td>12.620000</td>\n",
       "      <td>15.137143</td>\n",
       "      <td>10.721429</td>\n",
       "      <td>15.565714</td>\n",
       "      <td>12.560000</td>\n",
       "      <td>13.118571</td>\n",
       "      <td>16.461429</td>\n",
       "      <td>17.477143</td>\n",
       "      <td>23.641429</td>\n",
       "    </tr>\n",
       "    <tr>\n",
       "      <th>1961-10-23/1961-10-29</th>\n",
       "      <td>14.353333</td>\n",
       "      <td>10.303333</td>\n",
       "      <td>13.195000</td>\n",
       "      <td>7.053333</td>\n",
       "      <td>11.521667</td>\n",
       "      <td>7.840000</td>\n",
       "      <td>11.883333</td>\n",
       "      <td>8.443333</td>\n",
       "      <td>9.435000</td>\n",
       "      <td>11.423333</td>\n",
       "      <td>13.643333</td>\n",
       "      <td>16.325000</td>\n",
       "    </tr>\n",
       "    <tr>\n",
       "      <th>1961-10-30/1961-11-05</th>\n",
       "      <td>11.571429</td>\n",
       "      <td>9.590000</td>\n",
       "      <td>10.827143</td>\n",
       "      <td>7.541429</td>\n",
       "      <td>10.840000</td>\n",
       "      <td>8.667143</td>\n",
       "      <td>12.791429</td>\n",
       "      <td>9.970000</td>\n",
       "      <td>10.172857</td>\n",
       "      <td>11.864286</td>\n",
       "      <td>16.322857</td>\n",
       "      <td>19.195714</td>\n",
       "    </tr>\n",
       "    <tr>\n",
       "      <th>1961-11-06/1961-11-12</th>\n",
       "      <td>10.428571</td>\n",
       "      <td>7.690000</td>\n",
       "      <td>10.272857</td>\n",
       "      <td>4.660000</td>\n",
       "      <td>7.338571</td>\n",
       "      <td>4.220000</td>\n",
       "      <td>9.308571</td>\n",
       "      <td>4.257143</td>\n",
       "      <td>5.188571</td>\n",
       "      <td>6.415714</td>\n",
       "      <td>9.208571</td>\n",
       "      <td>10.858571</td>\n",
       "    </tr>\n",
       "    <tr>\n",
       "      <th>1961-11-13/1961-11-19</th>\n",
       "      <td>10.798571</td>\n",
       "      <td>7.951429</td>\n",
       "      <td>16.988571</td>\n",
       "      <td>5.970000</td>\n",
       "      <td>8.131429</td>\n",
       "      <td>5.492857</td>\n",
       "      <td>9.660000</td>\n",
       "      <td>4.625714</td>\n",
       "      <td>4.501429</td>\n",
       "      <td>6.031429</td>\n",
       "      <td>5.875714</td>\n",
       "      <td>5.737143</td>\n",
       "    </tr>\n",
       "    <tr>\n",
       "      <th>1961-11-20/1961-11-26</th>\n",
       "      <td>9.638333</td>\n",
       "      <td>6.886667</td>\n",
       "      <td>9.370000</td>\n",
       "      <td>5.458333</td>\n",
       "      <td>8.916667</td>\n",
       "      <td>6.373333</td>\n",
       "      <td>12.103333</td>\n",
       "      <td>6.918333</td>\n",
       "      <td>7.035000</td>\n",
       "      <td>10.026667</td>\n",
       "      <td>11.971667</td>\n",
       "      <td>14.146667</td>\n",
       "    </tr>\n",
       "    <tr>\n",
       "      <th>1961-11-27/1961-12-03</th>\n",
       "      <td>12.608571</td>\n",
       "      <td>10.442857</td>\n",
       "      <td>11.481429</td>\n",
       "      <td>6.501429</td>\n",
       "      <td>10.357143</td>\n",
       "      <td>6.868571</td>\n",
       "      <td>11.077143</td>\n",
       "      <td>6.245714</td>\n",
       "      <td>7.372857</td>\n",
       "      <td>7.911429</td>\n",
       "      <td>11.464286</td>\n",
       "      <td>14.725714</td>\n",
       "    </tr>\n",
       "    <tr>\n",
       "      <th>1961-12-04/1961-12-10</th>\n",
       "      <td>17.362857</td>\n",
       "      <td>14.362857</td>\n",
       "      <td>15.460000</td>\n",
       "      <td>8.624286</td>\n",
       "      <td>12.642857</td>\n",
       "      <td>10.421429</td>\n",
       "      <td>14.545714</td>\n",
       "      <td>10.114286</td>\n",
       "      <td>9.970000</td>\n",
       "      <td>12.022857</td>\n",
       "      <td>15.975714</td>\n",
       "      <td>16.241429</td>\n",
       "    </tr>\n",
       "    <tr>\n",
       "      <th>1961-12-11/1961-12-17</th>\n",
       "      <td>14.985714</td>\n",
       "      <td>13.472857</td>\n",
       "      <td>13.720000</td>\n",
       "      <td>8.697143</td>\n",
       "      <td>14.297143</td>\n",
       "      <td>11.698571</td>\n",
       "      <td>13.665714</td>\n",
       "      <td>10.428571</td>\n",
       "      <td>10.655714</td>\n",
       "      <td>11.058571</td>\n",
       "      <td>15.112857</td>\n",
       "      <td>14.644286</td>\n",
       "    </tr>\n",
       "    <tr>\n",
       "      <th>1961-12-18/1961-12-24</th>\n",
       "      <td>15.757143</td>\n",
       "      <td>11.971429</td>\n",
       "      <td>12.840000</td>\n",
       "      <td>5.785714</td>\n",
       "      <td>11.928571</td>\n",
       "      <td>7.084286</td>\n",
       "      <td>8.071429</td>\n",
       "      <td>7.012857</td>\n",
       "      <td>5.517143</td>\n",
       "      <td>7.697143</td>\n",
       "      <td>9.958571</td>\n",
       "      <td>8.164286</td>\n",
       "    </tr>\n",
       "    <tr>\n",
       "      <th>1961-12-25/1961-12-31</th>\n",
       "      <td>13.634286</td>\n",
       "      <td>9.504286</td>\n",
       "      <td>15.804286</td>\n",
       "      <td>6.588571</td>\n",
       "      <td>8.112857</td>\n",
       "      <td>5.372857</td>\n",
       "      <td>11.892857</td>\n",
       "      <td>6.851429</td>\n",
       "      <td>6.748571</td>\n",
       "      <td>7.701429</td>\n",
       "      <td>9.697143</td>\n",
       "      <td>12.840000</td>\n",
       "    </tr>\n",
       "    <tr>\n",
       "      <th>1962-01-01/1962-01-07</th>\n",
       "      <td>9.374286</td>\n",
       "      <td>7.471429</td>\n",
       "      <td>8.854286</td>\n",
       "      <td>3.088571</td>\n",
       "      <td>5.982857</td>\n",
       "      <td>3.947143</td>\n",
       "      <td>9.570000</td>\n",
       "      <td>4.661429</td>\n",
       "      <td>4.572857</td>\n",
       "      <td>6.475714</td>\n",
       "      <td>9.691429</td>\n",
       "      <td>10.854286</td>\n",
       "    </tr>\n",
       "  </tbody>\n",
       "</table>\n",
       "</div>"
      ],
      "text/plain": [
       "                             RPT        VAL        ROS        KIL        SHA  \\\n",
       "datetime                                                                       \n",
       "1961-01-09/1961-01-15  12.468571   8.967143  11.958571   4.630000   7.351429   \n",
       "1961-01-16/1961-01-22  12.100000   9.500000  11.681667   4.293333   8.966667   \n",
       "1961-01-23/1961-01-29  19.880000  14.846667  17.548333  11.916667  16.325000   \n",
       "1961-01-30/1961-02-05  16.827143  15.460000  12.618571   8.247143  13.361429   \n",
       "1961-02-06/1961-02-12  19.684286  16.417143  17.304286  10.774286  14.718571   \n",
       "1961-02-13/1961-02-19  14.956667  15.008333  13.813333  10.083333  13.395000   \n",
       "1961-02-20/1961-02-26  15.221429  13.625714  14.334286   8.524286  13.655714   \n",
       "1961-02-27/1961-03-05  11.824000  12.956000  10.918000   7.900000  11.758000   \n",
       "1961-03-06/1961-03-12   9.376667  11.195000   9.923333   6.618333  10.276667   \n",
       "1961-03-13/1961-03-19  11.911429  13.501429  11.607143   7.084286  10.751429   \n",
       "1961-03-20/1961-03-26   9.567143   8.387143   9.695714   6.648571   8.964286   \n",
       "1961-03-27/1961-04-02   9.818000   7.684000   8.536000   6.734000   9.184000   \n",
       "1961-04-03/1961-04-09  11.964286  10.654286  13.607143   5.958571   9.494286   \n",
       "1961-04-10/1961-04-16   8.965714   8.000000   8.787143   4.971429   6.405714   \n",
       "1961-04-17/1961-04-23  12.621429  10.438571  10.255714   7.768571  10.357143   \n",
       "1961-04-24/1961-04-30  10.117143   9.798571   8.281429   4.801429   7.892857   \n",
       "1961-05-01/1961-05-07  15.367143  13.970000  13.834286   9.952857  14.917143   \n",
       "1961-05-08/1961-05-14   7.901667   7.645000   8.006667   5.421667   8.806667   \n",
       "1961-05-15/1961-05-21   8.561667   5.631667  12.361667   4.163333   7.641667   \n",
       "1961-05-22/1961-05-28   7.550000   6.536667   6.438333   3.748333   6.396667   \n",
       "1961-05-29/1961-06-04  10.321429   7.407143  10.065714   6.310000   9.754286   \n",
       "1961-06-05/1961-06-11  10.917143   8.992857   8.095714   5.214286  10.030000   \n",
       "1961-06-12/1961-06-18  10.571429   9.565714  10.875714   6.520000  10.260000   \n",
       "1961-06-19/1961-06-25   7.345714   6.108571   8.084286   5.478571  11.477143   \n",
       "1961-06-26/1961-07-02   9.826000   8.310000   8.358000   6.016000  10.076000   \n",
       "1961-07-03/1961-07-09  11.806667   7.221667   9.638333   7.448333  12.195000   \n",
       "1961-07-10/1961-07-16  16.680000  13.518571  11.171429   9.277143  14.524286   \n",
       "1961-07-17/1961-07-23   4.202857   4.255714   6.738571   3.300000   6.112857   \n",
       "1961-07-24/1961-07-30  10.561429   8.445714   9.352857   5.727143  10.077143   \n",
       "1961-07-31/1961-08-06  10.870000   8.792857   9.858571   6.238571  11.161429   \n",
       "1961-08-07/1961-08-13   9.928000   8.026000   8.778000   5.234000  10.774000   \n",
       "1961-08-14/1961-08-20  15.471667  10.513333  11.265000   8.568333  15.105000   \n",
       "1961-08-21/1961-08-27  12.391429  11.430000  12.768571   7.108571  13.250000   \n",
       "1961-08-28/1961-09-03   8.678571   8.821429   6.745714   5.642857   9.678571   \n",
       "1961-09-04/1961-09-10  10.541429   8.798571   8.185714   6.060000   9.231429   \n",
       "1961-09-11/1961-09-17  17.160000  14.440000  15.617143  10.442857  15.455714   \n",
       "1961-09-18/1961-09-24   8.291667   7.645000   7.993333   4.851667   8.618333   \n",
       "1961-09-25/1961-10-01  14.850000  11.361667  12.310000   7.903333  12.541667   \n",
       "1961-10-02/1961-10-08  11.250000   8.757143  10.167143   5.262857   8.255714   \n",
       "1961-10-09/1961-10-15  10.881667   9.905000   9.843333   7.063333  10.888333   \n",
       "1961-10-16/1961-10-22  19.260000  13.364286  15.828571  12.620000  15.137143   \n",
       "1961-10-23/1961-10-29  14.353333  10.303333  13.195000   7.053333  11.521667   \n",
       "1961-10-30/1961-11-05  11.571429   9.590000  10.827143   7.541429  10.840000   \n",
       "1961-11-06/1961-11-12  10.428571   7.690000  10.272857   4.660000   7.338571   \n",
       "1961-11-13/1961-11-19  10.798571   7.951429  16.988571   5.970000   8.131429   \n",
       "1961-11-20/1961-11-26   9.638333   6.886667   9.370000   5.458333   8.916667   \n",
       "1961-11-27/1961-12-03  12.608571  10.442857  11.481429   6.501429  10.357143   \n",
       "1961-12-04/1961-12-10  17.362857  14.362857  15.460000   8.624286  12.642857   \n",
       "1961-12-11/1961-12-17  14.985714  13.472857  13.720000   8.697143  14.297143   \n",
       "1961-12-18/1961-12-24  15.757143  11.971429  12.840000   5.785714  11.928571   \n",
       "1961-12-25/1961-12-31  13.634286   9.504286  15.804286   6.588571   8.112857   \n",
       "1962-01-01/1962-01-07   9.374286   7.471429   8.854286   3.088571   5.982857   \n",
       "\n",
       "                             BIR        DUB        CLA        MUL        CLO  \\\n",
       "datetime                                                                       \n",
       "1961-01-09/1961-01-15   5.072857   7.535714   6.820000   5.712857   7.571429   \n",
       "1961-01-16/1961-01-22   6.938333   7.828333   7.291667   5.891667   6.693333   \n",
       "1961-01-23/1961-01-29  14.016667  14.450000  14.311667  13.316667  14.921667   \n",
       "1961-01-30/1961-02-05   9.107143  12.204286   8.548571   9.821429   9.460000   \n",
       "1961-02-06/1961-02-12  12.522857  14.934286  14.850000  14.064286  14.440000   \n",
       "1961-02-13/1961-02-19  12.020000   9.530000  12.178333  12.508333  13.521667   \n",
       "1961-02-20/1961-02-26  10.114286  11.150000  10.875714  10.392857  12.730000   \n",
       "1961-02-27/1961-03-05   8.768000   9.326000  10.032000   9.668000  12.068000   \n",
       "1961-03-06/1961-03-12   8.791667   5.175000   8.960000   8.818333   9.570000   \n",
       "1961-03-13/1961-03-19   8.652857  10.041429  10.220000  10.101429  11.627143   \n",
       "1961-03-20/1961-03-26   7.982857  10.774286   8.977143  10.904286  11.481429   \n",
       "1961-03-27/1961-04-02   8.632000  10.442000   7.518000  10.666000   8.666000   \n",
       "1961-04-03/1961-04-09   7.637143   7.107143   8.041429   8.161429   7.238571   \n",
       "1961-04-10/1961-04-16   4.947143   5.005714   4.994286   5.718571   6.178571   \n",
       "1961-04-17/1961-04-23   7.798571   9.000000   9.111429   8.767143   9.551429   \n",
       "1961-04-24/1961-04-30   5.197143   6.150000   6.377143   6.242857   6.124286   \n",
       "1961-05-01/1961-05-07  10.864286  11.435714  12.244286  11.677143  11.585714   \n",
       "1961-05-08/1961-05-14   6.471667   8.013333   7.555000   7.908333   8.396667   \n",
       "1961-05-15/1961-05-21   4.916667   5.860000   6.868333   6.821667   6.855000   \n",
       "1961-05-22/1961-05-28   3.715000   4.445000   5.305000   5.528333   6.881667   \n",
       "1961-05-29/1961-06-04   6.451429   8.344286   8.635714   8.714286   9.035714   \n",
       "1961-06-05/1961-06-11   5.460000   7.084286   6.884286   8.034286   8.397143   \n",
       "1961-06-12/1961-06-18   6.947143   9.278571   9.102857   8.992857   9.594286   \n",
       "1961-06-19/1961-06-25   7.492857  11.868571   9.447143  10.458571  11.257143   \n",
       "1961-06-26/1961-07-02   5.776000   8.050000   8.300000   7.900000   9.716000   \n",
       "1961-07-03/1961-07-09   7.688333  11.888333   9.200000  10.348333  10.381667   \n",
       "1961-07-10/1961-07-16   8.412857  10.171429  10.507143   9.530000  10.157143   \n",
       "1961-07-17/1961-07-23   2.715714   3.964286   5.642857   5.297143   6.041429   \n",
       "1961-07-24/1961-07-30   6.552857   9.147143   9.198571   8.037143   9.470000   \n",
       "1961-07-31/1961-08-06   7.184286   8.671429   8.265714   8.011429   8.951429   \n",
       "1961-08-07/1961-08-13   6.292000   8.270000   8.330000   6.466000   7.632000   \n",
       "1961-08-14/1961-08-20  10.241667  12.903333  11.438333  11.598333  12.131667   \n",
       "1961-08-21/1961-08-27   9.424286  11.105714  12.201429   9.817143  12.507143   \n",
       "1961-08-28/1961-09-03   6.278571   6.434286   8.612857   6.744286   8.924286   \n",
       "1961-09-04/1961-09-10   5.685714   6.787143   6.674286   6.977143   7.565714   \n",
       "1961-09-11/1961-09-17  11.082857  12.267143  13.131429  11.401429  14.268571   \n",
       "1961-09-18/1961-09-24   5.140000   5.921667   6.881667   5.151667   6.896667   \n",
       "1961-09-25/1961-10-01   8.223333   8.938333   9.620000   8.353333  10.903333   \n",
       "1961-10-02/1961-10-08   5.552857   7.411429   6.220000   5.650000   7.662857   \n",
       "1961-10-09/1961-10-15   8.203333   9.230000   8.155000   7.765000  10.181667   \n",
       "1961-10-16/1961-10-22  10.721429  15.565714  12.560000  13.118571  16.461429   \n",
       "1961-10-23/1961-10-29   7.840000  11.883333   8.443333   9.435000  11.423333   \n",
       "1961-10-30/1961-11-05   8.667143  12.791429   9.970000  10.172857  11.864286   \n",
       "1961-11-06/1961-11-12   4.220000   9.308571   4.257143   5.188571   6.415714   \n",
       "1961-11-13/1961-11-19   5.492857   9.660000   4.625714   4.501429   6.031429   \n",
       "1961-11-20/1961-11-26   6.373333  12.103333   6.918333   7.035000  10.026667   \n",
       "1961-11-27/1961-12-03   6.868571  11.077143   6.245714   7.372857   7.911429   \n",
       "1961-12-04/1961-12-10  10.421429  14.545714  10.114286   9.970000  12.022857   \n",
       "1961-12-11/1961-12-17  11.698571  13.665714  10.428571  10.655714  11.058571   \n",
       "1961-12-18/1961-12-24   7.084286   8.071429   7.012857   5.517143   7.697143   \n",
       "1961-12-25/1961-12-31   5.372857  11.892857   6.851429   6.748571   7.701429   \n",
       "1962-01-01/1962-01-07   3.947143   9.570000   4.661429   4.572857   6.475714   \n",
       "\n",
       "                             BEL        MAL  \n",
       "datetime                                     \n",
       "1961-01-09/1961-01-15  11.125714  11.024286  \n",
       "1961-01-16/1961-01-22   9.993333  10.346667  \n",
       "1961-01-23/1961-01-29  19.800000  22.388333  \n",
       "1961-01-30/1961-02-05  14.012857  11.935714  \n",
       "1961-02-06/1961-02-12  21.832857  19.155714  \n",
       "1961-02-13/1961-02-19  19.756667  15.925000  \n",
       "1961-02-20/1961-02-26  16.304286  14.322857  \n",
       "1961-02-27/1961-03-05  17.174000  14.108000  \n",
       "1961-03-06/1961-03-12  16.068333  13.066667  \n",
       "1961-03-13/1961-03-19  19.350000  16.227143  \n",
       "1961-03-20/1961-03-26  14.037143  18.134286  \n",
       "1961-03-27/1961-04-02  12.094000  12.910000  \n",
       "1961-04-03/1961-04-09  11.712857  11.371429  \n",
       "1961-04-10/1961-04-16   9.482857   8.690000  \n",
       "1961-04-17/1961-04-23  13.620000  12.470000  \n",
       "1961-04-24/1961-04-30   9.720000   8.637143  \n",
       "1961-05-01/1961-05-07  17.548571  14.571429  \n",
       "1961-05-08/1961-05-14  10.386667  10.530000  \n",
       "1961-05-15/1961-05-21   9.493333  10.256667  \n",
       "1961-05-22/1961-05-28   9.883333  10.883333  \n",
       "1961-05-29/1961-06-04  12.298571  13.597143  \n",
       "1961-06-05/1961-06-11  10.148571  12.250000  \n",
       "1961-06-12/1961-06-18  15.351429  15.025714  \n",
       "1961-06-19/1961-06-25  14.370000  17.410000  \n",
       "1961-06-26/1961-07-02  11.800000  12.402000  \n",
       "1961-07-03/1961-07-09  11.700000  15.750000  \n",
       "1961-07-10/1961-07-16  13.520000  12.524286  \n",
       "1961-07-17/1961-07-23   7.524286   8.415714  \n",
       "1961-07-24/1961-07-30  12.841429  13.761429  \n",
       "1961-07-31/1961-08-06  11.595714  13.760000  \n",
       "1961-08-07/1961-08-13  11.274000   9.858000  \n",
       "1961-08-14/1961-08-20  14.848333  16.626667  \n",
       "1961-08-21/1961-08-27  16.251429  16.485714  \n",
       "1961-08-28/1961-09-03  13.664286  11.022857  \n",
       "1961-09-04/1961-09-10  10.700000  11.034286  \n",
       "1961-09-11/1961-09-17  19.878571  18.984286  \n",
       "1961-09-18/1961-09-24  11.653333   9.915000  \n",
       "1961-09-25/1961-10-01  15.348333  12.701667  \n",
       "1961-10-02/1961-10-08   8.810000  11.410000  \n",
       "1961-10-09/1961-10-15  14.783333  16.011667  \n",
       "1961-10-16/1961-10-22  17.477143  23.641429  \n",
       "1961-10-23/1961-10-29  13.643333  16.325000  \n",
       "1961-10-30/1961-11-05  16.322857  19.195714  \n",
       "1961-11-06/1961-11-12   9.208571  10.858571  \n",
       "1961-11-13/1961-11-19   5.875714   5.737143  \n",
       "1961-11-20/1961-11-26  11.971667  14.146667  \n",
       "1961-11-27/1961-12-03  11.464286  14.725714  \n",
       "1961-12-04/1961-12-10  15.975714  16.241429  \n",
       "1961-12-11/1961-12-17  15.112857  14.644286  \n",
       "1961-12-18/1961-12-24   9.958571   8.164286  \n",
       "1961-12-25/1961-12-31   9.697143  12.840000  \n",
       "1962-01-01/1962-01-07   9.691429  10.854286  "
      ]
     },
     "execution_count": 90,
     "metadata": {},
     "output_type": "execute_result"
    }
   ],
   "source": [
    "#the mean of each location is calulated based on week, then the number of week is assumed as 1:53\n",
    "meanVal =wind.groupby(wind.index.to_period('W')).mean()\n",
    "meanVal = meanVal.iloc[1:53]\n",
    "meanVal"
   ]
  },
  {
   "cell_type": "code",
   "execution_count": 91,
   "metadata": {},
   "outputs": [
    {
     "data": {
      "text/html": [
       "<div>\n",
       "<style scoped>\n",
       "    .dataframe tbody tr th:only-of-type {\n",
       "        vertical-align: middle;\n",
       "    }\n",
       "\n",
       "    .dataframe tbody tr th {\n",
       "        vertical-align: top;\n",
       "    }\n",
       "\n",
       "    .dataframe thead th {\n",
       "        text-align: right;\n",
       "    }\n",
       "</style>\n",
       "<table border=\"1\" class=\"dataframe\">\n",
       "  <thead>\n",
       "    <tr style=\"text-align: right;\">\n",
       "      <th></th>\n",
       "      <th>RPT</th>\n",
       "      <th>VAL</th>\n",
       "      <th>ROS</th>\n",
       "      <th>KIL</th>\n",
       "      <th>SHA</th>\n",
       "      <th>BIR</th>\n",
       "      <th>DUB</th>\n",
       "      <th>CLA</th>\n",
       "      <th>MUL</th>\n",
       "      <th>CLO</th>\n",
       "      <th>BEL</th>\n",
       "      <th>MAL</th>\n",
       "    </tr>\n",
       "    <tr>\n",
       "      <th>datetime</th>\n",
       "      <th></th>\n",
       "      <th></th>\n",
       "      <th></th>\n",
       "      <th></th>\n",
       "      <th></th>\n",
       "      <th></th>\n",
       "      <th></th>\n",
       "      <th></th>\n",
       "      <th></th>\n",
       "      <th></th>\n",
       "      <th></th>\n",
       "      <th></th>\n",
       "    </tr>\n",
       "  </thead>\n",
       "  <tbody>\n",
       "    <tr>\n",
       "      <th>1961-01-09/1961-01-15</th>\n",
       "      <td>3.555392</td>\n",
       "      <td>3.148945</td>\n",
       "      <td>5.034959</td>\n",
       "      <td>3.549559</td>\n",
       "      <td>3.471726</td>\n",
       "      <td>3.251039</td>\n",
       "      <td>4.709309</td>\n",
       "      <td>3.936894</td>\n",
       "      <td>3.500975</td>\n",
       "      <td>4.084293</td>\n",
       "      <td>5.552215</td>\n",
       "      <td>4.692355</td>\n",
       "    </tr>\n",
       "    <tr>\n",
       "      <th>1961-01-16/1961-01-22</th>\n",
       "      <td>4.893064</td>\n",
       "      <td>4.070420</td>\n",
       "      <td>4.101421</td>\n",
       "      <td>3.466079</td>\n",
       "      <td>3.612875</td>\n",
       "      <td>3.519326</td>\n",
       "      <td>3.857488</td>\n",
       "      <td>3.025765</td>\n",
       "      <td>2.765440</td>\n",
       "      <td>3.203652</td>\n",
       "      <td>3.941358</td>\n",
       "      <td>3.407132</td>\n",
       "    </tr>\n",
       "    <tr>\n",
       "      <th>1961-01-23/1961-01-29</th>\n",
       "      <td>4.619061</td>\n",
       "      <td>4.242125</td>\n",
       "      <td>4.719091</td>\n",
       "      <td>4.096436</td>\n",
       "      <td>4.244035</td>\n",
       "      <td>3.366385</td>\n",
       "      <td>3.823543</td>\n",
       "      <td>4.191761</td>\n",
       "      <td>4.179486</td>\n",
       "      <td>3.494638</td>\n",
       "      <td>4.675044</td>\n",
       "      <td>4.224639</td>\n",
       "    </tr>\n",
       "    <tr>\n",
       "      <th>1961-01-30/1961-02-05</th>\n",
       "      <td>5.251408</td>\n",
       "      <td>5.187395</td>\n",
       "      <td>3.975166</td>\n",
       "      <td>2.709106</td>\n",
       "      <td>2.334619</td>\n",
       "      <td>2.397066</td>\n",
       "      <td>2.423454</td>\n",
       "      <td>4.081158</td>\n",
       "      <td>2.802490</td>\n",
       "      <td>2.839501</td>\n",
       "      <td>4.210858</td>\n",
       "      <td>4.336104</td>\n",
       "    </tr>\n",
       "    <tr>\n",
       "      <th>1961-02-06/1961-02-12</th>\n",
       "      <td>3.587677</td>\n",
       "      <td>3.608373</td>\n",
       "      <td>3.290303</td>\n",
       "      <td>2.262056</td>\n",
       "      <td>5.571108</td>\n",
       "      <td>3.048976</td>\n",
       "      <td>2.974059</td>\n",
       "      <td>3.022753</td>\n",
       "      <td>2.914760</td>\n",
       "      <td>1.746749</td>\n",
       "      <td>4.063753</td>\n",
       "      <td>1.828705</td>\n",
       "    </tr>\n",
       "    <tr>\n",
       "      <th>1961-02-13/1961-02-19</th>\n",
       "      <td>5.525210</td>\n",
       "      <td>3.908818</td>\n",
       "      <td>4.596928</td>\n",
       "      <td>4.311569</td>\n",
       "      <td>2.542941</td>\n",
       "      <td>3.283510</td>\n",
       "      <td>5.431781</td>\n",
       "      <td>2.497226</td>\n",
       "      <td>2.778528</td>\n",
       "      <td>2.772287</td>\n",
       "      <td>5.021524</td>\n",
       "      <td>4.763632</td>\n",
       "    </tr>\n",
       "    <tr>\n",
       "      <th>1961-02-20/1961-02-26</th>\n",
       "      <td>7.020716</td>\n",
       "      <td>5.147348</td>\n",
       "      <td>5.578470</td>\n",
       "      <td>4.482075</td>\n",
       "      <td>6.480712</td>\n",
       "      <td>5.029874</td>\n",
       "      <td>6.037916</td>\n",
       "      <td>4.869668</td>\n",
       "      <td>4.705163</td>\n",
       "      <td>4.920064</td>\n",
       "      <td>5.091162</td>\n",
       "      <td>6.182283</td>\n",
       "    </tr>\n",
       "    <tr>\n",
       "      <th>1961-02-27/1961-03-05</th>\n",
       "      <td>1.071742</td>\n",
       "      <td>3.490319</td>\n",
       "      <td>1.969142</td>\n",
       "      <td>1.815585</td>\n",
       "      <td>2.752539</td>\n",
       "      <td>1.845974</td>\n",
       "      <td>3.253603</td>\n",
       "      <td>2.640733</td>\n",
       "      <td>2.162908</td>\n",
       "      <td>1.729775</td>\n",
       "      <td>5.058249</td>\n",
       "      <td>3.350772</td>\n",
       "    </tr>\n",
       "    <tr>\n",
       "      <th>1961-03-06/1961-03-12</th>\n",
       "      <td>3.732263</td>\n",
       "      <td>3.359302</td>\n",
       "      <td>2.888631</td>\n",
       "      <td>2.431686</td>\n",
       "      <td>2.813686</td>\n",
       "      <td>3.181839</td>\n",
       "      <td>3.511933</td>\n",
       "      <td>3.621955</td>\n",
       "      <td>2.546428</td>\n",
       "      <td>3.065864</td>\n",
       "      <td>4.408144</td>\n",
       "      <td>4.956336</td>\n",
       "    </tr>\n",
       "    <tr>\n",
       "      <th>1961-03-13/1961-03-19</th>\n",
       "      <td>3.860036</td>\n",
       "      <td>2.352867</td>\n",
       "      <td>2.939244</td>\n",
       "      <td>2.416746</td>\n",
       "      <td>2.654289</td>\n",
       "      <td>2.045448</td>\n",
       "      <td>4.046593</td>\n",
       "      <td>3.373421</td>\n",
       "      <td>3.301880</td>\n",
       "      <td>3.099472</td>\n",
       "      <td>3.779727</td>\n",
       "      <td>4.331958</td>\n",
       "    </tr>\n",
       "    <tr>\n",
       "      <th>1961-03-20/1961-03-26</th>\n",
       "      <td>3.613298</td>\n",
       "      <td>3.657265</td>\n",
       "      <td>4.041121</td>\n",
       "      <td>2.410127</td>\n",
       "      <td>2.927188</td>\n",
       "      <td>2.285729</td>\n",
       "      <td>2.892270</td>\n",
       "      <td>2.789682</td>\n",
       "      <td>2.469432</td>\n",
       "      <td>2.538224</td>\n",
       "      <td>4.318069</td>\n",
       "      <td>3.701846</td>\n",
       "    </tr>\n",
       "    <tr>\n",
       "      <th>1961-03-27/1961-04-02</th>\n",
       "      <td>4.853908</td>\n",
       "      <td>5.130656</td>\n",
       "      <td>4.027031</td>\n",
       "      <td>3.745334</td>\n",
       "      <td>6.063323</td>\n",
       "      <td>4.065940</td>\n",
       "      <td>4.540041</td>\n",
       "      <td>4.534884</td>\n",
       "      <td>4.470999</td>\n",
       "      <td>3.193114</td>\n",
       "      <td>4.138965</td>\n",
       "      <td>3.698547</td>\n",
       "    </tr>\n",
       "    <tr>\n",
       "      <th>1961-04-03/1961-04-09</th>\n",
       "      <td>4.604392</td>\n",
       "      <td>2.845399</td>\n",
       "      <td>2.902991</td>\n",
       "      <td>2.854052</td>\n",
       "      <td>2.743895</td>\n",
       "      <td>2.525046</td>\n",
       "      <td>2.109769</td>\n",
       "      <td>1.996609</td>\n",
       "      <td>1.935058</td>\n",
       "      <td>2.336182</td>\n",
       "      <td>3.147781</td>\n",
       "      <td>2.598271</td>\n",
       "    </tr>\n",
       "    <tr>\n",
       "      <th>1961-04-10/1961-04-16</th>\n",
       "      <td>3.937727</td>\n",
       "      <td>2.607118</td>\n",
       "      <td>4.585752</td>\n",
       "      <td>2.664416</td>\n",
       "      <td>1.941836</td>\n",
       "      <td>2.388107</td>\n",
       "      <td>1.970667</td>\n",
       "      <td>2.379446</td>\n",
       "      <td>2.123279</td>\n",
       "      <td>2.161137</td>\n",
       "      <td>3.641464</td>\n",
       "      <td>2.747842</td>\n",
       "    </tr>\n",
       "    <tr>\n",
       "      <th>1961-04-17/1961-04-23</th>\n",
       "      <td>5.676655</td>\n",
       "      <td>4.631736</td>\n",
       "      <td>5.456290</td>\n",
       "      <td>3.835403</td>\n",
       "      <td>4.122437</td>\n",
       "      <td>3.835998</td>\n",
       "      <td>3.254663</td>\n",
       "      <td>3.935731</td>\n",
       "      <td>3.656682</td>\n",
       "      <td>3.347972</td>\n",
       "      <td>4.735096</td>\n",
       "      <td>5.908542</td>\n",
       "    </tr>\n",
       "    <tr>\n",
       "      <th>1961-04-24/1961-04-30</th>\n",
       "      <td>4.349662</td>\n",
       "      <td>2.871425</td>\n",
       "      <td>3.732776</td>\n",
       "      <td>1.897616</td>\n",
       "      <td>3.259907</td>\n",
       "      <td>2.528436</td>\n",
       "      <td>3.565777</td>\n",
       "      <td>3.426255</td>\n",
       "      <td>2.718926</td>\n",
       "      <td>2.840568</td>\n",
       "      <td>2.948237</td>\n",
       "      <td>5.108365</td>\n",
       "    </tr>\n",
       "    <tr>\n",
       "      <th>1961-05-01/1961-05-07</th>\n",
       "      <td>5.025507</td>\n",
       "      <td>3.750835</td>\n",
       "      <td>4.301778</td>\n",
       "      <td>3.141495</td>\n",
       "      <td>5.781916</td>\n",
       "      <td>3.324038</td>\n",
       "      <td>4.419008</td>\n",
       "      <td>4.461950</td>\n",
       "      <td>3.558856</td>\n",
       "      <td>3.620819</td>\n",
       "      <td>8.003490</td>\n",
       "      <td>7.728504</td>\n",
       "    </tr>\n",
       "    <tr>\n",
       "      <th>1961-05-08/1961-05-14</th>\n",
       "      <td>3.673850</td>\n",
       "      <td>2.755749</td>\n",
       "      <td>3.253310</td>\n",
       "      <td>3.827309</td>\n",
       "      <td>5.177801</td>\n",
       "      <td>5.099664</td>\n",
       "      <td>5.744586</td>\n",
       "      <td>4.927611</td>\n",
       "      <td>5.507248</td>\n",
       "      <td>5.745543</td>\n",
       "      <td>4.345856</td>\n",
       "      <td>8.597707</td>\n",
       "    </tr>\n",
       "    <tr>\n",
       "      <th>1961-05-15/1961-05-21</th>\n",
       "      <td>3.857369</td>\n",
       "      <td>2.468906</td>\n",
       "      <td>4.022330</td>\n",
       "      <td>0.678636</td>\n",
       "      <td>2.780830</td>\n",
       "      <td>1.476776</td>\n",
       "      <td>1.743743</td>\n",
       "      <td>2.415777</td>\n",
       "      <td>1.766380</td>\n",
       "      <td>2.309283</td>\n",
       "      <td>2.130903</td>\n",
       "      <td>3.476795</td>\n",
       "    </tr>\n",
       "    <tr>\n",
       "      <th>1961-05-22/1961-05-28</th>\n",
       "      <td>2.433828</td>\n",
       "      <td>2.757025</td>\n",
       "      <td>3.510598</td>\n",
       "      <td>1.378803</td>\n",
       "      <td>2.813494</td>\n",
       "      <td>1.697595</td>\n",
       "      <td>1.592718</td>\n",
       "      <td>2.115247</td>\n",
       "      <td>1.388631</td>\n",
       "      <td>2.089856</td>\n",
       "      <td>2.754572</td>\n",
       "      <td>3.445685</td>\n",
       "    </tr>\n",
       "    <tr>\n",
       "      <th>1961-05-29/1961-06-04</th>\n",
       "      <td>3.099701</td>\n",
       "      <td>1.868125</td>\n",
       "      <td>3.474607</td>\n",
       "      <td>2.323826</td>\n",
       "      <td>2.305695</td>\n",
       "      <td>1.332009</td>\n",
       "      <td>2.300028</td>\n",
       "      <td>0.915184</td>\n",
       "      <td>1.954609</td>\n",
       "      <td>2.096989</td>\n",
       "      <td>2.611139</td>\n",
       "      <td>2.593586</td>\n",
       "    </tr>\n",
       "    <tr>\n",
       "      <th>1961-06-05/1961-06-11</th>\n",
       "      <td>2.248597</td>\n",
       "      <td>1.524836</td>\n",
       "      <td>1.887475</td>\n",
       "      <td>1.603775</td>\n",
       "      <td>2.238228</td>\n",
       "      <td>2.204087</td>\n",
       "      <td>2.514689</td>\n",
       "      <td>2.857527</td>\n",
       "      <td>1.695090</td>\n",
       "      <td>2.158323</td>\n",
       "      <td>3.993062</td>\n",
       "      <td>4.925055</td>\n",
       "    </tr>\n",
       "    <tr>\n",
       "      <th>1961-06-12/1961-06-18</th>\n",
       "      <td>3.009482</td>\n",
       "      <td>3.509444</td>\n",
       "      <td>3.429057</td>\n",
       "      <td>2.130352</td>\n",
       "      <td>4.175947</td>\n",
       "      <td>3.292713</td>\n",
       "      <td>3.417989</td>\n",
       "      <td>4.858023</td>\n",
       "      <td>2.900464</td>\n",
       "      <td>3.792400</td>\n",
       "      <td>6.477887</td>\n",
       "      <td>6.242673</td>\n",
       "    </tr>\n",
       "    <tr>\n",
       "      <th>1961-06-19/1961-06-25</th>\n",
       "      <td>1.982035</td>\n",
       "      <td>2.212460</td>\n",
       "      <td>1.916454</td>\n",
       "      <td>1.332234</td>\n",
       "      <td>1.422401</td>\n",
       "      <td>1.448318</td>\n",
       "      <td>2.455385</td>\n",
       "      <td>2.109358</td>\n",
       "      <td>2.042257</td>\n",
       "      <td>2.286218</td>\n",
       "      <td>2.498386</td>\n",
       "      <td>3.063011</td>\n",
       "    </tr>\n",
       "    <tr>\n",
       "      <th>1961-06-26/1961-07-02</th>\n",
       "      <td>2.629340</td>\n",
       "      <td>2.169505</td>\n",
       "      <td>0.808437</td>\n",
       "      <td>1.101830</td>\n",
       "      <td>1.831032</td>\n",
       "      <td>0.917240</td>\n",
       "      <td>1.842593</td>\n",
       "      <td>2.829514</td>\n",
       "      <td>2.054142</td>\n",
       "      <td>1.437891</td>\n",
       "      <td>5.171098</td>\n",
       "      <td>4.016574</td>\n",
       "    </tr>\n",
       "    <tr>\n",
       "      <th>1961-07-03/1961-07-09</th>\n",
       "      <td>4.005984</td>\n",
       "      <td>2.943083</td>\n",
       "      <td>3.149511</td>\n",
       "      <td>3.163374</td>\n",
       "      <td>3.915925</td>\n",
       "      <td>2.555609</td>\n",
       "      <td>3.493425</td>\n",
       "      <td>3.447741</td>\n",
       "      <td>3.614910</td>\n",
       "      <td>3.977428</td>\n",
       "      <td>4.737155</td>\n",
       "      <td>3.956322</td>\n",
       "    </tr>\n",
       "    <tr>\n",
       "      <th>1961-07-10/1961-07-16</th>\n",
       "      <td>5.168710</td>\n",
       "      <td>3.849630</td>\n",
       "      <td>2.166206</td>\n",
       "      <td>2.665625</td>\n",
       "      <td>4.596567</td>\n",
       "      <td>3.164715</td>\n",
       "      <td>4.489523</td>\n",
       "      <td>4.083629</td>\n",
       "      <td>3.978635</td>\n",
       "      <td>3.271899</td>\n",
       "      <td>4.971060</td>\n",
       "      <td>4.974273</td>\n",
       "    </tr>\n",
       "    <tr>\n",
       "      <th>1961-07-17/1961-07-23</th>\n",
       "      <td>1.047978</td>\n",
       "      <td>1.400010</td>\n",
       "      <td>2.783208</td>\n",
       "      <td>1.158908</td>\n",
       "      <td>0.764956</td>\n",
       "      <td>0.617815</td>\n",
       "      <td>1.757905</td>\n",
       "      <td>1.479152</td>\n",
       "      <td>0.873207</td>\n",
       "      <td>1.439785</td>\n",
       "      <td>2.050218</td>\n",
       "      <td>2.133994</td>\n",
       "    </tr>\n",
       "    <tr>\n",
       "      <th>1961-07-24/1961-07-30</th>\n",
       "      <td>4.157641</td>\n",
       "      <td>3.203206</td>\n",
       "      <td>3.276465</td>\n",
       "      <td>2.843207</td>\n",
       "      <td>4.514505</td>\n",
       "      <td>3.786633</td>\n",
       "      <td>5.110195</td>\n",
       "      <td>4.060478</td>\n",
       "      <td>4.504844</td>\n",
       "      <td>4.350268</td>\n",
       "      <td>5.580903</td>\n",
       "      <td>6.664574</td>\n",
       "    </tr>\n",
       "    <tr>\n",
       "      <th>1961-07-31/1961-08-06</th>\n",
       "      <td>2.950887</td>\n",
       "      <td>3.985226</td>\n",
       "      <td>3.483894</td>\n",
       "      <td>1.647275</td>\n",
       "      <td>4.189524</td>\n",
       "      <td>2.642246</td>\n",
       "      <td>3.709319</td>\n",
       "      <td>3.921508</td>\n",
       "      <td>3.217501</td>\n",
       "      <td>2.903018</td>\n",
       "      <td>4.901377</td>\n",
       "      <td>4.448251</td>\n",
       "    </tr>\n",
       "    <tr>\n",
       "      <th>1961-08-07/1961-08-13</th>\n",
       "      <td>4.931346</td>\n",
       "      <td>2.410960</td>\n",
       "      <td>2.651748</td>\n",
       "      <td>2.319931</td>\n",
       "      <td>3.491444</td>\n",
       "      <td>2.412202</td>\n",
       "      <td>3.664171</td>\n",
       "      <td>2.371782</td>\n",
       "      <td>3.307556</td>\n",
       "      <td>2.047833</td>\n",
       "      <td>1.882254</td>\n",
       "      <td>3.697340</td>\n",
       "    </tr>\n",
       "    <tr>\n",
       "      <th>1961-08-14/1961-08-20</th>\n",
       "      <td>2.470590</td>\n",
       "      <td>2.760092</td>\n",
       "      <td>1.846367</td>\n",
       "      <td>2.121107</td>\n",
       "      <td>2.776247</td>\n",
       "      <td>2.386976</td>\n",
       "      <td>3.383730</td>\n",
       "      <td>3.156811</td>\n",
       "      <td>2.508174</td>\n",
       "      <td>2.972961</td>\n",
       "      <td>4.471570</td>\n",
       "      <td>3.934238</td>\n",
       "    </tr>\n",
       "    <tr>\n",
       "      <th>1961-08-21/1961-08-27</th>\n",
       "      <td>3.395857</td>\n",
       "      <td>3.174702</td>\n",
       "      <td>3.071403</td>\n",
       "      <td>2.455711</td>\n",
       "      <td>4.380624</td>\n",
       "      <td>3.416186</td>\n",
       "      <td>4.170083</td>\n",
       "      <td>4.900671</td>\n",
       "      <td>4.120185</td>\n",
       "      <td>3.855302</td>\n",
       "      <td>6.711322</td>\n",
       "      <td>4.947608</td>\n",
       "    </tr>\n",
       "    <tr>\n",
       "      <th>1961-08-28/1961-09-03</th>\n",
       "      <td>4.398615</td>\n",
       "      <td>7.474025</td>\n",
       "      <td>4.395383</td>\n",
       "      <td>3.790030</td>\n",
       "      <td>6.128522</td>\n",
       "      <td>4.455552</td>\n",
       "      <td>3.920110</td>\n",
       "      <td>5.012759</td>\n",
       "      <td>4.155931</td>\n",
       "      <td>3.993736</td>\n",
       "      <td>7.678051</td>\n",
       "      <td>6.308087</td>\n",
       "    </tr>\n",
       "    <tr>\n",
       "      <th>1961-09-04/1961-09-10</th>\n",
       "      <td>5.207278</td>\n",
       "      <td>4.003996</td>\n",
       "      <td>3.922643</td>\n",
       "      <td>3.151502</td>\n",
       "      <td>3.178791</td>\n",
       "      <td>2.965546</td>\n",
       "      <td>4.258696</td>\n",
       "      <td>3.074692</td>\n",
       "      <td>3.767708</td>\n",
       "      <td>3.649278</td>\n",
       "      <td>4.220584</td>\n",
       "      <td>6.049619</td>\n",
       "    </tr>\n",
       "    <tr>\n",
       "      <th>1961-09-11/1961-09-17</th>\n",
       "      <td>7.679190</td>\n",
       "      <td>5.360585</td>\n",
       "      <td>6.638947</td>\n",
       "      <td>5.560509</td>\n",
       "      <td>6.279010</td>\n",
       "      <td>4.706530</td>\n",
       "      <td>4.235755</td>\n",
       "      <td>4.565163</td>\n",
       "      <td>4.847073</td>\n",
       "      <td>5.128338</td>\n",
       "      <td>4.464252</td>\n",
       "      <td>6.332885</td>\n",
       "    </tr>\n",
       "    <tr>\n",
       "      <th>1961-09-18/1961-09-24</th>\n",
       "      <td>1.250191</td>\n",
       "      <td>3.495865</td>\n",
       "      <td>2.322229</td>\n",
       "      <td>1.609614</td>\n",
       "      <td>3.216995</td>\n",
       "      <td>2.496061</td>\n",
       "      <td>1.406889</td>\n",
       "      <td>3.342247</td>\n",
       "      <td>1.633468</td>\n",
       "      <td>2.563058</td>\n",
       "      <td>5.432553</td>\n",
       "      <td>3.398163</td>\n",
       "    </tr>\n",
       "    <tr>\n",
       "      <th>1961-09-25/1961-10-01</th>\n",
       "      <td>3.600911</td>\n",
       "      <td>2.812482</td>\n",
       "      <td>4.051869</td>\n",
       "      <td>1.793429</td>\n",
       "      <td>1.395929</td>\n",
       "      <td>1.376600</td>\n",
       "      <td>2.140630</td>\n",
       "      <td>2.911323</td>\n",
       "      <td>1.210548</td>\n",
       "      <td>3.310738</td>\n",
       "      <td>4.988901</td>\n",
       "      <td>4.802201</td>\n",
       "    </tr>\n",
       "    <tr>\n",
       "      <th>1961-10-02/1961-10-08</th>\n",
       "      <td>5.596710</td>\n",
       "      <td>5.060803</td>\n",
       "      <td>4.394234</td>\n",
       "      <td>3.249050</td>\n",
       "      <td>3.830935</td>\n",
       "      <td>3.686641</td>\n",
       "      <td>3.420894</td>\n",
       "      <td>3.313201</td>\n",
       "      <td>3.717239</td>\n",
       "      <td>4.296870</td>\n",
       "      <td>4.800403</td>\n",
       "      <td>5.462002</td>\n",
       "    </tr>\n",
       "    <tr>\n",
       "      <th>1961-10-09/1961-10-15</th>\n",
       "      <td>4.780675</td>\n",
       "      <td>2.924338</td>\n",
       "      <td>6.189632</td>\n",
       "      <td>2.180391</td>\n",
       "      <td>2.344435</td>\n",
       "      <td>2.044130</td>\n",
       "      <td>3.415810</td>\n",
       "      <td>2.645439</td>\n",
       "      <td>2.826997</td>\n",
       "      <td>3.364375</td>\n",
       "      <td>4.401903</td>\n",
       "      <td>3.925249</td>\n",
       "    </tr>\n",
       "    <tr>\n",
       "      <th>1961-10-16/1961-10-22</th>\n",
       "      <td>7.888314</td>\n",
       "      <td>5.998199</td>\n",
       "      <td>5.463782</td>\n",
       "      <td>4.989763</td>\n",
       "      <td>6.095112</td>\n",
       "      <td>3.801637</td>\n",
       "      <td>5.334910</td>\n",
       "      <td>5.199929</td>\n",
       "      <td>3.785875</td>\n",
       "      <td>5.890511</td>\n",
       "      <td>5.645871</td>\n",
       "      <td>7.468377</td>\n",
       "    </tr>\n",
       "    <tr>\n",
       "      <th>1961-10-23/1961-10-29</th>\n",
       "      <td>7.143390</td>\n",
       "      <td>6.021514</td>\n",
       "      <td>7.031309</td>\n",
       "      <td>4.678550</td>\n",
       "      <td>6.021500</td>\n",
       "      <td>4.612227</td>\n",
       "      <td>4.293370</td>\n",
       "      <td>4.380227</td>\n",
       "      <td>4.448500</td>\n",
       "      <td>5.257283</td>\n",
       "      <td>5.274629</td>\n",
       "      <td>6.867864</td>\n",
       "    </tr>\n",
       "    <tr>\n",
       "      <th>1961-10-30/1961-11-05</th>\n",
       "      <td>3.369201</td>\n",
       "      <td>3.900278</td>\n",
       "      <td>2.461109</td>\n",
       "      <td>2.448363</td>\n",
       "      <td>3.664806</td>\n",
       "      <td>2.513051</td>\n",
       "      <td>2.727816</td>\n",
       "      <td>3.599111</td>\n",
       "      <td>3.003274</td>\n",
       "      <td>2.784450</td>\n",
       "      <td>4.038493</td>\n",
       "      <td>3.870800</td>\n",
       "    </tr>\n",
       "    <tr>\n",
       "      <th>1961-11-06/1961-11-12</th>\n",
       "      <td>3.939811</td>\n",
       "      <td>2.141191</td>\n",
       "      <td>6.779554</td>\n",
       "      <td>2.930324</td>\n",
       "      <td>2.090641</td>\n",
       "      <td>1.414308</td>\n",
       "      <td>2.388943</td>\n",
       "      <td>2.181840</td>\n",
       "      <td>2.153102</td>\n",
       "      <td>2.843518</td>\n",
       "      <td>2.532196</td>\n",
       "      <td>3.690752</td>\n",
       "    </tr>\n",
       "    <tr>\n",
       "      <th>1961-11-13/1961-11-19</th>\n",
       "      <td>2.784358</td>\n",
       "      <td>3.208548</td>\n",
       "      <td>9.415716</td>\n",
       "      <td>4.176374</td>\n",
       "      <td>2.092809</td>\n",
       "      <td>3.440953</td>\n",
       "      <td>7.027159</td>\n",
       "      <td>3.452202</td>\n",
       "      <td>3.488521</td>\n",
       "      <td>4.402588</td>\n",
       "      <td>3.643285</td>\n",
       "      <td>3.787654</td>\n",
       "    </tr>\n",
       "    <tr>\n",
       "      <th>1961-11-20/1961-11-26</th>\n",
       "      <td>3.229622</td>\n",
       "      <td>3.344994</td>\n",
       "      <td>3.397711</td>\n",
       "      <td>1.411856</td>\n",
       "      <td>2.336037</td>\n",
       "      <td>1.996444</td>\n",
       "      <td>3.551685</td>\n",
       "      <td>2.493900</td>\n",
       "      <td>2.230720</td>\n",
       "      <td>2.720968</td>\n",
       "      <td>5.895223</td>\n",
       "      <td>5.790840</td>\n",
       "    </tr>\n",
       "    <tr>\n",
       "      <th>1961-11-27/1961-12-03</th>\n",
       "      <td>5.704669</td>\n",
       "      <td>5.107089</td>\n",
       "      <td>4.163650</td>\n",
       "      <td>4.097123</td>\n",
       "      <td>5.536334</td>\n",
       "      <td>3.534980</td>\n",
       "      <td>4.186505</td>\n",
       "      <td>3.744471</td>\n",
       "      <td>3.658796</td>\n",
       "      <td>3.680477</td>\n",
       "      <td>5.552648</td>\n",
       "      <td>5.233192</td>\n",
       "    </tr>\n",
       "    <tr>\n",
       "      <th>1961-12-04/1961-12-10</th>\n",
       "      <td>4.890152</td>\n",
       "      <td>4.115506</td>\n",
       "      <td>4.682044</td>\n",
       "      <td>3.782631</td>\n",
       "      <td>3.345941</td>\n",
       "      <td>3.481252</td>\n",
       "      <td>4.357862</td>\n",
       "      <td>4.503161</td>\n",
       "      <td>3.452864</td>\n",
       "      <td>4.156207</td>\n",
       "      <td>4.667933</td>\n",
       "      <td>7.345893</td>\n",
       "    </tr>\n",
       "    <tr>\n",
       "      <th>1961-12-11/1961-12-17</th>\n",
       "      <td>4.095106</td>\n",
       "      <td>3.587886</td>\n",
       "      <td>3.843380</td>\n",
       "      <td>3.501489</td>\n",
       "      <td>3.943048</td>\n",
       "      <td>3.312448</td>\n",
       "      <td>6.474478</td>\n",
       "      <td>3.482027</td>\n",
       "      <td>4.333020</td>\n",
       "      <td>4.633398</td>\n",
       "      <td>6.531043</td>\n",
       "      <td>5.665006</td>\n",
       "    </tr>\n",
       "    <tr>\n",
       "      <th>1961-12-18/1961-12-24</th>\n",
       "      <td>4.959717</td>\n",
       "      <td>2.220866</td>\n",
       "      <td>5.653229</td>\n",
       "      <td>5.341288</td>\n",
       "      <td>4.898600</td>\n",
       "      <td>4.019469</td>\n",
       "      <td>5.724775</td>\n",
       "      <td>4.134367</td>\n",
       "      <td>4.243508</td>\n",
       "      <td>4.637096</td>\n",
       "      <td>5.065308</td>\n",
       "      <td>5.048035</td>\n",
       "    </tr>\n",
       "    <tr>\n",
       "      <th>1961-12-25/1961-12-31</th>\n",
       "      <td>5.787783</td>\n",
       "      <td>4.566479</td>\n",
       "      <td>9.739918</td>\n",
       "      <td>4.167851</td>\n",
       "      <td>3.018856</td>\n",
       "      <td>2.674370</td>\n",
       "      <td>5.142213</td>\n",
       "      <td>4.289240</td>\n",
       "      <td>3.325214</td>\n",
       "      <td>3.526625</td>\n",
       "      <td>3.262217</td>\n",
       "      <td>3.012729</td>\n",
       "    </tr>\n",
       "    <tr>\n",
       "      <th>1962-01-01/1962-01-07</th>\n",
       "      <td>4.080363</td>\n",
       "      <td>4.431006</td>\n",
       "      <td>3.491446</td>\n",
       "      <td>1.582313</td>\n",
       "      <td>4.637595</td>\n",
       "      <td>3.669049</td>\n",
       "      <td>4.074956</td>\n",
       "      <td>4.165123</td>\n",
       "      <td>3.322518</td>\n",
       "      <td>4.647207</td>\n",
       "      <td>7.362525</td>\n",
       "      <td>3.839726</td>\n",
       "    </tr>\n",
       "  </tbody>\n",
       "</table>\n",
       "</div>"
      ],
      "text/plain": [
       "                            RPT       VAL       ROS       KIL       SHA  \\\n",
       "datetime                                                                  \n",
       "1961-01-09/1961-01-15  3.555392  3.148945  5.034959  3.549559  3.471726   \n",
       "1961-01-16/1961-01-22  4.893064  4.070420  4.101421  3.466079  3.612875   \n",
       "1961-01-23/1961-01-29  4.619061  4.242125  4.719091  4.096436  4.244035   \n",
       "1961-01-30/1961-02-05  5.251408  5.187395  3.975166  2.709106  2.334619   \n",
       "1961-02-06/1961-02-12  3.587677  3.608373  3.290303  2.262056  5.571108   \n",
       "1961-02-13/1961-02-19  5.525210  3.908818  4.596928  4.311569  2.542941   \n",
       "1961-02-20/1961-02-26  7.020716  5.147348  5.578470  4.482075  6.480712   \n",
       "1961-02-27/1961-03-05  1.071742  3.490319  1.969142  1.815585  2.752539   \n",
       "1961-03-06/1961-03-12  3.732263  3.359302  2.888631  2.431686  2.813686   \n",
       "1961-03-13/1961-03-19  3.860036  2.352867  2.939244  2.416746  2.654289   \n",
       "1961-03-20/1961-03-26  3.613298  3.657265  4.041121  2.410127  2.927188   \n",
       "1961-03-27/1961-04-02  4.853908  5.130656  4.027031  3.745334  6.063323   \n",
       "1961-04-03/1961-04-09  4.604392  2.845399  2.902991  2.854052  2.743895   \n",
       "1961-04-10/1961-04-16  3.937727  2.607118  4.585752  2.664416  1.941836   \n",
       "1961-04-17/1961-04-23  5.676655  4.631736  5.456290  3.835403  4.122437   \n",
       "1961-04-24/1961-04-30  4.349662  2.871425  3.732776  1.897616  3.259907   \n",
       "1961-05-01/1961-05-07  5.025507  3.750835  4.301778  3.141495  5.781916   \n",
       "1961-05-08/1961-05-14  3.673850  2.755749  3.253310  3.827309  5.177801   \n",
       "1961-05-15/1961-05-21  3.857369  2.468906  4.022330  0.678636  2.780830   \n",
       "1961-05-22/1961-05-28  2.433828  2.757025  3.510598  1.378803  2.813494   \n",
       "1961-05-29/1961-06-04  3.099701  1.868125  3.474607  2.323826  2.305695   \n",
       "1961-06-05/1961-06-11  2.248597  1.524836  1.887475  1.603775  2.238228   \n",
       "1961-06-12/1961-06-18  3.009482  3.509444  3.429057  2.130352  4.175947   \n",
       "1961-06-19/1961-06-25  1.982035  2.212460  1.916454  1.332234  1.422401   \n",
       "1961-06-26/1961-07-02  2.629340  2.169505  0.808437  1.101830  1.831032   \n",
       "1961-07-03/1961-07-09  4.005984  2.943083  3.149511  3.163374  3.915925   \n",
       "1961-07-10/1961-07-16  5.168710  3.849630  2.166206  2.665625  4.596567   \n",
       "1961-07-17/1961-07-23  1.047978  1.400010  2.783208  1.158908  0.764956   \n",
       "1961-07-24/1961-07-30  4.157641  3.203206  3.276465  2.843207  4.514505   \n",
       "1961-07-31/1961-08-06  2.950887  3.985226  3.483894  1.647275  4.189524   \n",
       "1961-08-07/1961-08-13  4.931346  2.410960  2.651748  2.319931  3.491444   \n",
       "1961-08-14/1961-08-20  2.470590  2.760092  1.846367  2.121107  2.776247   \n",
       "1961-08-21/1961-08-27  3.395857  3.174702  3.071403  2.455711  4.380624   \n",
       "1961-08-28/1961-09-03  4.398615  7.474025  4.395383  3.790030  6.128522   \n",
       "1961-09-04/1961-09-10  5.207278  4.003996  3.922643  3.151502  3.178791   \n",
       "1961-09-11/1961-09-17  7.679190  5.360585  6.638947  5.560509  6.279010   \n",
       "1961-09-18/1961-09-24  1.250191  3.495865  2.322229  1.609614  3.216995   \n",
       "1961-09-25/1961-10-01  3.600911  2.812482  4.051869  1.793429  1.395929   \n",
       "1961-10-02/1961-10-08  5.596710  5.060803  4.394234  3.249050  3.830935   \n",
       "1961-10-09/1961-10-15  4.780675  2.924338  6.189632  2.180391  2.344435   \n",
       "1961-10-16/1961-10-22  7.888314  5.998199  5.463782  4.989763  6.095112   \n",
       "1961-10-23/1961-10-29  7.143390  6.021514  7.031309  4.678550  6.021500   \n",
       "1961-10-30/1961-11-05  3.369201  3.900278  2.461109  2.448363  3.664806   \n",
       "1961-11-06/1961-11-12  3.939811  2.141191  6.779554  2.930324  2.090641   \n",
       "1961-11-13/1961-11-19  2.784358  3.208548  9.415716  4.176374  2.092809   \n",
       "1961-11-20/1961-11-26  3.229622  3.344994  3.397711  1.411856  2.336037   \n",
       "1961-11-27/1961-12-03  5.704669  5.107089  4.163650  4.097123  5.536334   \n",
       "1961-12-04/1961-12-10  4.890152  4.115506  4.682044  3.782631  3.345941   \n",
       "1961-12-11/1961-12-17  4.095106  3.587886  3.843380  3.501489  3.943048   \n",
       "1961-12-18/1961-12-24  4.959717  2.220866  5.653229  5.341288  4.898600   \n",
       "1961-12-25/1961-12-31  5.787783  4.566479  9.739918  4.167851  3.018856   \n",
       "1962-01-01/1962-01-07  4.080363  4.431006  3.491446  1.582313  4.637595   \n",
       "\n",
       "                            BIR       DUB       CLA       MUL       CLO  \\\n",
       "datetime                                                                  \n",
       "1961-01-09/1961-01-15  3.251039  4.709309  3.936894  3.500975  4.084293   \n",
       "1961-01-16/1961-01-22  3.519326  3.857488  3.025765  2.765440  3.203652   \n",
       "1961-01-23/1961-01-29  3.366385  3.823543  4.191761  4.179486  3.494638   \n",
       "1961-01-30/1961-02-05  2.397066  2.423454  4.081158  2.802490  2.839501   \n",
       "1961-02-06/1961-02-12  3.048976  2.974059  3.022753  2.914760  1.746749   \n",
       "1961-02-13/1961-02-19  3.283510  5.431781  2.497226  2.778528  2.772287   \n",
       "1961-02-20/1961-02-26  5.029874  6.037916  4.869668  4.705163  4.920064   \n",
       "1961-02-27/1961-03-05  1.845974  3.253603  2.640733  2.162908  1.729775   \n",
       "1961-03-06/1961-03-12  3.181839  3.511933  3.621955  2.546428  3.065864   \n",
       "1961-03-13/1961-03-19  2.045448  4.046593  3.373421  3.301880  3.099472   \n",
       "1961-03-20/1961-03-26  2.285729  2.892270  2.789682  2.469432  2.538224   \n",
       "1961-03-27/1961-04-02  4.065940  4.540041  4.534884  4.470999  3.193114   \n",
       "1961-04-03/1961-04-09  2.525046  2.109769  1.996609  1.935058  2.336182   \n",
       "1961-04-10/1961-04-16  2.388107  1.970667  2.379446  2.123279  2.161137   \n",
       "1961-04-17/1961-04-23  3.835998  3.254663  3.935731  3.656682  3.347972   \n",
       "1961-04-24/1961-04-30  2.528436  3.565777  3.426255  2.718926  2.840568   \n",
       "1961-05-01/1961-05-07  3.324038  4.419008  4.461950  3.558856  3.620819   \n",
       "1961-05-08/1961-05-14  5.099664  5.744586  4.927611  5.507248  5.745543   \n",
       "1961-05-15/1961-05-21  1.476776  1.743743  2.415777  1.766380  2.309283   \n",
       "1961-05-22/1961-05-28  1.697595  1.592718  2.115247  1.388631  2.089856   \n",
       "1961-05-29/1961-06-04  1.332009  2.300028  0.915184  1.954609  2.096989   \n",
       "1961-06-05/1961-06-11  2.204087  2.514689  2.857527  1.695090  2.158323   \n",
       "1961-06-12/1961-06-18  3.292713  3.417989  4.858023  2.900464  3.792400   \n",
       "1961-06-19/1961-06-25  1.448318  2.455385  2.109358  2.042257  2.286218   \n",
       "1961-06-26/1961-07-02  0.917240  1.842593  2.829514  2.054142  1.437891   \n",
       "1961-07-03/1961-07-09  2.555609  3.493425  3.447741  3.614910  3.977428   \n",
       "1961-07-10/1961-07-16  3.164715  4.489523  4.083629  3.978635  3.271899   \n",
       "1961-07-17/1961-07-23  0.617815  1.757905  1.479152  0.873207  1.439785   \n",
       "1961-07-24/1961-07-30  3.786633  5.110195  4.060478  4.504844  4.350268   \n",
       "1961-07-31/1961-08-06  2.642246  3.709319  3.921508  3.217501  2.903018   \n",
       "1961-08-07/1961-08-13  2.412202  3.664171  2.371782  3.307556  2.047833   \n",
       "1961-08-14/1961-08-20  2.386976  3.383730  3.156811  2.508174  2.972961   \n",
       "1961-08-21/1961-08-27  3.416186  4.170083  4.900671  4.120185  3.855302   \n",
       "1961-08-28/1961-09-03  4.455552  3.920110  5.012759  4.155931  3.993736   \n",
       "1961-09-04/1961-09-10  2.965546  4.258696  3.074692  3.767708  3.649278   \n",
       "1961-09-11/1961-09-17  4.706530  4.235755  4.565163  4.847073  5.128338   \n",
       "1961-09-18/1961-09-24  2.496061  1.406889  3.342247  1.633468  2.563058   \n",
       "1961-09-25/1961-10-01  1.376600  2.140630  2.911323  1.210548  3.310738   \n",
       "1961-10-02/1961-10-08  3.686641  3.420894  3.313201  3.717239  4.296870   \n",
       "1961-10-09/1961-10-15  2.044130  3.415810  2.645439  2.826997  3.364375   \n",
       "1961-10-16/1961-10-22  3.801637  5.334910  5.199929  3.785875  5.890511   \n",
       "1961-10-23/1961-10-29  4.612227  4.293370  4.380227  4.448500  5.257283   \n",
       "1961-10-30/1961-11-05  2.513051  2.727816  3.599111  3.003274  2.784450   \n",
       "1961-11-06/1961-11-12  1.414308  2.388943  2.181840  2.153102  2.843518   \n",
       "1961-11-13/1961-11-19  3.440953  7.027159  3.452202  3.488521  4.402588   \n",
       "1961-11-20/1961-11-26  1.996444  3.551685  2.493900  2.230720  2.720968   \n",
       "1961-11-27/1961-12-03  3.534980  4.186505  3.744471  3.658796  3.680477   \n",
       "1961-12-04/1961-12-10  3.481252  4.357862  4.503161  3.452864  4.156207   \n",
       "1961-12-11/1961-12-17  3.312448  6.474478  3.482027  4.333020  4.633398   \n",
       "1961-12-18/1961-12-24  4.019469  5.724775  4.134367  4.243508  4.637096   \n",
       "1961-12-25/1961-12-31  2.674370  5.142213  4.289240  3.325214  3.526625   \n",
       "1962-01-01/1962-01-07  3.669049  4.074956  4.165123  3.322518  4.647207   \n",
       "\n",
       "                            BEL       MAL  \n",
       "datetime                                   \n",
       "1961-01-09/1961-01-15  5.552215  4.692355  \n",
       "1961-01-16/1961-01-22  3.941358  3.407132  \n",
       "1961-01-23/1961-01-29  4.675044  4.224639  \n",
       "1961-01-30/1961-02-05  4.210858  4.336104  \n",
       "1961-02-06/1961-02-12  4.063753  1.828705  \n",
       "1961-02-13/1961-02-19  5.021524  4.763632  \n",
       "1961-02-20/1961-02-26  5.091162  6.182283  \n",
       "1961-02-27/1961-03-05  5.058249  3.350772  \n",
       "1961-03-06/1961-03-12  4.408144  4.956336  \n",
       "1961-03-13/1961-03-19  3.779727  4.331958  \n",
       "1961-03-20/1961-03-26  4.318069  3.701846  \n",
       "1961-03-27/1961-04-02  4.138965  3.698547  \n",
       "1961-04-03/1961-04-09  3.147781  2.598271  \n",
       "1961-04-10/1961-04-16  3.641464  2.747842  \n",
       "1961-04-17/1961-04-23  4.735096  5.908542  \n",
       "1961-04-24/1961-04-30  2.948237  5.108365  \n",
       "1961-05-01/1961-05-07  8.003490  7.728504  \n",
       "1961-05-08/1961-05-14  4.345856  8.597707  \n",
       "1961-05-15/1961-05-21  2.130903  3.476795  \n",
       "1961-05-22/1961-05-28  2.754572  3.445685  \n",
       "1961-05-29/1961-06-04  2.611139  2.593586  \n",
       "1961-06-05/1961-06-11  3.993062  4.925055  \n",
       "1961-06-12/1961-06-18  6.477887  6.242673  \n",
       "1961-06-19/1961-06-25  2.498386  3.063011  \n",
       "1961-06-26/1961-07-02  5.171098  4.016574  \n",
       "1961-07-03/1961-07-09  4.737155  3.956322  \n",
       "1961-07-10/1961-07-16  4.971060  4.974273  \n",
       "1961-07-17/1961-07-23  2.050218  2.133994  \n",
       "1961-07-24/1961-07-30  5.580903  6.664574  \n",
       "1961-07-31/1961-08-06  4.901377  4.448251  \n",
       "1961-08-07/1961-08-13  1.882254  3.697340  \n",
       "1961-08-14/1961-08-20  4.471570  3.934238  \n",
       "1961-08-21/1961-08-27  6.711322  4.947608  \n",
       "1961-08-28/1961-09-03  7.678051  6.308087  \n",
       "1961-09-04/1961-09-10  4.220584  6.049619  \n",
       "1961-09-11/1961-09-17  4.464252  6.332885  \n",
       "1961-09-18/1961-09-24  5.432553  3.398163  \n",
       "1961-09-25/1961-10-01  4.988901  4.802201  \n",
       "1961-10-02/1961-10-08  4.800403  5.462002  \n",
       "1961-10-09/1961-10-15  4.401903  3.925249  \n",
       "1961-10-16/1961-10-22  5.645871  7.468377  \n",
       "1961-10-23/1961-10-29  5.274629  6.867864  \n",
       "1961-10-30/1961-11-05  4.038493  3.870800  \n",
       "1961-11-06/1961-11-12  2.532196  3.690752  \n",
       "1961-11-13/1961-11-19  3.643285  3.787654  \n",
       "1961-11-20/1961-11-26  5.895223  5.790840  \n",
       "1961-11-27/1961-12-03  5.552648  5.233192  \n",
       "1961-12-04/1961-12-10  4.667933  7.345893  \n",
       "1961-12-11/1961-12-17  6.531043  5.665006  \n",
       "1961-12-18/1961-12-24  5.065308  5.048035  \n",
       "1961-12-25/1961-12-31  3.262217  3.012729  \n",
       "1962-01-01/1962-01-07  7.362525  3.839726  "
      ]
     },
     "execution_count": 91,
     "metadata": {},
     "output_type": "execute_result"
    }
   ],
   "source": [
    "#the std of each location is calulated based on week, then the number of week is assumed as 1:53\n",
    "stdVal =wind.groupby(wind.index.to_period('W')).std()\n",
    "stdVal = stdVal.iloc[1:53]\n",
    "stdVal"
   ]
  },
  {
   "cell_type": "markdown",
   "metadata": {},
   "source": [
    "# Question 5 Python\n"
   ]
  },
  {
   "cell_type": "markdown",
   "metadata": {},
   "source": [
    "#### #Step 1. Import the necessary libraries\n"
   ]
  },
  {
   "cell_type": "code",
   "execution_count": 92,
   "metadata": {},
   "outputs": [],
   "source": [
    "#import all the required modules\n",
    "import pandas as pd\n",
    "import numpy as np"
   ]
  },
  {
   "cell_type": "markdown",
   "metadata": {},
   "source": [
    "#### Step 2. Import the dataset from this address.\n",
    "#### Step 3. Assign it to a variable called chipo."
   ]
  },
  {
   "cell_type": "code",
   "execution_count": 93,
   "metadata": {},
   "outputs": [],
   "source": [
    "#the dataframe is separated using \\t\n",
    "chipo = pd.read_csv('https://raw.githubusercontent.com/justmarkham/DAT8/master/data/chipotle.tsv', sep='\\t')"
   ]
  },
  {
   "cell_type": "markdown",
   "metadata": {},
   "source": [
    "#### Step 4. See the first 10 entries"
   ]
  },
  {
   "cell_type": "code",
   "execution_count": 94,
   "metadata": {},
   "outputs": [
    {
     "data": {
      "text/html": [
       "<div>\n",
       "<style scoped>\n",
       "    .dataframe tbody tr th:only-of-type {\n",
       "        vertical-align: middle;\n",
       "    }\n",
       "\n",
       "    .dataframe tbody tr th {\n",
       "        vertical-align: top;\n",
       "    }\n",
       "\n",
       "    .dataframe thead th {\n",
       "        text-align: right;\n",
       "    }\n",
       "</style>\n",
       "<table border=\"1\" class=\"dataframe\">\n",
       "  <thead>\n",
       "    <tr style=\"text-align: right;\">\n",
       "      <th></th>\n",
       "      <th>order_id</th>\n",
       "      <th>quantity</th>\n",
       "      <th>item_name</th>\n",
       "      <th>choice_description</th>\n",
       "      <th>item_price</th>\n",
       "    </tr>\n",
       "  </thead>\n",
       "  <tbody>\n",
       "    <tr>\n",
       "      <th>0</th>\n",
       "      <td>1</td>\n",
       "      <td>1</td>\n",
       "      <td>Chips and Fresh Tomato Salsa</td>\n",
       "      <td>NaN</td>\n",
       "      <td>$2.39</td>\n",
       "    </tr>\n",
       "    <tr>\n",
       "      <th>1</th>\n",
       "      <td>1</td>\n",
       "      <td>1</td>\n",
       "      <td>Izze</td>\n",
       "      <td>[Clementine]</td>\n",
       "      <td>$3.39</td>\n",
       "    </tr>\n",
       "    <tr>\n",
       "      <th>2</th>\n",
       "      <td>1</td>\n",
       "      <td>1</td>\n",
       "      <td>Nantucket Nectar</td>\n",
       "      <td>[Apple]</td>\n",
       "      <td>$3.39</td>\n",
       "    </tr>\n",
       "    <tr>\n",
       "      <th>3</th>\n",
       "      <td>1</td>\n",
       "      <td>1</td>\n",
       "      <td>Chips and Tomatillo-Green Chili Salsa</td>\n",
       "      <td>NaN</td>\n",
       "      <td>$2.39</td>\n",
       "    </tr>\n",
       "    <tr>\n",
       "      <th>4</th>\n",
       "      <td>2</td>\n",
       "      <td>2</td>\n",
       "      <td>Chicken Bowl</td>\n",
       "      <td>[Tomatillo-Red Chili Salsa (Hot), [Black Beans...</td>\n",
       "      <td>$16.98</td>\n",
       "    </tr>\n",
       "    <tr>\n",
       "      <th>5</th>\n",
       "      <td>3</td>\n",
       "      <td>1</td>\n",
       "      <td>Chicken Bowl</td>\n",
       "      <td>[Fresh Tomato Salsa (Mild), [Rice, Cheese, Sou...</td>\n",
       "      <td>$10.98</td>\n",
       "    </tr>\n",
       "    <tr>\n",
       "      <th>6</th>\n",
       "      <td>3</td>\n",
       "      <td>1</td>\n",
       "      <td>Side of Chips</td>\n",
       "      <td>NaN</td>\n",
       "      <td>$1.69</td>\n",
       "    </tr>\n",
       "    <tr>\n",
       "      <th>7</th>\n",
       "      <td>4</td>\n",
       "      <td>1</td>\n",
       "      <td>Steak Burrito</td>\n",
       "      <td>[Tomatillo Red Chili Salsa, [Fajita Vegetables...</td>\n",
       "      <td>$11.75</td>\n",
       "    </tr>\n",
       "    <tr>\n",
       "      <th>8</th>\n",
       "      <td>4</td>\n",
       "      <td>1</td>\n",
       "      <td>Steak Soft Tacos</td>\n",
       "      <td>[Tomatillo Green Chili Salsa, [Pinto Beans, Ch...</td>\n",
       "      <td>$9.25</td>\n",
       "    </tr>\n",
       "    <tr>\n",
       "      <th>9</th>\n",
       "      <td>5</td>\n",
       "      <td>1</td>\n",
       "      <td>Steak Burrito</td>\n",
       "      <td>[Fresh Tomato Salsa, [Rice, Black Beans, Pinto...</td>\n",
       "      <td>$9.25</td>\n",
       "    </tr>\n",
       "  </tbody>\n",
       "</table>\n",
       "</div>"
      ],
      "text/plain": [
       "   order_id  quantity                              item_name  \\\n",
       "0         1         1           Chips and Fresh Tomato Salsa   \n",
       "1         1         1                                   Izze   \n",
       "2         1         1                       Nantucket Nectar   \n",
       "3         1         1  Chips and Tomatillo-Green Chili Salsa   \n",
       "4         2         2                           Chicken Bowl   \n",
       "5         3         1                           Chicken Bowl   \n",
       "6         3         1                          Side of Chips   \n",
       "7         4         1                          Steak Burrito   \n",
       "8         4         1                       Steak Soft Tacos   \n",
       "9         5         1                          Steak Burrito   \n",
       "\n",
       "                                  choice_description item_price  \n",
       "0                                                NaN     $2.39   \n",
       "1                                       [Clementine]     $3.39   \n",
       "2                                            [Apple]     $3.39   \n",
       "3                                                NaN     $2.39   \n",
       "4  [Tomatillo-Red Chili Salsa (Hot), [Black Beans...    $16.98   \n",
       "5  [Fresh Tomato Salsa (Mild), [Rice, Cheese, Sou...    $10.98   \n",
       "6                                                NaN     $1.69   \n",
       "7  [Tomatillo Red Chili Salsa, [Fajita Vegetables...    $11.75   \n",
       "8  [Tomatillo Green Chili Salsa, [Pinto Beans, Ch...     $9.25   \n",
       "9  [Fresh Tomato Salsa, [Rice, Black Beans, Pinto...     $9.25   "
      ]
     },
     "execution_count": 94,
     "metadata": {},
     "output_type": "execute_result"
    }
   ],
   "source": [
    "#display first 10 rows\n",
    "chipo.head(10)"
   ]
  },
  {
   "cell_type": "markdown",
   "metadata": {},
   "source": [
    "#### Step 5. What is the number of observations in the dataset?"
   ]
  },
  {
   "cell_type": "code",
   "execution_count": 95,
   "metadata": {},
   "outputs": [
    {
     "name": "stdout",
     "output_type": "stream",
     "text": [
      "No of observations=  4622\n"
     ]
    }
   ],
   "source": [
    "#the index col is set to the variable count, then the lenth of count is calulated to find the number of observation\n",
    "count = chipo.index\n",
    "print(\"No of observations= \", len(count))"
   ]
  },
  {
   "cell_type": "markdown",
   "metadata": {},
   "source": [
    "#### Step 6. What is the number of columns in the dataset?"
   ]
  },
  {
   "cell_type": "code",
   "execution_count": 96,
   "metadata": {},
   "outputs": [
    {
     "name": "stdout",
     "output_type": "stream",
     "text": [
      " No of columns=  5\n"
     ]
    }
   ],
   "source": [
    "#chipo.columns gives the dtails of the col, which is used to find the count columns \n",
    "print(\" No of columns= \", len(chipo.columns))"
   ]
  },
  {
   "cell_type": "markdown",
   "metadata": {},
   "source": [
    "#### Step 7. Print the name of all the columns."
   ]
  },
  {
   "cell_type": "code",
   "execution_count": 97,
   "metadata": {},
   "outputs": [
    {
     "name": "stdout",
     "output_type": "stream",
     "text": [
      "column name\n",
      "---------------\n",
      "order_id\n",
      "quantity\n",
      "item_name\n",
      "choice_description\n",
      "item_price\n"
     ]
    }
   ],
   "source": [
    "#chipo.columns gives the dtails of the col, which is used to find the names of column\n",
    "print(\"column name\")\n",
    "print(\"---------------\")\n",
    "for col in chipo.columns: \n",
    "    print(col) "
   ]
  },
  {
   "cell_type": "markdown",
   "metadata": {},
   "source": [
    "#### Step 8. How is the dataset indexed?"
   ]
  },
  {
   "cell_type": "code",
   "execution_count": 98,
   "metadata": {},
   "outputs": [
    {
     "data": {
      "text/plain": [
       "RangeIndex(start=0, stop=4622, step=1)"
      ]
     },
     "execution_count": 98,
     "metadata": {},
     "output_type": "execute_result"
    }
   ],
   "source": [
    "#This gives the details of the index\n",
    "chipo.index"
   ]
  },
  {
   "cell_type": "markdown",
   "metadata": {},
   "source": [
    "#### Step 9. Which was the most-ordered item?"
   ]
  },
  {
   "cell_type": "code",
   "execution_count": 99,
   "metadata": {},
   "outputs": [
    {
     "name": "stdout",
     "output_type": "stream",
     "text": [
      "Most ordered item =   Chicken Bowl\n"
     ]
    }
   ],
   "source": [
    "#first groupby of item name is done, then it is sorted to give the most purchased item name\n",
    "most_ordered = chipo.groupby(['item_name'],as_index=False).count()\n",
    "most_ordered = most_ordered.sort_values(by='quantity', ascending=False)\n",
    "most_ordered = most_ordered.head(1)\n",
    "print(\"Most ordered item = \",most_ordered['item_name'].to_string(index=False))"
   ]
  },
  {
   "cell_type": "markdown",
   "metadata": {},
   "source": [
    "#### Step 10. For the most-ordered item, how many items were ordered?"
   ]
  },
  {
   "cell_type": "code",
   "execution_count": 100,
   "metadata": {},
   "outputs": [
    {
     "name": "stdout",
     "output_type": "stream",
     "text": [
      "Most ordered item =   Chicken Bowl\n",
      "No of items were ordered =   726\n"
     ]
    }
   ],
   "source": [
    "#the groupby and sort is used to find the quantity\n",
    "print(\"Most ordered item = \",most_ordered['item_name'].to_string(index=False))\n",
    "print('No of items were ordered = ',most_ordered['quantity'].to_string(index=False))"
   ]
  },
  {
   "cell_type": "markdown",
   "metadata": {},
   "source": [
    "#### Step 11. What was the most ordered item in the choice_description column?"
   ]
  },
  {
   "cell_type": "code",
   "execution_count": 101,
   "metadata": {},
   "outputs": [
    {
     "name": "stdout",
     "output_type": "stream",
     "text": [
      "Most choice description item =   [Diet Coke]\n"
     ]
    }
   ],
   "source": [
    "#Groupby and sort is done to find the most ordered item\n",
    "choiceDescription = chipo.groupby(['choice_description'],as_index=False).count()\n",
    "choiceDescription = choiceDescription.sort_values(by='quantity', ascending=False)\n",
    "choiceDescription = choiceDescription.head(1)\n",
    "print(\"Most choice description item = \",choiceDescription['choice_description'].to_string(index=False))"
   ]
  },
  {
   "cell_type": "markdown",
   "metadata": {},
   "source": [
    "#### Step 12. How many items were orderd in total?"
   ]
  },
  {
   "cell_type": "code",
   "execution_count": 102,
   "metadata": {},
   "outputs": [
    {
     "name": "stdout",
     "output_type": "stream",
     "text": [
      "Total No. of item ordered =  50\n"
     ]
    }
   ],
   "source": [
    "#groupby of item name is done to find the order total\n",
    "total_order = chipo.groupby(['item_name'],as_index=False).sum()\n",
    "print(\"Total No. of item ordered = \",len(total_order))"
   ]
  },
  {
   "cell_type": "markdown",
   "metadata": {},
   "source": [
    "#### Step 13.\n",
    "#### • Turn the item price into a float\n",
    "#### • Check the item price type\n",
    "#### • Create a lambda function and change the type of item price\n",
    "#### • Check the item price type"
   ]
  },
  {
   "cell_type": "code",
   "execution_count": 103,
   "metadata": {},
   "outputs": [],
   "source": [
    "#removed the symbol from price using replace and astype is used to covert the datatype\n",
    "chipo['item_price'] = chipo.item_price.str.replace('$','')\n",
    "chipo['item_price'] = chipo['item_price'].astype(float)"
   ]
  },
  {
   "cell_type": "code",
   "execution_count": 104,
   "metadata": {},
   "outputs": [
    {
     "data": {
      "text/plain": [
       "order_id                int64\n",
       "quantity                int64\n",
       "item_name              object\n",
       "choice_description     object\n",
       "item_price            float64\n",
       "dtype: object"
      ]
     },
     "execution_count": 104,
     "metadata": {},
     "output_type": "execute_result"
    }
   ],
   "source": [
    "#display datatype of each column\n",
    "chipo.dtypes"
   ]
  },
  {
   "cell_type": "code",
   "execution_count": 105,
   "metadata": {},
   "outputs": [],
   "source": [
    "#lamba funtion is used to change the datatype of item_price\n",
    "chipo['item_price'] = chipo.apply(lambda x : chipo['item_price'].astype(str))"
   ]
  },
  {
   "cell_type": "code",
   "execution_count": 106,
   "metadata": {},
   "outputs": [
    {
     "data": {
      "text/plain": [
       "order_id               int64\n",
       "quantity               int64\n",
       "item_name             object\n",
       "choice_description    object\n",
       "item_price            object\n",
       "dtype: object"
      ]
     },
     "execution_count": 106,
     "metadata": {},
     "output_type": "execute_result"
    }
   ],
   "source": [
    "#display datatype of each column\n",
    "chipo.dtypes"
   ]
  },
  {
   "cell_type": "markdown",
   "metadata": {},
   "source": [
    "#### Step 14. How much was the revenue for the period in the dataset?"
   ]
  },
  {
   "cell_type": "code",
   "execution_count": 107,
   "metadata": {},
   "outputs": [
    {
     "name": "stdout",
     "output_type": "stream",
     "text": [
      "The revenue for the period =  34500.16\n"
     ]
    }
   ],
   "source": [
    "#first the datatype of item_price is changed to float, then the sum is calculated\n",
    "chipo['item_price'] = chipo['item_price'].astype(float)\n",
    "chipo.dtypes\n",
    "print(\"The revenue for the period = \",chipo['item_price'].sum())"
   ]
  },
  {
   "cell_type": "markdown",
   "metadata": {},
   "source": [
    "#### Step 15. How many orders were made in the period?"
   ]
  },
  {
   "cell_type": "code",
   "execution_count": 42,
   "metadata": {},
   "outputs": [
    {
     "name": "stdout",
     "output_type": "stream",
     "text": [
      "No of orders made in the period =  1834\n"
     ]
    }
   ],
   "source": [
    "#groupby orderby and then the count is calculate to find the total orders\n",
    "order = chipo.groupby(['order_id'],as_index=False).count()\n",
    "print(\"No of orders made in the period = \",order['order_id'].count())"
   ]
  },
  {
   "cell_type": "markdown",
   "metadata": {},
   "source": [
    "#### Step 16. What is the average revenue amount per order?"
   ]
  },
  {
   "cell_type": "code",
   "execution_count": 108,
   "metadata": {},
   "outputs": [
    {
     "name": "stdout",
     "output_type": "stream",
     "text": [
      "The average revenue amount per order \n"
     ]
    },
    {
     "data": {
      "text/html": [
       "<div>\n",
       "<style scoped>\n",
       "    .dataframe tbody tr th:only-of-type {\n",
       "        vertical-align: middle;\n",
       "    }\n",
       "\n",
       "    .dataframe tbody tr th {\n",
       "        vertical-align: top;\n",
       "    }\n",
       "\n",
       "    .dataframe thead th {\n",
       "        text-align: right;\n",
       "    }\n",
       "</style>\n",
       "<table border=\"1\" class=\"dataframe\">\n",
       "  <thead>\n",
       "    <tr style=\"text-align: right;\">\n",
       "      <th></th>\n",
       "      <th>order_id</th>\n",
       "      <th>item_price</th>\n",
       "    </tr>\n",
       "  </thead>\n",
       "  <tbody>\n",
       "    <tr>\n",
       "      <th>0</th>\n",
       "      <td>1</td>\n",
       "      <td>2.890000</td>\n",
       "    </tr>\n",
       "    <tr>\n",
       "      <th>1</th>\n",
       "      <td>2</td>\n",
       "      <td>16.980000</td>\n",
       "    </tr>\n",
       "    <tr>\n",
       "      <th>2</th>\n",
       "      <td>3</td>\n",
       "      <td>6.335000</td>\n",
       "    </tr>\n",
       "    <tr>\n",
       "      <th>3</th>\n",
       "      <td>4</td>\n",
       "      <td>10.500000</td>\n",
       "    </tr>\n",
       "    <tr>\n",
       "      <th>4</th>\n",
       "      <td>5</td>\n",
       "      <td>6.850000</td>\n",
       "    </tr>\n",
       "    <tr>\n",
       "      <th>...</th>\n",
       "      <td>...</td>\n",
       "      <td>...</td>\n",
       "    </tr>\n",
       "    <tr>\n",
       "      <th>1829</th>\n",
       "      <td>1830</td>\n",
       "      <td>11.500000</td>\n",
       "    </tr>\n",
       "    <tr>\n",
       "      <th>1830</th>\n",
       "      <td>1831</td>\n",
       "      <td>4.300000</td>\n",
       "    </tr>\n",
       "    <tr>\n",
       "      <th>1831</th>\n",
       "      <td>1832</td>\n",
       "      <td>6.600000</td>\n",
       "    </tr>\n",
       "    <tr>\n",
       "      <th>1832</th>\n",
       "      <td>1833</td>\n",
       "      <td>11.750000</td>\n",
       "    </tr>\n",
       "    <tr>\n",
       "      <th>1833</th>\n",
       "      <td>1834</td>\n",
       "      <td>9.583333</td>\n",
       "    </tr>\n",
       "  </tbody>\n",
       "</table>\n",
       "<p>1834 rows × 2 columns</p>\n",
       "</div>"
      ],
      "text/plain": [
       "      order_id  item_price\n",
       "0            1    2.890000\n",
       "1            2   16.980000\n",
       "2            3    6.335000\n",
       "3            4   10.500000\n",
       "4            5    6.850000\n",
       "...        ...         ...\n",
       "1829      1830   11.500000\n",
       "1830      1831    4.300000\n",
       "1831      1832    6.600000\n",
       "1832      1833   11.750000\n",
       "1833      1834    9.583333\n",
       "\n",
       "[1834 rows x 2 columns]"
      ]
     },
     "execution_count": 108,
     "metadata": {},
     "output_type": "execute_result"
    }
   ],
   "source": [
    "#groupby of order id id done then the average or mean is calculated\n",
    "Average = chipo.groupby(['order_id'],as_index=False).mean()\n",
    "Average.drop([\"quantity\"], axis = 1, inplace = True) \n",
    "print(\"The average revenue amount per order \")\n",
    "Average"
   ]
  },
  {
   "cell_type": "markdown",
   "metadata": {},
   "source": [
    "#### Step 17. How many different items are sold?"
   ]
  },
  {
   "cell_type": "code",
   "execution_count": 109,
   "metadata": {},
   "outputs": [
    {
     "name": "stdout",
     "output_type": "stream",
     "text": [
      "Total No. of item Sold =  50\n"
     ]
    }
   ],
   "source": [
    "#groupby is done on item name to find the number of items sold\n",
    "total_order = chipo.groupby(['item_name'],as_index=False).sum()\n",
    "print(\"Total No. of item Sold = \",len(total_order))\n"
   ]
  },
  {
   "cell_type": "markdown",
   "metadata": {},
   "source": [
    "## Question 6 Python\n",
    "#### Create a line plot showing the number of marriages and divorces per capita in the U.S. between 1867 and 2014. Label both lines and show the legend. Don't forget to label your axes!"
   ]
  },
  {
   "cell_type": "code",
   "execution_count": 110,
   "metadata": {},
   "outputs": [
    {
     "data": {
      "text/html": [
       "<div>\n",
       "<style scoped>\n",
       "    .dataframe tbody tr th:only-of-type {\n",
       "        vertical-align: middle;\n",
       "    }\n",
       "\n",
       "    .dataframe tbody tr th {\n",
       "        vertical-align: top;\n",
       "    }\n",
       "\n",
       "    .dataframe thead th {\n",
       "        text-align: right;\n",
       "    }\n",
       "</style>\n",
       "<table border=\"1\" class=\"dataframe\">\n",
       "  <thead>\n",
       "    <tr style=\"text-align: right;\">\n",
       "      <th></th>\n",
       "      <th>Year</th>\n",
       "      <th>Marriages</th>\n",
       "      <th>Divorces</th>\n",
       "      <th>Population</th>\n",
       "      <th>Marriages_per_1000</th>\n",
       "      <th>Divorces_per_1000</th>\n",
       "    </tr>\n",
       "  </thead>\n",
       "  <tbody>\n",
       "    <tr>\n",
       "      <th>0</th>\n",
       "      <td>1867</td>\n",
       "      <td>357000.0</td>\n",
       "      <td>10000.0</td>\n",
       "      <td>36970000</td>\n",
       "      <td>9.7</td>\n",
       "      <td>0.3</td>\n",
       "    </tr>\n",
       "    <tr>\n",
       "      <th>1</th>\n",
       "      <td>1868</td>\n",
       "      <td>345000.0</td>\n",
       "      <td>10000.0</td>\n",
       "      <td>37885000</td>\n",
       "      <td>9.1</td>\n",
       "      <td>0.3</td>\n",
       "    </tr>\n",
       "    <tr>\n",
       "      <th>2</th>\n",
       "      <td>1869</td>\n",
       "      <td>348000.0</td>\n",
       "      <td>11000.0</td>\n",
       "      <td>38870000</td>\n",
       "      <td>9.0</td>\n",
       "      <td>0.3</td>\n",
       "    </tr>\n",
       "    <tr>\n",
       "      <th>3</th>\n",
       "      <td>1870</td>\n",
       "      <td>352000.0</td>\n",
       "      <td>11000.0</td>\n",
       "      <td>39905000</td>\n",
       "      <td>8.8</td>\n",
       "      <td>0.3</td>\n",
       "    </tr>\n",
       "    <tr>\n",
       "      <th>4</th>\n",
       "      <td>1871</td>\n",
       "      <td>359000.0</td>\n",
       "      <td>12000.0</td>\n",
       "      <td>41010000</td>\n",
       "      <td>8.8</td>\n",
       "      <td>0.3</td>\n",
       "    </tr>\n",
       "    <tr>\n",
       "      <th>...</th>\n",
       "      <td>...</td>\n",
       "      <td>...</td>\n",
       "      <td>...</td>\n",
       "      <td>...</td>\n",
       "      <td>...</td>\n",
       "      <td>...</td>\n",
       "    </tr>\n",
       "    <tr>\n",
       "      <th>140</th>\n",
       "      <td>2007</td>\n",
       "      <td>2197000.0</td>\n",
       "      <td>856000.0</td>\n",
       "      <td>301696000</td>\n",
       "      <td>7.3</td>\n",
       "      <td>2.8</td>\n",
       "    </tr>\n",
       "    <tr>\n",
       "      <th>141</th>\n",
       "      <td>2008</td>\n",
       "      <td>2157000.0</td>\n",
       "      <td>844000.0</td>\n",
       "      <td>304543000</td>\n",
       "      <td>7.1</td>\n",
       "      <td>2.8</td>\n",
       "    </tr>\n",
       "    <tr>\n",
       "      <th>142</th>\n",
       "      <td>2009</td>\n",
       "      <td>2080000.0</td>\n",
       "      <td>840000.0</td>\n",
       "      <td>307240000</td>\n",
       "      <td>6.8</td>\n",
       "      <td>2.7</td>\n",
       "    </tr>\n",
       "    <tr>\n",
       "      <th>143</th>\n",
       "      <td>2010</td>\n",
       "      <td>2096000.0</td>\n",
       "      <td>872000.0</td>\n",
       "      <td>309776000</td>\n",
       "      <td>6.8</td>\n",
       "      <td>2.8</td>\n",
       "    </tr>\n",
       "    <tr>\n",
       "      <th>144</th>\n",
       "      <td>2011</td>\n",
       "      <td>2118000.0</td>\n",
       "      <td>877000.0</td>\n",
       "      <td>312034000</td>\n",
       "      <td>6.8</td>\n",
       "      <td>2.8</td>\n",
       "    </tr>\n",
       "  </tbody>\n",
       "</table>\n",
       "<p>145 rows × 6 columns</p>\n",
       "</div>"
      ],
      "text/plain": [
       "     Year  Marriages  Divorces  Population  Marriages_per_1000  \\\n",
       "0    1867   357000.0   10000.0    36970000                 9.7   \n",
       "1    1868   345000.0   10000.0    37885000                 9.1   \n",
       "2    1869   348000.0   11000.0    38870000                 9.0   \n",
       "3    1870   352000.0   11000.0    39905000                 8.8   \n",
       "4    1871   359000.0   12000.0    41010000                 8.8   \n",
       "..    ...        ...       ...         ...                 ...   \n",
       "140  2007  2197000.0  856000.0   301696000                 7.3   \n",
       "141  2008  2157000.0  844000.0   304543000                 7.1   \n",
       "142  2009  2080000.0  840000.0   307240000                 6.8   \n",
       "143  2010  2096000.0  872000.0   309776000                 6.8   \n",
       "144  2011  2118000.0  877000.0   312034000                 6.8   \n",
       "\n",
       "     Divorces_per_1000  \n",
       "0                  0.3  \n",
       "1                  0.3  \n",
       "2                  0.3  \n",
       "3                  0.3  \n",
       "4                  0.3  \n",
       "..                 ...  \n",
       "140                2.8  \n",
       "141                2.8  \n",
       "142                2.7  \n",
       "143                2.8  \n",
       "144                2.8  \n",
       "\n",
       "[145 rows x 6 columns]"
      ]
     },
     "execution_count": 110,
     "metadata": {},
     "output_type": "execute_result"
    }
   ],
   "source": [
    "#load the csv file\n",
    "df = pd.read_csv('us-marriages-divorces-1867-2014.csv')\n",
    "df"
   ]
  },
  {
   "cell_type": "code",
   "execution_count": 111,
   "metadata": {},
   "outputs": [
    {
     "data": {
      "application/vnd.plotly.v1+json": {
       "config": {
        "plotlyServerURL": "https://plot.ly"
       },
       "data": [
        {
         "hovertemplate": "variable=Marriages<br>Year=%{x}<br>value=%{y}<extra></extra>",
         "legendgroup": "Marriages",
         "line": {
          "color": "#636efa",
          "dash": "solid"
         },
         "mode": "lines",
         "name": "Marriages",
         "orientation": "v",
         "showlegend": true,
         "type": "scatter",
         "x": [
          1867,
          1868,
          1869,
          1870,
          1871,
          1872,
          1873,
          1874,
          1875,
          1876,
          1877,
          1878,
          1879,
          1880,
          1881,
          1882,
          1883,
          1884,
          1885,
          1886,
          1887,
          1888,
          1889,
          1890,
          1891,
          1892,
          1893,
          1894,
          1895,
          1896,
          1897,
          1898,
          1899,
          1900,
          1901,
          1902,
          1903,
          1904,
          1905,
          1906,
          1907,
          1908,
          1909,
          1910,
          1911,
          1912,
          1913,
          1914,
          1915,
          1916,
          1917,
          1918,
          1919,
          1920,
          1921,
          1922,
          1923,
          1924,
          1925,
          1926,
          1927,
          1928,
          1929,
          1930,
          1931,
          1932,
          1933,
          1934,
          1935,
          1936,
          1937,
          1938,
          1939,
          1940,
          1941,
          1942,
          1943,
          1944,
          1945,
          1946,
          1947,
          1948,
          1949,
          1950,
          1951,
          1952,
          1953,
          1954,
          1955,
          1956,
          1957,
          1958,
          1959,
          1960,
          1961,
          1962,
          1963,
          1964,
          1965,
          1966,
          1967,
          1968,
          1969,
          1970,
          1971,
          1972,
          1973,
          1974,
          1975,
          1976,
          1977,
          1978,
          1979,
          1980,
          1981,
          1982,
          1983,
          1984,
          1985,
          1986,
          1987,
          1988,
          1989,
          1990,
          1991,
          1992,
          1993,
          1994,
          1995,
          1996,
          1997,
          1998,
          1999,
          2000,
          2001,
          2002,
          2003,
          2004,
          2005,
          2006,
          2007,
          2008,
          2009,
          2010,
          2011
         ],
         "xaxis": "x",
         "y": [
          357000,
          345000,
          348000,
          352000,
          359000,
          378000,
          386000,
          385000,
          409000,
          405000,
          411000,
          423000,
          438000,
          453000,
          464000,
          484000,
          501000,
          485000,
          507000,
          534000,
          513000,
          535000,
          563000,
          570000,
          592000,
          601000,
          601000,
          588000,
          620000,
          635000,
          643000,
          647000,
          673000,
          709000,
          742000,
          776000,
          818000,
          815000,
          842000,
          895000,
          937000,
          857000,
          897000,
          948000,
          955000,
          1005000,
          1021000,
          1025000,
          1008000,
          1076000,
          1144000,
          1000000,
          1150000,
          1274000,
          1164000,
          1134000,
          1230000,
          1185000,
          1188000,
          1203000,
          1201000,
          1182000,
          1233000,
          1127000,
          1061000,
          982000,
          1098000,
          1302000,
          1327000,
          1369000,
          1451000,
          1331000,
          1404000,
          1596000,
          1696000,
          1772000,
          1577000,
          1452000,
          1613000,
          2291000,
          1992000,
          1811000,
          1580000,
          1667000,
          1595000,
          1539000,
          1546000,
          1490000,
          1531000,
          1585000,
          1518000,
          1451000,
          1494000,
          1523000,
          1548000,
          1577000,
          1654000,
          1725000,
          1800000,
          1857000,
          1927000,
          2069000,
          2145000,
          2185802,
          2190481,
          2282154,
          2284108,
          2245929,
          2159810,
          2159051,
          2180861,
          2293079,
          2341102,
          2413896,
          2438085,
          null,
          null,
          2482137,
          2408911,
          2406830,
          2404146,
          2377092,
          2399654,
          2451774,
          2383182,
          2389375,
          2342538,
          2397441,
          null,
          null,
          2384000,
          2244000,
          2358000,
          2315000,
          2326000,
          2290000,
          2245000,
          2279000,
          2249000,
          2193000,
          2197000,
          2157000,
          2080000,
          2096000,
          2118000
         ],
         "yaxis": "y"
        },
        {
         "hovertemplate": "variable=Divorces<br>Year=%{x}<br>value=%{y}<extra></extra>",
         "legendgroup": "Divorces",
         "line": {
          "color": "#EF553B",
          "dash": "solid"
         },
         "mode": "lines",
         "name": "Divorces",
         "orientation": "v",
         "showlegend": true,
         "type": "scatter",
         "x": [
          1867,
          1868,
          1869,
          1870,
          1871,
          1872,
          1873,
          1874,
          1875,
          1876,
          1877,
          1878,
          1879,
          1880,
          1881,
          1882,
          1883,
          1884,
          1885,
          1886,
          1887,
          1888,
          1889,
          1890,
          1891,
          1892,
          1893,
          1894,
          1895,
          1896,
          1897,
          1898,
          1899,
          1900,
          1901,
          1902,
          1903,
          1904,
          1905,
          1906,
          1907,
          1908,
          1909,
          1910,
          1911,
          1912,
          1913,
          1914,
          1915,
          1916,
          1917,
          1918,
          1919,
          1920,
          1921,
          1922,
          1923,
          1924,
          1925,
          1926,
          1927,
          1928,
          1929,
          1930,
          1931,
          1932,
          1933,
          1934,
          1935,
          1936,
          1937,
          1938,
          1939,
          1940,
          1941,
          1942,
          1943,
          1944,
          1945,
          1946,
          1947,
          1948,
          1949,
          1950,
          1951,
          1952,
          1953,
          1954,
          1955,
          1956,
          1957,
          1958,
          1959,
          1960,
          1961,
          1962,
          1963,
          1964,
          1965,
          1966,
          1967,
          1968,
          1969,
          1970,
          1971,
          1972,
          1973,
          1974,
          1975,
          1976,
          1977,
          1978,
          1979,
          1980,
          1981,
          1982,
          1983,
          1984,
          1985,
          1986,
          1987,
          1988,
          1989,
          1990,
          1991,
          1992,
          1993,
          1994,
          1995,
          1996,
          1997,
          1998,
          1999,
          2000,
          2001,
          2002,
          2003,
          2004,
          2005,
          2006,
          2007,
          2008,
          2009,
          2010,
          2011
         ],
         "xaxis": "x",
         "y": [
          10000,
          10000,
          11000,
          11000,
          12000,
          12000,
          13000,
          14000,
          14000,
          15000,
          16000,
          16000,
          17000,
          20000,
          21000,
          22000,
          23000,
          23000,
          23000,
          26000,
          28000,
          29000,
          32000,
          33000,
          36000,
          37000,
          37000,
          38000,
          40000,
          43000,
          45000,
          48000,
          51000,
          56000,
          61000,
          61000,
          65000,
          66000,
          68000,
          72000,
          77000,
          77000,
          80000,
          83000,
          89000,
          94000,
          91000,
          101000,
          104000,
          114000,
          122000,
          116000,
          142000,
          171000,
          160000,
          149000,
          165000,
          171000,
          175000,
          185000,
          196000,
          200000,
          206000,
          196000,
          188000,
          164000,
          165000,
          204000,
          218000,
          236000,
          249000,
          244000,
          251000,
          264000,
          293000,
          321000,
          359000,
          400000,
          485000,
          610000,
          483000,
          408000,
          397000,
          385000,
          381000,
          392000,
          390000,
          379000,
          377000,
          382000,
          381000,
          368000,
          395000,
          393000,
          414000,
          413000,
          428000,
          450000,
          479000,
          499000,
          523000,
          584000,
          639000,
          708000,
          773000,
          845000,
          915000,
          983931,
          1036709,
          1090430,
          1101445,
          1135408,
          1193062,
          1184175,
          1219042,
          null,
          null,
          1181970,
          1192530,
          1179347,
          1165646,
          1151787,
          1162719,
          1175851,
          1191591,
          1233226,
          1197297,
          1211893,
          null,
          null,
          1163000,
          1135000,
          1145245,
          944000,
          940000,
          955000,
          927000,
          879000,
          847000,
          872000,
          856000,
          844000,
          840000,
          872000,
          877000
         ],
         "yaxis": "y"
        }
       ],
       "layout": {
        "legend": {
         "title": {
          "text": "variable"
         },
         "tracegroupgap": 0
        },
        "template": {
         "data": {
          "bar": [
           {
            "error_x": {
             "color": "#2a3f5f"
            },
            "error_y": {
             "color": "#2a3f5f"
            },
            "marker": {
             "line": {
              "color": "#E5ECF6",
              "width": 0.5
             }
            },
            "type": "bar"
           }
          ],
          "barpolar": [
           {
            "marker": {
             "line": {
              "color": "#E5ECF6",
              "width": 0.5
             }
            },
            "type": "barpolar"
           }
          ],
          "carpet": [
           {
            "aaxis": {
             "endlinecolor": "#2a3f5f",
             "gridcolor": "white",
             "linecolor": "white",
             "minorgridcolor": "white",
             "startlinecolor": "#2a3f5f"
            },
            "baxis": {
             "endlinecolor": "#2a3f5f",
             "gridcolor": "white",
             "linecolor": "white",
             "minorgridcolor": "white",
             "startlinecolor": "#2a3f5f"
            },
            "type": "carpet"
           }
          ],
          "choropleth": [
           {
            "colorbar": {
             "outlinewidth": 0,
             "ticks": ""
            },
            "type": "choropleth"
           }
          ],
          "contour": [
           {
            "colorbar": {
             "outlinewidth": 0,
             "ticks": ""
            },
            "colorscale": [
             [
              0,
              "#0d0887"
             ],
             [
              0.1111111111111111,
              "#46039f"
             ],
             [
              0.2222222222222222,
              "#7201a8"
             ],
             [
              0.3333333333333333,
              "#9c179e"
             ],
             [
              0.4444444444444444,
              "#bd3786"
             ],
             [
              0.5555555555555556,
              "#d8576b"
             ],
             [
              0.6666666666666666,
              "#ed7953"
             ],
             [
              0.7777777777777778,
              "#fb9f3a"
             ],
             [
              0.8888888888888888,
              "#fdca26"
             ],
             [
              1,
              "#f0f921"
             ]
            ],
            "type": "contour"
           }
          ],
          "contourcarpet": [
           {
            "colorbar": {
             "outlinewidth": 0,
             "ticks": ""
            },
            "type": "contourcarpet"
           }
          ],
          "heatmap": [
           {
            "colorbar": {
             "outlinewidth": 0,
             "ticks": ""
            },
            "colorscale": [
             [
              0,
              "#0d0887"
             ],
             [
              0.1111111111111111,
              "#46039f"
             ],
             [
              0.2222222222222222,
              "#7201a8"
             ],
             [
              0.3333333333333333,
              "#9c179e"
             ],
             [
              0.4444444444444444,
              "#bd3786"
             ],
             [
              0.5555555555555556,
              "#d8576b"
             ],
             [
              0.6666666666666666,
              "#ed7953"
             ],
             [
              0.7777777777777778,
              "#fb9f3a"
             ],
             [
              0.8888888888888888,
              "#fdca26"
             ],
             [
              1,
              "#f0f921"
             ]
            ],
            "type": "heatmap"
           }
          ],
          "heatmapgl": [
           {
            "colorbar": {
             "outlinewidth": 0,
             "ticks": ""
            },
            "colorscale": [
             [
              0,
              "#0d0887"
             ],
             [
              0.1111111111111111,
              "#46039f"
             ],
             [
              0.2222222222222222,
              "#7201a8"
             ],
             [
              0.3333333333333333,
              "#9c179e"
             ],
             [
              0.4444444444444444,
              "#bd3786"
             ],
             [
              0.5555555555555556,
              "#d8576b"
             ],
             [
              0.6666666666666666,
              "#ed7953"
             ],
             [
              0.7777777777777778,
              "#fb9f3a"
             ],
             [
              0.8888888888888888,
              "#fdca26"
             ],
             [
              1,
              "#f0f921"
             ]
            ],
            "type": "heatmapgl"
           }
          ],
          "histogram": [
           {
            "marker": {
             "colorbar": {
              "outlinewidth": 0,
              "ticks": ""
             }
            },
            "type": "histogram"
           }
          ],
          "histogram2d": [
           {
            "colorbar": {
             "outlinewidth": 0,
             "ticks": ""
            },
            "colorscale": [
             [
              0,
              "#0d0887"
             ],
             [
              0.1111111111111111,
              "#46039f"
             ],
             [
              0.2222222222222222,
              "#7201a8"
             ],
             [
              0.3333333333333333,
              "#9c179e"
             ],
             [
              0.4444444444444444,
              "#bd3786"
             ],
             [
              0.5555555555555556,
              "#d8576b"
             ],
             [
              0.6666666666666666,
              "#ed7953"
             ],
             [
              0.7777777777777778,
              "#fb9f3a"
             ],
             [
              0.8888888888888888,
              "#fdca26"
             ],
             [
              1,
              "#f0f921"
             ]
            ],
            "type": "histogram2d"
           }
          ],
          "histogram2dcontour": [
           {
            "colorbar": {
             "outlinewidth": 0,
             "ticks": ""
            },
            "colorscale": [
             [
              0,
              "#0d0887"
             ],
             [
              0.1111111111111111,
              "#46039f"
             ],
             [
              0.2222222222222222,
              "#7201a8"
             ],
             [
              0.3333333333333333,
              "#9c179e"
             ],
             [
              0.4444444444444444,
              "#bd3786"
             ],
             [
              0.5555555555555556,
              "#d8576b"
             ],
             [
              0.6666666666666666,
              "#ed7953"
             ],
             [
              0.7777777777777778,
              "#fb9f3a"
             ],
             [
              0.8888888888888888,
              "#fdca26"
             ],
             [
              1,
              "#f0f921"
             ]
            ],
            "type": "histogram2dcontour"
           }
          ],
          "mesh3d": [
           {
            "colorbar": {
             "outlinewidth": 0,
             "ticks": ""
            },
            "type": "mesh3d"
           }
          ],
          "parcoords": [
           {
            "line": {
             "colorbar": {
              "outlinewidth": 0,
              "ticks": ""
             }
            },
            "type": "parcoords"
           }
          ],
          "pie": [
           {
            "automargin": true,
            "type": "pie"
           }
          ],
          "scatter": [
           {
            "marker": {
             "colorbar": {
              "outlinewidth": 0,
              "ticks": ""
             }
            },
            "type": "scatter"
           }
          ],
          "scatter3d": [
           {
            "line": {
             "colorbar": {
              "outlinewidth": 0,
              "ticks": ""
             }
            },
            "marker": {
             "colorbar": {
              "outlinewidth": 0,
              "ticks": ""
             }
            },
            "type": "scatter3d"
           }
          ],
          "scattercarpet": [
           {
            "marker": {
             "colorbar": {
              "outlinewidth": 0,
              "ticks": ""
             }
            },
            "type": "scattercarpet"
           }
          ],
          "scattergeo": [
           {
            "marker": {
             "colorbar": {
              "outlinewidth": 0,
              "ticks": ""
             }
            },
            "type": "scattergeo"
           }
          ],
          "scattergl": [
           {
            "marker": {
             "colorbar": {
              "outlinewidth": 0,
              "ticks": ""
             }
            },
            "type": "scattergl"
           }
          ],
          "scattermapbox": [
           {
            "marker": {
             "colorbar": {
              "outlinewidth": 0,
              "ticks": ""
             }
            },
            "type": "scattermapbox"
           }
          ],
          "scatterpolar": [
           {
            "marker": {
             "colorbar": {
              "outlinewidth": 0,
              "ticks": ""
             }
            },
            "type": "scatterpolar"
           }
          ],
          "scatterpolargl": [
           {
            "marker": {
             "colorbar": {
              "outlinewidth": 0,
              "ticks": ""
             }
            },
            "type": "scatterpolargl"
           }
          ],
          "scatterternary": [
           {
            "marker": {
             "colorbar": {
              "outlinewidth": 0,
              "ticks": ""
             }
            },
            "type": "scatterternary"
           }
          ],
          "surface": [
           {
            "colorbar": {
             "outlinewidth": 0,
             "ticks": ""
            },
            "colorscale": [
             [
              0,
              "#0d0887"
             ],
             [
              0.1111111111111111,
              "#46039f"
             ],
             [
              0.2222222222222222,
              "#7201a8"
             ],
             [
              0.3333333333333333,
              "#9c179e"
             ],
             [
              0.4444444444444444,
              "#bd3786"
             ],
             [
              0.5555555555555556,
              "#d8576b"
             ],
             [
              0.6666666666666666,
              "#ed7953"
             ],
             [
              0.7777777777777778,
              "#fb9f3a"
             ],
             [
              0.8888888888888888,
              "#fdca26"
             ],
             [
              1,
              "#f0f921"
             ]
            ],
            "type": "surface"
           }
          ],
          "table": [
           {
            "cells": {
             "fill": {
              "color": "#EBF0F8"
             },
             "line": {
              "color": "white"
             }
            },
            "header": {
             "fill": {
              "color": "#C8D4E3"
             },
             "line": {
              "color": "white"
             }
            },
            "type": "table"
           }
          ]
         },
         "layout": {
          "annotationdefaults": {
           "arrowcolor": "#2a3f5f",
           "arrowhead": 0,
           "arrowwidth": 1
          },
          "autotypenumbers": "strict",
          "coloraxis": {
           "colorbar": {
            "outlinewidth": 0,
            "ticks": ""
           }
          },
          "colorscale": {
           "diverging": [
            [
             0,
             "#8e0152"
            ],
            [
             0.1,
             "#c51b7d"
            ],
            [
             0.2,
             "#de77ae"
            ],
            [
             0.3,
             "#f1b6da"
            ],
            [
             0.4,
             "#fde0ef"
            ],
            [
             0.5,
             "#f7f7f7"
            ],
            [
             0.6,
             "#e6f5d0"
            ],
            [
             0.7,
             "#b8e186"
            ],
            [
             0.8,
             "#7fbc41"
            ],
            [
             0.9,
             "#4d9221"
            ],
            [
             1,
             "#276419"
            ]
           ],
           "sequential": [
            [
             0,
             "#0d0887"
            ],
            [
             0.1111111111111111,
             "#46039f"
            ],
            [
             0.2222222222222222,
             "#7201a8"
            ],
            [
             0.3333333333333333,
             "#9c179e"
            ],
            [
             0.4444444444444444,
             "#bd3786"
            ],
            [
             0.5555555555555556,
             "#d8576b"
            ],
            [
             0.6666666666666666,
             "#ed7953"
            ],
            [
             0.7777777777777778,
             "#fb9f3a"
            ],
            [
             0.8888888888888888,
             "#fdca26"
            ],
            [
             1,
             "#f0f921"
            ]
           ],
           "sequentialminus": [
            [
             0,
             "#0d0887"
            ],
            [
             0.1111111111111111,
             "#46039f"
            ],
            [
             0.2222222222222222,
             "#7201a8"
            ],
            [
             0.3333333333333333,
             "#9c179e"
            ],
            [
             0.4444444444444444,
             "#bd3786"
            ],
            [
             0.5555555555555556,
             "#d8576b"
            ],
            [
             0.6666666666666666,
             "#ed7953"
            ],
            [
             0.7777777777777778,
             "#fb9f3a"
            ],
            [
             0.8888888888888888,
             "#fdca26"
            ],
            [
             1,
             "#f0f921"
            ]
           ]
          },
          "colorway": [
           "#636efa",
           "#EF553B",
           "#00cc96",
           "#ab63fa",
           "#FFA15A",
           "#19d3f3",
           "#FF6692",
           "#B6E880",
           "#FF97FF",
           "#FECB52"
          ],
          "font": {
           "color": "#2a3f5f"
          },
          "geo": {
           "bgcolor": "white",
           "lakecolor": "white",
           "landcolor": "#E5ECF6",
           "showlakes": true,
           "showland": true,
           "subunitcolor": "white"
          },
          "hoverlabel": {
           "align": "left"
          },
          "hovermode": "closest",
          "mapbox": {
           "style": "light"
          },
          "paper_bgcolor": "white",
          "plot_bgcolor": "#E5ECF6",
          "polar": {
           "angularaxis": {
            "gridcolor": "white",
            "linecolor": "white",
            "ticks": ""
           },
           "bgcolor": "#E5ECF6",
           "radialaxis": {
            "gridcolor": "white",
            "linecolor": "white",
            "ticks": ""
           }
          },
          "scene": {
           "xaxis": {
            "backgroundcolor": "#E5ECF6",
            "gridcolor": "white",
            "gridwidth": 2,
            "linecolor": "white",
            "showbackground": true,
            "ticks": "",
            "zerolinecolor": "white"
           },
           "yaxis": {
            "backgroundcolor": "#E5ECF6",
            "gridcolor": "white",
            "gridwidth": 2,
            "linecolor": "white",
            "showbackground": true,
            "ticks": "",
            "zerolinecolor": "white"
           },
           "zaxis": {
            "backgroundcolor": "#E5ECF6",
            "gridcolor": "white",
            "gridwidth": 2,
            "linecolor": "white",
            "showbackground": true,
            "ticks": "",
            "zerolinecolor": "white"
           }
          },
          "shapedefaults": {
           "line": {
            "color": "#2a3f5f"
           }
          },
          "ternary": {
           "aaxis": {
            "gridcolor": "white",
            "linecolor": "white",
            "ticks": ""
           },
           "baxis": {
            "gridcolor": "white",
            "linecolor": "white",
            "ticks": ""
           },
           "bgcolor": "#E5ECF6",
           "caxis": {
            "gridcolor": "white",
            "linecolor": "white",
            "ticks": ""
           }
          },
          "title": {
           "x": 0.05
          },
          "xaxis": {
           "automargin": true,
           "gridcolor": "white",
           "linecolor": "white",
           "ticks": "",
           "title": {
            "standoff": 15
           },
           "zerolinecolor": "white",
           "zerolinewidth": 2
          },
          "yaxis": {
           "automargin": true,
           "gridcolor": "white",
           "linecolor": "white",
           "ticks": "",
           "title": {
            "standoff": 15
           },
           "zerolinecolor": "white",
           "zerolinewidth": 2
          }
         }
        },
        "title": {
         "text": "The number of marriages and divorces per capita in theU.S. between 1867 and 2014"
        },
        "xaxis": {
         "anchor": "y",
         "domain": [
          0,
          1
         ],
         "title": {
          "text": "Year"
         }
        },
        "yaxis": {
         "anchor": "x",
         "domain": [
          0,
          1
         ],
         "title": {
          "text": "value"
         }
        }
       }
      },
      "text/html": [
       "<div>                            <div id=\"19bd30f8-74a5-4d79-84d5-b936f972a1d5\" class=\"plotly-graph-div\" style=\"height:525px; width:100%;\"></div>            <script type=\"text/javascript\">                require([\"plotly\"], function(Plotly) {                    window.PLOTLYENV=window.PLOTLYENV || {};                                    if (document.getElementById(\"19bd30f8-74a5-4d79-84d5-b936f972a1d5\")) {                    Plotly.newPlot(                        \"19bd30f8-74a5-4d79-84d5-b936f972a1d5\",                        [{\"hovertemplate\": \"variable=Marriages<br>Year=%{x}<br>value=%{y}<extra></extra>\", \"legendgroup\": \"Marriages\", \"line\": {\"color\": \"#636efa\", \"dash\": \"solid\"}, \"mode\": \"lines\", \"name\": \"Marriages\", \"orientation\": \"v\", \"showlegend\": true, \"type\": \"scatter\", \"x\": [1867, 1868, 1869, 1870, 1871, 1872, 1873, 1874, 1875, 1876, 1877, 1878, 1879, 1880, 1881, 1882, 1883, 1884, 1885, 1886, 1887, 1888, 1889, 1890, 1891, 1892, 1893, 1894, 1895, 1896, 1897, 1898, 1899, 1900, 1901, 1902, 1903, 1904, 1905, 1906, 1907, 1908, 1909, 1910, 1911, 1912, 1913, 1914, 1915, 1916, 1917, 1918, 1919, 1920, 1921, 1922, 1923, 1924, 1925, 1926, 1927, 1928, 1929, 1930, 1931, 1932, 1933, 1934, 1935, 1936, 1937, 1938, 1939, 1940, 1941, 1942, 1943, 1944, 1945, 1946, 1947, 1948, 1949, 1950, 1951, 1952, 1953, 1954, 1955, 1956, 1957, 1958, 1959, 1960, 1961, 1962, 1963, 1964, 1965, 1966, 1967, 1968, 1969, 1970, 1971, 1972, 1973, 1974, 1975, 1976, 1977, 1978, 1979, 1980, 1981, 1982, 1983, 1984, 1985, 1986, 1987, 1988, 1989, 1990, 1991, 1992, 1993, 1994, 1995, 1996, 1997, 1998, 1999, 2000, 2001, 2002, 2003, 2004, 2005, 2006, 2007, 2008, 2009, 2010, 2011], \"xaxis\": \"x\", \"y\": [357000.0, 345000.0, 348000.0, 352000.0, 359000.0, 378000.0, 386000.0, 385000.0, 409000.0, 405000.0, 411000.0, 423000.0, 438000.0, 453000.0, 464000.0, 484000.0, 501000.0, 485000.0, 507000.0, 534000.0, 513000.0, 535000.0, 563000.0, 570000.0, 592000.0, 601000.0, 601000.0, 588000.0, 620000.0, 635000.0, 643000.0, 647000.0, 673000.0, 709000.0, 742000.0, 776000.0, 818000.0, 815000.0, 842000.0, 895000.0, 937000.0, 857000.0, 897000.0, 948000.0, 955000.0, 1005000.0, 1021000.0, 1025000.0, 1008000.0, 1076000.0, 1144000.0, 1000000.0, 1150000.0, 1274000.0, 1164000.0, 1134000.0, 1230000.0, 1185000.0, 1188000.0, 1203000.0, 1201000.0, 1182000.0, 1233000.0, 1127000.0, 1061000.0, 982000.0, 1098000.0, 1302000.0, 1327000.0, 1369000.0, 1451000.0, 1331000.0, 1404000.0, 1596000.0, 1696000.0, 1772000.0, 1577000.0, 1452000.0, 1613000.0, 2291000.0, 1992000.0, 1811000.0, 1580000.0, 1667000.0, 1595000.0, 1539000.0, 1546000.0, 1490000.0, 1531000.0, 1585000.0, 1518000.0, 1451000.0, 1494000.0, 1523000.0, 1548000.0, 1577000.0, 1654000.0, 1725000.0, 1800000.0, 1857000.0, 1927000.0, 2069000.0, 2145000.0, 2185802.0, 2190481.0, 2282154.0, 2284108.0, 2245929.0, 2159810.0, 2159051.0, 2180861.0, 2293079.0, 2341102.0, 2413896.0, 2438085.0, null, null, 2482137.0, 2408911.0, 2406830.0, 2404146.0, 2377092.0, 2399654.0, 2451774.0, 2383182.0, 2389375.0, 2342538.0, 2397441.0, null, null, 2384000.0, 2244000.0, 2358000.0, 2315000.0, 2326000.0, 2290000.0, 2245000.0, 2279000.0, 2249000.0, 2193000.0, 2197000.0, 2157000.0, 2080000.0, 2096000.0, 2118000.0], \"yaxis\": \"y\"}, {\"hovertemplate\": \"variable=Divorces<br>Year=%{x}<br>value=%{y}<extra></extra>\", \"legendgroup\": \"Divorces\", \"line\": {\"color\": \"#EF553B\", \"dash\": \"solid\"}, \"mode\": \"lines\", \"name\": \"Divorces\", \"orientation\": \"v\", \"showlegend\": true, \"type\": \"scatter\", \"x\": [1867, 1868, 1869, 1870, 1871, 1872, 1873, 1874, 1875, 1876, 1877, 1878, 1879, 1880, 1881, 1882, 1883, 1884, 1885, 1886, 1887, 1888, 1889, 1890, 1891, 1892, 1893, 1894, 1895, 1896, 1897, 1898, 1899, 1900, 1901, 1902, 1903, 1904, 1905, 1906, 1907, 1908, 1909, 1910, 1911, 1912, 1913, 1914, 1915, 1916, 1917, 1918, 1919, 1920, 1921, 1922, 1923, 1924, 1925, 1926, 1927, 1928, 1929, 1930, 1931, 1932, 1933, 1934, 1935, 1936, 1937, 1938, 1939, 1940, 1941, 1942, 1943, 1944, 1945, 1946, 1947, 1948, 1949, 1950, 1951, 1952, 1953, 1954, 1955, 1956, 1957, 1958, 1959, 1960, 1961, 1962, 1963, 1964, 1965, 1966, 1967, 1968, 1969, 1970, 1971, 1972, 1973, 1974, 1975, 1976, 1977, 1978, 1979, 1980, 1981, 1982, 1983, 1984, 1985, 1986, 1987, 1988, 1989, 1990, 1991, 1992, 1993, 1994, 1995, 1996, 1997, 1998, 1999, 2000, 2001, 2002, 2003, 2004, 2005, 2006, 2007, 2008, 2009, 2010, 2011], \"xaxis\": \"x\", \"y\": [10000.0, 10000.0, 11000.0, 11000.0, 12000.0, 12000.0, 13000.0, 14000.0, 14000.0, 15000.0, 16000.0, 16000.0, 17000.0, 20000.0, 21000.0, 22000.0, 23000.0, 23000.0, 23000.0, 26000.0, 28000.0, 29000.0, 32000.0, 33000.0, 36000.0, 37000.0, 37000.0, 38000.0, 40000.0, 43000.0, 45000.0, 48000.0, 51000.0, 56000.0, 61000.0, 61000.0, 65000.0, 66000.0, 68000.0, 72000.0, 77000.0, 77000.0, 80000.0, 83000.0, 89000.0, 94000.0, 91000.0, 101000.0, 104000.0, 114000.0, 122000.0, 116000.0, 142000.0, 171000.0, 160000.0, 149000.0, 165000.0, 171000.0, 175000.0, 185000.0, 196000.0, 200000.0, 206000.0, 196000.0, 188000.0, 164000.0, 165000.0, 204000.0, 218000.0, 236000.0, 249000.0, 244000.0, 251000.0, 264000.0, 293000.0, 321000.0, 359000.0, 400000.0, 485000.0, 610000.0, 483000.0, 408000.0, 397000.0, 385000.0, 381000.0, 392000.0, 390000.0, 379000.0, 377000.0, 382000.0, 381000.0, 368000.0, 395000.0, 393000.0, 414000.0, 413000.0, 428000.0, 450000.0, 479000.0, 499000.0, 523000.0, 584000.0, 639000.0, 708000.0, 773000.0, 845000.0, 915000.0, 983931.0, 1036709.0, 1090430.0, 1101445.0, 1135408.0, 1193062.0, 1184175.0, 1219042.0, null, null, 1181970.0, 1192530.0, 1179347.0, 1165646.0, 1151787.0, 1162719.0, 1175851.0, 1191591.0, 1233226.0, 1197297.0, 1211893.0, null, null, 1163000.0, 1135000.0, 1145245.0, 944000.0, 940000.0, 955000.0, 927000.0, 879000.0, 847000.0, 872000.0, 856000.0, 844000.0, 840000.0, 872000.0, 877000.0], \"yaxis\": \"y\"}],                        {\"legend\": {\"title\": {\"text\": \"variable\"}, \"tracegroupgap\": 0}, \"template\": {\"data\": {\"bar\": [{\"error_x\": {\"color\": \"#2a3f5f\"}, \"error_y\": {\"color\": \"#2a3f5f\"}, \"marker\": {\"line\": {\"color\": \"#E5ECF6\", \"width\": 0.5}}, \"type\": \"bar\"}], \"barpolar\": [{\"marker\": {\"line\": {\"color\": \"#E5ECF6\", \"width\": 0.5}}, \"type\": \"barpolar\"}], \"carpet\": [{\"aaxis\": {\"endlinecolor\": \"#2a3f5f\", \"gridcolor\": \"white\", \"linecolor\": \"white\", \"minorgridcolor\": \"white\", \"startlinecolor\": \"#2a3f5f\"}, \"baxis\": {\"endlinecolor\": \"#2a3f5f\", \"gridcolor\": \"white\", \"linecolor\": \"white\", \"minorgridcolor\": \"white\", \"startlinecolor\": \"#2a3f5f\"}, \"type\": \"carpet\"}], \"choropleth\": [{\"colorbar\": {\"outlinewidth\": 0, \"ticks\": \"\"}, \"type\": \"choropleth\"}], \"contour\": [{\"colorbar\": {\"outlinewidth\": 0, \"ticks\": \"\"}, \"colorscale\": [[0.0, \"#0d0887\"], [0.1111111111111111, \"#46039f\"], [0.2222222222222222, \"#7201a8\"], [0.3333333333333333, \"#9c179e\"], [0.4444444444444444, \"#bd3786\"], [0.5555555555555556, \"#d8576b\"], [0.6666666666666666, \"#ed7953\"], [0.7777777777777778, \"#fb9f3a\"], [0.8888888888888888, \"#fdca26\"], [1.0, \"#f0f921\"]], \"type\": \"contour\"}], \"contourcarpet\": [{\"colorbar\": {\"outlinewidth\": 0, \"ticks\": \"\"}, \"type\": \"contourcarpet\"}], \"heatmap\": [{\"colorbar\": {\"outlinewidth\": 0, \"ticks\": \"\"}, \"colorscale\": [[0.0, \"#0d0887\"], [0.1111111111111111, \"#46039f\"], [0.2222222222222222, \"#7201a8\"], [0.3333333333333333, \"#9c179e\"], [0.4444444444444444, \"#bd3786\"], [0.5555555555555556, \"#d8576b\"], [0.6666666666666666, \"#ed7953\"], [0.7777777777777778, \"#fb9f3a\"], [0.8888888888888888, \"#fdca26\"], [1.0, \"#f0f921\"]], \"type\": \"heatmap\"}], \"heatmapgl\": [{\"colorbar\": {\"outlinewidth\": 0, \"ticks\": \"\"}, \"colorscale\": [[0.0, \"#0d0887\"], [0.1111111111111111, \"#46039f\"], [0.2222222222222222, \"#7201a8\"], [0.3333333333333333, \"#9c179e\"], [0.4444444444444444, \"#bd3786\"], [0.5555555555555556, \"#d8576b\"], [0.6666666666666666, \"#ed7953\"], [0.7777777777777778, \"#fb9f3a\"], [0.8888888888888888, \"#fdca26\"], [1.0, \"#f0f921\"]], \"type\": \"heatmapgl\"}], \"histogram\": [{\"marker\": {\"colorbar\": {\"outlinewidth\": 0, \"ticks\": \"\"}}, \"type\": \"histogram\"}], \"histogram2d\": [{\"colorbar\": {\"outlinewidth\": 0, \"ticks\": \"\"}, \"colorscale\": [[0.0, \"#0d0887\"], [0.1111111111111111, \"#46039f\"], [0.2222222222222222, \"#7201a8\"], [0.3333333333333333, \"#9c179e\"], [0.4444444444444444, \"#bd3786\"], [0.5555555555555556, \"#d8576b\"], [0.6666666666666666, \"#ed7953\"], [0.7777777777777778, \"#fb9f3a\"], [0.8888888888888888, \"#fdca26\"], [1.0, \"#f0f921\"]], \"type\": \"histogram2d\"}], \"histogram2dcontour\": [{\"colorbar\": {\"outlinewidth\": 0, \"ticks\": \"\"}, \"colorscale\": [[0.0, \"#0d0887\"], [0.1111111111111111, \"#46039f\"], [0.2222222222222222, \"#7201a8\"], [0.3333333333333333, \"#9c179e\"], [0.4444444444444444, \"#bd3786\"], [0.5555555555555556, \"#d8576b\"], [0.6666666666666666, \"#ed7953\"], [0.7777777777777778, \"#fb9f3a\"], [0.8888888888888888, \"#fdca26\"], [1.0, \"#f0f921\"]], \"type\": \"histogram2dcontour\"}], \"mesh3d\": [{\"colorbar\": {\"outlinewidth\": 0, \"ticks\": \"\"}, \"type\": \"mesh3d\"}], \"parcoords\": [{\"line\": {\"colorbar\": {\"outlinewidth\": 0, \"ticks\": \"\"}}, \"type\": \"parcoords\"}], \"pie\": [{\"automargin\": true, \"type\": \"pie\"}], \"scatter\": [{\"marker\": {\"colorbar\": {\"outlinewidth\": 0, \"ticks\": \"\"}}, \"type\": \"scatter\"}], \"scatter3d\": [{\"line\": {\"colorbar\": {\"outlinewidth\": 0, \"ticks\": \"\"}}, \"marker\": {\"colorbar\": {\"outlinewidth\": 0, \"ticks\": \"\"}}, \"type\": \"scatter3d\"}], \"scattercarpet\": [{\"marker\": {\"colorbar\": {\"outlinewidth\": 0, \"ticks\": \"\"}}, \"type\": \"scattercarpet\"}], \"scattergeo\": [{\"marker\": {\"colorbar\": {\"outlinewidth\": 0, \"ticks\": \"\"}}, \"type\": \"scattergeo\"}], \"scattergl\": [{\"marker\": {\"colorbar\": {\"outlinewidth\": 0, \"ticks\": \"\"}}, \"type\": \"scattergl\"}], \"scattermapbox\": [{\"marker\": {\"colorbar\": {\"outlinewidth\": 0, \"ticks\": \"\"}}, \"type\": \"scattermapbox\"}], \"scatterpolar\": [{\"marker\": {\"colorbar\": {\"outlinewidth\": 0, \"ticks\": \"\"}}, \"type\": \"scatterpolar\"}], \"scatterpolargl\": [{\"marker\": {\"colorbar\": {\"outlinewidth\": 0, \"ticks\": \"\"}}, \"type\": \"scatterpolargl\"}], \"scatterternary\": [{\"marker\": {\"colorbar\": {\"outlinewidth\": 0, \"ticks\": \"\"}}, \"type\": \"scatterternary\"}], \"surface\": [{\"colorbar\": {\"outlinewidth\": 0, \"ticks\": \"\"}, \"colorscale\": [[0.0, \"#0d0887\"], [0.1111111111111111, \"#46039f\"], [0.2222222222222222, \"#7201a8\"], [0.3333333333333333, \"#9c179e\"], [0.4444444444444444, \"#bd3786\"], [0.5555555555555556, \"#d8576b\"], [0.6666666666666666, \"#ed7953\"], [0.7777777777777778, \"#fb9f3a\"], [0.8888888888888888, \"#fdca26\"], [1.0, \"#f0f921\"]], \"type\": \"surface\"}], \"table\": [{\"cells\": {\"fill\": {\"color\": \"#EBF0F8\"}, \"line\": {\"color\": \"white\"}}, \"header\": {\"fill\": {\"color\": \"#C8D4E3\"}, \"line\": {\"color\": \"white\"}}, \"type\": \"table\"}]}, \"layout\": {\"annotationdefaults\": {\"arrowcolor\": \"#2a3f5f\", \"arrowhead\": 0, \"arrowwidth\": 1}, \"autotypenumbers\": \"strict\", \"coloraxis\": {\"colorbar\": {\"outlinewidth\": 0, \"ticks\": \"\"}}, \"colorscale\": {\"diverging\": [[0, \"#8e0152\"], [0.1, \"#c51b7d\"], [0.2, \"#de77ae\"], [0.3, \"#f1b6da\"], [0.4, \"#fde0ef\"], [0.5, \"#f7f7f7\"], [0.6, \"#e6f5d0\"], [0.7, \"#b8e186\"], [0.8, \"#7fbc41\"], [0.9, \"#4d9221\"], [1, \"#276419\"]], \"sequential\": [[0.0, \"#0d0887\"], [0.1111111111111111, \"#46039f\"], [0.2222222222222222, \"#7201a8\"], [0.3333333333333333, \"#9c179e\"], [0.4444444444444444, \"#bd3786\"], [0.5555555555555556, \"#d8576b\"], [0.6666666666666666, \"#ed7953\"], [0.7777777777777778, \"#fb9f3a\"], [0.8888888888888888, \"#fdca26\"], [1.0, \"#f0f921\"]], \"sequentialminus\": [[0.0, \"#0d0887\"], [0.1111111111111111, \"#46039f\"], [0.2222222222222222, \"#7201a8\"], [0.3333333333333333, \"#9c179e\"], [0.4444444444444444, \"#bd3786\"], [0.5555555555555556, \"#d8576b\"], [0.6666666666666666, \"#ed7953\"], [0.7777777777777778, \"#fb9f3a\"], [0.8888888888888888, \"#fdca26\"], [1.0, \"#f0f921\"]]}, \"colorway\": [\"#636efa\", \"#EF553B\", \"#00cc96\", \"#ab63fa\", \"#FFA15A\", \"#19d3f3\", \"#FF6692\", \"#B6E880\", \"#FF97FF\", \"#FECB52\"], \"font\": {\"color\": \"#2a3f5f\"}, \"geo\": {\"bgcolor\": \"white\", \"lakecolor\": \"white\", \"landcolor\": \"#E5ECF6\", \"showlakes\": true, \"showland\": true, \"subunitcolor\": \"white\"}, \"hoverlabel\": {\"align\": \"left\"}, \"hovermode\": \"closest\", \"mapbox\": {\"style\": \"light\"}, \"paper_bgcolor\": \"white\", \"plot_bgcolor\": \"#E5ECF6\", \"polar\": {\"angularaxis\": {\"gridcolor\": \"white\", \"linecolor\": \"white\", \"ticks\": \"\"}, \"bgcolor\": \"#E5ECF6\", \"radialaxis\": {\"gridcolor\": \"white\", \"linecolor\": \"white\", \"ticks\": \"\"}}, \"scene\": {\"xaxis\": {\"backgroundcolor\": \"#E5ECF6\", \"gridcolor\": \"white\", \"gridwidth\": 2, \"linecolor\": \"white\", \"showbackground\": true, \"ticks\": \"\", \"zerolinecolor\": \"white\"}, \"yaxis\": {\"backgroundcolor\": \"#E5ECF6\", \"gridcolor\": \"white\", \"gridwidth\": 2, \"linecolor\": \"white\", \"showbackground\": true, \"ticks\": \"\", \"zerolinecolor\": \"white\"}, \"zaxis\": {\"backgroundcolor\": \"#E5ECF6\", \"gridcolor\": \"white\", \"gridwidth\": 2, \"linecolor\": \"white\", \"showbackground\": true, \"ticks\": \"\", \"zerolinecolor\": \"white\"}}, \"shapedefaults\": {\"line\": {\"color\": \"#2a3f5f\"}}, \"ternary\": {\"aaxis\": {\"gridcolor\": \"white\", \"linecolor\": \"white\", \"ticks\": \"\"}, \"baxis\": {\"gridcolor\": \"white\", \"linecolor\": \"white\", \"ticks\": \"\"}, \"bgcolor\": \"#E5ECF6\", \"caxis\": {\"gridcolor\": \"white\", \"linecolor\": \"white\", \"ticks\": \"\"}}, \"title\": {\"x\": 0.05}, \"xaxis\": {\"automargin\": true, \"gridcolor\": \"white\", \"linecolor\": \"white\", \"ticks\": \"\", \"title\": {\"standoff\": 15}, \"zerolinecolor\": \"white\", \"zerolinewidth\": 2}, \"yaxis\": {\"automargin\": true, \"gridcolor\": \"white\", \"linecolor\": \"white\", \"ticks\": \"\", \"title\": {\"standoff\": 15}, \"zerolinecolor\": \"white\", \"zerolinewidth\": 2}}}, \"title\": {\"text\": \"The number of marriages and divorces per capita in theU.S. between 1867 and 2014\"}, \"xaxis\": {\"anchor\": \"y\", \"domain\": [0.0, 1.0], \"title\": {\"text\": \"Year\"}}, \"yaxis\": {\"anchor\": \"x\", \"domain\": [0.0, 1.0], \"title\": {\"text\": \"value\"}}},                        {\"responsive\": true}                    ).then(function(){\n",
       "                            \n",
       "var gd = document.getElementById('19bd30f8-74a5-4d79-84d5-b936f972a1d5');\n",
       "var x = new MutationObserver(function (mutations, observer) {{\n",
       "        var display = window.getComputedStyle(gd).display;\n",
       "        if (!display || display === 'none') {{\n",
       "            console.log([gd, 'removed!']);\n",
       "            Plotly.purge(gd);\n",
       "            observer.disconnect();\n",
       "        }}\n",
       "}});\n",
       "\n",
       "// Listen for the removal of the full notebook cells\n",
       "var notebookContainer = gd.closest('#notebook-container');\n",
       "if (notebookContainer) {{\n",
       "    x.observe(notebookContainer, {childList: true});\n",
       "}}\n",
       "\n",
       "// Listen for the clearing of the current output cell\n",
       "var outputEl = gd.closest('.output');\n",
       "if (outputEl) {{\n",
       "    x.observe(outputEl, {childList: true});\n",
       "}}\n",
       "\n",
       "                        })                };                });            </script>        </div>"
      ]
     },
     "metadata": {},
     "output_type": "display_data"
    }
   ],
   "source": [
    "#plotly is used for visualization\n",
    "import plotly.express as px\n",
    "#Y is grouped with Marriage and Divorces\n",
    "pd.options.plotting.backend = \"plotly\"\n",
    "df.plot(x='Year', y=['Marriages', 'Divorces'], title='The number of marriages and divorces per capita in theU.S. between 1867 and 2014')"
   ]
  },
  {
   "cell_type": "markdown",
   "metadata": {},
   "source": [
    "## Question 7 Python\n",
    "#### Create a vertical bar chart comparing the number of marriages and divorces per capita in the U.S. between 1900, 1950, and 2000. Don't forget to label your axes!"
   ]
  },
  {
   "cell_type": "code",
   "execution_count": 112,
   "metadata": {},
   "outputs": [
    {
     "data": {
      "application/vnd.plotly.v1+json": {
       "config": {
        "plotlyServerURL": "https://plot.ly"
       },
       "data": [
        {
         "alignmentgroup": "True",
         "hovertemplate": "variable=Marriages<br>Year=%{x}<br>value=%{y}<extra></extra>",
         "legendgroup": "Marriages",
         "marker": {
          "color": "#636efa"
         },
         "name": "Marriages",
         "offsetgroup": "Marriages",
         "orientation": "v",
         "showlegend": true,
         "textposition": "auto",
         "type": "bar",
         "x": [
          1900,
          1950,
          2000
         ],
         "xaxis": "x",
         "y": [
          709000,
          1667000,
          2315000
         ],
         "yaxis": "y"
        },
        {
         "alignmentgroup": "True",
         "hovertemplate": "variable=Divorces<br>Year=%{x}<br>value=%{y}<extra></extra>",
         "legendgroup": "Divorces",
         "marker": {
          "color": "#EF553B"
         },
         "name": "Divorces",
         "offsetgroup": "Divorces",
         "orientation": "v",
         "showlegend": true,
         "textposition": "auto",
         "type": "bar",
         "x": [
          1900,
          1950,
          2000
         ],
         "xaxis": "x",
         "y": [
          56000,
          385000,
          944000
         ],
         "yaxis": "y"
        }
       ],
       "layout": {
        "barmode": "group",
        "height": 600,
        "legend": {
         "title": {
          "text": "variable"
         },
         "tracegroupgap": 0
        },
        "template": {
         "data": {
          "bar": [
           {
            "error_x": {
             "color": "#2a3f5f"
            },
            "error_y": {
             "color": "#2a3f5f"
            },
            "marker": {
             "line": {
              "color": "#E5ECF6",
              "width": 0.5
             }
            },
            "type": "bar"
           }
          ],
          "barpolar": [
           {
            "marker": {
             "line": {
              "color": "#E5ECF6",
              "width": 0.5
             }
            },
            "type": "barpolar"
           }
          ],
          "carpet": [
           {
            "aaxis": {
             "endlinecolor": "#2a3f5f",
             "gridcolor": "white",
             "linecolor": "white",
             "minorgridcolor": "white",
             "startlinecolor": "#2a3f5f"
            },
            "baxis": {
             "endlinecolor": "#2a3f5f",
             "gridcolor": "white",
             "linecolor": "white",
             "minorgridcolor": "white",
             "startlinecolor": "#2a3f5f"
            },
            "type": "carpet"
           }
          ],
          "choropleth": [
           {
            "colorbar": {
             "outlinewidth": 0,
             "ticks": ""
            },
            "type": "choropleth"
           }
          ],
          "contour": [
           {
            "colorbar": {
             "outlinewidth": 0,
             "ticks": ""
            },
            "colorscale": [
             [
              0,
              "#0d0887"
             ],
             [
              0.1111111111111111,
              "#46039f"
             ],
             [
              0.2222222222222222,
              "#7201a8"
             ],
             [
              0.3333333333333333,
              "#9c179e"
             ],
             [
              0.4444444444444444,
              "#bd3786"
             ],
             [
              0.5555555555555556,
              "#d8576b"
             ],
             [
              0.6666666666666666,
              "#ed7953"
             ],
             [
              0.7777777777777778,
              "#fb9f3a"
             ],
             [
              0.8888888888888888,
              "#fdca26"
             ],
             [
              1,
              "#f0f921"
             ]
            ],
            "type": "contour"
           }
          ],
          "contourcarpet": [
           {
            "colorbar": {
             "outlinewidth": 0,
             "ticks": ""
            },
            "type": "contourcarpet"
           }
          ],
          "heatmap": [
           {
            "colorbar": {
             "outlinewidth": 0,
             "ticks": ""
            },
            "colorscale": [
             [
              0,
              "#0d0887"
             ],
             [
              0.1111111111111111,
              "#46039f"
             ],
             [
              0.2222222222222222,
              "#7201a8"
             ],
             [
              0.3333333333333333,
              "#9c179e"
             ],
             [
              0.4444444444444444,
              "#bd3786"
             ],
             [
              0.5555555555555556,
              "#d8576b"
             ],
             [
              0.6666666666666666,
              "#ed7953"
             ],
             [
              0.7777777777777778,
              "#fb9f3a"
             ],
             [
              0.8888888888888888,
              "#fdca26"
             ],
             [
              1,
              "#f0f921"
             ]
            ],
            "type": "heatmap"
           }
          ],
          "heatmapgl": [
           {
            "colorbar": {
             "outlinewidth": 0,
             "ticks": ""
            },
            "colorscale": [
             [
              0,
              "#0d0887"
             ],
             [
              0.1111111111111111,
              "#46039f"
             ],
             [
              0.2222222222222222,
              "#7201a8"
             ],
             [
              0.3333333333333333,
              "#9c179e"
             ],
             [
              0.4444444444444444,
              "#bd3786"
             ],
             [
              0.5555555555555556,
              "#d8576b"
             ],
             [
              0.6666666666666666,
              "#ed7953"
             ],
             [
              0.7777777777777778,
              "#fb9f3a"
             ],
             [
              0.8888888888888888,
              "#fdca26"
             ],
             [
              1,
              "#f0f921"
             ]
            ],
            "type": "heatmapgl"
           }
          ],
          "histogram": [
           {
            "marker": {
             "colorbar": {
              "outlinewidth": 0,
              "ticks": ""
             }
            },
            "type": "histogram"
           }
          ],
          "histogram2d": [
           {
            "colorbar": {
             "outlinewidth": 0,
             "ticks": ""
            },
            "colorscale": [
             [
              0,
              "#0d0887"
             ],
             [
              0.1111111111111111,
              "#46039f"
             ],
             [
              0.2222222222222222,
              "#7201a8"
             ],
             [
              0.3333333333333333,
              "#9c179e"
             ],
             [
              0.4444444444444444,
              "#bd3786"
             ],
             [
              0.5555555555555556,
              "#d8576b"
             ],
             [
              0.6666666666666666,
              "#ed7953"
             ],
             [
              0.7777777777777778,
              "#fb9f3a"
             ],
             [
              0.8888888888888888,
              "#fdca26"
             ],
             [
              1,
              "#f0f921"
             ]
            ],
            "type": "histogram2d"
           }
          ],
          "histogram2dcontour": [
           {
            "colorbar": {
             "outlinewidth": 0,
             "ticks": ""
            },
            "colorscale": [
             [
              0,
              "#0d0887"
             ],
             [
              0.1111111111111111,
              "#46039f"
             ],
             [
              0.2222222222222222,
              "#7201a8"
             ],
             [
              0.3333333333333333,
              "#9c179e"
             ],
             [
              0.4444444444444444,
              "#bd3786"
             ],
             [
              0.5555555555555556,
              "#d8576b"
             ],
             [
              0.6666666666666666,
              "#ed7953"
             ],
             [
              0.7777777777777778,
              "#fb9f3a"
             ],
             [
              0.8888888888888888,
              "#fdca26"
             ],
             [
              1,
              "#f0f921"
             ]
            ],
            "type": "histogram2dcontour"
           }
          ],
          "mesh3d": [
           {
            "colorbar": {
             "outlinewidth": 0,
             "ticks": ""
            },
            "type": "mesh3d"
           }
          ],
          "parcoords": [
           {
            "line": {
             "colorbar": {
              "outlinewidth": 0,
              "ticks": ""
             }
            },
            "type": "parcoords"
           }
          ],
          "pie": [
           {
            "automargin": true,
            "type": "pie"
           }
          ],
          "scatter": [
           {
            "marker": {
             "colorbar": {
              "outlinewidth": 0,
              "ticks": ""
             }
            },
            "type": "scatter"
           }
          ],
          "scatter3d": [
           {
            "line": {
             "colorbar": {
              "outlinewidth": 0,
              "ticks": ""
             }
            },
            "marker": {
             "colorbar": {
              "outlinewidth": 0,
              "ticks": ""
             }
            },
            "type": "scatter3d"
           }
          ],
          "scattercarpet": [
           {
            "marker": {
             "colorbar": {
              "outlinewidth": 0,
              "ticks": ""
             }
            },
            "type": "scattercarpet"
           }
          ],
          "scattergeo": [
           {
            "marker": {
             "colorbar": {
              "outlinewidth": 0,
              "ticks": ""
             }
            },
            "type": "scattergeo"
           }
          ],
          "scattergl": [
           {
            "marker": {
             "colorbar": {
              "outlinewidth": 0,
              "ticks": ""
             }
            },
            "type": "scattergl"
           }
          ],
          "scattermapbox": [
           {
            "marker": {
             "colorbar": {
              "outlinewidth": 0,
              "ticks": ""
             }
            },
            "type": "scattermapbox"
           }
          ],
          "scatterpolar": [
           {
            "marker": {
             "colorbar": {
              "outlinewidth": 0,
              "ticks": ""
             }
            },
            "type": "scatterpolar"
           }
          ],
          "scatterpolargl": [
           {
            "marker": {
             "colorbar": {
              "outlinewidth": 0,
              "ticks": ""
             }
            },
            "type": "scatterpolargl"
           }
          ],
          "scatterternary": [
           {
            "marker": {
             "colorbar": {
              "outlinewidth": 0,
              "ticks": ""
             }
            },
            "type": "scatterternary"
           }
          ],
          "surface": [
           {
            "colorbar": {
             "outlinewidth": 0,
             "ticks": ""
            },
            "colorscale": [
             [
              0,
              "#0d0887"
             ],
             [
              0.1111111111111111,
              "#46039f"
             ],
             [
              0.2222222222222222,
              "#7201a8"
             ],
             [
              0.3333333333333333,
              "#9c179e"
             ],
             [
              0.4444444444444444,
              "#bd3786"
             ],
             [
              0.5555555555555556,
              "#d8576b"
             ],
             [
              0.6666666666666666,
              "#ed7953"
             ],
             [
              0.7777777777777778,
              "#fb9f3a"
             ],
             [
              0.8888888888888888,
              "#fdca26"
             ],
             [
              1,
              "#f0f921"
             ]
            ],
            "type": "surface"
           }
          ],
          "table": [
           {
            "cells": {
             "fill": {
              "color": "#EBF0F8"
             },
             "line": {
              "color": "white"
             }
            },
            "header": {
             "fill": {
              "color": "#C8D4E3"
             },
             "line": {
              "color": "white"
             }
            },
            "type": "table"
           }
          ]
         },
         "layout": {
          "annotationdefaults": {
           "arrowcolor": "#2a3f5f",
           "arrowhead": 0,
           "arrowwidth": 1
          },
          "autotypenumbers": "strict",
          "coloraxis": {
           "colorbar": {
            "outlinewidth": 0,
            "ticks": ""
           }
          },
          "colorscale": {
           "diverging": [
            [
             0,
             "#8e0152"
            ],
            [
             0.1,
             "#c51b7d"
            ],
            [
             0.2,
             "#de77ae"
            ],
            [
             0.3,
             "#f1b6da"
            ],
            [
             0.4,
             "#fde0ef"
            ],
            [
             0.5,
             "#f7f7f7"
            ],
            [
             0.6,
             "#e6f5d0"
            ],
            [
             0.7,
             "#b8e186"
            ],
            [
             0.8,
             "#7fbc41"
            ],
            [
             0.9,
             "#4d9221"
            ],
            [
             1,
             "#276419"
            ]
           ],
           "sequential": [
            [
             0,
             "#0d0887"
            ],
            [
             0.1111111111111111,
             "#46039f"
            ],
            [
             0.2222222222222222,
             "#7201a8"
            ],
            [
             0.3333333333333333,
             "#9c179e"
            ],
            [
             0.4444444444444444,
             "#bd3786"
            ],
            [
             0.5555555555555556,
             "#d8576b"
            ],
            [
             0.6666666666666666,
             "#ed7953"
            ],
            [
             0.7777777777777778,
             "#fb9f3a"
            ],
            [
             0.8888888888888888,
             "#fdca26"
            ],
            [
             1,
             "#f0f921"
            ]
           ],
           "sequentialminus": [
            [
             0,
             "#0d0887"
            ],
            [
             0.1111111111111111,
             "#46039f"
            ],
            [
             0.2222222222222222,
             "#7201a8"
            ],
            [
             0.3333333333333333,
             "#9c179e"
            ],
            [
             0.4444444444444444,
             "#bd3786"
            ],
            [
             0.5555555555555556,
             "#d8576b"
            ],
            [
             0.6666666666666666,
             "#ed7953"
            ],
            [
             0.7777777777777778,
             "#fb9f3a"
            ],
            [
             0.8888888888888888,
             "#fdca26"
            ],
            [
             1,
             "#f0f921"
            ]
           ]
          },
          "colorway": [
           "#636efa",
           "#EF553B",
           "#00cc96",
           "#ab63fa",
           "#FFA15A",
           "#19d3f3",
           "#FF6692",
           "#B6E880",
           "#FF97FF",
           "#FECB52"
          ],
          "font": {
           "color": "#2a3f5f"
          },
          "geo": {
           "bgcolor": "white",
           "lakecolor": "white",
           "landcolor": "#E5ECF6",
           "showlakes": true,
           "showland": true,
           "subunitcolor": "white"
          },
          "hoverlabel": {
           "align": "left"
          },
          "hovermode": "closest",
          "mapbox": {
           "style": "light"
          },
          "paper_bgcolor": "white",
          "plot_bgcolor": "#E5ECF6",
          "polar": {
           "angularaxis": {
            "gridcolor": "white",
            "linecolor": "white",
            "ticks": ""
           },
           "bgcolor": "#E5ECF6",
           "radialaxis": {
            "gridcolor": "white",
            "linecolor": "white",
            "ticks": ""
           }
          },
          "scene": {
           "xaxis": {
            "backgroundcolor": "#E5ECF6",
            "gridcolor": "white",
            "gridwidth": 2,
            "linecolor": "white",
            "showbackground": true,
            "ticks": "",
            "zerolinecolor": "white"
           },
           "yaxis": {
            "backgroundcolor": "#E5ECF6",
            "gridcolor": "white",
            "gridwidth": 2,
            "linecolor": "white",
            "showbackground": true,
            "ticks": "",
            "zerolinecolor": "white"
           },
           "zaxis": {
            "backgroundcolor": "#E5ECF6",
            "gridcolor": "white",
            "gridwidth": 2,
            "linecolor": "white",
            "showbackground": true,
            "ticks": "",
            "zerolinecolor": "white"
           }
          },
          "shapedefaults": {
           "line": {
            "color": "#2a3f5f"
           }
          },
          "ternary": {
           "aaxis": {
            "gridcolor": "white",
            "linecolor": "white",
            "ticks": ""
           },
           "baxis": {
            "gridcolor": "white",
            "linecolor": "white",
            "ticks": ""
           },
           "bgcolor": "#E5ECF6",
           "caxis": {
            "gridcolor": "white",
            "linecolor": "white",
            "ticks": ""
           }
          },
          "title": {
           "x": 0.05
          },
          "xaxis": {
           "automargin": true,
           "gridcolor": "white",
           "linecolor": "white",
           "ticks": "",
           "title": {
            "standoff": 15
           },
           "zerolinecolor": "white",
           "zerolinewidth": 2
          },
          "yaxis": {
           "automargin": true,
           "gridcolor": "white",
           "linecolor": "white",
           "ticks": "",
           "title": {
            "standoff": 15
           },
           "zerolinecolor": "white",
           "zerolinewidth": 2
          }
         }
        },
        "title": {
         "text": "The number of marriages and divorces per capita in the U.S. between 1900, 1950, and 2000"
        },
        "xaxis": {
         "anchor": "y",
         "domain": [
          0,
          1
         ],
         "title": {
          "text": "Year"
         }
        },
        "yaxis": {
         "anchor": "x",
         "domain": [
          0,
          1
         ],
         "title": {
          "text": "value"
         }
        }
       }
      },
      "text/html": [
       "<div>                            <div id=\"8b870ca8-0389-4d8b-93d9-b5d2fc385cc2\" class=\"plotly-graph-div\" style=\"height:600px; width:100%;\"></div>            <script type=\"text/javascript\">                require([\"plotly\"], function(Plotly) {                    window.PLOTLYENV=window.PLOTLYENV || {};                                    if (document.getElementById(\"8b870ca8-0389-4d8b-93d9-b5d2fc385cc2\")) {                    Plotly.newPlot(                        \"8b870ca8-0389-4d8b-93d9-b5d2fc385cc2\",                        [{\"alignmentgroup\": \"True\", \"hovertemplate\": \"variable=Marriages<br>Year=%{x}<br>value=%{y}<extra></extra>\", \"legendgroup\": \"Marriages\", \"marker\": {\"color\": \"#636efa\"}, \"name\": \"Marriages\", \"offsetgroup\": \"Marriages\", \"orientation\": \"v\", \"showlegend\": true, \"textposition\": \"auto\", \"type\": \"bar\", \"x\": [1900, 1950, 2000], \"xaxis\": \"x\", \"y\": [709000.0, 1667000.0, 2315000.0], \"yaxis\": \"y\"}, {\"alignmentgroup\": \"True\", \"hovertemplate\": \"variable=Divorces<br>Year=%{x}<br>value=%{y}<extra></extra>\", \"legendgroup\": \"Divorces\", \"marker\": {\"color\": \"#EF553B\"}, \"name\": \"Divorces\", \"offsetgroup\": \"Divorces\", \"orientation\": \"v\", \"showlegend\": true, \"textposition\": \"auto\", \"type\": \"bar\", \"x\": [1900, 1950, 2000], \"xaxis\": \"x\", \"y\": [56000.0, 385000.0, 944000.0], \"yaxis\": \"y\"}],                        {\"barmode\": \"group\", \"height\": 600, \"legend\": {\"title\": {\"text\": \"variable\"}, \"tracegroupgap\": 0}, \"template\": {\"data\": {\"bar\": [{\"error_x\": {\"color\": \"#2a3f5f\"}, \"error_y\": {\"color\": \"#2a3f5f\"}, \"marker\": {\"line\": {\"color\": \"#E5ECF6\", \"width\": 0.5}}, \"type\": \"bar\"}], \"barpolar\": [{\"marker\": {\"line\": {\"color\": \"#E5ECF6\", \"width\": 0.5}}, \"type\": \"barpolar\"}], \"carpet\": [{\"aaxis\": {\"endlinecolor\": \"#2a3f5f\", \"gridcolor\": \"white\", \"linecolor\": \"white\", \"minorgridcolor\": \"white\", \"startlinecolor\": \"#2a3f5f\"}, \"baxis\": {\"endlinecolor\": \"#2a3f5f\", \"gridcolor\": \"white\", \"linecolor\": \"white\", \"minorgridcolor\": \"white\", \"startlinecolor\": \"#2a3f5f\"}, \"type\": \"carpet\"}], \"choropleth\": [{\"colorbar\": {\"outlinewidth\": 0, \"ticks\": \"\"}, \"type\": \"choropleth\"}], \"contour\": [{\"colorbar\": {\"outlinewidth\": 0, \"ticks\": \"\"}, \"colorscale\": [[0.0, \"#0d0887\"], [0.1111111111111111, \"#46039f\"], [0.2222222222222222, \"#7201a8\"], [0.3333333333333333, \"#9c179e\"], [0.4444444444444444, \"#bd3786\"], [0.5555555555555556, \"#d8576b\"], [0.6666666666666666, \"#ed7953\"], [0.7777777777777778, \"#fb9f3a\"], [0.8888888888888888, \"#fdca26\"], [1.0, \"#f0f921\"]], \"type\": \"contour\"}], \"contourcarpet\": [{\"colorbar\": {\"outlinewidth\": 0, \"ticks\": \"\"}, \"type\": \"contourcarpet\"}], \"heatmap\": [{\"colorbar\": {\"outlinewidth\": 0, \"ticks\": \"\"}, \"colorscale\": [[0.0, \"#0d0887\"], [0.1111111111111111, \"#46039f\"], [0.2222222222222222, \"#7201a8\"], [0.3333333333333333, \"#9c179e\"], [0.4444444444444444, \"#bd3786\"], [0.5555555555555556, \"#d8576b\"], [0.6666666666666666, \"#ed7953\"], [0.7777777777777778, \"#fb9f3a\"], [0.8888888888888888, \"#fdca26\"], [1.0, \"#f0f921\"]], \"type\": \"heatmap\"}], \"heatmapgl\": [{\"colorbar\": {\"outlinewidth\": 0, \"ticks\": \"\"}, \"colorscale\": [[0.0, \"#0d0887\"], [0.1111111111111111, \"#46039f\"], [0.2222222222222222, \"#7201a8\"], [0.3333333333333333, \"#9c179e\"], [0.4444444444444444, \"#bd3786\"], [0.5555555555555556, \"#d8576b\"], [0.6666666666666666, \"#ed7953\"], [0.7777777777777778, \"#fb9f3a\"], [0.8888888888888888, \"#fdca26\"], [1.0, \"#f0f921\"]], \"type\": \"heatmapgl\"}], \"histogram\": [{\"marker\": {\"colorbar\": {\"outlinewidth\": 0, \"ticks\": \"\"}}, \"type\": \"histogram\"}], \"histogram2d\": [{\"colorbar\": {\"outlinewidth\": 0, \"ticks\": \"\"}, \"colorscale\": [[0.0, \"#0d0887\"], [0.1111111111111111, \"#46039f\"], [0.2222222222222222, \"#7201a8\"], [0.3333333333333333, \"#9c179e\"], [0.4444444444444444, \"#bd3786\"], [0.5555555555555556, \"#d8576b\"], [0.6666666666666666, \"#ed7953\"], [0.7777777777777778, \"#fb9f3a\"], [0.8888888888888888, \"#fdca26\"], [1.0, \"#f0f921\"]], \"type\": \"histogram2d\"}], \"histogram2dcontour\": [{\"colorbar\": {\"outlinewidth\": 0, \"ticks\": \"\"}, \"colorscale\": [[0.0, \"#0d0887\"], [0.1111111111111111, \"#46039f\"], [0.2222222222222222, \"#7201a8\"], [0.3333333333333333, \"#9c179e\"], [0.4444444444444444, \"#bd3786\"], [0.5555555555555556, \"#d8576b\"], [0.6666666666666666, \"#ed7953\"], [0.7777777777777778, \"#fb9f3a\"], [0.8888888888888888, \"#fdca26\"], [1.0, \"#f0f921\"]], \"type\": \"histogram2dcontour\"}], \"mesh3d\": [{\"colorbar\": {\"outlinewidth\": 0, \"ticks\": \"\"}, \"type\": \"mesh3d\"}], \"parcoords\": [{\"line\": {\"colorbar\": {\"outlinewidth\": 0, \"ticks\": \"\"}}, \"type\": \"parcoords\"}], \"pie\": [{\"automargin\": true, \"type\": \"pie\"}], \"scatter\": [{\"marker\": {\"colorbar\": {\"outlinewidth\": 0, \"ticks\": \"\"}}, \"type\": \"scatter\"}], \"scatter3d\": [{\"line\": {\"colorbar\": {\"outlinewidth\": 0, \"ticks\": \"\"}}, \"marker\": {\"colorbar\": {\"outlinewidth\": 0, \"ticks\": \"\"}}, \"type\": \"scatter3d\"}], \"scattercarpet\": [{\"marker\": {\"colorbar\": {\"outlinewidth\": 0, \"ticks\": \"\"}}, \"type\": \"scattercarpet\"}], \"scattergeo\": [{\"marker\": {\"colorbar\": {\"outlinewidth\": 0, \"ticks\": \"\"}}, \"type\": \"scattergeo\"}], \"scattergl\": [{\"marker\": {\"colorbar\": {\"outlinewidth\": 0, \"ticks\": \"\"}}, \"type\": \"scattergl\"}], \"scattermapbox\": [{\"marker\": {\"colorbar\": {\"outlinewidth\": 0, \"ticks\": \"\"}}, \"type\": \"scattermapbox\"}], \"scatterpolar\": [{\"marker\": {\"colorbar\": {\"outlinewidth\": 0, \"ticks\": \"\"}}, \"type\": \"scatterpolar\"}], \"scatterpolargl\": [{\"marker\": {\"colorbar\": {\"outlinewidth\": 0, \"ticks\": \"\"}}, \"type\": \"scatterpolargl\"}], \"scatterternary\": [{\"marker\": {\"colorbar\": {\"outlinewidth\": 0, \"ticks\": \"\"}}, \"type\": \"scatterternary\"}], \"surface\": [{\"colorbar\": {\"outlinewidth\": 0, \"ticks\": \"\"}, \"colorscale\": [[0.0, \"#0d0887\"], [0.1111111111111111, \"#46039f\"], [0.2222222222222222, \"#7201a8\"], [0.3333333333333333, \"#9c179e\"], [0.4444444444444444, \"#bd3786\"], [0.5555555555555556, \"#d8576b\"], [0.6666666666666666, \"#ed7953\"], [0.7777777777777778, \"#fb9f3a\"], [0.8888888888888888, \"#fdca26\"], [1.0, \"#f0f921\"]], \"type\": \"surface\"}], \"table\": [{\"cells\": {\"fill\": {\"color\": \"#EBF0F8\"}, \"line\": {\"color\": \"white\"}}, \"header\": {\"fill\": {\"color\": \"#C8D4E3\"}, \"line\": {\"color\": \"white\"}}, \"type\": \"table\"}]}, \"layout\": {\"annotationdefaults\": {\"arrowcolor\": \"#2a3f5f\", \"arrowhead\": 0, \"arrowwidth\": 1}, \"autotypenumbers\": \"strict\", \"coloraxis\": {\"colorbar\": {\"outlinewidth\": 0, \"ticks\": \"\"}}, \"colorscale\": {\"diverging\": [[0, \"#8e0152\"], [0.1, \"#c51b7d\"], [0.2, \"#de77ae\"], [0.3, \"#f1b6da\"], [0.4, \"#fde0ef\"], [0.5, \"#f7f7f7\"], [0.6, \"#e6f5d0\"], [0.7, \"#b8e186\"], [0.8, \"#7fbc41\"], [0.9, \"#4d9221\"], [1, \"#276419\"]], \"sequential\": [[0.0, \"#0d0887\"], [0.1111111111111111, \"#46039f\"], [0.2222222222222222, \"#7201a8\"], [0.3333333333333333, \"#9c179e\"], [0.4444444444444444, \"#bd3786\"], [0.5555555555555556, \"#d8576b\"], [0.6666666666666666, \"#ed7953\"], [0.7777777777777778, \"#fb9f3a\"], [0.8888888888888888, \"#fdca26\"], [1.0, \"#f0f921\"]], \"sequentialminus\": [[0.0, \"#0d0887\"], [0.1111111111111111, \"#46039f\"], [0.2222222222222222, \"#7201a8\"], [0.3333333333333333, \"#9c179e\"], [0.4444444444444444, \"#bd3786\"], [0.5555555555555556, \"#d8576b\"], [0.6666666666666666, \"#ed7953\"], [0.7777777777777778, \"#fb9f3a\"], [0.8888888888888888, \"#fdca26\"], [1.0, \"#f0f921\"]]}, \"colorway\": [\"#636efa\", \"#EF553B\", \"#00cc96\", \"#ab63fa\", \"#FFA15A\", \"#19d3f3\", \"#FF6692\", \"#B6E880\", \"#FF97FF\", \"#FECB52\"], \"font\": {\"color\": \"#2a3f5f\"}, \"geo\": {\"bgcolor\": \"white\", \"lakecolor\": \"white\", \"landcolor\": \"#E5ECF6\", \"showlakes\": true, \"showland\": true, \"subunitcolor\": \"white\"}, \"hoverlabel\": {\"align\": \"left\"}, \"hovermode\": \"closest\", \"mapbox\": {\"style\": \"light\"}, \"paper_bgcolor\": \"white\", \"plot_bgcolor\": \"#E5ECF6\", \"polar\": {\"angularaxis\": {\"gridcolor\": \"white\", \"linecolor\": \"white\", \"ticks\": \"\"}, \"bgcolor\": \"#E5ECF6\", \"radialaxis\": {\"gridcolor\": \"white\", \"linecolor\": \"white\", \"ticks\": \"\"}}, \"scene\": {\"xaxis\": {\"backgroundcolor\": \"#E5ECF6\", \"gridcolor\": \"white\", \"gridwidth\": 2, \"linecolor\": \"white\", \"showbackground\": true, \"ticks\": \"\", \"zerolinecolor\": \"white\"}, \"yaxis\": {\"backgroundcolor\": \"#E5ECF6\", \"gridcolor\": \"white\", \"gridwidth\": 2, \"linecolor\": \"white\", \"showbackground\": true, \"ticks\": \"\", \"zerolinecolor\": \"white\"}, \"zaxis\": {\"backgroundcolor\": \"#E5ECF6\", \"gridcolor\": \"white\", \"gridwidth\": 2, \"linecolor\": \"white\", \"showbackground\": true, \"ticks\": \"\", \"zerolinecolor\": \"white\"}}, \"shapedefaults\": {\"line\": {\"color\": \"#2a3f5f\"}}, \"ternary\": {\"aaxis\": {\"gridcolor\": \"white\", \"linecolor\": \"white\", \"ticks\": \"\"}, \"baxis\": {\"gridcolor\": \"white\", \"linecolor\": \"white\", \"ticks\": \"\"}, \"bgcolor\": \"#E5ECF6\", \"caxis\": {\"gridcolor\": \"white\", \"linecolor\": \"white\", \"ticks\": \"\"}}, \"title\": {\"x\": 0.05}, \"xaxis\": {\"automargin\": true, \"gridcolor\": \"white\", \"linecolor\": \"white\", \"ticks\": \"\", \"title\": {\"standoff\": 15}, \"zerolinecolor\": \"white\", \"zerolinewidth\": 2}, \"yaxis\": {\"automargin\": true, \"gridcolor\": \"white\", \"linecolor\": \"white\", \"ticks\": \"\", \"title\": {\"standoff\": 15}, \"zerolinecolor\": \"white\", \"zerolinewidth\": 2}}}, \"title\": {\"text\": \"The number of marriages and divorces per capita in the U.S. between 1900, 1950, and 2000\"}, \"xaxis\": {\"anchor\": \"y\", \"domain\": [0.0, 1.0], \"title\": {\"text\": \"Year\"}}, \"yaxis\": {\"anchor\": \"x\", \"domain\": [0.0, 1.0], \"title\": {\"text\": \"value\"}}},                        {\"responsive\": true}                    ).then(function(){\n",
       "                            \n",
       "var gd = document.getElementById('8b870ca8-0389-4d8b-93d9-b5d2fc385cc2');\n",
       "var x = new MutationObserver(function (mutations, observer) {{\n",
       "        var display = window.getComputedStyle(gd).display;\n",
       "        if (!display || display === 'none') {{\n",
       "            console.log([gd, 'removed!']);\n",
       "            Plotly.purge(gd);\n",
       "            observer.disconnect();\n",
       "        }}\n",
       "}});\n",
       "\n",
       "// Listen for the removal of the full notebook cells\n",
       "var notebookContainer = gd.closest('#notebook-container');\n",
       "if (notebookContainer) {{\n",
       "    x.observe(notebookContainer, {childList: true});\n",
       "}}\n",
       "\n",
       "// Listen for the clearing of the current output cell\n",
       "var outputEl = gd.closest('.output');\n",
       "if (outputEl) {{\n",
       "    x.observe(outputEl, {childList: true});\n",
       "}}\n",
       "\n",
       "                        })                };                });            </script>        </div>"
      ]
     },
     "metadata": {},
     "output_type": "display_data"
    }
   ],
   "source": [
    "#lamda funtion is used to set the range of years\n",
    "new_df = df[df['Year'].apply(lambda x: x in [1900, 1950, 2000])]\n",
    "fig = px.bar(new_df, x=\"Year\",\n",
    "             y=['Marriages', 'Divorces'],\n",
    "             title=\"The number of marriages and divorces per capita in the U.S. between 1900, 1950, and 2000\",\n",
    "             barmode='group',\n",
    "             height=600\n",
    "            )\n",
    "\n",
    "fig.show()"
   ]
  },
  {
   "cell_type": "markdown",
   "metadata": {},
   "source": [
    "## Question 8 Python\n",
    "#### Create a horizontal bar chart that compares the deadliest actors in Hollywood. Sort the actors by their kill count and label each bar with the corresponding actor's name. Don't forget to label your axes!"
   ]
  },
  {
   "cell_type": "code",
   "execution_count": 115,
   "metadata": {},
   "outputs": [],
   "source": [
    "#load the csv file\n",
    "killer_actor = pd.read_csv('actor_kill_counts.csv')\n"
   ]
  },
  {
   "cell_type": "code",
   "execution_count": 117,
   "metadata": {},
   "outputs": [
    {
     "data": {
      "application/vnd.plotly.v1+json": {
       "config": {
        "plotlyServerURL": "https://plot.ly"
       },
       "data": [
        {
         "alignmentgroup": "True",
         "hovertemplate": "Count=%{x}<br>Actor=%{y}<extra></extra>",
         "legendgroup": "",
         "marker": {
          "color": "#636efa"
         },
         "name": "",
         "offsetgroup": "",
         "orientation": "h",
         "showlegend": false,
         "textposition": "auto",
         "type": "bar",
         "x": [
          193,
          194,
          201,
          204,
          207,
          226,
          239,
          267,
          295,
          369
         ],
         "xaxis": "x",
         "y": [
          "Wesley Snipes",
          "Clive Owen",
          "Jet Li",
          "Nicolas Cage",
          "Clint Eastwood",
          "Tomisaburo Wakayama",
          "Dolph Lundgren",
          "Sylvester Stallone",
          "Chow Yun-Fat",
          "Arnold Schwarzenegger"
         ],
         "yaxis": "y"
        }
       ],
       "layout": {
        "barmode": "group",
        "height": 600,
        "legend": {
         "tracegroupgap": 0
        },
        "template": {
         "data": {
          "bar": [
           {
            "error_x": {
             "color": "#2a3f5f"
            },
            "error_y": {
             "color": "#2a3f5f"
            },
            "marker": {
             "line": {
              "color": "#E5ECF6",
              "width": 0.5
             }
            },
            "type": "bar"
           }
          ],
          "barpolar": [
           {
            "marker": {
             "line": {
              "color": "#E5ECF6",
              "width": 0.5
             }
            },
            "type": "barpolar"
           }
          ],
          "carpet": [
           {
            "aaxis": {
             "endlinecolor": "#2a3f5f",
             "gridcolor": "white",
             "linecolor": "white",
             "minorgridcolor": "white",
             "startlinecolor": "#2a3f5f"
            },
            "baxis": {
             "endlinecolor": "#2a3f5f",
             "gridcolor": "white",
             "linecolor": "white",
             "minorgridcolor": "white",
             "startlinecolor": "#2a3f5f"
            },
            "type": "carpet"
           }
          ],
          "choropleth": [
           {
            "colorbar": {
             "outlinewidth": 0,
             "ticks": ""
            },
            "type": "choropleth"
           }
          ],
          "contour": [
           {
            "colorbar": {
             "outlinewidth": 0,
             "ticks": ""
            },
            "colorscale": [
             [
              0,
              "#0d0887"
             ],
             [
              0.1111111111111111,
              "#46039f"
             ],
             [
              0.2222222222222222,
              "#7201a8"
             ],
             [
              0.3333333333333333,
              "#9c179e"
             ],
             [
              0.4444444444444444,
              "#bd3786"
             ],
             [
              0.5555555555555556,
              "#d8576b"
             ],
             [
              0.6666666666666666,
              "#ed7953"
             ],
             [
              0.7777777777777778,
              "#fb9f3a"
             ],
             [
              0.8888888888888888,
              "#fdca26"
             ],
             [
              1,
              "#f0f921"
             ]
            ],
            "type": "contour"
           }
          ],
          "contourcarpet": [
           {
            "colorbar": {
             "outlinewidth": 0,
             "ticks": ""
            },
            "type": "contourcarpet"
           }
          ],
          "heatmap": [
           {
            "colorbar": {
             "outlinewidth": 0,
             "ticks": ""
            },
            "colorscale": [
             [
              0,
              "#0d0887"
             ],
             [
              0.1111111111111111,
              "#46039f"
             ],
             [
              0.2222222222222222,
              "#7201a8"
             ],
             [
              0.3333333333333333,
              "#9c179e"
             ],
             [
              0.4444444444444444,
              "#bd3786"
             ],
             [
              0.5555555555555556,
              "#d8576b"
             ],
             [
              0.6666666666666666,
              "#ed7953"
             ],
             [
              0.7777777777777778,
              "#fb9f3a"
             ],
             [
              0.8888888888888888,
              "#fdca26"
             ],
             [
              1,
              "#f0f921"
             ]
            ],
            "type": "heatmap"
           }
          ],
          "heatmapgl": [
           {
            "colorbar": {
             "outlinewidth": 0,
             "ticks": ""
            },
            "colorscale": [
             [
              0,
              "#0d0887"
             ],
             [
              0.1111111111111111,
              "#46039f"
             ],
             [
              0.2222222222222222,
              "#7201a8"
             ],
             [
              0.3333333333333333,
              "#9c179e"
             ],
             [
              0.4444444444444444,
              "#bd3786"
             ],
             [
              0.5555555555555556,
              "#d8576b"
             ],
             [
              0.6666666666666666,
              "#ed7953"
             ],
             [
              0.7777777777777778,
              "#fb9f3a"
             ],
             [
              0.8888888888888888,
              "#fdca26"
             ],
             [
              1,
              "#f0f921"
             ]
            ],
            "type": "heatmapgl"
           }
          ],
          "histogram": [
           {
            "marker": {
             "colorbar": {
              "outlinewidth": 0,
              "ticks": ""
             }
            },
            "type": "histogram"
           }
          ],
          "histogram2d": [
           {
            "colorbar": {
             "outlinewidth": 0,
             "ticks": ""
            },
            "colorscale": [
             [
              0,
              "#0d0887"
             ],
             [
              0.1111111111111111,
              "#46039f"
             ],
             [
              0.2222222222222222,
              "#7201a8"
             ],
             [
              0.3333333333333333,
              "#9c179e"
             ],
             [
              0.4444444444444444,
              "#bd3786"
             ],
             [
              0.5555555555555556,
              "#d8576b"
             ],
             [
              0.6666666666666666,
              "#ed7953"
             ],
             [
              0.7777777777777778,
              "#fb9f3a"
             ],
             [
              0.8888888888888888,
              "#fdca26"
             ],
             [
              1,
              "#f0f921"
             ]
            ],
            "type": "histogram2d"
           }
          ],
          "histogram2dcontour": [
           {
            "colorbar": {
             "outlinewidth": 0,
             "ticks": ""
            },
            "colorscale": [
             [
              0,
              "#0d0887"
             ],
             [
              0.1111111111111111,
              "#46039f"
             ],
             [
              0.2222222222222222,
              "#7201a8"
             ],
             [
              0.3333333333333333,
              "#9c179e"
             ],
             [
              0.4444444444444444,
              "#bd3786"
             ],
             [
              0.5555555555555556,
              "#d8576b"
             ],
             [
              0.6666666666666666,
              "#ed7953"
             ],
             [
              0.7777777777777778,
              "#fb9f3a"
             ],
             [
              0.8888888888888888,
              "#fdca26"
             ],
             [
              1,
              "#f0f921"
             ]
            ],
            "type": "histogram2dcontour"
           }
          ],
          "mesh3d": [
           {
            "colorbar": {
             "outlinewidth": 0,
             "ticks": ""
            },
            "type": "mesh3d"
           }
          ],
          "parcoords": [
           {
            "line": {
             "colorbar": {
              "outlinewidth": 0,
              "ticks": ""
             }
            },
            "type": "parcoords"
           }
          ],
          "pie": [
           {
            "automargin": true,
            "type": "pie"
           }
          ],
          "scatter": [
           {
            "marker": {
             "colorbar": {
              "outlinewidth": 0,
              "ticks": ""
             }
            },
            "type": "scatter"
           }
          ],
          "scatter3d": [
           {
            "line": {
             "colorbar": {
              "outlinewidth": 0,
              "ticks": ""
             }
            },
            "marker": {
             "colorbar": {
              "outlinewidth": 0,
              "ticks": ""
             }
            },
            "type": "scatter3d"
           }
          ],
          "scattercarpet": [
           {
            "marker": {
             "colorbar": {
              "outlinewidth": 0,
              "ticks": ""
             }
            },
            "type": "scattercarpet"
           }
          ],
          "scattergeo": [
           {
            "marker": {
             "colorbar": {
              "outlinewidth": 0,
              "ticks": ""
             }
            },
            "type": "scattergeo"
           }
          ],
          "scattergl": [
           {
            "marker": {
             "colorbar": {
              "outlinewidth": 0,
              "ticks": ""
             }
            },
            "type": "scattergl"
           }
          ],
          "scattermapbox": [
           {
            "marker": {
             "colorbar": {
              "outlinewidth": 0,
              "ticks": ""
             }
            },
            "type": "scattermapbox"
           }
          ],
          "scatterpolar": [
           {
            "marker": {
             "colorbar": {
              "outlinewidth": 0,
              "ticks": ""
             }
            },
            "type": "scatterpolar"
           }
          ],
          "scatterpolargl": [
           {
            "marker": {
             "colorbar": {
              "outlinewidth": 0,
              "ticks": ""
             }
            },
            "type": "scatterpolargl"
           }
          ],
          "scatterternary": [
           {
            "marker": {
             "colorbar": {
              "outlinewidth": 0,
              "ticks": ""
             }
            },
            "type": "scatterternary"
           }
          ],
          "surface": [
           {
            "colorbar": {
             "outlinewidth": 0,
             "ticks": ""
            },
            "colorscale": [
             [
              0,
              "#0d0887"
             ],
             [
              0.1111111111111111,
              "#46039f"
             ],
             [
              0.2222222222222222,
              "#7201a8"
             ],
             [
              0.3333333333333333,
              "#9c179e"
             ],
             [
              0.4444444444444444,
              "#bd3786"
             ],
             [
              0.5555555555555556,
              "#d8576b"
             ],
             [
              0.6666666666666666,
              "#ed7953"
             ],
             [
              0.7777777777777778,
              "#fb9f3a"
             ],
             [
              0.8888888888888888,
              "#fdca26"
             ],
             [
              1,
              "#f0f921"
             ]
            ],
            "type": "surface"
           }
          ],
          "table": [
           {
            "cells": {
             "fill": {
              "color": "#EBF0F8"
             },
             "line": {
              "color": "white"
             }
            },
            "header": {
             "fill": {
              "color": "#C8D4E3"
             },
             "line": {
              "color": "white"
             }
            },
            "type": "table"
           }
          ]
         },
         "layout": {
          "annotationdefaults": {
           "arrowcolor": "#2a3f5f",
           "arrowhead": 0,
           "arrowwidth": 1
          },
          "autotypenumbers": "strict",
          "coloraxis": {
           "colorbar": {
            "outlinewidth": 0,
            "ticks": ""
           }
          },
          "colorscale": {
           "diverging": [
            [
             0,
             "#8e0152"
            ],
            [
             0.1,
             "#c51b7d"
            ],
            [
             0.2,
             "#de77ae"
            ],
            [
             0.3,
             "#f1b6da"
            ],
            [
             0.4,
             "#fde0ef"
            ],
            [
             0.5,
             "#f7f7f7"
            ],
            [
             0.6,
             "#e6f5d0"
            ],
            [
             0.7,
             "#b8e186"
            ],
            [
             0.8,
             "#7fbc41"
            ],
            [
             0.9,
             "#4d9221"
            ],
            [
             1,
             "#276419"
            ]
           ],
           "sequential": [
            [
             0,
             "#0d0887"
            ],
            [
             0.1111111111111111,
             "#46039f"
            ],
            [
             0.2222222222222222,
             "#7201a8"
            ],
            [
             0.3333333333333333,
             "#9c179e"
            ],
            [
             0.4444444444444444,
             "#bd3786"
            ],
            [
             0.5555555555555556,
             "#d8576b"
            ],
            [
             0.6666666666666666,
             "#ed7953"
            ],
            [
             0.7777777777777778,
             "#fb9f3a"
            ],
            [
             0.8888888888888888,
             "#fdca26"
            ],
            [
             1,
             "#f0f921"
            ]
           ],
           "sequentialminus": [
            [
             0,
             "#0d0887"
            ],
            [
             0.1111111111111111,
             "#46039f"
            ],
            [
             0.2222222222222222,
             "#7201a8"
            ],
            [
             0.3333333333333333,
             "#9c179e"
            ],
            [
             0.4444444444444444,
             "#bd3786"
            ],
            [
             0.5555555555555556,
             "#d8576b"
            ],
            [
             0.6666666666666666,
             "#ed7953"
            ],
            [
             0.7777777777777778,
             "#fb9f3a"
            ],
            [
             0.8888888888888888,
             "#fdca26"
            ],
            [
             1,
             "#f0f921"
            ]
           ]
          },
          "colorway": [
           "#636efa",
           "#EF553B",
           "#00cc96",
           "#ab63fa",
           "#FFA15A",
           "#19d3f3",
           "#FF6692",
           "#B6E880",
           "#FF97FF",
           "#FECB52"
          ],
          "font": {
           "color": "#2a3f5f"
          },
          "geo": {
           "bgcolor": "white",
           "lakecolor": "white",
           "landcolor": "#E5ECF6",
           "showlakes": true,
           "showland": true,
           "subunitcolor": "white"
          },
          "hoverlabel": {
           "align": "left"
          },
          "hovermode": "closest",
          "mapbox": {
           "style": "light"
          },
          "paper_bgcolor": "white",
          "plot_bgcolor": "#E5ECF6",
          "polar": {
           "angularaxis": {
            "gridcolor": "white",
            "linecolor": "white",
            "ticks": ""
           },
           "bgcolor": "#E5ECF6",
           "radialaxis": {
            "gridcolor": "white",
            "linecolor": "white",
            "ticks": ""
           }
          },
          "scene": {
           "xaxis": {
            "backgroundcolor": "#E5ECF6",
            "gridcolor": "white",
            "gridwidth": 2,
            "linecolor": "white",
            "showbackground": true,
            "ticks": "",
            "zerolinecolor": "white"
           },
           "yaxis": {
            "backgroundcolor": "#E5ECF6",
            "gridcolor": "white",
            "gridwidth": 2,
            "linecolor": "white",
            "showbackground": true,
            "ticks": "",
            "zerolinecolor": "white"
           },
           "zaxis": {
            "backgroundcolor": "#E5ECF6",
            "gridcolor": "white",
            "gridwidth": 2,
            "linecolor": "white",
            "showbackground": true,
            "ticks": "",
            "zerolinecolor": "white"
           }
          },
          "shapedefaults": {
           "line": {
            "color": "#2a3f5f"
           }
          },
          "ternary": {
           "aaxis": {
            "gridcolor": "white",
            "linecolor": "white",
            "ticks": ""
           },
           "baxis": {
            "gridcolor": "white",
            "linecolor": "white",
            "ticks": ""
           },
           "bgcolor": "#E5ECF6",
           "caxis": {
            "gridcolor": "white",
            "linecolor": "white",
            "ticks": ""
           }
          },
          "title": {
           "x": 0.05
          },
          "xaxis": {
           "automargin": true,
           "gridcolor": "white",
           "linecolor": "white",
           "ticks": "",
           "title": {
            "standoff": 15
           },
           "zerolinecolor": "white",
           "zerolinewidth": 2
          },
          "yaxis": {
           "automargin": true,
           "gridcolor": "white",
           "linecolor": "white",
           "ticks": "",
           "title": {
            "standoff": 15
           },
           "zerolinecolor": "white",
           "zerolinewidth": 2
          }
         }
        },
        "title": {
         "text": "The deadliest actors in Hollywood"
        },
        "xaxis": {
         "anchor": "y",
         "domain": [
          0,
          1
         ],
         "title": {
          "text": "Count"
         }
        },
        "yaxis": {
         "anchor": "x",
         "domain": [
          0,
          1
         ],
         "title": {
          "text": "Actor"
         }
        }
       }
      },
      "text/html": [
       "<div>                            <div id=\"ac1aeb00-9e59-420b-8292-57578dd8d27d\" class=\"plotly-graph-div\" style=\"height:600px; width:100%;\"></div>            <script type=\"text/javascript\">                require([\"plotly\"], function(Plotly) {                    window.PLOTLYENV=window.PLOTLYENV || {};                                    if (document.getElementById(\"ac1aeb00-9e59-420b-8292-57578dd8d27d\")) {                    Plotly.newPlot(                        \"ac1aeb00-9e59-420b-8292-57578dd8d27d\",                        [{\"alignmentgroup\": \"True\", \"hovertemplate\": \"Count=%{x}<br>Actor=%{y}<extra></extra>\", \"legendgroup\": \"\", \"marker\": {\"color\": \"#636efa\"}, \"name\": \"\", \"offsetgroup\": \"\", \"orientation\": \"h\", \"showlegend\": false, \"textposition\": \"auto\", \"type\": \"bar\", \"x\": [193, 194, 201, 204, 207, 226, 239, 267, 295, 369], \"xaxis\": \"x\", \"y\": [\"Wesley Snipes\", \"Clive Owen\", \"Jet Li\", \"Nicolas Cage\", \"Clint Eastwood\", \"Tomisaburo Wakayama\", \"Dolph Lundgren\", \"Sylvester Stallone\", \"Chow Yun-Fat\", \"Arnold Schwarzenegger\"], \"yaxis\": \"y\"}],                        {\"barmode\": \"group\", \"height\": 600, \"legend\": {\"tracegroupgap\": 0}, \"template\": {\"data\": {\"bar\": [{\"error_x\": {\"color\": \"#2a3f5f\"}, \"error_y\": {\"color\": \"#2a3f5f\"}, \"marker\": {\"line\": {\"color\": \"#E5ECF6\", \"width\": 0.5}}, \"type\": \"bar\"}], \"barpolar\": [{\"marker\": {\"line\": {\"color\": \"#E5ECF6\", \"width\": 0.5}}, \"type\": \"barpolar\"}], \"carpet\": [{\"aaxis\": {\"endlinecolor\": \"#2a3f5f\", \"gridcolor\": \"white\", \"linecolor\": \"white\", \"minorgridcolor\": \"white\", \"startlinecolor\": \"#2a3f5f\"}, \"baxis\": {\"endlinecolor\": \"#2a3f5f\", \"gridcolor\": \"white\", \"linecolor\": \"white\", \"minorgridcolor\": \"white\", \"startlinecolor\": \"#2a3f5f\"}, \"type\": \"carpet\"}], \"choropleth\": [{\"colorbar\": {\"outlinewidth\": 0, \"ticks\": \"\"}, \"type\": \"choropleth\"}], \"contour\": [{\"colorbar\": {\"outlinewidth\": 0, \"ticks\": \"\"}, \"colorscale\": [[0.0, \"#0d0887\"], [0.1111111111111111, \"#46039f\"], [0.2222222222222222, \"#7201a8\"], [0.3333333333333333, \"#9c179e\"], [0.4444444444444444, \"#bd3786\"], [0.5555555555555556, \"#d8576b\"], [0.6666666666666666, \"#ed7953\"], [0.7777777777777778, \"#fb9f3a\"], [0.8888888888888888, \"#fdca26\"], [1.0, \"#f0f921\"]], \"type\": \"contour\"}], \"contourcarpet\": [{\"colorbar\": {\"outlinewidth\": 0, \"ticks\": \"\"}, \"type\": \"contourcarpet\"}], \"heatmap\": [{\"colorbar\": {\"outlinewidth\": 0, \"ticks\": \"\"}, \"colorscale\": [[0.0, \"#0d0887\"], [0.1111111111111111, \"#46039f\"], [0.2222222222222222, \"#7201a8\"], [0.3333333333333333, \"#9c179e\"], [0.4444444444444444, \"#bd3786\"], [0.5555555555555556, \"#d8576b\"], [0.6666666666666666, \"#ed7953\"], [0.7777777777777778, \"#fb9f3a\"], [0.8888888888888888, \"#fdca26\"], [1.0, \"#f0f921\"]], \"type\": \"heatmap\"}], \"heatmapgl\": [{\"colorbar\": {\"outlinewidth\": 0, \"ticks\": \"\"}, \"colorscale\": [[0.0, \"#0d0887\"], [0.1111111111111111, \"#46039f\"], [0.2222222222222222, \"#7201a8\"], [0.3333333333333333, \"#9c179e\"], [0.4444444444444444, \"#bd3786\"], [0.5555555555555556, \"#d8576b\"], [0.6666666666666666, \"#ed7953\"], [0.7777777777777778, \"#fb9f3a\"], [0.8888888888888888, \"#fdca26\"], [1.0, \"#f0f921\"]], \"type\": \"heatmapgl\"}], \"histogram\": [{\"marker\": {\"colorbar\": {\"outlinewidth\": 0, \"ticks\": \"\"}}, \"type\": \"histogram\"}], \"histogram2d\": [{\"colorbar\": {\"outlinewidth\": 0, \"ticks\": \"\"}, \"colorscale\": [[0.0, \"#0d0887\"], [0.1111111111111111, \"#46039f\"], [0.2222222222222222, \"#7201a8\"], [0.3333333333333333, \"#9c179e\"], [0.4444444444444444, \"#bd3786\"], [0.5555555555555556, \"#d8576b\"], [0.6666666666666666, \"#ed7953\"], [0.7777777777777778, \"#fb9f3a\"], [0.8888888888888888, \"#fdca26\"], [1.0, \"#f0f921\"]], \"type\": \"histogram2d\"}], \"histogram2dcontour\": [{\"colorbar\": {\"outlinewidth\": 0, \"ticks\": \"\"}, \"colorscale\": [[0.0, \"#0d0887\"], [0.1111111111111111, \"#46039f\"], [0.2222222222222222, \"#7201a8\"], [0.3333333333333333, \"#9c179e\"], [0.4444444444444444, \"#bd3786\"], [0.5555555555555556, \"#d8576b\"], [0.6666666666666666, \"#ed7953\"], [0.7777777777777778, \"#fb9f3a\"], [0.8888888888888888, \"#fdca26\"], [1.0, \"#f0f921\"]], \"type\": \"histogram2dcontour\"}], \"mesh3d\": [{\"colorbar\": {\"outlinewidth\": 0, \"ticks\": \"\"}, \"type\": \"mesh3d\"}], \"parcoords\": [{\"line\": {\"colorbar\": {\"outlinewidth\": 0, \"ticks\": \"\"}}, \"type\": \"parcoords\"}], \"pie\": [{\"automargin\": true, \"type\": \"pie\"}], \"scatter\": [{\"marker\": {\"colorbar\": {\"outlinewidth\": 0, \"ticks\": \"\"}}, \"type\": \"scatter\"}], \"scatter3d\": [{\"line\": {\"colorbar\": {\"outlinewidth\": 0, \"ticks\": \"\"}}, \"marker\": {\"colorbar\": {\"outlinewidth\": 0, \"ticks\": \"\"}}, \"type\": \"scatter3d\"}], \"scattercarpet\": [{\"marker\": {\"colorbar\": {\"outlinewidth\": 0, \"ticks\": \"\"}}, \"type\": \"scattercarpet\"}], \"scattergeo\": [{\"marker\": {\"colorbar\": {\"outlinewidth\": 0, \"ticks\": \"\"}}, \"type\": \"scattergeo\"}], \"scattergl\": [{\"marker\": {\"colorbar\": {\"outlinewidth\": 0, \"ticks\": \"\"}}, \"type\": \"scattergl\"}], \"scattermapbox\": [{\"marker\": {\"colorbar\": {\"outlinewidth\": 0, \"ticks\": \"\"}}, \"type\": \"scattermapbox\"}], \"scatterpolar\": [{\"marker\": {\"colorbar\": {\"outlinewidth\": 0, \"ticks\": \"\"}}, \"type\": \"scatterpolar\"}], \"scatterpolargl\": [{\"marker\": {\"colorbar\": {\"outlinewidth\": 0, \"ticks\": \"\"}}, \"type\": \"scatterpolargl\"}], \"scatterternary\": [{\"marker\": {\"colorbar\": {\"outlinewidth\": 0, \"ticks\": \"\"}}, \"type\": \"scatterternary\"}], \"surface\": [{\"colorbar\": {\"outlinewidth\": 0, \"ticks\": \"\"}, \"colorscale\": [[0.0, \"#0d0887\"], [0.1111111111111111, \"#46039f\"], [0.2222222222222222, \"#7201a8\"], [0.3333333333333333, \"#9c179e\"], [0.4444444444444444, \"#bd3786\"], [0.5555555555555556, \"#d8576b\"], [0.6666666666666666, \"#ed7953\"], [0.7777777777777778, \"#fb9f3a\"], [0.8888888888888888, \"#fdca26\"], [1.0, \"#f0f921\"]], \"type\": \"surface\"}], \"table\": [{\"cells\": {\"fill\": {\"color\": \"#EBF0F8\"}, \"line\": {\"color\": \"white\"}}, \"header\": {\"fill\": {\"color\": \"#C8D4E3\"}, \"line\": {\"color\": \"white\"}}, \"type\": \"table\"}]}, \"layout\": {\"annotationdefaults\": {\"arrowcolor\": \"#2a3f5f\", \"arrowhead\": 0, \"arrowwidth\": 1}, \"autotypenumbers\": \"strict\", \"coloraxis\": {\"colorbar\": {\"outlinewidth\": 0, \"ticks\": \"\"}}, \"colorscale\": {\"diverging\": [[0, \"#8e0152\"], [0.1, \"#c51b7d\"], [0.2, \"#de77ae\"], [0.3, \"#f1b6da\"], [0.4, \"#fde0ef\"], [0.5, \"#f7f7f7\"], [0.6, \"#e6f5d0\"], [0.7, \"#b8e186\"], [0.8, \"#7fbc41\"], [0.9, \"#4d9221\"], [1, \"#276419\"]], \"sequential\": [[0.0, \"#0d0887\"], [0.1111111111111111, \"#46039f\"], [0.2222222222222222, \"#7201a8\"], [0.3333333333333333, \"#9c179e\"], [0.4444444444444444, \"#bd3786\"], [0.5555555555555556, \"#d8576b\"], [0.6666666666666666, \"#ed7953\"], [0.7777777777777778, \"#fb9f3a\"], [0.8888888888888888, \"#fdca26\"], [1.0, \"#f0f921\"]], \"sequentialminus\": [[0.0, \"#0d0887\"], [0.1111111111111111, \"#46039f\"], [0.2222222222222222, \"#7201a8\"], [0.3333333333333333, \"#9c179e\"], [0.4444444444444444, \"#bd3786\"], [0.5555555555555556, \"#d8576b\"], [0.6666666666666666, \"#ed7953\"], [0.7777777777777778, \"#fb9f3a\"], [0.8888888888888888, \"#fdca26\"], [1.0, \"#f0f921\"]]}, \"colorway\": [\"#636efa\", \"#EF553B\", \"#00cc96\", \"#ab63fa\", \"#FFA15A\", \"#19d3f3\", \"#FF6692\", \"#B6E880\", \"#FF97FF\", \"#FECB52\"], \"font\": {\"color\": \"#2a3f5f\"}, \"geo\": {\"bgcolor\": \"white\", \"lakecolor\": \"white\", \"landcolor\": \"#E5ECF6\", \"showlakes\": true, \"showland\": true, \"subunitcolor\": \"white\"}, \"hoverlabel\": {\"align\": \"left\"}, \"hovermode\": \"closest\", \"mapbox\": {\"style\": \"light\"}, \"paper_bgcolor\": \"white\", \"plot_bgcolor\": \"#E5ECF6\", \"polar\": {\"angularaxis\": {\"gridcolor\": \"white\", \"linecolor\": \"white\", \"ticks\": \"\"}, \"bgcolor\": \"#E5ECF6\", \"radialaxis\": {\"gridcolor\": \"white\", \"linecolor\": \"white\", \"ticks\": \"\"}}, \"scene\": {\"xaxis\": {\"backgroundcolor\": \"#E5ECF6\", \"gridcolor\": \"white\", \"gridwidth\": 2, \"linecolor\": \"white\", \"showbackground\": true, \"ticks\": \"\", \"zerolinecolor\": \"white\"}, \"yaxis\": {\"backgroundcolor\": \"#E5ECF6\", \"gridcolor\": \"white\", \"gridwidth\": 2, \"linecolor\": \"white\", \"showbackground\": true, \"ticks\": \"\", \"zerolinecolor\": \"white\"}, \"zaxis\": {\"backgroundcolor\": \"#E5ECF6\", \"gridcolor\": \"white\", \"gridwidth\": 2, \"linecolor\": \"white\", \"showbackground\": true, \"ticks\": \"\", \"zerolinecolor\": \"white\"}}, \"shapedefaults\": {\"line\": {\"color\": \"#2a3f5f\"}}, \"ternary\": {\"aaxis\": {\"gridcolor\": \"white\", \"linecolor\": \"white\", \"ticks\": \"\"}, \"baxis\": {\"gridcolor\": \"white\", \"linecolor\": \"white\", \"ticks\": \"\"}, \"bgcolor\": \"#E5ECF6\", \"caxis\": {\"gridcolor\": \"white\", \"linecolor\": \"white\", \"ticks\": \"\"}}, \"title\": {\"x\": 0.05}, \"xaxis\": {\"automargin\": true, \"gridcolor\": \"white\", \"linecolor\": \"white\", \"ticks\": \"\", \"title\": {\"standoff\": 15}, \"zerolinecolor\": \"white\", \"zerolinewidth\": 2}, \"yaxis\": {\"automargin\": true, \"gridcolor\": \"white\", \"linecolor\": \"white\", \"ticks\": \"\", \"title\": {\"standoff\": 15}, \"zerolinecolor\": \"white\", \"zerolinewidth\": 2}}}, \"title\": {\"text\": \"The deadliest actors in Hollywood\"}, \"xaxis\": {\"anchor\": \"y\", \"domain\": [0.0, 1.0], \"title\": {\"text\": \"Count\"}}, \"yaxis\": {\"anchor\": \"x\", \"domain\": [0.0, 1.0], \"title\": {\"text\": \"Actor\"}}},                        {\"responsive\": true}                    ).then(function(){\n",
       "                            \n",
       "var gd = document.getElementById('ac1aeb00-9e59-420b-8292-57578dd8d27d');\n",
       "var x = new MutationObserver(function (mutations, observer) {{\n",
       "        var display = window.getComputedStyle(gd).display;\n",
       "        if (!display || display === 'none') {{\n",
       "            console.log([gd, 'removed!']);\n",
       "            Plotly.purge(gd);\n",
       "            observer.disconnect();\n",
       "        }}\n",
       "}});\n",
       "\n",
       "// Listen for the removal of the full notebook cells\n",
       "var notebookContainer = gd.closest('#notebook-container');\n",
       "if (notebookContainer) {{\n",
       "    x.observe(notebookContainer, {childList: true});\n",
       "}}\n",
       "\n",
       "// Listen for the clearing of the current output cell\n",
       "var outputEl = gd.closest('.output');\n",
       "if (outputEl) {{\n",
       "    x.observe(outputEl, {childList: true});\n",
       "}}\n",
       "\n",
       "                        })                };                });            </script>        </div>"
      ]
     },
     "metadata": {},
     "output_type": "display_data"
    }
   ],
   "source": [
    "#vertical bar chart is implemented using plotly\n",
    "killer_actor = killer_actor.sort_values(by=['Count'])\n",
    "Hfig = px.bar(killer_actor, x=\"Count\",\n",
    "             y=\"Actor\",\n",
    "             title=\"The deadliest actors in Hollywood\",\n",
    "             barmode='group',\n",
    "             height=600\n",
    "            )\n",
    "Hfig.show()"
   ]
  },
  {
   "cell_type": "markdown",
   "metadata": {},
   "source": [
    "## Question 9 Python\n",
    "#### Create a pie chart showing the fraction of all Roman Emperors that were assassinated.\n"
   ]
  },
  {
   "cell_type": "code",
   "execution_count": 118,
   "metadata": {},
   "outputs": [],
   "source": [
    "#load the csv file\n",
    "Roman_Emperors = pd.read_csv('roman-emperor-reigns.csv')"
   ]
  },
  {
   "cell_type": "code",
   "execution_count": 119,
   "metadata": {},
   "outputs": [
    {
     "data": {
      "text/html": [
       "<div>\n",
       "<style scoped>\n",
       "    .dataframe tbody tr th:only-of-type {\n",
       "        vertical-align: middle;\n",
       "    }\n",
       "\n",
       "    .dataframe tbody tr th {\n",
       "        vertical-align: top;\n",
       "    }\n",
       "\n",
       "    .dataframe thead th {\n",
       "        text-align: right;\n",
       "    }\n",
       "</style>\n",
       "<table border=\"1\" class=\"dataframe\">\n",
       "  <thead>\n",
       "    <tr style=\"text-align: right;\">\n",
       "      <th></th>\n",
       "      <th>Cause_of_Death</th>\n",
       "      <th>Length_of_Reign</th>\n",
       "    </tr>\n",
       "  </thead>\n",
       "  <tbody>\n",
       "    <tr>\n",
       "      <th>0</th>\n",
       "      <td>Assassinated</td>\n",
       "      <td>6.238182</td>\n",
       "    </tr>\n",
       "    <tr>\n",
       "      <th>1</th>\n",
       "      <td>Died in captivity</td>\n",
       "      <td>7.000000</td>\n",
       "    </tr>\n",
       "    <tr>\n",
       "      <th>2</th>\n",
       "      <td>Executed</td>\n",
       "      <td>5.773333</td>\n",
       "    </tr>\n",
       "    <tr>\n",
       "      <th>3</th>\n",
       "      <td>Illness</td>\n",
       "      <td>6.382000</td>\n",
       "    </tr>\n",
       "    <tr>\n",
       "      <th>4</th>\n",
       "      <td>Killed in battle</td>\n",
       "      <td>4.382500</td>\n",
       "    </tr>\n",
       "    <tr>\n",
       "      <th>5</th>\n",
       "      <td>Natural causes</td>\n",
       "      <td>12.759375</td>\n",
       "    </tr>\n",
       "    <tr>\n",
       "      <th>6</th>\n",
       "      <td>Possibly assassinated</td>\n",
       "      <td>12.801250</td>\n",
       "    </tr>\n",
       "    <tr>\n",
       "      <th>7</th>\n",
       "      <td>Suicide</td>\n",
       "      <td>6.996000</td>\n",
       "    </tr>\n",
       "  </tbody>\n",
       "</table>\n",
       "</div>"
      ],
      "text/plain": [
       "          Cause_of_Death  Length_of_Reign\n",
       "0           Assassinated         6.238182\n",
       "1      Died in captivity         7.000000\n",
       "2               Executed         5.773333\n",
       "3                Illness         6.382000\n",
       "4       Killed in battle         4.382500\n",
       "5         Natural causes        12.759375\n",
       "6  Possibly assassinated        12.801250\n",
       "7                Suicide         6.996000"
      ]
     },
     "execution_count": 119,
     "metadata": {},
     "output_type": "execute_result"
    }
   ],
   "source": [
    "#grouped based on cause of death\n",
    "Roman_Emperor = Roman_Emperors.groupby(['Cause_of_Death'],as_index=False).mean()\n",
    "Roman_Emperor"
   ]
  },
  {
   "cell_type": "code",
   "execution_count": 120,
   "metadata": {},
   "outputs": [
    {
     "data": {
      "application/vnd.plotly.v1+json": {
       "config": {
        "plotlyServerURL": "https://plot.ly"
       },
       "data": [
        {
         "domain": {
          "x": [
           0,
           1
          ],
          "y": [
           0,
           1
          ]
         },
         "hovertemplate": "Cause_of_Death=%{label}<br>Length_of_Reign=%{value}<extra></extra>",
         "labels": [
          "Assassinated",
          "Died in captivity",
          "Executed",
          "Illness",
          "Killed in battle",
          "Natural causes",
          "Possibly assassinated",
          "Suicide"
         ],
         "legendgroup": "",
         "name": "",
         "showlegend": true,
         "type": "pie",
         "values": [
          6.238181818181818,
          7,
          5.773333333333333,
          6.382,
          4.3825,
          12.759374999999999,
          12.80125,
          6.996
         ]
        }
       ],
       "layout": {
        "legend": {
         "tracegroupgap": 0
        },
        "piecolorway": [
         "rgb(103,0,31)",
         "rgb(178,24,43)",
         "rgb(214,96,77)",
         "rgb(244,165,130)",
         "rgb(253,219,199)",
         "rgb(247,247,247)",
         "rgb(209,229,240)",
         "rgb(146,197,222)",
         "rgb(67,147,195)",
         "rgb(33,102,172)",
         "rgb(5,48,97)"
        ],
        "template": {
         "data": {
          "bar": [
           {
            "error_x": {
             "color": "#2a3f5f"
            },
            "error_y": {
             "color": "#2a3f5f"
            },
            "marker": {
             "line": {
              "color": "#E5ECF6",
              "width": 0.5
             }
            },
            "type": "bar"
           }
          ],
          "barpolar": [
           {
            "marker": {
             "line": {
              "color": "#E5ECF6",
              "width": 0.5
             }
            },
            "type": "barpolar"
           }
          ],
          "carpet": [
           {
            "aaxis": {
             "endlinecolor": "#2a3f5f",
             "gridcolor": "white",
             "linecolor": "white",
             "minorgridcolor": "white",
             "startlinecolor": "#2a3f5f"
            },
            "baxis": {
             "endlinecolor": "#2a3f5f",
             "gridcolor": "white",
             "linecolor": "white",
             "minorgridcolor": "white",
             "startlinecolor": "#2a3f5f"
            },
            "type": "carpet"
           }
          ],
          "choropleth": [
           {
            "colorbar": {
             "outlinewidth": 0,
             "ticks": ""
            },
            "type": "choropleth"
           }
          ],
          "contour": [
           {
            "colorbar": {
             "outlinewidth": 0,
             "ticks": ""
            },
            "colorscale": [
             [
              0,
              "#0d0887"
             ],
             [
              0.1111111111111111,
              "#46039f"
             ],
             [
              0.2222222222222222,
              "#7201a8"
             ],
             [
              0.3333333333333333,
              "#9c179e"
             ],
             [
              0.4444444444444444,
              "#bd3786"
             ],
             [
              0.5555555555555556,
              "#d8576b"
             ],
             [
              0.6666666666666666,
              "#ed7953"
             ],
             [
              0.7777777777777778,
              "#fb9f3a"
             ],
             [
              0.8888888888888888,
              "#fdca26"
             ],
             [
              1,
              "#f0f921"
             ]
            ],
            "type": "contour"
           }
          ],
          "contourcarpet": [
           {
            "colorbar": {
             "outlinewidth": 0,
             "ticks": ""
            },
            "type": "contourcarpet"
           }
          ],
          "heatmap": [
           {
            "colorbar": {
             "outlinewidth": 0,
             "ticks": ""
            },
            "colorscale": [
             [
              0,
              "#0d0887"
             ],
             [
              0.1111111111111111,
              "#46039f"
             ],
             [
              0.2222222222222222,
              "#7201a8"
             ],
             [
              0.3333333333333333,
              "#9c179e"
             ],
             [
              0.4444444444444444,
              "#bd3786"
             ],
             [
              0.5555555555555556,
              "#d8576b"
             ],
             [
              0.6666666666666666,
              "#ed7953"
             ],
             [
              0.7777777777777778,
              "#fb9f3a"
             ],
             [
              0.8888888888888888,
              "#fdca26"
             ],
             [
              1,
              "#f0f921"
             ]
            ],
            "type": "heatmap"
           }
          ],
          "heatmapgl": [
           {
            "colorbar": {
             "outlinewidth": 0,
             "ticks": ""
            },
            "colorscale": [
             [
              0,
              "#0d0887"
             ],
             [
              0.1111111111111111,
              "#46039f"
             ],
             [
              0.2222222222222222,
              "#7201a8"
             ],
             [
              0.3333333333333333,
              "#9c179e"
             ],
             [
              0.4444444444444444,
              "#bd3786"
             ],
             [
              0.5555555555555556,
              "#d8576b"
             ],
             [
              0.6666666666666666,
              "#ed7953"
             ],
             [
              0.7777777777777778,
              "#fb9f3a"
             ],
             [
              0.8888888888888888,
              "#fdca26"
             ],
             [
              1,
              "#f0f921"
             ]
            ],
            "type": "heatmapgl"
           }
          ],
          "histogram": [
           {
            "marker": {
             "colorbar": {
              "outlinewidth": 0,
              "ticks": ""
             }
            },
            "type": "histogram"
           }
          ],
          "histogram2d": [
           {
            "colorbar": {
             "outlinewidth": 0,
             "ticks": ""
            },
            "colorscale": [
             [
              0,
              "#0d0887"
             ],
             [
              0.1111111111111111,
              "#46039f"
             ],
             [
              0.2222222222222222,
              "#7201a8"
             ],
             [
              0.3333333333333333,
              "#9c179e"
             ],
             [
              0.4444444444444444,
              "#bd3786"
             ],
             [
              0.5555555555555556,
              "#d8576b"
             ],
             [
              0.6666666666666666,
              "#ed7953"
             ],
             [
              0.7777777777777778,
              "#fb9f3a"
             ],
             [
              0.8888888888888888,
              "#fdca26"
             ],
             [
              1,
              "#f0f921"
             ]
            ],
            "type": "histogram2d"
           }
          ],
          "histogram2dcontour": [
           {
            "colorbar": {
             "outlinewidth": 0,
             "ticks": ""
            },
            "colorscale": [
             [
              0,
              "#0d0887"
             ],
             [
              0.1111111111111111,
              "#46039f"
             ],
             [
              0.2222222222222222,
              "#7201a8"
             ],
             [
              0.3333333333333333,
              "#9c179e"
             ],
             [
              0.4444444444444444,
              "#bd3786"
             ],
             [
              0.5555555555555556,
              "#d8576b"
             ],
             [
              0.6666666666666666,
              "#ed7953"
             ],
             [
              0.7777777777777778,
              "#fb9f3a"
             ],
             [
              0.8888888888888888,
              "#fdca26"
             ],
             [
              1,
              "#f0f921"
             ]
            ],
            "type": "histogram2dcontour"
           }
          ],
          "mesh3d": [
           {
            "colorbar": {
             "outlinewidth": 0,
             "ticks": ""
            },
            "type": "mesh3d"
           }
          ],
          "parcoords": [
           {
            "line": {
             "colorbar": {
              "outlinewidth": 0,
              "ticks": ""
             }
            },
            "type": "parcoords"
           }
          ],
          "pie": [
           {
            "automargin": true,
            "type": "pie"
           }
          ],
          "scatter": [
           {
            "marker": {
             "colorbar": {
              "outlinewidth": 0,
              "ticks": ""
             }
            },
            "type": "scatter"
           }
          ],
          "scatter3d": [
           {
            "line": {
             "colorbar": {
              "outlinewidth": 0,
              "ticks": ""
             }
            },
            "marker": {
             "colorbar": {
              "outlinewidth": 0,
              "ticks": ""
             }
            },
            "type": "scatter3d"
           }
          ],
          "scattercarpet": [
           {
            "marker": {
             "colorbar": {
              "outlinewidth": 0,
              "ticks": ""
             }
            },
            "type": "scattercarpet"
           }
          ],
          "scattergeo": [
           {
            "marker": {
             "colorbar": {
              "outlinewidth": 0,
              "ticks": ""
             }
            },
            "type": "scattergeo"
           }
          ],
          "scattergl": [
           {
            "marker": {
             "colorbar": {
              "outlinewidth": 0,
              "ticks": ""
             }
            },
            "type": "scattergl"
           }
          ],
          "scattermapbox": [
           {
            "marker": {
             "colorbar": {
              "outlinewidth": 0,
              "ticks": ""
             }
            },
            "type": "scattermapbox"
           }
          ],
          "scatterpolar": [
           {
            "marker": {
             "colorbar": {
              "outlinewidth": 0,
              "ticks": ""
             }
            },
            "type": "scatterpolar"
           }
          ],
          "scatterpolargl": [
           {
            "marker": {
             "colorbar": {
              "outlinewidth": 0,
              "ticks": ""
             }
            },
            "type": "scatterpolargl"
           }
          ],
          "scatterternary": [
           {
            "marker": {
             "colorbar": {
              "outlinewidth": 0,
              "ticks": ""
             }
            },
            "type": "scatterternary"
           }
          ],
          "surface": [
           {
            "colorbar": {
             "outlinewidth": 0,
             "ticks": ""
            },
            "colorscale": [
             [
              0,
              "#0d0887"
             ],
             [
              0.1111111111111111,
              "#46039f"
             ],
             [
              0.2222222222222222,
              "#7201a8"
             ],
             [
              0.3333333333333333,
              "#9c179e"
             ],
             [
              0.4444444444444444,
              "#bd3786"
             ],
             [
              0.5555555555555556,
              "#d8576b"
             ],
             [
              0.6666666666666666,
              "#ed7953"
             ],
             [
              0.7777777777777778,
              "#fb9f3a"
             ],
             [
              0.8888888888888888,
              "#fdca26"
             ],
             [
              1,
              "#f0f921"
             ]
            ],
            "type": "surface"
           }
          ],
          "table": [
           {
            "cells": {
             "fill": {
              "color": "#EBF0F8"
             },
             "line": {
              "color": "white"
             }
            },
            "header": {
             "fill": {
              "color": "#C8D4E3"
             },
             "line": {
              "color": "white"
             }
            },
            "type": "table"
           }
          ]
         },
         "layout": {
          "annotationdefaults": {
           "arrowcolor": "#2a3f5f",
           "arrowhead": 0,
           "arrowwidth": 1
          },
          "autotypenumbers": "strict",
          "coloraxis": {
           "colorbar": {
            "outlinewidth": 0,
            "ticks": ""
           }
          },
          "colorscale": {
           "diverging": [
            [
             0,
             "#8e0152"
            ],
            [
             0.1,
             "#c51b7d"
            ],
            [
             0.2,
             "#de77ae"
            ],
            [
             0.3,
             "#f1b6da"
            ],
            [
             0.4,
             "#fde0ef"
            ],
            [
             0.5,
             "#f7f7f7"
            ],
            [
             0.6,
             "#e6f5d0"
            ],
            [
             0.7,
             "#b8e186"
            ],
            [
             0.8,
             "#7fbc41"
            ],
            [
             0.9,
             "#4d9221"
            ],
            [
             1,
             "#276419"
            ]
           ],
           "sequential": [
            [
             0,
             "#0d0887"
            ],
            [
             0.1111111111111111,
             "#46039f"
            ],
            [
             0.2222222222222222,
             "#7201a8"
            ],
            [
             0.3333333333333333,
             "#9c179e"
            ],
            [
             0.4444444444444444,
             "#bd3786"
            ],
            [
             0.5555555555555556,
             "#d8576b"
            ],
            [
             0.6666666666666666,
             "#ed7953"
            ],
            [
             0.7777777777777778,
             "#fb9f3a"
            ],
            [
             0.8888888888888888,
             "#fdca26"
            ],
            [
             1,
             "#f0f921"
            ]
           ],
           "sequentialminus": [
            [
             0,
             "#0d0887"
            ],
            [
             0.1111111111111111,
             "#46039f"
            ],
            [
             0.2222222222222222,
             "#7201a8"
            ],
            [
             0.3333333333333333,
             "#9c179e"
            ],
            [
             0.4444444444444444,
             "#bd3786"
            ],
            [
             0.5555555555555556,
             "#d8576b"
            ],
            [
             0.6666666666666666,
             "#ed7953"
            ],
            [
             0.7777777777777778,
             "#fb9f3a"
            ],
            [
             0.8888888888888888,
             "#fdca26"
            ],
            [
             1,
             "#f0f921"
            ]
           ]
          },
          "colorway": [
           "#636efa",
           "#EF553B",
           "#00cc96",
           "#ab63fa",
           "#FFA15A",
           "#19d3f3",
           "#FF6692",
           "#B6E880",
           "#FF97FF",
           "#FECB52"
          ],
          "font": {
           "color": "#2a3f5f"
          },
          "geo": {
           "bgcolor": "white",
           "lakecolor": "white",
           "landcolor": "#E5ECF6",
           "showlakes": true,
           "showland": true,
           "subunitcolor": "white"
          },
          "hoverlabel": {
           "align": "left"
          },
          "hovermode": "closest",
          "mapbox": {
           "style": "light"
          },
          "paper_bgcolor": "white",
          "plot_bgcolor": "#E5ECF6",
          "polar": {
           "angularaxis": {
            "gridcolor": "white",
            "linecolor": "white",
            "ticks": ""
           },
           "bgcolor": "#E5ECF6",
           "radialaxis": {
            "gridcolor": "white",
            "linecolor": "white",
            "ticks": ""
           }
          },
          "scene": {
           "xaxis": {
            "backgroundcolor": "#E5ECF6",
            "gridcolor": "white",
            "gridwidth": 2,
            "linecolor": "white",
            "showbackground": true,
            "ticks": "",
            "zerolinecolor": "white"
           },
           "yaxis": {
            "backgroundcolor": "#E5ECF6",
            "gridcolor": "white",
            "gridwidth": 2,
            "linecolor": "white",
            "showbackground": true,
            "ticks": "",
            "zerolinecolor": "white"
           },
           "zaxis": {
            "backgroundcolor": "#E5ECF6",
            "gridcolor": "white",
            "gridwidth": 2,
            "linecolor": "white",
            "showbackground": true,
            "ticks": "",
            "zerolinecolor": "white"
           }
          },
          "shapedefaults": {
           "line": {
            "color": "#2a3f5f"
           }
          },
          "ternary": {
           "aaxis": {
            "gridcolor": "white",
            "linecolor": "white",
            "ticks": ""
           },
           "baxis": {
            "gridcolor": "white",
            "linecolor": "white",
            "ticks": ""
           },
           "bgcolor": "#E5ECF6",
           "caxis": {
            "gridcolor": "white",
            "linecolor": "white",
            "ticks": ""
           }
          },
          "title": {
           "x": 0.05
          },
          "xaxis": {
           "automargin": true,
           "gridcolor": "white",
           "linecolor": "white",
           "ticks": "",
           "title": {
            "standoff": 15
           },
           "zerolinecolor": "white",
           "zerolinewidth": 2
          },
          "yaxis": {
           "automargin": true,
           "gridcolor": "white",
           "linecolor": "white",
           "ticks": "",
           "title": {
            "standoff": 15
           },
           "zerolinecolor": "white",
           "zerolinewidth": 2
          }
         }
        },
        "title": {
         "text": "The number of marriages and divorces per capita in the U.S. between 1900, 1950, and 2000"
        }
       }
      },
      "text/html": [
       "<div>                            <div id=\"bf4e226b-8306-4f06-8376-a0776e34f688\" class=\"plotly-graph-div\" style=\"height:525px; width:100%;\"></div>            <script type=\"text/javascript\">                require([\"plotly\"], function(Plotly) {                    window.PLOTLYENV=window.PLOTLYENV || {};                                    if (document.getElementById(\"bf4e226b-8306-4f06-8376-a0776e34f688\")) {                    Plotly.newPlot(                        \"bf4e226b-8306-4f06-8376-a0776e34f688\",                        [{\"domain\": {\"x\": [0.0, 1.0], \"y\": [0.0, 1.0]}, \"hovertemplate\": \"Cause_of_Death=%{label}<br>Length_of_Reign=%{value}<extra></extra>\", \"labels\": [\"Assassinated\", \"Died in captivity\", \"Executed\", \"Illness\", \"Killed in battle\", \"Natural causes\", \"Possibly assassinated\", \"Suicide\"], \"legendgroup\": \"\", \"name\": \"\", \"showlegend\": true, \"type\": \"pie\", \"values\": [6.238181818181818, 7.0, 5.773333333333333, 6.382, 4.3825, 12.759374999999999, 12.80125, 6.996]}],                        {\"legend\": {\"tracegroupgap\": 0}, \"piecolorway\": [\"rgb(103,0,31)\", \"rgb(178,24,43)\", \"rgb(214,96,77)\", \"rgb(244,165,130)\", \"rgb(253,219,199)\", \"rgb(247,247,247)\", \"rgb(209,229,240)\", \"rgb(146,197,222)\", \"rgb(67,147,195)\", \"rgb(33,102,172)\", \"rgb(5,48,97)\"], \"template\": {\"data\": {\"bar\": [{\"error_x\": {\"color\": \"#2a3f5f\"}, \"error_y\": {\"color\": \"#2a3f5f\"}, \"marker\": {\"line\": {\"color\": \"#E5ECF6\", \"width\": 0.5}}, \"type\": \"bar\"}], \"barpolar\": [{\"marker\": {\"line\": {\"color\": \"#E5ECF6\", \"width\": 0.5}}, \"type\": \"barpolar\"}], \"carpet\": [{\"aaxis\": {\"endlinecolor\": \"#2a3f5f\", \"gridcolor\": \"white\", \"linecolor\": \"white\", \"minorgridcolor\": \"white\", \"startlinecolor\": \"#2a3f5f\"}, \"baxis\": {\"endlinecolor\": \"#2a3f5f\", \"gridcolor\": \"white\", \"linecolor\": \"white\", \"minorgridcolor\": \"white\", \"startlinecolor\": \"#2a3f5f\"}, \"type\": \"carpet\"}], \"choropleth\": [{\"colorbar\": {\"outlinewidth\": 0, \"ticks\": \"\"}, \"type\": \"choropleth\"}], \"contour\": [{\"colorbar\": {\"outlinewidth\": 0, \"ticks\": \"\"}, \"colorscale\": [[0.0, \"#0d0887\"], [0.1111111111111111, \"#46039f\"], [0.2222222222222222, \"#7201a8\"], [0.3333333333333333, \"#9c179e\"], [0.4444444444444444, \"#bd3786\"], [0.5555555555555556, \"#d8576b\"], [0.6666666666666666, \"#ed7953\"], [0.7777777777777778, \"#fb9f3a\"], [0.8888888888888888, \"#fdca26\"], [1.0, \"#f0f921\"]], \"type\": \"contour\"}], \"contourcarpet\": [{\"colorbar\": {\"outlinewidth\": 0, \"ticks\": \"\"}, \"type\": \"contourcarpet\"}], \"heatmap\": [{\"colorbar\": {\"outlinewidth\": 0, \"ticks\": \"\"}, \"colorscale\": [[0.0, \"#0d0887\"], [0.1111111111111111, \"#46039f\"], [0.2222222222222222, \"#7201a8\"], [0.3333333333333333, \"#9c179e\"], [0.4444444444444444, \"#bd3786\"], [0.5555555555555556, \"#d8576b\"], [0.6666666666666666, \"#ed7953\"], [0.7777777777777778, \"#fb9f3a\"], [0.8888888888888888, \"#fdca26\"], [1.0, \"#f0f921\"]], \"type\": \"heatmap\"}], \"heatmapgl\": [{\"colorbar\": {\"outlinewidth\": 0, \"ticks\": \"\"}, \"colorscale\": [[0.0, \"#0d0887\"], [0.1111111111111111, \"#46039f\"], [0.2222222222222222, \"#7201a8\"], [0.3333333333333333, \"#9c179e\"], [0.4444444444444444, \"#bd3786\"], [0.5555555555555556, \"#d8576b\"], [0.6666666666666666, \"#ed7953\"], [0.7777777777777778, \"#fb9f3a\"], [0.8888888888888888, \"#fdca26\"], [1.0, \"#f0f921\"]], \"type\": \"heatmapgl\"}], \"histogram\": [{\"marker\": {\"colorbar\": {\"outlinewidth\": 0, \"ticks\": \"\"}}, \"type\": \"histogram\"}], \"histogram2d\": [{\"colorbar\": {\"outlinewidth\": 0, \"ticks\": \"\"}, \"colorscale\": [[0.0, \"#0d0887\"], [0.1111111111111111, \"#46039f\"], [0.2222222222222222, \"#7201a8\"], [0.3333333333333333, \"#9c179e\"], [0.4444444444444444, \"#bd3786\"], [0.5555555555555556, \"#d8576b\"], [0.6666666666666666, \"#ed7953\"], [0.7777777777777778, \"#fb9f3a\"], [0.8888888888888888, \"#fdca26\"], [1.0, \"#f0f921\"]], \"type\": \"histogram2d\"}], \"histogram2dcontour\": [{\"colorbar\": {\"outlinewidth\": 0, \"ticks\": \"\"}, \"colorscale\": [[0.0, \"#0d0887\"], [0.1111111111111111, \"#46039f\"], [0.2222222222222222, \"#7201a8\"], [0.3333333333333333, \"#9c179e\"], [0.4444444444444444, \"#bd3786\"], [0.5555555555555556, \"#d8576b\"], [0.6666666666666666, \"#ed7953\"], [0.7777777777777778, \"#fb9f3a\"], [0.8888888888888888, \"#fdca26\"], [1.0, \"#f0f921\"]], \"type\": \"histogram2dcontour\"}], \"mesh3d\": [{\"colorbar\": {\"outlinewidth\": 0, \"ticks\": \"\"}, \"type\": \"mesh3d\"}], \"parcoords\": [{\"line\": {\"colorbar\": {\"outlinewidth\": 0, \"ticks\": \"\"}}, \"type\": \"parcoords\"}], \"pie\": [{\"automargin\": true, \"type\": \"pie\"}], \"scatter\": [{\"marker\": {\"colorbar\": {\"outlinewidth\": 0, \"ticks\": \"\"}}, \"type\": \"scatter\"}], \"scatter3d\": [{\"line\": {\"colorbar\": {\"outlinewidth\": 0, \"ticks\": \"\"}}, \"marker\": {\"colorbar\": {\"outlinewidth\": 0, \"ticks\": \"\"}}, \"type\": \"scatter3d\"}], \"scattercarpet\": [{\"marker\": {\"colorbar\": {\"outlinewidth\": 0, \"ticks\": \"\"}}, \"type\": \"scattercarpet\"}], \"scattergeo\": [{\"marker\": {\"colorbar\": {\"outlinewidth\": 0, \"ticks\": \"\"}}, \"type\": \"scattergeo\"}], \"scattergl\": [{\"marker\": {\"colorbar\": {\"outlinewidth\": 0, \"ticks\": \"\"}}, \"type\": \"scattergl\"}], \"scattermapbox\": [{\"marker\": {\"colorbar\": {\"outlinewidth\": 0, \"ticks\": \"\"}}, \"type\": \"scattermapbox\"}], \"scatterpolar\": [{\"marker\": {\"colorbar\": {\"outlinewidth\": 0, \"ticks\": \"\"}}, \"type\": \"scatterpolar\"}], \"scatterpolargl\": [{\"marker\": {\"colorbar\": {\"outlinewidth\": 0, \"ticks\": \"\"}}, \"type\": \"scatterpolargl\"}], \"scatterternary\": [{\"marker\": {\"colorbar\": {\"outlinewidth\": 0, \"ticks\": \"\"}}, \"type\": \"scatterternary\"}], \"surface\": [{\"colorbar\": {\"outlinewidth\": 0, \"ticks\": \"\"}, \"colorscale\": [[0.0, \"#0d0887\"], [0.1111111111111111, \"#46039f\"], [0.2222222222222222, \"#7201a8\"], [0.3333333333333333, \"#9c179e\"], [0.4444444444444444, \"#bd3786\"], [0.5555555555555556, \"#d8576b\"], [0.6666666666666666, \"#ed7953\"], [0.7777777777777778, \"#fb9f3a\"], [0.8888888888888888, \"#fdca26\"], [1.0, \"#f0f921\"]], \"type\": \"surface\"}], \"table\": [{\"cells\": {\"fill\": {\"color\": \"#EBF0F8\"}, \"line\": {\"color\": \"white\"}}, \"header\": {\"fill\": {\"color\": \"#C8D4E3\"}, \"line\": {\"color\": \"white\"}}, \"type\": \"table\"}]}, \"layout\": {\"annotationdefaults\": {\"arrowcolor\": \"#2a3f5f\", \"arrowhead\": 0, \"arrowwidth\": 1}, \"autotypenumbers\": \"strict\", \"coloraxis\": {\"colorbar\": {\"outlinewidth\": 0, \"ticks\": \"\"}}, \"colorscale\": {\"diverging\": [[0, \"#8e0152\"], [0.1, \"#c51b7d\"], [0.2, \"#de77ae\"], [0.3, \"#f1b6da\"], [0.4, \"#fde0ef\"], [0.5, \"#f7f7f7\"], [0.6, \"#e6f5d0\"], [0.7, \"#b8e186\"], [0.8, \"#7fbc41\"], [0.9, \"#4d9221\"], [1, \"#276419\"]], \"sequential\": [[0.0, \"#0d0887\"], [0.1111111111111111, \"#46039f\"], [0.2222222222222222, \"#7201a8\"], [0.3333333333333333, \"#9c179e\"], [0.4444444444444444, \"#bd3786\"], [0.5555555555555556, \"#d8576b\"], [0.6666666666666666, \"#ed7953\"], [0.7777777777777778, \"#fb9f3a\"], [0.8888888888888888, \"#fdca26\"], [1.0, \"#f0f921\"]], \"sequentialminus\": [[0.0, \"#0d0887\"], [0.1111111111111111, \"#46039f\"], [0.2222222222222222, \"#7201a8\"], [0.3333333333333333, \"#9c179e\"], [0.4444444444444444, \"#bd3786\"], [0.5555555555555556, \"#d8576b\"], [0.6666666666666666, \"#ed7953\"], [0.7777777777777778, \"#fb9f3a\"], [0.8888888888888888, \"#fdca26\"], [1.0, \"#f0f921\"]]}, \"colorway\": [\"#636efa\", \"#EF553B\", \"#00cc96\", \"#ab63fa\", \"#FFA15A\", \"#19d3f3\", \"#FF6692\", \"#B6E880\", \"#FF97FF\", \"#FECB52\"], \"font\": {\"color\": \"#2a3f5f\"}, \"geo\": {\"bgcolor\": \"white\", \"lakecolor\": \"white\", \"landcolor\": \"#E5ECF6\", \"showlakes\": true, \"showland\": true, \"subunitcolor\": \"white\"}, \"hoverlabel\": {\"align\": \"left\"}, \"hovermode\": \"closest\", \"mapbox\": {\"style\": \"light\"}, \"paper_bgcolor\": \"white\", \"plot_bgcolor\": \"#E5ECF6\", \"polar\": {\"angularaxis\": {\"gridcolor\": \"white\", \"linecolor\": \"white\", \"ticks\": \"\"}, \"bgcolor\": \"#E5ECF6\", \"radialaxis\": {\"gridcolor\": \"white\", \"linecolor\": \"white\", \"ticks\": \"\"}}, \"scene\": {\"xaxis\": {\"backgroundcolor\": \"#E5ECF6\", \"gridcolor\": \"white\", \"gridwidth\": 2, \"linecolor\": \"white\", \"showbackground\": true, \"ticks\": \"\", \"zerolinecolor\": \"white\"}, \"yaxis\": {\"backgroundcolor\": \"#E5ECF6\", \"gridcolor\": \"white\", \"gridwidth\": 2, \"linecolor\": \"white\", \"showbackground\": true, \"ticks\": \"\", \"zerolinecolor\": \"white\"}, \"zaxis\": {\"backgroundcolor\": \"#E5ECF6\", \"gridcolor\": \"white\", \"gridwidth\": 2, \"linecolor\": \"white\", \"showbackground\": true, \"ticks\": \"\", \"zerolinecolor\": \"white\"}}, \"shapedefaults\": {\"line\": {\"color\": \"#2a3f5f\"}}, \"ternary\": {\"aaxis\": {\"gridcolor\": \"white\", \"linecolor\": \"white\", \"ticks\": \"\"}, \"baxis\": {\"gridcolor\": \"white\", \"linecolor\": \"white\", \"ticks\": \"\"}, \"bgcolor\": \"#E5ECF6\", \"caxis\": {\"gridcolor\": \"white\", \"linecolor\": \"white\", \"ticks\": \"\"}}, \"title\": {\"x\": 0.05}, \"xaxis\": {\"automargin\": true, \"gridcolor\": \"white\", \"linecolor\": \"white\", \"ticks\": \"\", \"title\": {\"standoff\": 15}, \"zerolinecolor\": \"white\", \"zerolinewidth\": 2}, \"yaxis\": {\"automargin\": true, \"gridcolor\": \"white\", \"linecolor\": \"white\", \"ticks\": \"\", \"title\": {\"standoff\": 15}, \"zerolinecolor\": \"white\", \"zerolinewidth\": 2}}}, \"title\": {\"text\": \"The number of marriages and divorces per capita in the U.S. between 1900, 1950, and 2000\"}},                        {\"responsive\": true}                    ).then(function(){\n",
       "                            \n",
       "var gd = document.getElementById('bf4e226b-8306-4f06-8376-a0776e34f688');\n",
       "var x = new MutationObserver(function (mutations, observer) {{\n",
       "        var display = window.getComputedStyle(gd).display;\n",
       "        if (!display || display === 'none') {{\n",
       "            console.log([gd, 'removed!']);\n",
       "            Plotly.purge(gd);\n",
       "            observer.disconnect();\n",
       "        }}\n",
       "}});\n",
       "\n",
       "// Listen for the removal of the full notebook cells\n",
       "var notebookContainer = gd.closest('#notebook-container');\n",
       "if (notebookContainer) {{\n",
       "    x.observe(notebookContainer, {childList: true});\n",
       "}}\n",
       "\n",
       "// Listen for the clearing of the current output cell\n",
       "var outputEl = gd.closest('.output');\n",
       "if (outputEl) {{\n",
       "    x.observe(outputEl, {childList: true});\n",
       "}}\n",
       "\n",
       "                        })                };                });            </script>        </div>"
      ]
     },
     "metadata": {},
     "output_type": "display_data"
    }
   ],
   "source": [
    "#pie chart is used to display the dataframe\n",
    "fig = px.pie(Roman_Emperor, \n",
    "             values='Length_of_Reign', \n",
    "             names='Cause_of_Death', \n",
    "             color_discrete_sequence=px.colors.sequential.RdBu,\n",
    "             title=\"The number of marriages and divorces per capita in the U.S. between 1900, 1950, and 2000\")\n",
    "fig.show()"
   ]
  },
  {
   "cell_type": "markdown",
   "metadata": {},
   "source": [
    "## Question 10 Python\n",
    "#### Create a scatter plot showing the relationship between the total revenue earned by arcades and the number of Computer Science PhDs awarded in the U.S. between 2000 and 2009."
   ]
  },
  {
   "cell_type": "code",
   "execution_count": 121,
   "metadata": {},
   "outputs": [
    {
     "data": {
      "text/html": [
       "<div>\n",
       "<style scoped>\n",
       "    .dataframe tbody tr th:only-of-type {\n",
       "        vertical-align: middle;\n",
       "    }\n",
       "\n",
       "    .dataframe tbody tr th {\n",
       "        vertical-align: top;\n",
       "    }\n",
       "\n",
       "    .dataframe thead th {\n",
       "        text-align: right;\n",
       "    }\n",
       "</style>\n",
       "<table border=\"1\" class=\"dataframe\">\n",
       "  <thead>\n",
       "    <tr style=\"text-align: right;\">\n",
       "      <th></th>\n",
       "      <th>Year</th>\n",
       "      <th>Total Arcade Revenue (billions)</th>\n",
       "      <th>Computer Science Doctorates Awarded (US)</th>\n",
       "    </tr>\n",
       "  </thead>\n",
       "  <tbody>\n",
       "    <tr>\n",
       "      <th>0</th>\n",
       "      <td>2000</td>\n",
       "      <td>1.196</td>\n",
       "      <td>861</td>\n",
       "    </tr>\n",
       "    <tr>\n",
       "      <th>1</th>\n",
       "      <td>2001</td>\n",
       "      <td>1.176</td>\n",
       "      <td>830</td>\n",
       "    </tr>\n",
       "    <tr>\n",
       "      <th>2</th>\n",
       "      <td>2002</td>\n",
       "      <td>1.269</td>\n",
       "      <td>809</td>\n",
       "    </tr>\n",
       "    <tr>\n",
       "      <th>3</th>\n",
       "      <td>2003</td>\n",
       "      <td>1.240</td>\n",
       "      <td>867</td>\n",
       "    </tr>\n",
       "    <tr>\n",
       "      <th>4</th>\n",
       "      <td>2004</td>\n",
       "      <td>1.307</td>\n",
       "      <td>948</td>\n",
       "    </tr>\n",
       "    <tr>\n",
       "      <th>5</th>\n",
       "      <td>2005</td>\n",
       "      <td>1.435</td>\n",
       "      <td>1129</td>\n",
       "    </tr>\n",
       "    <tr>\n",
       "      <th>6</th>\n",
       "      <td>2006</td>\n",
       "      <td>1.601</td>\n",
       "      <td>1453</td>\n",
       "    </tr>\n",
       "    <tr>\n",
       "      <th>7</th>\n",
       "      <td>2007</td>\n",
       "      <td>1.654</td>\n",
       "      <td>1656</td>\n",
       "    </tr>\n",
       "    <tr>\n",
       "      <th>8</th>\n",
       "      <td>2008</td>\n",
       "      <td>1.803</td>\n",
       "      <td>1787</td>\n",
       "    </tr>\n",
       "    <tr>\n",
       "      <th>9</th>\n",
       "      <td>2009</td>\n",
       "      <td>1.734</td>\n",
       "      <td>1611</td>\n",
       "    </tr>\n",
       "  </tbody>\n",
       "</table>\n",
       "</div>"
      ],
      "text/plain": [
       "   Year  Total Arcade Revenue (billions)  \\\n",
       "0  2000                            1.196   \n",
       "1  2001                            1.176   \n",
       "2  2002                            1.269   \n",
       "3  2003                            1.240   \n",
       "4  2004                            1.307   \n",
       "5  2005                            1.435   \n",
       "6  2006                            1.601   \n",
       "7  2007                            1.654   \n",
       "8  2008                            1.803   \n",
       "9  2009                            1.734   \n",
       "\n",
       "   Computer Science Doctorates Awarded (US)  \n",
       "0                                       861  \n",
       "1                                       830  \n",
       "2                                       809  \n",
       "3                                       867  \n",
       "4                                       948  \n",
       "5                                      1129  \n",
       "6                                      1453  \n",
       "7                                      1656  \n",
       "8                                      1787  \n",
       "9                                      1611  "
      ]
     },
     "execution_count": 121,
     "metadata": {},
     "output_type": "execute_result"
    }
   ],
   "source": [
    "#load the csv file\n",
    "revenue = pd.read_csv('arcade-revenue-vs-cs-doctorates.csv')\n",
    "revenue"
   ]
  },
  {
   "cell_type": "code",
   "execution_count": 122,
   "metadata": {},
   "outputs": [
    {
     "data": {
      "text/html": [
       "<div>\n",
       "<style scoped>\n",
       "    .dataframe tbody tr th:only-of-type {\n",
       "        vertical-align: middle;\n",
       "    }\n",
       "\n",
       "    .dataframe tbody tr th {\n",
       "        vertical-align: top;\n",
       "    }\n",
       "\n",
       "    .dataframe thead th {\n",
       "        text-align: right;\n",
       "    }\n",
       "</style>\n",
       "<table border=\"1\" class=\"dataframe\">\n",
       "  <thead>\n",
       "    <tr style=\"text-align: right;\">\n",
       "      <th></th>\n",
       "      <th>Year</th>\n",
       "      <th>Total Arcade Revenue (Millions)</th>\n",
       "      <th>Computer Science Doctorates Awarded (Millions)</th>\n",
       "    </tr>\n",
       "  </thead>\n",
       "  <tbody>\n",
       "    <tr>\n",
       "      <th>0</th>\n",
       "      <td>2000</td>\n",
       "      <td>1196.0</td>\n",
       "      <td>861</td>\n",
       "    </tr>\n",
       "    <tr>\n",
       "      <th>1</th>\n",
       "      <td>2001</td>\n",
       "      <td>1176.0</td>\n",
       "      <td>830</td>\n",
       "    </tr>\n",
       "    <tr>\n",
       "      <th>2</th>\n",
       "      <td>2002</td>\n",
       "      <td>1269.0</td>\n",
       "      <td>809</td>\n",
       "    </tr>\n",
       "    <tr>\n",
       "      <th>3</th>\n",
       "      <td>2003</td>\n",
       "      <td>1240.0</td>\n",
       "      <td>867</td>\n",
       "    </tr>\n",
       "    <tr>\n",
       "      <th>4</th>\n",
       "      <td>2004</td>\n",
       "      <td>1307.0</td>\n",
       "      <td>948</td>\n",
       "    </tr>\n",
       "    <tr>\n",
       "      <th>5</th>\n",
       "      <td>2005</td>\n",
       "      <td>1435.0</td>\n",
       "      <td>1129</td>\n",
       "    </tr>\n",
       "    <tr>\n",
       "      <th>6</th>\n",
       "      <td>2006</td>\n",
       "      <td>1601.0</td>\n",
       "      <td>1453</td>\n",
       "    </tr>\n",
       "    <tr>\n",
       "      <th>7</th>\n",
       "      <td>2007</td>\n",
       "      <td>1654.0</td>\n",
       "      <td>1656</td>\n",
       "    </tr>\n",
       "    <tr>\n",
       "      <th>8</th>\n",
       "      <td>2008</td>\n",
       "      <td>1803.0</td>\n",
       "      <td>1787</td>\n",
       "    </tr>\n",
       "    <tr>\n",
       "      <th>9</th>\n",
       "      <td>2009</td>\n",
       "      <td>1734.0</td>\n",
       "      <td>1611</td>\n",
       "    </tr>\n",
       "  </tbody>\n",
       "</table>\n",
       "</div>"
      ],
      "text/plain": [
       "   Year  Total Arcade Revenue (Millions)  \\\n",
       "0  2000                           1196.0   \n",
       "1  2001                           1176.0   \n",
       "2  2002                           1269.0   \n",
       "3  2003                           1240.0   \n",
       "4  2004                           1307.0   \n",
       "5  2005                           1435.0   \n",
       "6  2006                           1601.0   \n",
       "7  2007                           1654.0   \n",
       "8  2008                           1803.0   \n",
       "9  2009                           1734.0   \n",
       "\n",
       "   Computer Science Doctorates Awarded (Millions)  \n",
       "0                                             861  \n",
       "1                                             830  \n",
       "2                                             809  \n",
       "3                                             867  \n",
       "4                                             948  \n",
       "5                                            1129  \n",
       "6                                            1453  \n",
       "7                                            1656  \n",
       "8                                            1787  \n",
       "9                                            1611  "
      ]
     },
     "execution_count": 122,
     "metadata": {},
     "output_type": "execute_result"
    }
   ],
   "source": [
    "#here the Total Arcade Revenue was given in Billion it is convert to million\n",
    "revenue['Total Arcade Revenue (billions)'] = revenue['Total Arcade Revenue (billions)'].apply(lambda x: x*1000)\n",
    "revenue = revenue.rename(columns={\"Year\": \"Year\", \n",
    "                                  \"Total Arcade Revenue (billions)\": \"Total Arcade Revenue (Millions)\", \n",
    "                                  \"Computer Science Doctorates Awarded (US)\": \"Computer Science Doctorates Awarded (Millions)\"})\n",
    "revenue"
   ]
  },
  {
   "cell_type": "code",
   "execution_count": 170,
   "metadata": {},
   "outputs": [
    {
     "data": {
      "application/vnd.plotly.v1+json": {
       "config": {
        "plotlyServerURL": "https://plot.ly"
       },
       "data": [
        {
         "hovertemplate": "variable=Total Arcade Revenue (Millions)<br>Year=%{x}<br>value=%{y}<extra></extra>",
         "legendgroup": "Total Arcade Revenue (Millions)",
         "marker": {
          "color": "#636efa",
          "symbol": "circle"
         },
         "mode": "markers",
         "name": "Total Arcade Revenue (Millions)",
         "orientation": "v",
         "showlegend": true,
         "type": "scatter",
         "x": [
          2000,
          2001,
          2002,
          2003,
          2004,
          2005,
          2006,
          2007,
          2008,
          2009
         ],
         "xaxis": "x",
         "y": [
          1196,
          1176,
          1269.0000000000002,
          1240,
          1307,
          1435,
          1601,
          1654.0000000000002,
          1803.0000000000002,
          1734
         ],
         "yaxis": "y"
        },
        {
         "hovertemplate": "variable=Computer Science Doctorates Awarded (Millions)<br>Year=%{x}<br>value=%{y}<extra></extra>",
         "legendgroup": "Computer Science Doctorates Awarded (Millions)",
         "marker": {
          "color": "#EF553B",
          "symbol": "circle"
         },
         "mode": "markers",
         "name": "Computer Science Doctorates Awarded (Millions)",
         "orientation": "v",
         "showlegend": true,
         "type": "scatter",
         "x": [
          2000,
          2001,
          2002,
          2003,
          2004,
          2005,
          2006,
          2007,
          2008,
          2009
         ],
         "xaxis": "x",
         "y": [
          861,
          830,
          809,
          867,
          948,
          1129,
          1453,
          1656,
          1787,
          1611
         ],
         "yaxis": "y"
        }
       ],
       "layout": {
        "legend": {
         "title": {
          "text": "variable"
         },
         "tracegroupgap": 0
        },
        "margin": {
         "t": 60
        },
        "template": {
         "data": {
          "bar": [
           {
            "error_x": {
             "color": "#2a3f5f"
            },
            "error_y": {
             "color": "#2a3f5f"
            },
            "marker": {
             "line": {
              "color": "#E5ECF6",
              "width": 0.5
             }
            },
            "type": "bar"
           }
          ],
          "barpolar": [
           {
            "marker": {
             "line": {
              "color": "#E5ECF6",
              "width": 0.5
             }
            },
            "type": "barpolar"
           }
          ],
          "carpet": [
           {
            "aaxis": {
             "endlinecolor": "#2a3f5f",
             "gridcolor": "white",
             "linecolor": "white",
             "minorgridcolor": "white",
             "startlinecolor": "#2a3f5f"
            },
            "baxis": {
             "endlinecolor": "#2a3f5f",
             "gridcolor": "white",
             "linecolor": "white",
             "minorgridcolor": "white",
             "startlinecolor": "#2a3f5f"
            },
            "type": "carpet"
           }
          ],
          "choropleth": [
           {
            "colorbar": {
             "outlinewidth": 0,
             "ticks": ""
            },
            "type": "choropleth"
           }
          ],
          "contour": [
           {
            "colorbar": {
             "outlinewidth": 0,
             "ticks": ""
            },
            "colorscale": [
             [
              0,
              "#0d0887"
             ],
             [
              0.1111111111111111,
              "#46039f"
             ],
             [
              0.2222222222222222,
              "#7201a8"
             ],
             [
              0.3333333333333333,
              "#9c179e"
             ],
             [
              0.4444444444444444,
              "#bd3786"
             ],
             [
              0.5555555555555556,
              "#d8576b"
             ],
             [
              0.6666666666666666,
              "#ed7953"
             ],
             [
              0.7777777777777778,
              "#fb9f3a"
             ],
             [
              0.8888888888888888,
              "#fdca26"
             ],
             [
              1,
              "#f0f921"
             ]
            ],
            "type": "contour"
           }
          ],
          "contourcarpet": [
           {
            "colorbar": {
             "outlinewidth": 0,
             "ticks": ""
            },
            "type": "contourcarpet"
           }
          ],
          "heatmap": [
           {
            "colorbar": {
             "outlinewidth": 0,
             "ticks": ""
            },
            "colorscale": [
             [
              0,
              "#0d0887"
             ],
             [
              0.1111111111111111,
              "#46039f"
             ],
             [
              0.2222222222222222,
              "#7201a8"
             ],
             [
              0.3333333333333333,
              "#9c179e"
             ],
             [
              0.4444444444444444,
              "#bd3786"
             ],
             [
              0.5555555555555556,
              "#d8576b"
             ],
             [
              0.6666666666666666,
              "#ed7953"
             ],
             [
              0.7777777777777778,
              "#fb9f3a"
             ],
             [
              0.8888888888888888,
              "#fdca26"
             ],
             [
              1,
              "#f0f921"
             ]
            ],
            "type": "heatmap"
           }
          ],
          "heatmapgl": [
           {
            "colorbar": {
             "outlinewidth": 0,
             "ticks": ""
            },
            "colorscale": [
             [
              0,
              "#0d0887"
             ],
             [
              0.1111111111111111,
              "#46039f"
             ],
             [
              0.2222222222222222,
              "#7201a8"
             ],
             [
              0.3333333333333333,
              "#9c179e"
             ],
             [
              0.4444444444444444,
              "#bd3786"
             ],
             [
              0.5555555555555556,
              "#d8576b"
             ],
             [
              0.6666666666666666,
              "#ed7953"
             ],
             [
              0.7777777777777778,
              "#fb9f3a"
             ],
             [
              0.8888888888888888,
              "#fdca26"
             ],
             [
              1,
              "#f0f921"
             ]
            ],
            "type": "heatmapgl"
           }
          ],
          "histogram": [
           {
            "marker": {
             "colorbar": {
              "outlinewidth": 0,
              "ticks": ""
             }
            },
            "type": "histogram"
           }
          ],
          "histogram2d": [
           {
            "colorbar": {
             "outlinewidth": 0,
             "ticks": ""
            },
            "colorscale": [
             [
              0,
              "#0d0887"
             ],
             [
              0.1111111111111111,
              "#46039f"
             ],
             [
              0.2222222222222222,
              "#7201a8"
             ],
             [
              0.3333333333333333,
              "#9c179e"
             ],
             [
              0.4444444444444444,
              "#bd3786"
             ],
             [
              0.5555555555555556,
              "#d8576b"
             ],
             [
              0.6666666666666666,
              "#ed7953"
             ],
             [
              0.7777777777777778,
              "#fb9f3a"
             ],
             [
              0.8888888888888888,
              "#fdca26"
             ],
             [
              1,
              "#f0f921"
             ]
            ],
            "type": "histogram2d"
           }
          ],
          "histogram2dcontour": [
           {
            "colorbar": {
             "outlinewidth": 0,
             "ticks": ""
            },
            "colorscale": [
             [
              0,
              "#0d0887"
             ],
             [
              0.1111111111111111,
              "#46039f"
             ],
             [
              0.2222222222222222,
              "#7201a8"
             ],
             [
              0.3333333333333333,
              "#9c179e"
             ],
             [
              0.4444444444444444,
              "#bd3786"
             ],
             [
              0.5555555555555556,
              "#d8576b"
             ],
             [
              0.6666666666666666,
              "#ed7953"
             ],
             [
              0.7777777777777778,
              "#fb9f3a"
             ],
             [
              0.8888888888888888,
              "#fdca26"
             ],
             [
              1,
              "#f0f921"
             ]
            ],
            "type": "histogram2dcontour"
           }
          ],
          "mesh3d": [
           {
            "colorbar": {
             "outlinewidth": 0,
             "ticks": ""
            },
            "type": "mesh3d"
           }
          ],
          "parcoords": [
           {
            "line": {
             "colorbar": {
              "outlinewidth": 0,
              "ticks": ""
             }
            },
            "type": "parcoords"
           }
          ],
          "pie": [
           {
            "automargin": true,
            "type": "pie"
           }
          ],
          "scatter": [
           {
            "marker": {
             "colorbar": {
              "outlinewidth": 0,
              "ticks": ""
             }
            },
            "type": "scatter"
           }
          ],
          "scatter3d": [
           {
            "line": {
             "colorbar": {
              "outlinewidth": 0,
              "ticks": ""
             }
            },
            "marker": {
             "colorbar": {
              "outlinewidth": 0,
              "ticks": ""
             }
            },
            "type": "scatter3d"
           }
          ],
          "scattercarpet": [
           {
            "marker": {
             "colorbar": {
              "outlinewidth": 0,
              "ticks": ""
             }
            },
            "type": "scattercarpet"
           }
          ],
          "scattergeo": [
           {
            "marker": {
             "colorbar": {
              "outlinewidth": 0,
              "ticks": ""
             }
            },
            "type": "scattergeo"
           }
          ],
          "scattergl": [
           {
            "marker": {
             "colorbar": {
              "outlinewidth": 0,
              "ticks": ""
             }
            },
            "type": "scattergl"
           }
          ],
          "scattermapbox": [
           {
            "marker": {
             "colorbar": {
              "outlinewidth": 0,
              "ticks": ""
             }
            },
            "type": "scattermapbox"
           }
          ],
          "scatterpolar": [
           {
            "marker": {
             "colorbar": {
              "outlinewidth": 0,
              "ticks": ""
             }
            },
            "type": "scatterpolar"
           }
          ],
          "scatterpolargl": [
           {
            "marker": {
             "colorbar": {
              "outlinewidth": 0,
              "ticks": ""
             }
            },
            "type": "scatterpolargl"
           }
          ],
          "scatterternary": [
           {
            "marker": {
             "colorbar": {
              "outlinewidth": 0,
              "ticks": ""
             }
            },
            "type": "scatterternary"
           }
          ],
          "surface": [
           {
            "colorbar": {
             "outlinewidth": 0,
             "ticks": ""
            },
            "colorscale": [
             [
              0,
              "#0d0887"
             ],
             [
              0.1111111111111111,
              "#46039f"
             ],
             [
              0.2222222222222222,
              "#7201a8"
             ],
             [
              0.3333333333333333,
              "#9c179e"
             ],
             [
              0.4444444444444444,
              "#bd3786"
             ],
             [
              0.5555555555555556,
              "#d8576b"
             ],
             [
              0.6666666666666666,
              "#ed7953"
             ],
             [
              0.7777777777777778,
              "#fb9f3a"
             ],
             [
              0.8888888888888888,
              "#fdca26"
             ],
             [
              1,
              "#f0f921"
             ]
            ],
            "type": "surface"
           }
          ],
          "table": [
           {
            "cells": {
             "fill": {
              "color": "#EBF0F8"
             },
             "line": {
              "color": "white"
             }
            },
            "header": {
             "fill": {
              "color": "#C8D4E3"
             },
             "line": {
              "color": "white"
             }
            },
            "type": "table"
           }
          ]
         },
         "layout": {
          "annotationdefaults": {
           "arrowcolor": "#2a3f5f",
           "arrowhead": 0,
           "arrowwidth": 1
          },
          "autotypenumbers": "strict",
          "coloraxis": {
           "colorbar": {
            "outlinewidth": 0,
            "ticks": ""
           }
          },
          "colorscale": {
           "diverging": [
            [
             0,
             "#8e0152"
            ],
            [
             0.1,
             "#c51b7d"
            ],
            [
             0.2,
             "#de77ae"
            ],
            [
             0.3,
             "#f1b6da"
            ],
            [
             0.4,
             "#fde0ef"
            ],
            [
             0.5,
             "#f7f7f7"
            ],
            [
             0.6,
             "#e6f5d0"
            ],
            [
             0.7,
             "#b8e186"
            ],
            [
             0.8,
             "#7fbc41"
            ],
            [
             0.9,
             "#4d9221"
            ],
            [
             1,
             "#276419"
            ]
           ],
           "sequential": [
            [
             0,
             "#0d0887"
            ],
            [
             0.1111111111111111,
             "#46039f"
            ],
            [
             0.2222222222222222,
             "#7201a8"
            ],
            [
             0.3333333333333333,
             "#9c179e"
            ],
            [
             0.4444444444444444,
             "#bd3786"
            ],
            [
             0.5555555555555556,
             "#d8576b"
            ],
            [
             0.6666666666666666,
             "#ed7953"
            ],
            [
             0.7777777777777778,
             "#fb9f3a"
            ],
            [
             0.8888888888888888,
             "#fdca26"
            ],
            [
             1,
             "#f0f921"
            ]
           ],
           "sequentialminus": [
            [
             0,
             "#0d0887"
            ],
            [
             0.1111111111111111,
             "#46039f"
            ],
            [
             0.2222222222222222,
             "#7201a8"
            ],
            [
             0.3333333333333333,
             "#9c179e"
            ],
            [
             0.4444444444444444,
             "#bd3786"
            ],
            [
             0.5555555555555556,
             "#d8576b"
            ],
            [
             0.6666666666666666,
             "#ed7953"
            ],
            [
             0.7777777777777778,
             "#fb9f3a"
            ],
            [
             0.8888888888888888,
             "#fdca26"
            ],
            [
             1,
             "#f0f921"
            ]
           ]
          },
          "colorway": [
           "#636efa",
           "#EF553B",
           "#00cc96",
           "#ab63fa",
           "#FFA15A",
           "#19d3f3",
           "#FF6692",
           "#B6E880",
           "#FF97FF",
           "#FECB52"
          ],
          "font": {
           "color": "#2a3f5f"
          },
          "geo": {
           "bgcolor": "white",
           "lakecolor": "white",
           "landcolor": "#E5ECF6",
           "showlakes": true,
           "showland": true,
           "subunitcolor": "white"
          },
          "hoverlabel": {
           "align": "left"
          },
          "hovermode": "closest",
          "mapbox": {
           "style": "light"
          },
          "paper_bgcolor": "white",
          "plot_bgcolor": "#E5ECF6",
          "polar": {
           "angularaxis": {
            "gridcolor": "white",
            "linecolor": "white",
            "ticks": ""
           },
           "bgcolor": "#E5ECF6",
           "radialaxis": {
            "gridcolor": "white",
            "linecolor": "white",
            "ticks": ""
           }
          },
          "scene": {
           "xaxis": {
            "backgroundcolor": "#E5ECF6",
            "gridcolor": "white",
            "gridwidth": 2,
            "linecolor": "white",
            "showbackground": true,
            "ticks": "",
            "zerolinecolor": "white"
           },
           "yaxis": {
            "backgroundcolor": "#E5ECF6",
            "gridcolor": "white",
            "gridwidth": 2,
            "linecolor": "white",
            "showbackground": true,
            "ticks": "",
            "zerolinecolor": "white"
           },
           "zaxis": {
            "backgroundcolor": "#E5ECF6",
            "gridcolor": "white",
            "gridwidth": 2,
            "linecolor": "white",
            "showbackground": true,
            "ticks": "",
            "zerolinecolor": "white"
           }
          },
          "shapedefaults": {
           "line": {
            "color": "#2a3f5f"
           }
          },
          "ternary": {
           "aaxis": {
            "gridcolor": "white",
            "linecolor": "white",
            "ticks": ""
           },
           "baxis": {
            "gridcolor": "white",
            "linecolor": "white",
            "ticks": ""
           },
           "bgcolor": "#E5ECF6",
           "caxis": {
            "gridcolor": "white",
            "linecolor": "white",
            "ticks": ""
           }
          },
          "title": {
           "x": 0.05
          },
          "xaxis": {
           "automargin": true,
           "gridcolor": "white",
           "linecolor": "white",
           "ticks": "",
           "title": {
            "standoff": 15
           },
           "zerolinecolor": "white",
           "zerolinewidth": 2
          },
          "yaxis": {
           "automargin": true,
           "gridcolor": "white",
           "linecolor": "white",
           "ticks": "",
           "title": {
            "standoff": 15
           },
           "zerolinecolor": "white",
           "zerolinewidth": 2
          }
         }
        },
        "title": {
         "text": "The relationship between the total revenue earned by arcades and the number of Computer Science PhDs awarded in the U.S"
        },
        "xaxis": {
         "anchor": "y",
         "domain": [
          0,
          1
         ],
         "title": {
          "text": "Year"
         }
        },
        "yaxis": {
         "anchor": "x",
         "domain": [
          0,
          1
         ],
         "title": {
          "text": "Revenue in Millions"
         }
        }
       }
      },
      "text/html": [
       "<div>                            <div id=\"ece20311-4623-46a4-82cc-0735263559b4\" class=\"plotly-graph-div\" style=\"height:525px; width:100%;\"></div>            <script type=\"text/javascript\">                require([\"plotly\"], function(Plotly) {                    window.PLOTLYENV=window.PLOTLYENV || {};                                    if (document.getElementById(\"ece20311-4623-46a4-82cc-0735263559b4\")) {                    Plotly.newPlot(                        \"ece20311-4623-46a4-82cc-0735263559b4\",                        [{\"hovertemplate\": \"variable=Total Arcade Revenue (Millions)<br>Year=%{x}<br>value=%{y}<extra></extra>\", \"legendgroup\": \"Total Arcade Revenue (Millions)\", \"marker\": {\"color\": \"#636efa\", \"symbol\": \"circle\"}, \"mode\": \"markers\", \"name\": \"Total Arcade Revenue (Millions)\", \"orientation\": \"v\", \"showlegend\": true, \"type\": \"scatter\", \"x\": [2000, 2001, 2002, 2003, 2004, 2005, 2006, 2007, 2008, 2009], \"xaxis\": \"x\", \"y\": [1196.0, 1176.0, 1269.0000000000002, 1240.0, 1307.0, 1435.0, 1601.0, 1654.0000000000002, 1803.0000000000002, 1734.0], \"yaxis\": \"y\"}, {\"hovertemplate\": \"variable=Computer Science Doctorates Awarded (Millions)<br>Year=%{x}<br>value=%{y}<extra></extra>\", \"legendgroup\": \"Computer Science Doctorates Awarded (Millions)\", \"marker\": {\"color\": \"#EF553B\", \"symbol\": \"circle\"}, \"mode\": \"markers\", \"name\": \"Computer Science Doctorates Awarded (Millions)\", \"orientation\": \"v\", \"showlegend\": true, \"type\": \"scatter\", \"x\": [2000, 2001, 2002, 2003, 2004, 2005, 2006, 2007, 2008, 2009], \"xaxis\": \"x\", \"y\": [861.0, 830.0, 809.0, 867.0, 948.0, 1129.0, 1453.0, 1656.0, 1787.0, 1611.0], \"yaxis\": \"y\"}],                        {\"legend\": {\"title\": {\"text\": \"variable\"}, \"tracegroupgap\": 0}, \"margin\": {\"t\": 60}, \"template\": {\"data\": {\"bar\": [{\"error_x\": {\"color\": \"#2a3f5f\"}, \"error_y\": {\"color\": \"#2a3f5f\"}, \"marker\": {\"line\": {\"color\": \"#E5ECF6\", \"width\": 0.5}}, \"type\": \"bar\"}], \"barpolar\": [{\"marker\": {\"line\": {\"color\": \"#E5ECF6\", \"width\": 0.5}}, \"type\": \"barpolar\"}], \"carpet\": [{\"aaxis\": {\"endlinecolor\": \"#2a3f5f\", \"gridcolor\": \"white\", \"linecolor\": \"white\", \"minorgridcolor\": \"white\", \"startlinecolor\": \"#2a3f5f\"}, \"baxis\": {\"endlinecolor\": \"#2a3f5f\", \"gridcolor\": \"white\", \"linecolor\": \"white\", \"minorgridcolor\": \"white\", \"startlinecolor\": \"#2a3f5f\"}, \"type\": \"carpet\"}], \"choropleth\": [{\"colorbar\": {\"outlinewidth\": 0, \"ticks\": \"\"}, \"type\": \"choropleth\"}], \"contour\": [{\"colorbar\": {\"outlinewidth\": 0, \"ticks\": \"\"}, \"colorscale\": [[0.0, \"#0d0887\"], [0.1111111111111111, \"#46039f\"], [0.2222222222222222, \"#7201a8\"], [0.3333333333333333, \"#9c179e\"], [0.4444444444444444, \"#bd3786\"], [0.5555555555555556, \"#d8576b\"], [0.6666666666666666, \"#ed7953\"], [0.7777777777777778, \"#fb9f3a\"], [0.8888888888888888, \"#fdca26\"], [1.0, \"#f0f921\"]], \"type\": \"contour\"}], \"contourcarpet\": [{\"colorbar\": {\"outlinewidth\": 0, \"ticks\": \"\"}, \"type\": \"contourcarpet\"}], \"heatmap\": [{\"colorbar\": {\"outlinewidth\": 0, \"ticks\": \"\"}, \"colorscale\": [[0.0, \"#0d0887\"], [0.1111111111111111, \"#46039f\"], [0.2222222222222222, \"#7201a8\"], [0.3333333333333333, \"#9c179e\"], [0.4444444444444444, \"#bd3786\"], [0.5555555555555556, \"#d8576b\"], [0.6666666666666666, \"#ed7953\"], [0.7777777777777778, \"#fb9f3a\"], [0.8888888888888888, \"#fdca26\"], [1.0, \"#f0f921\"]], \"type\": \"heatmap\"}], \"heatmapgl\": [{\"colorbar\": {\"outlinewidth\": 0, \"ticks\": \"\"}, \"colorscale\": [[0.0, \"#0d0887\"], [0.1111111111111111, \"#46039f\"], [0.2222222222222222, \"#7201a8\"], [0.3333333333333333, \"#9c179e\"], [0.4444444444444444, \"#bd3786\"], [0.5555555555555556, \"#d8576b\"], [0.6666666666666666, \"#ed7953\"], [0.7777777777777778, \"#fb9f3a\"], [0.8888888888888888, \"#fdca26\"], [1.0, \"#f0f921\"]], \"type\": \"heatmapgl\"}], \"histogram\": [{\"marker\": {\"colorbar\": {\"outlinewidth\": 0, \"ticks\": \"\"}}, \"type\": \"histogram\"}], \"histogram2d\": [{\"colorbar\": {\"outlinewidth\": 0, \"ticks\": \"\"}, \"colorscale\": [[0.0, \"#0d0887\"], [0.1111111111111111, \"#46039f\"], [0.2222222222222222, \"#7201a8\"], [0.3333333333333333, \"#9c179e\"], [0.4444444444444444, \"#bd3786\"], [0.5555555555555556, \"#d8576b\"], [0.6666666666666666, \"#ed7953\"], [0.7777777777777778, \"#fb9f3a\"], [0.8888888888888888, \"#fdca26\"], [1.0, \"#f0f921\"]], \"type\": \"histogram2d\"}], \"histogram2dcontour\": [{\"colorbar\": {\"outlinewidth\": 0, \"ticks\": \"\"}, \"colorscale\": [[0.0, \"#0d0887\"], [0.1111111111111111, \"#46039f\"], [0.2222222222222222, \"#7201a8\"], [0.3333333333333333, \"#9c179e\"], [0.4444444444444444, \"#bd3786\"], [0.5555555555555556, \"#d8576b\"], [0.6666666666666666, \"#ed7953\"], [0.7777777777777778, \"#fb9f3a\"], [0.8888888888888888, \"#fdca26\"], [1.0, \"#f0f921\"]], \"type\": \"histogram2dcontour\"}], \"mesh3d\": [{\"colorbar\": {\"outlinewidth\": 0, \"ticks\": \"\"}, \"type\": \"mesh3d\"}], \"parcoords\": [{\"line\": {\"colorbar\": {\"outlinewidth\": 0, \"ticks\": \"\"}}, \"type\": \"parcoords\"}], \"pie\": [{\"automargin\": true, \"type\": \"pie\"}], \"scatter\": [{\"marker\": {\"colorbar\": {\"outlinewidth\": 0, \"ticks\": \"\"}}, \"type\": \"scatter\"}], \"scatter3d\": [{\"line\": {\"colorbar\": {\"outlinewidth\": 0, \"ticks\": \"\"}}, \"marker\": {\"colorbar\": {\"outlinewidth\": 0, \"ticks\": \"\"}}, \"type\": \"scatter3d\"}], \"scattercarpet\": [{\"marker\": {\"colorbar\": {\"outlinewidth\": 0, \"ticks\": \"\"}}, \"type\": \"scattercarpet\"}], \"scattergeo\": [{\"marker\": {\"colorbar\": {\"outlinewidth\": 0, \"ticks\": \"\"}}, \"type\": \"scattergeo\"}], \"scattergl\": [{\"marker\": {\"colorbar\": {\"outlinewidth\": 0, \"ticks\": \"\"}}, \"type\": \"scattergl\"}], \"scattermapbox\": [{\"marker\": {\"colorbar\": {\"outlinewidth\": 0, \"ticks\": \"\"}}, \"type\": \"scattermapbox\"}], \"scatterpolar\": [{\"marker\": {\"colorbar\": {\"outlinewidth\": 0, \"ticks\": \"\"}}, \"type\": \"scatterpolar\"}], \"scatterpolargl\": [{\"marker\": {\"colorbar\": {\"outlinewidth\": 0, \"ticks\": \"\"}}, \"type\": \"scatterpolargl\"}], \"scatterternary\": [{\"marker\": {\"colorbar\": {\"outlinewidth\": 0, \"ticks\": \"\"}}, \"type\": \"scatterternary\"}], \"surface\": [{\"colorbar\": {\"outlinewidth\": 0, \"ticks\": \"\"}, \"colorscale\": [[0.0, \"#0d0887\"], [0.1111111111111111, \"#46039f\"], [0.2222222222222222, \"#7201a8\"], [0.3333333333333333, \"#9c179e\"], [0.4444444444444444, \"#bd3786\"], [0.5555555555555556, \"#d8576b\"], [0.6666666666666666, \"#ed7953\"], [0.7777777777777778, \"#fb9f3a\"], [0.8888888888888888, \"#fdca26\"], [1.0, \"#f0f921\"]], \"type\": \"surface\"}], \"table\": [{\"cells\": {\"fill\": {\"color\": \"#EBF0F8\"}, \"line\": {\"color\": \"white\"}}, \"header\": {\"fill\": {\"color\": \"#C8D4E3\"}, \"line\": {\"color\": \"white\"}}, \"type\": \"table\"}]}, \"layout\": {\"annotationdefaults\": {\"arrowcolor\": \"#2a3f5f\", \"arrowhead\": 0, \"arrowwidth\": 1}, \"autotypenumbers\": \"strict\", \"coloraxis\": {\"colorbar\": {\"outlinewidth\": 0, \"ticks\": \"\"}}, \"colorscale\": {\"diverging\": [[0, \"#8e0152\"], [0.1, \"#c51b7d\"], [0.2, \"#de77ae\"], [0.3, \"#f1b6da\"], [0.4, \"#fde0ef\"], [0.5, \"#f7f7f7\"], [0.6, \"#e6f5d0\"], [0.7, \"#b8e186\"], [0.8, \"#7fbc41\"], [0.9, \"#4d9221\"], [1, \"#276419\"]], \"sequential\": [[0.0, \"#0d0887\"], [0.1111111111111111, \"#46039f\"], [0.2222222222222222, \"#7201a8\"], [0.3333333333333333, \"#9c179e\"], [0.4444444444444444, \"#bd3786\"], [0.5555555555555556, \"#d8576b\"], [0.6666666666666666, \"#ed7953\"], [0.7777777777777778, \"#fb9f3a\"], [0.8888888888888888, \"#fdca26\"], [1.0, \"#f0f921\"]], \"sequentialminus\": [[0.0, \"#0d0887\"], [0.1111111111111111, \"#46039f\"], [0.2222222222222222, \"#7201a8\"], [0.3333333333333333, \"#9c179e\"], [0.4444444444444444, \"#bd3786\"], [0.5555555555555556, \"#d8576b\"], [0.6666666666666666, \"#ed7953\"], [0.7777777777777778, \"#fb9f3a\"], [0.8888888888888888, \"#fdca26\"], [1.0, \"#f0f921\"]]}, \"colorway\": [\"#636efa\", \"#EF553B\", \"#00cc96\", \"#ab63fa\", \"#FFA15A\", \"#19d3f3\", \"#FF6692\", \"#B6E880\", \"#FF97FF\", \"#FECB52\"], \"font\": {\"color\": \"#2a3f5f\"}, \"geo\": {\"bgcolor\": \"white\", \"lakecolor\": \"white\", \"landcolor\": \"#E5ECF6\", \"showlakes\": true, \"showland\": true, \"subunitcolor\": \"white\"}, \"hoverlabel\": {\"align\": \"left\"}, \"hovermode\": \"closest\", \"mapbox\": {\"style\": \"light\"}, \"paper_bgcolor\": \"white\", \"plot_bgcolor\": \"#E5ECF6\", \"polar\": {\"angularaxis\": {\"gridcolor\": \"white\", \"linecolor\": \"white\", \"ticks\": \"\"}, \"bgcolor\": \"#E5ECF6\", \"radialaxis\": {\"gridcolor\": \"white\", \"linecolor\": \"white\", \"ticks\": \"\"}}, \"scene\": {\"xaxis\": {\"backgroundcolor\": \"#E5ECF6\", \"gridcolor\": \"white\", \"gridwidth\": 2, \"linecolor\": \"white\", \"showbackground\": true, \"ticks\": \"\", \"zerolinecolor\": \"white\"}, \"yaxis\": {\"backgroundcolor\": \"#E5ECF6\", \"gridcolor\": \"white\", \"gridwidth\": 2, \"linecolor\": \"white\", \"showbackground\": true, \"ticks\": \"\", \"zerolinecolor\": \"white\"}, \"zaxis\": {\"backgroundcolor\": \"#E5ECF6\", \"gridcolor\": \"white\", \"gridwidth\": 2, \"linecolor\": \"white\", \"showbackground\": true, \"ticks\": \"\", \"zerolinecolor\": \"white\"}}, \"shapedefaults\": {\"line\": {\"color\": \"#2a3f5f\"}}, \"ternary\": {\"aaxis\": {\"gridcolor\": \"white\", \"linecolor\": \"white\", \"ticks\": \"\"}, \"baxis\": {\"gridcolor\": \"white\", \"linecolor\": \"white\", \"ticks\": \"\"}, \"bgcolor\": \"#E5ECF6\", \"caxis\": {\"gridcolor\": \"white\", \"linecolor\": \"white\", \"ticks\": \"\"}}, \"title\": {\"x\": 0.05}, \"xaxis\": {\"automargin\": true, \"gridcolor\": \"white\", \"linecolor\": \"white\", \"ticks\": \"\", \"title\": {\"standoff\": 15}, \"zerolinecolor\": \"white\", \"zerolinewidth\": 2}, \"yaxis\": {\"automargin\": true, \"gridcolor\": \"white\", \"linecolor\": \"white\", \"ticks\": \"\", \"title\": {\"standoff\": 15}, \"zerolinecolor\": \"white\", \"zerolinewidth\": 2}}}, \"title\": {\"text\": \"The relationship between the total revenue earned by arcades and the number of Computer Science PhDs awarded in the U.S\"}, \"xaxis\": {\"anchor\": \"y\", \"domain\": [0.0, 1.0], \"title\": {\"text\": \"Year\"}}, \"yaxis\": {\"anchor\": \"x\", \"domain\": [0.0, 1.0], \"title\": {\"text\": \"Revenue in Millions\"}}},                        {\"responsive\": true}                    ).then(function(){\n",
       "                            \n",
       "var gd = document.getElementById('ece20311-4623-46a4-82cc-0735263559b4');\n",
       "var x = new MutationObserver(function (mutations, observer) {{\n",
       "        var display = window.getComputedStyle(gd).display;\n",
       "        if (!display || display === 'none') {{\n",
       "            console.log([gd, 'removed!']);\n",
       "            Plotly.purge(gd);\n",
       "            observer.disconnect();\n",
       "        }}\n",
       "}});\n",
       "\n",
       "// Listen for the removal of the full notebook cells\n",
       "var notebookContainer = gd.closest('#notebook-container');\n",
       "if (notebookContainer) {{\n",
       "    x.observe(notebookContainer, {childList: true});\n",
       "}}\n",
       "\n",
       "// Listen for the clearing of the current output cell\n",
       "var outputEl = gd.closest('.output');\n",
       "if (outputEl) {{\n",
       "    x.observe(outputEl, {childList: true});\n",
       "}}\n",
       "\n",
       "                        })                };                });            </script>        </div>"
      ]
     },
     "metadata": {},
     "output_type": "display_data"
    }
   ],
   "source": [
    "fig = px.scatter(revenue, x=\"Year\", y=['Total Arcade Revenue (Millions)', 'Computer Science Doctorates Awarded (Millions)'])\n",
    "fig.update_layout(\n",
    "    title=\"The relationship between the total revenue earned by arcades and the number of Computer Science PhDs awarded in the U.S\",\n",
    "    yaxis_title=\"Revenue in Millions\",\n",
    "    )\n",
    "fig.show()"
   ]
  }
 ],
 "metadata": {
  "kernelspec": {
   "display_name": "Python 3",
   "language": "python",
   "name": "python3"
  },
  "language_info": {
   "codemirror_mode": {
    "name": "ipython",
    "version": 3
   },
   "file_extension": ".py",
   "mimetype": "text/x-python",
   "name": "python",
   "nbconvert_exporter": "python",
   "pygments_lexer": "ipython3",
   "version": "3.8.3"
  }
 },
 "nbformat": 4,
 "nbformat_minor": 4
}
